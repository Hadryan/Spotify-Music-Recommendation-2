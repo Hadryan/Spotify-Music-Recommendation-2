{
 "cells": [
  {
   "cell_type": "markdown",
   "id": "c19eb251",
   "metadata": {},
   "source": [
    "# Spotify Music Recommendation System"
   ]
  },
  {
   "cell_type": "code",
   "execution_count": 1,
   "id": "3763df78",
   "metadata": {},
   "outputs": [],
   "source": [
    "import os\n",
    "import numpy as np\n",
    "import pandas as pd\n",
    "import re \n",
    "import json \n",
    "import sys\n",
    "import itertools\n",
    "from pprint import pprint\n",
    "\n",
    "\n",
    "from sklearn.feature_extraction.text import TfidfVectorizer\n",
    "from sklearn.metrics.pairwise import cosine_similarity\n",
    "from sklearn.preprocessing import MinMaxScaler\n",
    "import matplotlib.pyplot as plt\n",
    "\n",
    "\n",
    "import spotipy\n",
    "from spotipy.oauth2 import SpotifyClientCredentials\n",
    "from spotipy.oauth2 import SpotifyOAuth\n",
    "import spotipy.util as util\n",
    "import seaborn as sns\n",
    "import plotly.express as px \n",
    "import matplotlib.pyplot as plt\n",
    "import sys\n",
    "%matplotlib inline\n",
    "\n",
    "from sklearn.cluster import KMeans\n",
    "from sklearn.preprocessing import StandardScaler\n",
    "from sklearn.pipeline import Pipeline\n",
    "from sklearn.manifold import TSNE\n",
    "from sklearn.decomposition import PCA\n",
    "from sklearn.metrics import euclidean_distances\n",
    "from scipy.spatial.distance import cdist\n",
    "from sklearn.linear_model import RidgeCV, LassoCV, Ridge, Lasso\n",
    "\n",
    "import warnings\n",
    "warnings.filterwarnings(\"ignore\")"
   ]
  },
  {
   "cell_type": "code",
   "execution_count": 6,
   "id": "14476a95",
   "metadata": {},
   "outputs": [
    {
     "name": "stdout",
     "output_type": "stream",
     "text": [
      "<class 'pandas.core.frame.DataFrame'>\n",
      "RangeIndex: 67499 entries, 0 to 67498\n",
      "Data columns (total 32 columns):\n",
      " #   Column            Non-Null Count  Dtype  \n",
      "---  ------            --------------  -----  \n",
      " 0   Unnamed: 0        67499 non-null  int64  \n",
      " 1   Unnamed: 0.1      67499 non-null  int64  \n",
      " 2   pos               67499 non-null  int64  \n",
      " 3   artist_name       67499 non-null  object \n",
      " 4   track_uri         67499 non-null  object \n",
      " 5   artist_uri        67499 non-null  object \n",
      " 6   track_name        67499 non-null  object \n",
      " 7   album_uri         67499 non-null  object \n",
      " 8   duration_ms_x     67499 non-null  int64  \n",
      " 9   album_name        67499 non-null  object \n",
      " 10  name              67499 non-null  object \n",
      " 11  danceability      67499 non-null  float64\n",
      " 12  energy            67499 non-null  float64\n",
      " 13  key               67499 non-null  int64  \n",
      " 14  loudness          67499 non-null  float64\n",
      " 15  mode              67499 non-null  int64  \n",
      " 16  speechiness       67499 non-null  float64\n",
      " 17  acousticness      67499 non-null  float64\n",
      " 18  instrumentalness  67499 non-null  float64\n",
      " 19  liveness          67499 non-null  float64\n",
      " 20  valence           67499 non-null  float64\n",
      " 21  tempo             67499 non-null  float64\n",
      " 22  type              67499 non-null  object \n",
      " 23  id                67499 non-null  object \n",
      " 24  uri               67499 non-null  object \n",
      " 25  track_href        67499 non-null  object \n",
      " 26  analysis_url      67499 non-null  object \n",
      " 27  duration_ms_y     67499 non-null  int64  \n",
      " 28  time_signature    67499 non-null  int64  \n",
      " 29  artist_pop        67499 non-null  int64  \n",
      " 30  genres            67499 non-null  object \n",
      " 31  track_pop         67499 non-null  int64  \n",
      "dtypes: float64(9), int64(10), object(13)\n",
      "memory usage: 16.5+ MB\n"
     ]
    }
   ],
   "source": [
    "data_path = 'C:/Users/adity/OneDrive/Documents/GitHub/Spotify-Music-Recommendation/data/processed_data.csv'\n",
    "data = pd.read_csv(data_path)\n",
    "data.info()\n"
   ]
  },
  {
   "cell_type": "code",
   "execution_count": 7,
   "id": "fb58dd5d",
   "metadata": {},
   "outputs": [],
   "source": [
    "client_id = '4379e8dc929f4f3d8b296962fb549d56'\n",
    "client_secret= '08a15f73be3742f18227aec6fb9e61b4'\n",
    "scope = 'user-library-read'\n",
    "\n",
    "if len(sys.argv) > 1:\n",
    "    username = sys.argv[1]\n",
    "else:\n",
    "    print(\"Usage: %s username\" % (sys.argv[0],))\n",
    "    sys.exit()\n",
    "        \n",
    "auth_manager = SpotifyClientCredentials(client_id=client_id, client_secret=client_secret)\n",
    "sp = spotipy.Spotify(auth_manager=auth_manager)\n",
    "token = util.prompt_for_user_token(scope, client_id= client_id, client_secret=client_secret, redirect_uri='https://mysongrecommender/dashboard/')\n",
    "sp = spotipy.Spotify(auth=token)"
   ]
  },
  {
   "cell_type": "code",
   "execution_count": 8,
   "id": "c9c70092",
   "metadata": {},
   "outputs": [
    {
     "data": {
      "text/plain": [
       "67499"
      ]
     },
     "execution_count": 8,
     "metadata": {},
     "output_type": "execute_result"
    }
   ],
   "source": [
    "len(data)"
   ]
  },
  {
   "cell_type": "code",
   "execution_count": 18,
   "id": "fe4d0f96",
   "metadata": {},
   "outputs": [
    {
     "data": {
      "text/html": [
       "<div>\n",
       "<style scoped>\n",
       "    .dataframe tbody tr th:only-of-type {\n",
       "        vertical-align: middle;\n",
       "    }\n",
       "\n",
       "    .dataframe tbody tr th {\n",
       "        vertical-align: top;\n",
       "    }\n",
       "\n",
       "    .dataframe thead th {\n",
       "        text-align: right;\n",
       "    }\n",
       "</style>\n",
       "<table border=\"1\" class=\"dataframe\">\n",
       "  <thead>\n",
       "    <tr style=\"text-align: right;\">\n",
       "      <th></th>\n",
       "      <th>pos</th>\n",
       "      <th>artist_name</th>\n",
       "      <th>track_uri</th>\n",
       "      <th>artist_uri</th>\n",
       "      <th>track_name</th>\n",
       "      <th>album_uri</th>\n",
       "      <th>duration_ms_x</th>\n",
       "      <th>album_name</th>\n",
       "      <th>name</th>\n",
       "      <th>danceability</th>\n",
       "      <th>...</th>\n",
       "      <th>type</th>\n",
       "      <th>id</th>\n",
       "      <th>uri</th>\n",
       "      <th>track_href</th>\n",
       "      <th>analysis_url</th>\n",
       "      <th>duration_ms_y</th>\n",
       "      <th>time_signature</th>\n",
       "      <th>artist_pop</th>\n",
       "      <th>genres</th>\n",
       "      <th>track_pop</th>\n",
       "    </tr>\n",
       "  </thead>\n",
       "  <tbody>\n",
       "    <tr>\n",
       "      <th>0</th>\n",
       "      <td>0</td>\n",
       "      <td>Missy Elliott</td>\n",
       "      <td>0UaMYEvWZi0ZqiDOoHU3YI</td>\n",
       "      <td>spotify:artist:2wIVse2owClT7go1WT98tk</td>\n",
       "      <td>Lose Control (feat. Ciara &amp; Fat Man Scoop)</td>\n",
       "      <td>spotify:album:6vV5UrXcfyQD1wu4Qo2I9K</td>\n",
       "      <td>226863</td>\n",
       "      <td>The Cookbook</td>\n",
       "      <td>Throwbacks</td>\n",
       "      <td>0.904</td>\n",
       "      <td>...</td>\n",
       "      <td>audio_features</td>\n",
       "      <td>0UaMYEvWZi0ZqiDOoHU3YI</td>\n",
       "      <td>spotify:track:0UaMYEvWZi0ZqiDOoHU3YI</td>\n",
       "      <td>https://api.spotify.com/v1/tracks/0UaMYEvWZi0Z...</td>\n",
       "      <td>https://api.spotify.com/v1/audio-analysis/0UaM...</td>\n",
       "      <td>226864</td>\n",
       "      <td>4</td>\n",
       "      <td>74</td>\n",
       "      <td>dance_pop hip_hop hip_pop pop pop_rap r&amp;b rap ...</td>\n",
       "      <td>69</td>\n",
       "    </tr>\n",
       "    <tr>\n",
       "      <th>1</th>\n",
       "      <td>73</td>\n",
       "      <td>Missy Elliott</td>\n",
       "      <td>0UaMYEvWZi0ZqiDOoHU3YI</td>\n",
       "      <td>spotify:artist:2wIVse2owClT7go1WT98tk</td>\n",
       "      <td>Lose Control (feat. Ciara &amp; Fat Man Scoop)</td>\n",
       "      <td>spotify:album:6vV5UrXcfyQD1wu4Qo2I9K</td>\n",
       "      <td>226863</td>\n",
       "      <td>The Cookbook</td>\n",
       "      <td>w o r k o u t</td>\n",
       "      <td>0.904</td>\n",
       "      <td>...</td>\n",
       "      <td>audio_features</td>\n",
       "      <td>0UaMYEvWZi0ZqiDOoHU3YI</td>\n",
       "      <td>spotify:track:0UaMYEvWZi0ZqiDOoHU3YI</td>\n",
       "      <td>https://api.spotify.com/v1/tracks/0UaMYEvWZi0Z...</td>\n",
       "      <td>https://api.spotify.com/v1/audio-analysis/0UaM...</td>\n",
       "      <td>226864</td>\n",
       "      <td>4</td>\n",
       "      <td>74</td>\n",
       "      <td>dance_pop hip_hop hip_pop pop pop_rap r&amp;b rap ...</td>\n",
       "      <td>69</td>\n",
       "    </tr>\n",
       "  </tbody>\n",
       "</table>\n",
       "<p>2 rows × 30 columns</p>\n",
       "</div>"
      ],
      "text/plain": [
       "   pos    artist_name               track_uri  \\\n",
       "0    0  Missy Elliott  0UaMYEvWZi0ZqiDOoHU3YI   \n",
       "1   73  Missy Elliott  0UaMYEvWZi0ZqiDOoHU3YI   \n",
       "\n",
       "                              artist_uri  \\\n",
       "0  spotify:artist:2wIVse2owClT7go1WT98tk   \n",
       "1  spotify:artist:2wIVse2owClT7go1WT98tk   \n",
       "\n",
       "                                   track_name  \\\n",
       "0  Lose Control (feat. Ciara & Fat Man Scoop)   \n",
       "1  Lose Control (feat. Ciara & Fat Man Scoop)   \n",
       "\n",
       "                              album_uri  duration_ms_x    album_name  \\\n",
       "0  spotify:album:6vV5UrXcfyQD1wu4Qo2I9K         226863  The Cookbook   \n",
       "1  spotify:album:6vV5UrXcfyQD1wu4Qo2I9K         226863  The Cookbook   \n",
       "\n",
       "            name  danceability  ...            type                      id  \\\n",
       "0     Throwbacks         0.904  ...  audio_features  0UaMYEvWZi0ZqiDOoHU3YI   \n",
       "1  w o r k o u t         0.904  ...  audio_features  0UaMYEvWZi0ZqiDOoHU3YI   \n",
       "\n",
       "                                    uri  \\\n",
       "0  spotify:track:0UaMYEvWZi0ZqiDOoHU3YI   \n",
       "1  spotify:track:0UaMYEvWZi0ZqiDOoHU3YI   \n",
       "\n",
       "                                          track_href  \\\n",
       "0  https://api.spotify.com/v1/tracks/0UaMYEvWZi0Z...   \n",
       "1  https://api.spotify.com/v1/tracks/0UaMYEvWZi0Z...   \n",
       "\n",
       "                                        analysis_url  duration_ms_y  \\\n",
       "0  https://api.spotify.com/v1/audio-analysis/0UaM...         226864   \n",
       "1  https://api.spotify.com/v1/audio-analysis/0UaM...         226864   \n",
       "\n",
       "   time_signature  artist_pop  \\\n",
       "0               4          74   \n",
       "1               4          74   \n",
       "\n",
       "                                              genres  track_pop  \n",
       "0  dance_pop hip_hop hip_pop pop pop_rap r&b rap ...         69  \n",
       "1  dance_pop hip_hop hip_pop pop pop_rap r&b rap ...         69  \n",
       "\n",
       "[2 rows x 30 columns]"
      ]
     },
     "execution_count": 18,
     "metadata": {},
     "output_type": "execute_result"
    }
   ],
   "source": [
    "data.drop(columns=[\"Unnamed: 0\",'Unnamed: 0.1'], inplace = True)\n",
    "data.head(2)"
   ]
  },
  {
   "cell_type": "code",
   "execution_count": 19,
   "id": "fd329424",
   "metadata": {},
   "outputs": [
    {
     "data": {
      "text/html": [
       "<div>\n",
       "<style scoped>\n",
       "    .dataframe tbody tr th:only-of-type {\n",
       "        vertical-align: middle;\n",
       "    }\n",
       "\n",
       "    .dataframe tbody tr th {\n",
       "        vertical-align: top;\n",
       "    }\n",
       "\n",
       "    .dataframe thead th {\n",
       "        text-align: right;\n",
       "    }\n",
       "</style>\n",
       "<table border=\"1\" class=\"dataframe\">\n",
       "  <thead>\n",
       "    <tr style=\"text-align: right;\">\n",
       "      <th></th>\n",
       "      <th>artist_name</th>\n",
       "      <th>track_name</th>\n",
       "      <th>name</th>\n",
       "    </tr>\n",
       "  </thead>\n",
       "  <tbody>\n",
       "    <tr>\n",
       "      <th>0</th>\n",
       "      <td>Missy Elliott</td>\n",
       "      <td>Lose Control (feat. Ciara &amp; Fat Man Scoop)</td>\n",
       "      <td>Throwbacks</td>\n",
       "    </tr>\n",
       "    <tr>\n",
       "      <th>1</th>\n",
       "      <td>Missy Elliott</td>\n",
       "      <td>Lose Control (feat. Ciara &amp; Fat Man Scoop)</td>\n",
       "      <td>w o r k o u t</td>\n",
       "    </tr>\n",
       "    <tr>\n",
       "      <th>2</th>\n",
       "      <td>Missy Elliott</td>\n",
       "      <td>Lose Control (feat. Ciara &amp; Fat Man Scoop)</td>\n",
       "      <td>party playlist</td>\n",
       "    </tr>\n",
       "    <tr>\n",
       "      <th>3</th>\n",
       "      <td>Missy Elliott</td>\n",
       "      <td>Lose Control (feat. Ciara &amp; Fat Man Scoop)</td>\n",
       "      <td>Dance mix</td>\n",
       "    </tr>\n",
       "    <tr>\n",
       "      <th>4</th>\n",
       "      <td>Missy Elliott</td>\n",
       "      <td>Lose Control (feat. Ciara &amp; Fat Man Scoop)</td>\n",
       "      <td>spin</td>\n",
       "    </tr>\n",
       "    <tr>\n",
       "      <th>...</th>\n",
       "      <td>...</td>\n",
       "      <td>...</td>\n",
       "      <td>...</td>\n",
       "    </tr>\n",
       "    <tr>\n",
       "      <th>67494</th>\n",
       "      <td>Jon D</td>\n",
       "      <td>I Don't Know</td>\n",
       "      <td>thinking of you</td>\n",
       "    </tr>\n",
       "    <tr>\n",
       "      <th>67495</th>\n",
       "      <td>Big Words</td>\n",
       "      <td>The Answer</td>\n",
       "      <td>thinking of you</td>\n",
       "    </tr>\n",
       "    <tr>\n",
       "      <th>67496</th>\n",
       "      <td>Allan Rayman</td>\n",
       "      <td>25.22</td>\n",
       "      <td>thinking of you</td>\n",
       "    </tr>\n",
       "    <tr>\n",
       "      <th>67497</th>\n",
       "      <td>Jon Jason</td>\n",
       "      <td>Good Feeling</td>\n",
       "      <td>thinking of you</td>\n",
       "    </tr>\n",
       "    <tr>\n",
       "      <th>67498</th>\n",
       "      <td>Grizfolk</td>\n",
       "      <td>Cosmic Angel - Acoustic From Capitol Studios</td>\n",
       "      <td>thinking of you</td>\n",
       "    </tr>\n",
       "  </tbody>\n",
       "</table>\n",
       "<p>67499 rows × 3 columns</p>\n",
       "</div>"
      ],
      "text/plain": [
       "         artist_name                                    track_name  \\\n",
       "0      Missy Elliott    Lose Control (feat. Ciara & Fat Man Scoop)   \n",
       "1      Missy Elliott    Lose Control (feat. Ciara & Fat Man Scoop)   \n",
       "2      Missy Elliott    Lose Control (feat. Ciara & Fat Man Scoop)   \n",
       "3      Missy Elliott    Lose Control (feat. Ciara & Fat Man Scoop)   \n",
       "4      Missy Elliott    Lose Control (feat. Ciara & Fat Man Scoop)   \n",
       "...              ...                                           ...   \n",
       "67494          Jon D                                  I Don't Know   \n",
       "67495      Big Words                                    The Answer   \n",
       "67496   Allan Rayman                                         25.22   \n",
       "67497      Jon Jason                                  Good Feeling   \n",
       "67498       Grizfolk  Cosmic Angel - Acoustic From Capitol Studios   \n",
       "\n",
       "                  name  \n",
       "0           Throwbacks  \n",
       "1        w o r k o u t  \n",
       "2       party playlist  \n",
       "3            Dance mix  \n",
       "4                 spin  \n",
       "...                ...  \n",
       "67494  thinking of you  \n",
       "67495  thinking of you  \n",
       "67496  thinking of you  \n",
       "67497  thinking of you  \n",
       "67498  thinking of you  \n",
       "\n",
       "[67499 rows x 3 columns]"
      ]
     },
     "execution_count": 19,
     "metadata": {},
     "output_type": "execute_result"
    }
   ],
   "source": [
    "data[['artist_name','track_name','name']]"
   ]
  },
  {
   "cell_type": "code",
   "execution_count": 21,
   "id": "59bd5efe",
   "metadata": {},
   "outputs": [
    {
     "name": "stdout",
     "output_type": "stream",
     "text": [
      "Are all songs unique:  True\n"
     ]
    }
   ],
   "source": [
    "def drop_duplicates(df):\n",
    "    '''\n",
    "    Drop duplicate songs\n",
    "    '''\n",
    "    df['artists_song'] = df.apply(lambda row: row['artist_name']+row['track_name'],axis = 1)\n",
    "    return df.drop_duplicates('artists_song')\n",
    "\n",
    "unique_songs = drop_duplicates(data)\n",
    "print(\"Are all songs unique: \",len(pd.unique(unique_songs.artists_song))==len(unique_songs))"
   ]
  },
  {
   "cell_type": "code",
   "execution_count": 22,
   "id": "d65d21ea",
   "metadata": {},
   "outputs": [
    {
     "data": {
      "text/html": [
       "<div>\n",
       "<style scoped>\n",
       "    .dataframe tbody tr th:only-of-type {\n",
       "        vertical-align: middle;\n",
       "    }\n",
       "\n",
       "    .dataframe tbody tr th {\n",
       "        vertical-align: top;\n",
       "    }\n",
       "\n",
       "    .dataframe thead th {\n",
       "        text-align: right;\n",
       "    }\n",
       "</style>\n",
       "<table border=\"1\" class=\"dataframe\">\n",
       "  <thead>\n",
       "    <tr style=\"text-align: right;\">\n",
       "      <th></th>\n",
       "      <th>artist_name</th>\n",
       "      <th>id</th>\n",
       "      <th>track_name</th>\n",
       "      <th>danceability</th>\n",
       "      <th>energy</th>\n",
       "      <th>key</th>\n",
       "      <th>loudness</th>\n",
       "      <th>mode</th>\n",
       "      <th>speechiness</th>\n",
       "      <th>acousticness</th>\n",
       "      <th>instrumentalness</th>\n",
       "      <th>liveness</th>\n",
       "      <th>valence</th>\n",
       "      <th>tempo</th>\n",
       "      <th>artist_pop</th>\n",
       "      <th>genres</th>\n",
       "      <th>track_pop</th>\n",
       "    </tr>\n",
       "  </thead>\n",
       "  <tbody>\n",
       "    <tr>\n",
       "      <th>0</th>\n",
       "      <td>Missy Elliott</td>\n",
       "      <td>0UaMYEvWZi0ZqiDOoHU3YI</td>\n",
       "      <td>Lose Control (feat. Ciara &amp; Fat Man Scoop)</td>\n",
       "      <td>0.904</td>\n",
       "      <td>0.813</td>\n",
       "      <td>4</td>\n",
       "      <td>-7.105</td>\n",
       "      <td>0</td>\n",
       "      <td>0.1210</td>\n",
       "      <td>0.03110</td>\n",
       "      <td>0.006970</td>\n",
       "      <td>0.0471</td>\n",
       "      <td>0.810</td>\n",
       "      <td>125.461</td>\n",
       "      <td>74</td>\n",
       "      <td>dance_pop hip_hop hip_pop pop pop_rap r&amp;b rap ...</td>\n",
       "      <td>69</td>\n",
       "    </tr>\n",
       "    <tr>\n",
       "      <th>6</th>\n",
       "      <td>Britney Spears</td>\n",
       "      <td>6I9VzXrHxO9rA9A5euc8Ak</td>\n",
       "      <td>Toxic</td>\n",
       "      <td>0.774</td>\n",
       "      <td>0.838</td>\n",
       "      <td>5</td>\n",
       "      <td>-3.914</td>\n",
       "      <td>0</td>\n",
       "      <td>0.1140</td>\n",
       "      <td>0.02490</td>\n",
       "      <td>0.025000</td>\n",
       "      <td>0.2420</td>\n",
       "      <td>0.924</td>\n",
       "      <td>143.040</td>\n",
       "      <td>84</td>\n",
       "      <td>dance_pop pop post-teen_pop</td>\n",
       "      <td>83</td>\n",
       "    </tr>\n",
       "    <tr>\n",
       "      <th>19</th>\n",
       "      <td>Beyoncé</td>\n",
       "      <td>0WqIKmW4BTrj3eJFmnCKMv</td>\n",
       "      <td>Crazy In Love</td>\n",
       "      <td>0.664</td>\n",
       "      <td>0.758</td>\n",
       "      <td>2</td>\n",
       "      <td>-6.583</td>\n",
       "      <td>0</td>\n",
       "      <td>0.2100</td>\n",
       "      <td>0.00238</td>\n",
       "      <td>0.000000</td>\n",
       "      <td>0.0598</td>\n",
       "      <td>0.701</td>\n",
       "      <td>99.259</td>\n",
       "      <td>86</td>\n",
       "      <td>dance_pop pop r&amp;b</td>\n",
       "      <td>25</td>\n",
       "    </tr>\n",
       "    <tr>\n",
       "      <th>46</th>\n",
       "      <td>Justin Timberlake</td>\n",
       "      <td>1AWQoqb9bSvzTjaLralEkT</td>\n",
       "      <td>Rock Your Body</td>\n",
       "      <td>0.892</td>\n",
       "      <td>0.714</td>\n",
       "      <td>4</td>\n",
       "      <td>-6.055</td>\n",
       "      <td>0</td>\n",
       "      <td>0.1410</td>\n",
       "      <td>0.20100</td>\n",
       "      <td>0.000234</td>\n",
       "      <td>0.0521</td>\n",
       "      <td>0.817</td>\n",
       "      <td>100.972</td>\n",
       "      <td>82</td>\n",
       "      <td>dance_pop pop</td>\n",
       "      <td>79</td>\n",
       "    </tr>\n",
       "    <tr>\n",
       "      <th>55</th>\n",
       "      <td>Shaggy</td>\n",
       "      <td>1lzr43nnXAijIGYnCT8M8H</td>\n",
       "      <td>It Wasn't Me</td>\n",
       "      <td>0.853</td>\n",
       "      <td>0.606</td>\n",
       "      <td>0</td>\n",
       "      <td>-4.596</td>\n",
       "      <td>1</td>\n",
       "      <td>0.0713</td>\n",
       "      <td>0.05610</td>\n",
       "      <td>0.000000</td>\n",
       "      <td>0.3130</td>\n",
       "      <td>0.654</td>\n",
       "      <td>94.759</td>\n",
       "      <td>75</td>\n",
       "      <td>pop_rap reggae_fusion</td>\n",
       "      <td>2</td>\n",
       "    </tr>\n",
       "  </tbody>\n",
       "</table>\n",
       "</div>"
      ],
      "text/plain": [
       "          artist_name                      id  \\\n",
       "0       Missy Elliott  0UaMYEvWZi0ZqiDOoHU3YI   \n",
       "6      Britney Spears  6I9VzXrHxO9rA9A5euc8Ak   \n",
       "19            Beyoncé  0WqIKmW4BTrj3eJFmnCKMv   \n",
       "46  Justin Timberlake  1AWQoqb9bSvzTjaLralEkT   \n",
       "55             Shaggy  1lzr43nnXAijIGYnCT8M8H   \n",
       "\n",
       "                                    track_name  danceability  energy  key  \\\n",
       "0   Lose Control (feat. Ciara & Fat Man Scoop)         0.904   0.813    4   \n",
       "6                                        Toxic         0.774   0.838    5   \n",
       "19                               Crazy In Love         0.664   0.758    2   \n",
       "46                              Rock Your Body         0.892   0.714    4   \n",
       "55                                It Wasn't Me         0.853   0.606    0   \n",
       "\n",
       "    loudness  mode  speechiness  acousticness  instrumentalness  liveness  \\\n",
       "0     -7.105     0       0.1210       0.03110          0.006970    0.0471   \n",
       "6     -3.914     0       0.1140       0.02490          0.025000    0.2420   \n",
       "19    -6.583     0       0.2100       0.00238          0.000000    0.0598   \n",
       "46    -6.055     0       0.1410       0.20100          0.000234    0.0521   \n",
       "55    -4.596     1       0.0713       0.05610          0.000000    0.3130   \n",
       "\n",
       "    valence    tempo  artist_pop  \\\n",
       "0     0.810  125.461          74   \n",
       "6     0.924  143.040          84   \n",
       "19    0.701   99.259          86   \n",
       "46    0.817  100.972          82   \n",
       "55    0.654   94.759          75   \n",
       "\n",
       "                                               genres  track_pop  \n",
       "0   dance_pop hip_hop hip_pop pop pop_rap r&b rap ...         69  \n",
       "6                         dance_pop pop post-teen_pop         83  \n",
       "19                                  dance_pop pop r&b         25  \n",
       "46                                      dance_pop pop         79  \n",
       "55                              pop_rap reggae_fusion          2  "
      ]
     },
     "execution_count": 22,
     "metadata": {},
     "output_type": "execute_result"
    }
   ],
   "source": [
    "def select_cols(df):\n",
    "       '''\n",
    "       Select useful columns\n",
    "       '''\n",
    "       return df[['artist_name','id','track_name','danceability', 'energy', 'key', 'loudness', 'mode',\n",
    "       'speechiness', 'acousticness', 'instrumentalness', 'liveness', 'valence', 'tempo', \"artist_pop\", \"genres\", \"track_pop\"]]\n",
    "unique_songs = select_cols(unique_songs)\n",
    "unique_songs.head()"
   ]
  },
  {
   "cell_type": "code",
   "execution_count": 24,
   "id": "d02f3d27",
   "metadata": {},
   "outputs": [
    {
     "data": {
      "text/plain": [
       "0     [dance_pop, hip_hop, hip_pop, pop, pop_rap, r&...\n",
       "6                       [dance_pop, pop, post-teen_pop]\n",
       "19                                [dance_pop, pop, r&b]\n",
       "46                                     [dance_pop, pop]\n",
       "55                             [pop_rap, reggae_fusion]\n",
       "Name: genres_list, dtype: object"
      ]
     },
     "execution_count": 24,
     "metadata": {},
     "output_type": "execute_result"
    }
   ],
   "source": [
    "def genre_preprocess(df):\n",
    "    '''\n",
    "    Preprocess the genre data\n",
    "    '''\n",
    "    df['genres_list'] = df['genres'].apply(lambda x: x.split(\" \"))\n",
    "    return df\n",
    "unique_songs = genre_preprocess(unique_songs)\n",
    "unique_songs['genres_list'].head()"
   ]
  },
  {
   "cell_type": "code",
   "execution_count": null,
   "id": "3fdae96e",
   "metadata": {},
   "outputs": [],
   "source": []
  },
  {
   "cell_type": "code",
   "execution_count": 11,
   "id": "6e424005",
   "metadata": {},
   "outputs": [
    {
     "data": {
      "text/plain": [
       "[Text(0.5, 0, 'pos'),\n",
       " Text(1.5, 0, 'duration_ms_x'),\n",
       " Text(2.5, 0, 'danceability'),\n",
       " Text(3.5, 0, 'energy'),\n",
       " Text(4.5, 0, 'loudness'),\n",
       " Text(5.5, 0, 'speechiness'),\n",
       " Text(6.5, 0, 'acousticness'),\n",
       " Text(7.5, 0, 'instrumentalness'),\n",
       " Text(8.5, 0, 'liveness'),\n",
       " Text(9.5, 0, 'valence'),\n",
       " Text(10.5, 0, 'tempo'),\n",
       " Text(11.5, 0, 'duration_ms_y'),\n",
       " Text(12.5, 0, 'time_signature'),\n",
       " Text(13.5, 0, 'artist_pop'),\n",
       " Text(14.5, 0, 'track_pop')]"
      ]
     },
     "execution_count": 11,
     "metadata": {},
     "output_type": "execute_result"
    },
    {
     "data": {
      "image/png": "[encoded data removed]",
      "text/plain": [
       "<Figure size 1152x504 with 2 Axes>"
      ]
     },
     "metadata": {
      "needs_background": "light"
     },
     "output_type": "display_data"
    }
   ],
   "source": [
    "corr_df=data.drop([\"key\",\"mode\",\"Unnamed: 0\",\"Unnamed: 0.1\"],axis=1).corr(method=\"pearson\")\n",
    "plt.figure(figsize=(16,7))\n",
    "heatmap=sns.heatmap(corr_df,annot=True,fmt=\".1g\", vmin=-1, vmax=1, center=0, cmap=\"rocket\", linewidths=1, linecolor=\"Black\")\n",
    "heatmap.set_title(\"Correlation HeatMap\")\n",
    "heatmap.set_xticklabels(heatmap.get_xticklabels(), rotation=90)"
   ]
  },
  {
   "cell_type": "code",
   "execution_count": 15,
   "id": "6134da22",
   "metadata": {},
   "outputs": [
    {
     "data": {
      "text/plain": [
       "[Text(0.5, 1.0, 'Track Popularity vs Acousticness Correlation')]"
      ]
     },
     "execution_count": 15,
     "metadata": {},
     "output_type": "execute_result"
    },
    {
     "data": {
      "image/png": "[encoded data removed]",
      "text/plain": [
       "<Figure size 864x432 with 1 Axes>"
      ]
     },
     "metadata": {
      "needs_background": "light"
     },
     "output_type": "display_data"
    }
   ],
   "source": [
    "sample_data=data.sample(int(0.01*len(data)))\n",
    "plt.figure(figsize=(12,6))\n",
    "sns.regplot(data=sample_data, y=\"acousticness\", x=\"track_pop\",color=\"purple\").set(title=\"Track Popularity vs Acousticness Correlation\")"
   ]
  },
  {
   "cell_type": "code",
   "execution_count": 17,
   "id": "431c6578",
   "metadata": {},
   "outputs": [
    {
     "data": {
      "text/plain": [
       "[Text(0.5, 1.0, 'Popularity vs Energy Correlation')]"
      ]
     },
     "execution_count": 17,
     "metadata": {},
     "output_type": "execute_result"
    },
    {
     "data": {
      "image/png": "[encoded data removed]",
      "text/plain": [
       "<Figure size 864x432 with 1 Axes>"
      ]
     },
     "metadata": {
      "needs_background": "light"
     },
     "output_type": "display_data"
    }
   ],
   "source": [
    "plt.figure(figsize=(12,6))\n",
    "sns.regplot(data=sample_data, y=\"track_pop\", x=\"energy\",color=\"blue\").set(title=\"Popularity vs Energy Correlation\")"
   ]
  },
  {
   "cell_type": "code",
   "execution_count": null,
   "id": "83bc7717",
   "metadata": {},
   "outputs": [],
   "source": [
    "##Music Analysis over a decade"
   ]
  },
  {
   "cell_type": "code",
   "execution_count": null,
   "id": "c6f53fbc",
   "metadata": {},
   "outputs": [],
   "source": [
    "def get_decade(year):\n",
    "    period_start = int(year) - (int(year)%10)\n",
    "    decade = '{}s'.format(period_start)\n",
    "    return decade\n",
    "\n",
    "data['decade'] = data['year'].apply(get_decade)\n",
    "\n",
    "sns.set(rc={'figure.figsize':(11 ,6)})\n",
    "sns.countplot(data['decade'])"
   ]
  },
  {
   "cell_type": "code",
   "execution_count": null,
   "id": "fb2a74a8",
   "metadata": {},
   "outputs": [],
   "source": [
    "sound_features = ['acousticness', 'danceability', 'energy', 'instrumentalness', 'liveness', 'valence']\n",
    "fig = px.line(year_data, x='year', y=sound_features)\n",
    "fig.show()\n"
   ]
  },
  {
   "cell_type": "code",
   "execution_count": null,
   "id": "6b3dcb10",
   "metadata": {},
   "outputs": [],
   "source": [
    "#Popular genres and their characteristics"
   ]
  },
  {
   "cell_type": "code",
   "execution_count": null,
   "id": "580e30b2",
   "metadata": {},
   "outputs": [],
   "source": [
    "top_genres = genre_data.nlargest(15, 'popularity')\n",
    "\n",
    "fig = px.bar(top_genres, x='genres', y=['valence', 'energy', 'danceability','liveness'], barmode='group')\n",
    "fig.show()"
   ]
  },
  {
   "cell_type": "code",
   "execution_count": null,
   "id": "dc279984",
   "metadata": {},
   "outputs": [],
   "source": [
    "##Clustering Genres with Kmeans"
   ]
  },
  {
   "cell_type": "code",
   "execution_count": null,
   "id": "c2843aa1",
   "metadata": {},
   "outputs": [],
   "source": [
    "from sklearn.cluster import KMeans\n",
    "from sklearn.preprocessing import StandardScaler\n",
    "from sklearn.pipeline import Pipeline\n",
    "\n",
    "cluster_pipeline = Pipeline([('scaler', StandardScaler()), ('kmeans', KMeans(n_clusters=10, init='k-means++'))])\n",
    "X = genre_data.select_dtypes(np.number)\n",
    "cluster_pipeline.fit(X)\n",
    "genre_data['cluster'] = cluster_pipeline.predict(X)"
   ]
  },
  {
   "cell_type": "code",
   "execution_count": null,
   "id": "3d31cf90",
   "metadata": {},
   "outputs": [],
   "source": [
    "from sklearn.manifold import TSNE\n",
    "\n",
    "tsne_pipeline = Pipeline([('scaler', StandardScaler()), ('tsne', TSNE(n_components=2, verbose=1))])\n",
    "genre_embedding = tsne_pipeline.fit_transform(X)\n",
    "projection = pd.DataFrame(columns=['x', 'y'], data=genre_embedding)\n",
    "projection['genres'] = genre_data['genres']\n",
    "projection['cluster'] = genre_data['cluster']\n",
    "\n",
    "fig = px.scatter(\n",
    "    projection, x='x', y='y', color='cluster', hover_data=['x', 'y', 'genres'])\n",
    "fig.show()"
   ]
  },
  {
   "cell_type": "code",
   "execution_count": null,
   "id": "1146ed86",
   "metadata": {},
   "outputs": [],
   "source": [
    "song_cluster_pipeline = Pipeline([('scaler', StandardScaler()), \n",
    "                                  ('kmeans', KMeans(n_clusters=20, \n",
    "                                   verbose=False, init='k-means++'))\n",
    "                                 ], verbose=False)\n",
    "\n",
    "X = data.select_dtypes(np.number)\n",
    "number_cols = list(X.columns)\n",
    "song_cluster_pipeline.fit(X)\n",
    "song_cluster_labels = song_cluster_pipeline.predict(X)\n",
    "data['cluster_label'] = song_cluster_labels"
   ]
  },
  {
   "cell_type": "code",
   "execution_count": null,
   "id": "5d051c7b",
   "metadata": {},
   "outputs": [],
   "source": [
    "from sklearn.decomposition import PCA\n",
    "\n",
    "pca_pipeline = Pipeline([('scaler', StandardScaler()), ('PCA', PCA(n_components=2))])\n",
    "song_embedding = pca_pipeline.fit_transform(X)\n",
    "projection = pd.DataFrame(columns=['x', 'y'], data=song_embedding)\n",
    "projection['title'] = data['name']\n",
    "projection['cluster'] = data['cluster_label']\n",
    "\n",
    "fig = px.scatter(\n",
    "    projection, x='x', y='y', color='cluster', hover_data=['x', 'y', 'title'])\n",
    "fig.show()\n"
   ]
  },
  {
   "cell_type": "markdown",
   "id": "2220a576",
   "metadata": {},
   "source": [
    "### Using Spotify API to build recommendation system"
   ]
  },
  {
   "cell_type": "code",
   "execution_count": null,
   "id": "6d5d3eb4",
   "metadata": {},
   "outputs": [],
   "source": [
    "!pip install spotipy"
   ]
  },
  {
   "cell_type": "code",
   "execution_count": null,
   "id": "b9201272",
   "metadata": {},
   "outputs": [],
   "source": [
    "client_id = '4379e8dc929f4f3d8b296962fb549d56'\n",
    "client_secret= '08a15f73be3742f18227aec6fb9e61b4'"
   ]
  },
  {
   "cell_type": "code",
   "execution_count": null,
   "id": "0ae4979b",
   "metadata": {},
   "outputs": [],
   "source": [
    "scope = 'user-library-read'\n",
    "\n",
    "if len(sys.argv) > 1:\n",
    "    username = sys.argv[1]\n",
    "else:\n",
    "    print(\"Usage: %s username\" % (sys.argv[0],))\n",
    "    sys.exit()"
   ]
  },
  {
   "cell_type": "code",
   "execution_count": null,
   "id": "cffe6ac1",
   "metadata": {},
   "outputs": [],
   "source": [
    "import spotipy\n",
    "import spotipy.util as util\n",
    "from spotipy.oauth2 import SpotifyClientCredentials\n",
    "from collections import defaultdict\n",
    "\n",
    "auth_manager = SpotifyClientCredentials(client_id=client_id, client_secret=client_secret)\n",
    "sp = spotipy.Spotify(auth_manager=auth_manager)\n",
    "token = util.prompt_for_user_token(scope, client_id= client_id, client_secret=client_secret, redirect_uri='https://mysongrecommender/dashboard/')\n",
    "sp = spotipy.Spotify(auth=token)\n"
   ]
  },
  {
   "cell_type": "code",
   "execution_count": null,
   "id": "e81e1c83",
   "metadata": {},
   "outputs": [],
   "source": [
    "id_name = {}\n",
    "list_photo = {}\n",
    "for i in sp.current_user_playlists()['items']:\n",
    "\n",
    "    id_name[i['name']] = i['uri'].split(':')[2]\n",
    "    list_photo[i['uri'].split(':')[2]] = i['images'][0]['url']"
   ]
  },
  {
   "cell_type": "code",
   "execution_count": null,
   "id": "86b828cc",
   "metadata": {},
   "outputs": [],
   "source": [
    "id_name"
   ]
  },
  {
   "cell_type": "code",
   "execution_count": null,
   "id": "c20a4c13",
   "metadata": {},
   "outputs": [],
   "source": [
    "def create_necessary_outputs(playlist_name,id_dic, df):\n",
    "    \"\"\" \n",
    "    Pull songs from a specific playlist.\n",
    "\n",
    "    Parameters: \n",
    "        playlist_name (str): name of the playlist you'd like to pull from the spotify API\n",
    "        id_dic (dic): dictionary that maps playlist_name to playlist_id\n",
    "        df (pandas dataframe): spotify datafram\n",
    "        \n",
    "    Returns: \n",
    "        playlist: all songs in the playlist THAT ARE AVAILABLE IN THE KAGGLE DATASET\n",
    "    \"\"\"\n",
    "    \n",
    "    #generate playlist dataframe\n",
    "    playlist = pd.DataFrame()\n",
    "    playlist_name = playlist_name\n",
    "\n",
    "    for ix, i in enumerate(sp.playlist(id_dic[playlist_name])['tracks']['items']):\n",
    "        #print(i['track']['artists'][0]['name'])\n",
    "        playlist.loc[ix, 'artist'] = i['track']['artists'][0]['name']\n",
    "        playlist.loc[ix, 'name'] = i['track']['name']\n",
    "        playlist.loc[ix, 'id'] = i['track']['id'] # ['uri'].split(':')[2]\n",
    "        playlist.loc[ix, 'url'] = i['track']['album']['images'][1]['url']\n",
    "        playlist.loc[ix, 'date_added'] = i['added_at']\n",
    "\n",
    "    playlist['date_added'] = pd.to_datetime(playlist['date_added'])  \n",
    "    \n",
    "    playlist = playlist[playlist['id'].isin(df['id'].values)].sort_values('date_added',ascending = False)\n",
    "    \n",
    "    return playlist"
   ]
  },
  {
   "cell_type": "code",
   "execution_count": null,
   "id": "f298ab21",
   "metadata": {},
   "outputs": [],
   "source": [
    "id_name"
   ]
  },
  {
   "cell_type": "code",
   "execution_count": null,
   "id": "61377da6",
   "metadata": {},
   "outputs": [],
   "source": [
    "from skimage import io\n",
    "import matplotlib.pyplot as plt\n",
    "\n",
    "def visualize_songs(df):\n",
    "    \"\"\" \n",
    "    Visualize cover art of the songs in the inputted dataframe\n",
    "\n",
    "    Parameters: \n",
    "        df (pandas dataframe): Playlist Dataframe\n",
    "    \"\"\"\n",
    "    \n",
    "    temp = df['url'].values\n",
    "    plt.figure(figsize=(15,int(0.625 * len(temp))))\n",
    "    columns = 5\n",
    "    \n",
    "    for i, url in enumerate(temp):\n",
    "        plt.subplot(len(temp) / columns + 1, columns, i + 1)\n",
    "\n",
    "        image = io.imread(url)\n",
    "        plt.imshow(image)\n",
    "        plt.xticks(color = 'w', fontsize = 0.1)\n",
    "        plt.yticks(color = 'w', fontsize = 0.1)\n",
    "        plt.xlabel(df['name'].values[i], fontsize = 12)\n",
    "        plt.tight_layout(h_pad=0.4, w_pad=0)\n",
    "        plt.subplots_adjust(wspace=None, hspace=None)\n",
    "\n",
    "    plt.show()"
   ]
  },
  {
   "cell_type": "code",
   "execution_count": null,
   "id": "e70f7892",
   "metadata": {},
   "outputs": [],
   "source": [
    "playlist_Heart = create_necessary_outputs('Wilson’s Heart', id_name,tracks_data)\n",
    "playlist_Heart"
   ]
  },
  {
   "cell_type": "code",
   "execution_count": null,
   "id": "fd5611ae",
   "metadata": {},
   "outputs": [],
   "source": [
    "visualize_songs(playlist_Heart)\n"
   ]
  },
  {
   "cell_type": "code",
   "execution_count": null,
   "id": "457e6d60",
   "metadata": {},
   "outputs": [],
   "source": [
    "def generate_playlist_feature(tracks_data, playlist_df, weight_factor):\n",
    "    \"\"\" \n",
    "    Summarize a user's playlist into a single vector\n",
    "\n",
    "    Parameters: \n",
    "        complete_feature_set (pandas dataframe): Dataframe which includes all of the features for the spotify songs\n",
    "        playlist_df (pandas dataframe): playlist dataframe\n",
    "        weight_factor (float): float value that represents the recency bias. The larger the recency bias, the most priority recent songs get. Value should be close to 1. \n",
    "        \n",
    "    Returns: \n",
    "        playlist_feature_set_weighted_final (pandas series): single feature that summarizes the playlist\n",
    "        complete_feature_set_nonplaylist (pandas dataframe): \n",
    "    \"\"\"\n",
    "    \n",
    "    complete_feature_set_playlist = complete_feature_set[complete_feature_set['id'].isin(playlist_df['id'].values)]#.drop('id', axis = 1).mean(axis =0)\n",
    "    complete_feature_set_playlist = complete_feature_set_playlist.merge(playlist_df[['id','date_added']], on = 'id', how = 'inner')\n",
    "    complete_feature_set_nonplaylist = complete_feature_set[~complete_feature_set['id'].isin(playlist_df['id'].values)]#.drop('id', axis = 1)\n",
    "    \n",
    "    playlist_feature_set = complete_feature_set_playlist.sort_values('date_added',ascending=False)\n",
    "\n",
    "    most_recent_date = playlist_feature_set.iloc[0,-1]\n",
    "    \n",
    "    for ix, row in playlist_feature_set.iterrows():\n",
    "        playlist_feature_set.loc[ix,'months_from_recent'] = int((most_recent_date.to_pydatetime() - row.iloc[-1].to_pydatetime()).days / 30)\n",
    "        \n",
    "    playlist_feature_set['weight'] = playlist_feature_set['months_from_recent'].apply(lambda x: weight_factor ** (-x))\n",
    "    \n",
    "    playlist_feature_set_weighted = playlist_feature_set.copy()\n",
    "    #print(playlist_feature_set_weighted.iloc[:,:-4].columns)\n",
    "    playlist_feature_set_weighted.update(playlist_feature_set_weighted.iloc[:,:-4].mul(playlist_feature_set_weighted.weight,0))\n",
    "    playlist_feature_set_weighted_final = playlist_feature_set_weighted.iloc[:, :-4]\n",
    "    #playlist_feature_set_weighted_final['id'] = playlist_feature_set['id']\n",
    "    \n",
    "    return playlist_feature_set_weighted_final.sum(axis = 0), complete_feature_set_nonplaylist"
   ]
  },
  {
   "cell_type": "code",
   "execution_count": null,
   "id": "65d4db92",
   "metadata": {},
   "outputs": [],
   "source": [
    "complete_feature_set_playlist_vector_heart, complete_feature_set_nonplaylist_heart = generate_playlist_feature(complete_feature_set, playlist_Heart, 1.09)\n",
    "#complete_feature_set_playlist_vector_chill, complete_feature_set_nonplaylist_chill = generate_playlist_feature(complete_feature_set, playlist_chill, 1.09)\n",
    "complete_feature_set_playlist_vector_heart.shape"
   ]
  },
  {
   "cell_type": "code",
   "execution_count": null,
   "id": "e5c2e52b",
   "metadata": {},
   "outputs": [],
   "source": [
    "def generate_playlist_recos(df, features, nonplaylist_features):\n",
    "    \"\"\" \n",
    "    Pull songs from a specific playlist.\n",
    "\n",
    "    Parameters: \n",
    "        df (pandas dataframe): spotify dataframe\n",
    "        features (pandas series): summarized playlist feature\n",
    "        nonplaylist_features (pandas dataframe): feature set of songs that are not in the selected playlist\n",
    "        \n",
    "    Returns: \n",
    "        non_playlist_df_top_40: Top 40 recommendations for that playlist\n",
    "    \"\"\"\n",
    "    \n",
    "    non_playlist_df = df[df['id'].isin(nonplaylist_features['id'].values)]\n",
    "    non_playlist_df['sim'] = cosine_similarity(nonplaylist_features.drop('id', axis = 1).values, features.values.reshape(1, -1))[:,0]\n",
    "    non_playlist_df_top_40 = non_playlist_df.sort_values('sim',ascending = False).head(40)\n",
    "    non_playlist_df_top_40['url'] = non_playlist_df_top_40['id'].apply(lambda x: sp.track(x)['album']['images'][1]['url'])\n",
    "    \n",
    "    return non_playlist_df_top_40"
   ]
  },
  {
   "cell_type": "code",
   "execution_count": null,
   "id": "16c7102d",
   "metadata": {},
   "outputs": [],
   "source": [
    "edm_top40 = generate_playlist_recos(tracks_data, complete_feature_set_playlist_vector_heart, complete_feature_set_nonplaylist_heart)"
   ]
  },
  {
   "cell_type": "code",
   "execution_count": null,
   "id": "34cdfb86",
   "metadata": {},
   "outputs": [],
   "source": [
    "edm_top40"
   ]
  },
  {
   "cell_type": "code",
   "execution_count": null,
   "id": "2fd631bd",
   "metadata": {},
   "outputs": [],
   "source": [
    "#visualize_songs(edm_top40)"
   ]
  },
  {
   "cell_type": "code",
   "execution_count": null,
   "id": "989d5133",
   "metadata": {},
   "outputs": [],
   "source": [
    "def find_song(name, year):\n",
    "    song_data = defaultdict()\n",
    "    results = sp.search(q= 'track: {} year: {}'.format(name,year), limit=1)\n",
    "    if results['tracks']['items'] == []:\n",
    "        return None\n",
    "\n",
    "    results = results['tracks']['items'][0]\n",
    "    track_id = results['id']\n",
    "    audio_features = sp.audio_features(track_id)[0]\n",
    "\n",
    "    song_data['name'] = [name]\n",
    "    song_data['year'] = [year]\n",
    "    song_data['explicit'] = [int(results['explicit'])]\n",
    "    song_data['duration_ms'] = [results['duration_ms']]\n",
    "    song_data['popularity'] = [results['popularity']]\n",
    "\n",
    "    for key, value in audio_features.items():\n",
    "        song_data[key] = value\n",
    "\n",
    "    return pd.DataFrame(song_data)"
   ]
  },
  {
   "cell_type": "code",
   "execution_count": null,
   "id": "d4c59bd3",
   "metadata": {},
   "outputs": [],
   "source": []
  },
  {
   "cell_type": "code",
   "execution_count": null,
   "id": "39aaabed",
   "metadata": {},
   "outputs": [],
   "source": [
    "from collections import defaultdict\n",
    "from sklearn.metrics import euclidean_distances\n",
    "from scipy.spatial.distance import cdist\n",
    "import difflib\n",
    "\n",
    "number_cols = ['valence', 'year', 'acousticness', 'danceability', 'duration_ms', 'energy', 'explicit',\n",
    " 'instrumentalness', 'key', 'liveness', 'loudness', 'mode', 'popularity', 'speechiness', 'tempo']\n",
    "\n",
    "\n",
    "def get_song_data(song, spotify_data):\n",
    "    \n",
    "    try:\n",
    "        song_data = spotify_data[(spotify_data['name'] == song['name']) \n",
    "                                & (spotify_data['year'] == song['year'])].iloc[0]\n",
    "        return song_data\n",
    "    \n",
    "    except IndexError:\n",
    "        return find_song(song['name'], song['year'])\n",
    "        \n",
    "\n",
    "def get_mean_vector(song_list, spotify_data):\n",
    "    \n",
    "    song_vectors = []\n",
    "    \n",
    "    for song in song_list:\n",
    "        song_data = get_song_data(song, spotify_data)\n",
    "        if song_data is None:\n",
    "            print('Warning: {} does not exist in Spotify or in database'.format(song['name']))\n",
    "            continue\n",
    "        song_vector = song_data[number_cols].values\n",
    "        song_vectors.append(song_vector)  \n",
    "    \n",
    "    song_matrix = np.array(list(song_vectors))\n",
    "    return np.mean(song_matrix, axis=0)\n",
    "\n",
    "\n",
    "def flatten_dict_list(dict_list):\n",
    "    \n",
    "    flattened_dict = defaultdict()\n",
    "    for key in dict_list[0].keys():\n",
    "        flattened_dict[key] = []\n",
    "    \n",
    "    for dictionary in dict_list:\n",
    "        for key, value in dictionary.items():\n",
    "            flattened_dict[key].append(value)\n",
    "            \n",
    "    return flattened_dict\n",
    "\n",
    "\n",
    "def recommend_songs( song_list, spotify_data, n_songs=10):\n",
    "    \n",
    "    metadata_cols = ['name', 'release_date', 'artists']\n",
    "    song_dict = flatten_dict_list(song_list)\n",
    "    \n",
    "    song_center = get_mean_vector(song_list, spotify_data)\n",
    "    scaler = song_cluster_pipeline.steps[0][1]\n",
    "    scaled_data = scaler.transform(spotify_data[number_cols])\n",
    "    scaled_song_center = scaler.transform(song_center.reshape(1, -1))\n",
    "    distances = cdist(scaled_song_center, scaled_data, 'cosine')\n",
    "    index = list(np.argsort(distances)[:, :n_songs][0])\n",
    "    \n",
    "    rec_songs = spotify_data.iloc[index]\n",
    "    rec_songs = rec_songs[~rec_songs['name'].isin(song_dict['name'])]\n",
    "    return rec_songs[metadata_cols].to_dict(orient='records')"
   ]
  },
  {
   "cell_type": "code",
   "execution_count": null,
   "id": "8cf8e215",
   "metadata": {},
   "outputs": [],
   "source": [
    "recommend_songs([{'name': 'Come As You Are', 'release_date':1991},\n",
    "                {'name': 'Smells Like Teen Spirit', 'release_date': 1991},\n",
    "                {'name': 'Lithium', 'release_date': 1992},\n",
    "                {'name': 'All Apologies', 'release_date': 1993},\n",
    "                {'name': 'Stay Away', 'release_date': 1993}],  tracks_data)"
   ]
  },
  {
   "cell_type": "code",
   "execution_count": null,
   "id": "c08f9491",
   "metadata": {},
   "outputs": [],
   "source": []
  }
 ],
 "metadata": {
  "kernelspec": {
   "display_name": "Python 3 (ipykernel)",
   "language": "python",
   "name": "python3"
  },
  "language_info": {
   "codemirror_mode": {
    "name": "ipython",
    "version": 3
   },
   "file_extension": ".py",
   "mimetype": "text/x-python",
   "name": "python",
   "nbconvert_exporter": "python",
   "pygments_lexer": "ipython3",
   "version": "3.9.7"
  }
 },
 "nbformat": 4,
 "nbformat_minor": 5
}
