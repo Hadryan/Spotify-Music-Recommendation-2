{
 "cells": [
  {
   "cell_type": "code",
   "execution_count": 37,
   "id": "3763df78",
   "metadata": {},
   "outputs": [],
   "source": [
    "import os\n",
    "import numpy as np\n",
    "import pandas as pd\n",
    "\n",
    "import seaborn as sns\n",
    "import plotly.express as px \n",
    "import matplotlib.pyplot as plt\n",
    "%matplotlib inline\n",
    "\n",
    "from sklearn.cluster import KMeans\n",
    "from sklearn.preprocessing import StandardScaler\n",
    "from sklearn.pipeline import Pipeline\n",
    "from sklearn.manifold import TSNE\n",
    "from sklearn.decomposition import PCA\n",
    "from sklearn.metrics import euclidean_distances\n",
    "from scipy.spatial.distance import cdist\n",
    "from sklearn.linear_model import RidgeCV, LassoCV, Ridge, Lasso\n",
    "\n",
    "import warnings\n",
    "warnings.filterwarnings(\"ignore\")"
   ]
  },
  {
   "cell_type": "code",
   "execution_count": 38,
   "id": "f5715c38",
   "metadata": {},
   "outputs": [],
   "source": [
    "data = pd.read_csv(r'C:\\Users\\adity\\OneDrive\\Documents\\GitHub\\Music Recommender system\\data.csv')\n",
    "genre_data = pd.read_csv(r'C:\\Users\\adity\\OneDrive\\Documents\\GitHub\\Music Recommender system\\data_by_genres.csv')\n",
    "year_data = pd.read_csv(r'C:\\Users\\adity\\OneDrive\\Documents\\GitHub\\Music Recommender system\\data_by_year.csv')"
   ]
  },
  {
   "cell_type": "code",
   "execution_count": 39,
   "id": "e1bf2ed0",
   "metadata": {},
   "outputs": [
    {
     "name": "stdout",
     "output_type": "stream",
     "text": [
      "<class 'pandas.core.frame.DataFrame'>\n",
      "RangeIndex: 170653 entries, 0 to 170652\n",
      "Data columns (total 19 columns):\n",
      " #   Column            Non-Null Count   Dtype  \n",
      "---  ------            --------------   -----  \n",
      " 0   valence           170653 non-null  float64\n",
      " 1   year              170653 non-null  int64  \n",
      " 2   acousticness      170653 non-null  float64\n",
      " 3   artists           170653 non-null  object \n",
      " 4   danceability      170653 non-null  float64\n",
      " 5   duration_ms       170653 non-null  int64  \n",
      " 6   energy            170653 non-null  float64\n",
      " 7   explicit          170653 non-null  int64  \n",
      " 8   id                170653 non-null  object \n",
      " 9   instrumentalness  170653 non-null  float64\n",
      " 10  key               170653 non-null  int64  \n",
      " 11  liveness          170653 non-null  float64\n",
      " 12  loudness          170653 non-null  float64\n",
      " 13  mode              170653 non-null  int64  \n",
      " 14  name              170653 non-null  object \n",
      " 15  popularity        170653 non-null  int64  \n",
      " 16  release_date      170653 non-null  object \n",
      " 17  speechiness       170653 non-null  float64\n",
      " 18  tempo             170653 non-null  float64\n",
      "dtypes: float64(9), int64(6), object(4)\n",
      "memory usage: 24.7+ MB\n",
      "None\n"
     ]
    }
   ],
   "source": [
    "print(data.info())"
   ]
  },
  {
   "cell_type": "code",
   "execution_count": 40,
   "id": "bbd44987",
   "metadata": {},
   "outputs": [
    {
     "name": "stdout",
     "output_type": "stream",
     "text": [
      "<class 'pandas.core.frame.DataFrame'>\n",
      "RangeIndex: 2973 entries, 0 to 2972\n",
      "Data columns (total 14 columns):\n",
      " #   Column            Non-Null Count  Dtype  \n",
      "---  ------            --------------  -----  \n",
      " 0   mode              2973 non-null   int64  \n",
      " 1   genres            2973 non-null   object \n",
      " 2   acousticness      2973 non-null   float64\n",
      " 3   danceability      2973 non-null   float64\n",
      " 4   duration_ms       2973 non-null   float64\n",
      " 5   energy            2973 non-null   float64\n",
      " 6   instrumentalness  2973 non-null   float64\n",
      " 7   liveness          2973 non-null   float64\n",
      " 8   loudness          2973 non-null   float64\n",
      " 9   speechiness       2973 non-null   float64\n",
      " 10  tempo             2973 non-null   float64\n",
      " 11  valence           2973 non-null   float64\n",
      " 12  popularity        2973 non-null   float64\n",
      " 13  key               2973 non-null   int64  \n",
      "dtypes: float64(11), int64(2), object(1)\n",
      "memory usage: 325.3+ KB\n",
      "None\n"
     ]
    }
   ],
   "source": [
    "print(genre_data.info())"
   ]
  },
  {
   "cell_type": "code",
   "execution_count": 41,
   "id": "3d9fe28e",
   "metadata": {},
   "outputs": [
    {
     "name": "stdout",
     "output_type": "stream",
     "text": [
      "<class 'pandas.core.frame.DataFrame'>\n",
      "RangeIndex: 100 entries, 0 to 99\n",
      "Data columns (total 14 columns):\n",
      " #   Column            Non-Null Count  Dtype  \n",
      "---  ------            --------------  -----  \n",
      " 0   mode              100 non-null    int64  \n",
      " 1   year              100 non-null    int64  \n",
      " 2   acousticness      100 non-null    float64\n",
      " 3   danceability      100 non-null    float64\n",
      " 4   duration_ms       100 non-null    float64\n",
      " 5   energy            100 non-null    float64\n",
      " 6   instrumentalness  100 non-null    float64\n",
      " 7   liveness          100 non-null    float64\n",
      " 8   loudness          100 non-null    float64\n",
      " 9   speechiness       100 non-null    float64\n",
      " 10  tempo             100 non-null    float64\n",
      " 11  valence           100 non-null    float64\n",
      " 12  popularity        100 non-null    float64\n",
      " 13  key               100 non-null    int64  \n",
      "dtypes: float64(11), int64(3)\n",
      "memory usage: 11.1 KB\n",
      "None\n"
     ]
    }
   ],
   "source": [
    "print(year_data.info())"
   ]
  },
  {
   "cell_type": "code",
   "execution_count": 42,
   "id": "8efa452d",
   "metadata": {},
   "outputs": [
    {
     "data": {
      "text/html": [
       "<div>\n",
       "<style scoped>\n",
       "    .dataframe tbody tr th:only-of-type {\n",
       "        vertical-align: middle;\n",
       "    }\n",
       "\n",
       "    .dataframe tbody tr th {\n",
       "        vertical-align: top;\n",
       "    }\n",
       "\n",
       "    .dataframe thead th {\n",
       "        text-align: right;\n",
       "    }\n",
       "</style>\n",
       "<table border=\"1\" class=\"dataframe\">\n",
       "  <thead>\n",
       "    <tr style=\"text-align: right;\">\n",
       "      <th></th>\n",
       "      <th>mode</th>\n",
       "      <th>genres</th>\n",
       "      <th>acousticness</th>\n",
       "      <th>danceability</th>\n",
       "      <th>duration_ms</th>\n",
       "      <th>energy</th>\n",
       "      <th>instrumentalness</th>\n",
       "      <th>liveness</th>\n",
       "      <th>loudness</th>\n",
       "      <th>speechiness</th>\n",
       "      <th>tempo</th>\n",
       "      <th>valence</th>\n",
       "      <th>popularity</th>\n",
       "      <th>key</th>\n",
       "    </tr>\n",
       "  </thead>\n",
       "  <tbody>\n",
       "    <tr>\n",
       "      <th>0</th>\n",
       "      <td>1</td>\n",
       "      <td>21st century classical</td>\n",
       "      <td>0.979333</td>\n",
       "      <td>0.162883</td>\n",
       "      <td>1.602977e+05</td>\n",
       "      <td>0.071317</td>\n",
       "      <td>0.606834</td>\n",
       "      <td>0.361600</td>\n",
       "      <td>-31.514333</td>\n",
       "      <td>0.040567</td>\n",
       "      <td>75.336500</td>\n",
       "      <td>0.103783</td>\n",
       "      <td>27.833333</td>\n",
       "      <td>6</td>\n",
       "    </tr>\n",
       "    <tr>\n",
       "      <th>1</th>\n",
       "      <td>1</td>\n",
       "      <td>432hz</td>\n",
       "      <td>0.494780</td>\n",
       "      <td>0.299333</td>\n",
       "      <td>1.048887e+06</td>\n",
       "      <td>0.450678</td>\n",
       "      <td>0.477762</td>\n",
       "      <td>0.131000</td>\n",
       "      <td>-16.854000</td>\n",
       "      <td>0.076817</td>\n",
       "      <td>120.285667</td>\n",
       "      <td>0.221750</td>\n",
       "      <td>52.500000</td>\n",
       "      <td>5</td>\n",
       "    </tr>\n",
       "    <tr>\n",
       "      <th>2</th>\n",
       "      <td>1</td>\n",
       "      <td>8-bit</td>\n",
       "      <td>0.762000</td>\n",
       "      <td>0.712000</td>\n",
       "      <td>1.151770e+05</td>\n",
       "      <td>0.818000</td>\n",
       "      <td>0.876000</td>\n",
       "      <td>0.126000</td>\n",
       "      <td>-9.180000</td>\n",
       "      <td>0.047000</td>\n",
       "      <td>133.444000</td>\n",
       "      <td>0.975000</td>\n",
       "      <td>48.000000</td>\n",
       "      <td>7</td>\n",
       "    </tr>\n",
       "    <tr>\n",
       "      <th>3</th>\n",
       "      <td>1</td>\n",
       "      <td>[]</td>\n",
       "      <td>0.651417</td>\n",
       "      <td>0.529093</td>\n",
       "      <td>2.328809e+05</td>\n",
       "      <td>0.419146</td>\n",
       "      <td>0.205309</td>\n",
       "      <td>0.218696</td>\n",
       "      <td>-12.288965</td>\n",
       "      <td>0.107872</td>\n",
       "      <td>112.857352</td>\n",
       "      <td>0.513604</td>\n",
       "      <td>20.859882</td>\n",
       "      <td>7</td>\n",
       "    </tr>\n",
       "    <tr>\n",
       "      <th>4</th>\n",
       "      <td>1</td>\n",
       "      <td>a cappella</td>\n",
       "      <td>0.676557</td>\n",
       "      <td>0.538961</td>\n",
       "      <td>1.906285e+05</td>\n",
       "      <td>0.316434</td>\n",
       "      <td>0.003003</td>\n",
       "      <td>0.172254</td>\n",
       "      <td>-12.479387</td>\n",
       "      <td>0.082851</td>\n",
       "      <td>112.110362</td>\n",
       "      <td>0.448249</td>\n",
       "      <td>45.820071</td>\n",
       "      <td>7</td>\n",
       "    </tr>\n",
       "  </tbody>\n",
       "</table>\n",
       "</div>"
      ],
      "text/plain": [
       "   mode                  genres  acousticness  danceability   duration_ms  \\\n",
       "0     1  21st century classical      0.979333      0.162883  1.602977e+05   \n",
       "1     1                   432hz      0.494780      0.299333  1.048887e+06   \n",
       "2     1                   8-bit      0.762000      0.712000  1.151770e+05   \n",
       "3     1                      []      0.651417      0.529093  2.328809e+05   \n",
       "4     1              a cappella      0.676557      0.538961  1.906285e+05   \n",
       "\n",
       "     energy  instrumentalness  liveness   loudness  speechiness       tempo  \\\n",
       "0  0.071317          0.606834  0.361600 -31.514333     0.040567   75.336500   \n",
       "1  0.450678          0.477762  0.131000 -16.854000     0.076817  120.285667   \n",
       "2  0.818000          0.876000  0.126000  -9.180000     0.047000  133.444000   \n",
       "3  0.419146          0.205309  0.218696 -12.288965     0.107872  112.857352   \n",
       "4  0.316434          0.003003  0.172254 -12.479387     0.082851  112.110362   \n",
       "\n",
       "    valence  popularity  key  \n",
       "0  0.103783   27.833333    6  \n",
       "1  0.221750   52.500000    5  \n",
       "2  0.975000   48.000000    7  \n",
       "3  0.513604   20.859882    7  \n",
       "4  0.448249   45.820071    7  "
      ]
     },
     "execution_count": 42,
     "metadata": {},
     "output_type": "execute_result"
    }
   ],
   "source": [
    "genre_data.head()"
   ]
  },
  {
   "cell_type": "code",
   "execution_count": 43,
   "id": "abddbbc9",
   "metadata": {},
   "outputs": [
    {
     "data": {
      "text/html": [
       "<div>\n",
       "<style scoped>\n",
       "    .dataframe tbody tr th:only-of-type {\n",
       "        vertical-align: middle;\n",
       "    }\n",
       "\n",
       "    .dataframe tbody tr th {\n",
       "        vertical-align: top;\n",
       "    }\n",
       "\n",
       "    .dataframe thead th {\n",
       "        text-align: right;\n",
       "    }\n",
       "</style>\n",
       "<table border=\"1\" class=\"dataframe\">\n",
       "  <thead>\n",
       "    <tr style=\"text-align: right;\">\n",
       "      <th></th>\n",
       "      <th>mode</th>\n",
       "      <th>year</th>\n",
       "      <th>acousticness</th>\n",
       "      <th>danceability</th>\n",
       "      <th>duration_ms</th>\n",
       "      <th>energy</th>\n",
       "      <th>instrumentalness</th>\n",
       "      <th>liveness</th>\n",
       "      <th>loudness</th>\n",
       "      <th>speechiness</th>\n",
       "      <th>tempo</th>\n",
       "      <th>valence</th>\n",
       "      <th>popularity</th>\n",
       "      <th>key</th>\n",
       "    </tr>\n",
       "  </thead>\n",
       "  <tbody>\n",
       "    <tr>\n",
       "      <th>0</th>\n",
       "      <td>1</td>\n",
       "      <td>1921</td>\n",
       "      <td>0.886896</td>\n",
       "      <td>0.418597</td>\n",
       "      <td>260537.166667</td>\n",
       "      <td>0.231815</td>\n",
       "      <td>0.344878</td>\n",
       "      <td>0.205710</td>\n",
       "      <td>-17.048667</td>\n",
       "      <td>0.073662</td>\n",
       "      <td>101.531493</td>\n",
       "      <td>0.379327</td>\n",
       "      <td>0.653333</td>\n",
       "      <td>2</td>\n",
       "    </tr>\n",
       "    <tr>\n",
       "      <th>1</th>\n",
       "      <td>1</td>\n",
       "      <td>1922</td>\n",
       "      <td>0.938592</td>\n",
       "      <td>0.482042</td>\n",
       "      <td>165469.746479</td>\n",
       "      <td>0.237815</td>\n",
       "      <td>0.434195</td>\n",
       "      <td>0.240720</td>\n",
       "      <td>-19.275282</td>\n",
       "      <td>0.116655</td>\n",
       "      <td>100.884521</td>\n",
       "      <td>0.535549</td>\n",
       "      <td>0.140845</td>\n",
       "      <td>10</td>\n",
       "    </tr>\n",
       "    <tr>\n",
       "      <th>2</th>\n",
       "      <td>1</td>\n",
       "      <td>1923</td>\n",
       "      <td>0.957247</td>\n",
       "      <td>0.577341</td>\n",
       "      <td>177942.362162</td>\n",
       "      <td>0.262406</td>\n",
       "      <td>0.371733</td>\n",
       "      <td>0.227462</td>\n",
       "      <td>-14.129211</td>\n",
       "      <td>0.093949</td>\n",
       "      <td>114.010730</td>\n",
       "      <td>0.625492</td>\n",
       "      <td>5.389189</td>\n",
       "      <td>0</td>\n",
       "    </tr>\n",
       "    <tr>\n",
       "      <th>3</th>\n",
       "      <td>1</td>\n",
       "      <td>1924</td>\n",
       "      <td>0.940200</td>\n",
       "      <td>0.549894</td>\n",
       "      <td>191046.707627</td>\n",
       "      <td>0.344347</td>\n",
       "      <td>0.581701</td>\n",
       "      <td>0.235219</td>\n",
       "      <td>-14.231343</td>\n",
       "      <td>0.092089</td>\n",
       "      <td>120.689572</td>\n",
       "      <td>0.663725</td>\n",
       "      <td>0.661017</td>\n",
       "      <td>10</td>\n",
       "    </tr>\n",
       "    <tr>\n",
       "      <th>4</th>\n",
       "      <td>1</td>\n",
       "      <td>1925</td>\n",
       "      <td>0.962607</td>\n",
       "      <td>0.573863</td>\n",
       "      <td>184986.924460</td>\n",
       "      <td>0.278594</td>\n",
       "      <td>0.418297</td>\n",
       "      <td>0.237668</td>\n",
       "      <td>-14.146414</td>\n",
       "      <td>0.111918</td>\n",
       "      <td>115.521921</td>\n",
       "      <td>0.621929</td>\n",
       "      <td>2.604317</td>\n",
       "      <td>5</td>\n",
       "    </tr>\n",
       "  </tbody>\n",
       "</table>\n",
       "</div>"
      ],
      "text/plain": [
       "   mode  year  acousticness  danceability    duration_ms    energy  \\\n",
       "0     1  1921      0.886896      0.418597  260537.166667  0.231815   \n",
       "1     1  1922      0.938592      0.482042  165469.746479  0.237815   \n",
       "2     1  1923      0.957247      0.577341  177942.362162  0.262406   \n",
       "3     1  1924      0.940200      0.549894  191046.707627  0.344347   \n",
       "4     1  1925      0.962607      0.573863  184986.924460  0.278594   \n",
       "\n",
       "   instrumentalness  liveness   loudness  speechiness       tempo   valence  \\\n",
       "0          0.344878  0.205710 -17.048667     0.073662  101.531493  0.379327   \n",
       "1          0.434195  0.240720 -19.275282     0.116655  100.884521  0.535549   \n",
       "2          0.371733  0.227462 -14.129211     0.093949  114.010730  0.625492   \n",
       "3          0.581701  0.235219 -14.231343     0.092089  120.689572  0.663725   \n",
       "4          0.418297  0.237668 -14.146414     0.111918  115.521921  0.621929   \n",
       "\n",
       "   popularity  key  \n",
       "0    0.653333    2  \n",
       "1    0.140845   10  \n",
       "2    5.389189    0  \n",
       "3    0.661017   10  \n",
       "4    2.604317    5  "
      ]
     },
     "execution_count": 43,
     "metadata": {},
     "output_type": "execute_result"
    }
   ],
   "source": [
    "year_data.head()"
   ]
  },
  {
   "cell_type": "code",
   "execution_count": 44,
   "id": "61c9149d",
   "metadata": {
    "scrolled": true
   },
   "outputs": [
    {
     "data": {
      "text/html": [
       "<div>\n",
       "<style scoped>\n",
       "    .dataframe tbody tr th:only-of-type {\n",
       "        vertical-align: middle;\n",
       "    }\n",
       "\n",
       "    .dataframe tbody tr th {\n",
       "        vertical-align: top;\n",
       "    }\n",
       "\n",
       "    .dataframe thead th {\n",
       "        text-align: right;\n",
       "    }\n",
       "</style>\n",
       "<table border=\"1\" class=\"dataframe\">\n",
       "  <thead>\n",
       "    <tr style=\"text-align: right;\">\n",
       "      <th></th>\n",
       "      <th>valence</th>\n",
       "      <th>year</th>\n",
       "      <th>acousticness</th>\n",
       "      <th>artists</th>\n",
       "      <th>danceability</th>\n",
       "      <th>duration_ms</th>\n",
       "      <th>energy</th>\n",
       "      <th>explicit</th>\n",
       "      <th>id</th>\n",
       "      <th>instrumentalness</th>\n",
       "      <th>key</th>\n",
       "      <th>liveness</th>\n",
       "      <th>loudness</th>\n",
       "      <th>mode</th>\n",
       "      <th>name</th>\n",
       "      <th>popularity</th>\n",
       "      <th>release_date</th>\n",
       "      <th>speechiness</th>\n",
       "      <th>tempo</th>\n",
       "    </tr>\n",
       "  </thead>\n",
       "  <tbody>\n",
       "    <tr>\n",
       "      <th>0</th>\n",
       "      <td>0.0594</td>\n",
       "      <td>1921</td>\n",
       "      <td>0.982</td>\n",
       "      <td>['Sergei Rachmaninoff', 'James Levine', 'Berli...</td>\n",
       "      <td>0.279</td>\n",
       "      <td>831667</td>\n",
       "      <td>0.211</td>\n",
       "      <td>0</td>\n",
       "      <td>4BJqT0PrAfrxzMOxytFOIz</td>\n",
       "      <td>0.878000</td>\n",
       "      <td>10</td>\n",
       "      <td>0.665</td>\n",
       "      <td>-20.096</td>\n",
       "      <td>1</td>\n",
       "      <td>Piano Concerto No. 3 in D Minor, Op. 30: III. ...</td>\n",
       "      <td>4</td>\n",
       "      <td>1921</td>\n",
       "      <td>0.0366</td>\n",
       "      <td>80.954</td>\n",
       "    </tr>\n",
       "    <tr>\n",
       "      <th>1</th>\n",
       "      <td>0.9630</td>\n",
       "      <td>1921</td>\n",
       "      <td>0.732</td>\n",
       "      <td>['Dennis Day']</td>\n",
       "      <td>0.819</td>\n",
       "      <td>180533</td>\n",
       "      <td>0.341</td>\n",
       "      <td>0</td>\n",
       "      <td>7xPhfUan2yNtyFG0cUWkt8</td>\n",
       "      <td>0.000000</td>\n",
       "      <td>7</td>\n",
       "      <td>0.160</td>\n",
       "      <td>-12.441</td>\n",
       "      <td>1</td>\n",
       "      <td>Clancy Lowered the Boom</td>\n",
       "      <td>5</td>\n",
       "      <td>1921</td>\n",
       "      <td>0.4150</td>\n",
       "      <td>60.936</td>\n",
       "    </tr>\n",
       "    <tr>\n",
       "      <th>2</th>\n",
       "      <td>0.0394</td>\n",
       "      <td>1921</td>\n",
       "      <td>0.961</td>\n",
       "      <td>['KHP Kridhamardawa Karaton Ngayogyakarta Hadi...</td>\n",
       "      <td>0.328</td>\n",
       "      <td>500062</td>\n",
       "      <td>0.166</td>\n",
       "      <td>0</td>\n",
       "      <td>1o6I8BglA6ylDMrIELygv1</td>\n",
       "      <td>0.913000</td>\n",
       "      <td>3</td>\n",
       "      <td>0.101</td>\n",
       "      <td>-14.850</td>\n",
       "      <td>1</td>\n",
       "      <td>Gati Bali</td>\n",
       "      <td>5</td>\n",
       "      <td>1921</td>\n",
       "      <td>0.0339</td>\n",
       "      <td>110.339</td>\n",
       "    </tr>\n",
       "    <tr>\n",
       "      <th>3</th>\n",
       "      <td>0.1650</td>\n",
       "      <td>1921</td>\n",
       "      <td>0.967</td>\n",
       "      <td>['Frank Parker']</td>\n",
       "      <td>0.275</td>\n",
       "      <td>210000</td>\n",
       "      <td>0.309</td>\n",
       "      <td>0</td>\n",
       "      <td>3ftBPsC5vPBKxYSee08FDH</td>\n",
       "      <td>0.000028</td>\n",
       "      <td>5</td>\n",
       "      <td>0.381</td>\n",
       "      <td>-9.316</td>\n",
       "      <td>1</td>\n",
       "      <td>Danny Boy</td>\n",
       "      <td>3</td>\n",
       "      <td>1921</td>\n",
       "      <td>0.0354</td>\n",
       "      <td>100.109</td>\n",
       "    </tr>\n",
       "    <tr>\n",
       "      <th>4</th>\n",
       "      <td>0.2530</td>\n",
       "      <td>1921</td>\n",
       "      <td>0.957</td>\n",
       "      <td>['Phil Regan']</td>\n",
       "      <td>0.418</td>\n",
       "      <td>166693</td>\n",
       "      <td>0.193</td>\n",
       "      <td>0</td>\n",
       "      <td>4d6HGyGT8e121BsdKmw9v6</td>\n",
       "      <td>0.000002</td>\n",
       "      <td>3</td>\n",
       "      <td>0.229</td>\n",
       "      <td>-10.096</td>\n",
       "      <td>1</td>\n",
       "      <td>When Irish Eyes Are Smiling</td>\n",
       "      <td>2</td>\n",
       "      <td>1921</td>\n",
       "      <td>0.0380</td>\n",
       "      <td>101.665</td>\n",
       "    </tr>\n",
       "  </tbody>\n",
       "</table>\n",
       "</div>"
      ],
      "text/plain": [
       "   valence  year  acousticness  \\\n",
       "0   0.0594  1921         0.982   \n",
       "1   0.9630  1921         0.732   \n",
       "2   0.0394  1921         0.961   \n",
       "3   0.1650  1921         0.967   \n",
       "4   0.2530  1921         0.957   \n",
       "\n",
       "                                             artists  danceability  \\\n",
       "0  ['Sergei Rachmaninoff', 'James Levine', 'Berli...         0.279   \n",
       "1                                     ['Dennis Day']         0.819   \n",
       "2  ['KHP Kridhamardawa Karaton Ngayogyakarta Hadi...         0.328   \n",
       "3                                   ['Frank Parker']         0.275   \n",
       "4                                     ['Phil Regan']         0.418   \n",
       "\n",
       "   duration_ms  energy  explicit                      id  instrumentalness  \\\n",
       "0       831667   0.211         0  4BJqT0PrAfrxzMOxytFOIz          0.878000   \n",
       "1       180533   0.341         0  7xPhfUan2yNtyFG0cUWkt8          0.000000   \n",
       "2       500062   0.166         0  1o6I8BglA6ylDMrIELygv1          0.913000   \n",
       "3       210000   0.309         0  3ftBPsC5vPBKxYSee08FDH          0.000028   \n",
       "4       166693   0.193         0  4d6HGyGT8e121BsdKmw9v6          0.000002   \n",
       "\n",
       "   key  liveness  loudness  mode  \\\n",
       "0   10     0.665   -20.096     1   \n",
       "1    7     0.160   -12.441     1   \n",
       "2    3     0.101   -14.850     1   \n",
       "3    5     0.381    -9.316     1   \n",
       "4    3     0.229   -10.096     1   \n",
       "\n",
       "                                                name  popularity release_date  \\\n",
       "0  Piano Concerto No. 3 in D Minor, Op. 30: III. ...           4         1921   \n",
       "1                            Clancy Lowered the Boom           5         1921   \n",
       "2                                          Gati Bali           5         1921   \n",
       "3                                          Danny Boy           3         1921   \n",
       "4                        When Irish Eyes Are Smiling           2         1921   \n",
       "\n",
       "   speechiness    tempo  \n",
       "0       0.0366   80.954  \n",
       "1       0.4150   60.936  \n",
       "2       0.0339  110.339  \n",
       "3       0.0354  100.109  \n",
       "4       0.0380  101.665  "
      ]
     },
     "execution_count": 44,
     "metadata": {},
     "output_type": "execute_result"
    }
   ],
   "source": [
    "data.head()"
   ]
  },
  {
   "cell_type": "code",
   "execution_count": 53,
   "id": "43807bae",
   "metadata": {},
   "outputs": [],
   "source": [
    "#Exploratory Data Analysis"
   ]
  },
  {
   "cell_type": "code",
   "execution_count": 54,
   "id": "baa7f324",
   "metadata": {},
   "outputs": [
    {
     "data": {
      "image/png": "[encoded data removed]",
      "text/plain": [
       "<Figure size 864x720 with 2 Axes>"
      ]
     },
     "metadata": {
      "needs_background": "light"
     },
     "output_type": "display_data"
    }
   ],
   "source": [
    "plt.figure(figsize=(12,10))\n",
    "cor = data.corr()\n",
    "sns.heatmap(cor, annot=True, cmap=plt.cm.Reds)\n",
    "plt.show()"
   ]
  },
  {
   "cell_type": "code",
   "execution_count": 71,
   "id": "1d748e1c",
   "metadata": {},
   "outputs": [],
   "source": [
    "##Music Analysis over a decade"
   ]
  },
  {
   "cell_type": "code",
   "execution_count": 72,
   "id": "7b54fbc2",
   "metadata": {},
   "outputs": [
    {
     "data": {
      "text/plain": [
       "<AxesSubplot:xlabel='Decade', ylabel='count'>"
      ]
     },
     "execution_count": 72,
     "metadata": {},
     "output_type": "execute_result"
    },
    {
     "data": {
      "image/png": "[encoded data removed]",
      "text/plain": [
       "<Figure size 720x432 with 1 Axes>"
      ]
     },
     "metadata": {},
     "output_type": "display_data"
    }
   ],
   "source": [
    "def get_decade(year):\n",
    "    period_start = int(year/10) * 10\n",
    "    decade = '{}s'.format(period_start)\n",
    "    return decade\n",
    "\n",
    "data['Decade'] = data['year'].apply(get_decade)\n",
    "\n",
    "sns.set(rc={'figure.figsize':(10 ,6)})\n",
    "sns.countplot(data['Decade'])"
   ]
  },
  {
   "cell_type": "code",
   "execution_count": 62,
   "id": "b52f9514",
   "metadata": {},
   "outputs": [
    {
     "data": {
      "application/vnd.plotly.v1+json": {
       "config": {
        "plotlyServerURL": "https://plot.ly"
       },
       "data": [
        {
         "hovertemplate": "variable=acousticness<br>year=%{x}<br>value=%{y}<extra></extra>",
         "legendgroup": "acousticness",
         "line": {
          "color": "#636efa",
          "dash": "solid"
         },
         "marker": {
          "symbol": "circle"
         },
         "mode": "lines",
         "name": "acousticness",
         "orientation": "v",
         "showlegend": true,
         "type": "scatter",
         "x": [
          1921,
          1922,
          1923,
          1924,
          1925,
          1926,
          1927,
          1928,
          1929,
          1930,
          1931,
          1932,
          1933,
          1934,
          1935,
          1936,
          1937,
          1938,
          1939,
          1940,
          1941,
          1942,
          1943,
          1944,
          1945,
          1946,
          1947,
          1948,
          1949,
          1950,
          1951,
          1952,
          1953,
          1954,
          1955,
          1956,
          1957,
          1958,
          1959,
          1960,
          1961,
          1962,
          1963,
          1964,
          1965,
          1966,
          1967,
          1968,
          1969,
          1970,
          1971,
          1972,
          1973,
          1974,
          1975,
          1976,
          1977,
          1978,
          1979,
          1980,
          1981,
          1982,
          1983,
          1984,
          1985,
          1986,
          1987,
          1988,
          1989,
          1990,
          1991,
          1992,
          1993,
          1994,
          1995,
          1996,
          1997,
          1998,
          1999,
          2000,
          2001,
          2002,
          2003,
          2004,
          2005,
          2006,
          2007,
          2008,
          2009,
          2010,
          2011,
          2012,
          2013,
          2014,
          2015,
          2016,
          2017,
          2018,
          2019,
          2020
         ],
         "xaxis": "x",
         "y": [
          0.8868960000000005,
          0.9385915492957748,
          0.9572467913513516,
          0.940199860169493,
          0.9626070503597138,
          0.660817216981134,
          0.9361794552845558,
          0.9386165035685952,
          0.6014265861344558,
          0.936714937370057,
          0.8330399585921336,
          0.9357705179282878,
          0.899897909117222,
          0.8911487501730107,
          0.7783855599472987,
          0.7723120800000008,
          0.8654357853881286,
          0.9192803908646014,
          0.9087381000000004,
          0.8476440499999951,
          0.8957376562500025,
          0.8529343703923857,
          0.9027523185915528,
          0.9076531914893636,
          0.7096568630000005,
          0.9199445823665852,
          0.9139650224242392,
          0.9221549999999956,
          0.9075328949999956,
          0.8539413005999965,
          0.9022971956499974,
          0.8743009244999965,
          0.8909223502564074,
          0.8650197272999992,
          0.8405510069999986,
          0.8230569899999975,
          0.7928023589743608,
          0.7796118650000005,
          0.7793927897435907,
          0.7671814843243259,
          0.7519038684210535,
          0.720607806842106,
          0.7227048300000004,
          0.6941005307692291,
          0.6099113295384619,
          0.5248094599699997,
          0.5296103243521767,
          0.4937702403500001,
          0.4488463039999994,
          0.4600571139500007,
          0.4583362981000009,
          0.4600428051999994,
          0.4165241889999992,
          0.4472074226000001,
          0.4337738871950005,
          0.3614706321099993,
          0.3393025333750004,
          0.3289685734499993,
          0.29593224063,
          0.284955397635897,
          0.3012042267400006,
          0.2895800382050001,
          0.2947778916300001,
          0.2877095803450008,
          0.2965709032099995,
          0.2850806564249999,
          0.3116640663948722,
          0.322009946512821,
          0.3133512518150009,
          0.3328699505850001,
          0.3327652916307699,
          0.3208087638250009,
          0.3090685537400004,
          0.3062343630899999,
          0.3025118061200004,
          0.3010268798000006,
          0.3067156934549995,
          0.2914894615700001,
          0.2715901110661201,
          0.2893227005163599,
          0.2868424748428934,
          0.282624289885001,
          0.2564705181729783,
          0.2805589466225845,
          0.2557635068666665,
          0.2799863520256408,
          0.2540809575538463,
          0.2491917627212275,
          0.261928619096939,
          0.2426866435515872,
          0.2731826625185919,
          0.2499530443804624,
          0.2574880859564779,
          0.249312645880299,
          0.2539522577102332,
          0.2841710299554814,
          0.2860990665261043,
          0.2676329907750836,
          0.2782985863365824,
          0.2199308880935964
         ],
         "yaxis": "y"
        },
        {
         "hovertemplate": "variable=danceability<br>year=%{x}<br>value=%{y}<extra></extra>",
         "legendgroup": "danceability",
         "line": {
          "color": "#EF553B",
          "dash": "solid"
         },
         "marker": {
          "symbol": "circle"
         },
         "mode": "lines",
         "name": "danceability",
         "orientation": "v",
         "showlegend": true,
         "type": "scatter",
         "x": [
          1921,
          1922,
          1923,
          1924,
          1925,
          1926,
          1927,
          1928,
          1929,
          1930,
          1931,
          1932,
          1933,
          1934,
          1935,
          1936,
          1937,
          1938,
          1939,
          1940,
          1941,
          1942,
          1943,
          1944,
          1945,
          1946,
          1947,
          1948,
          1949,
          1950,
          1951,
          1952,
          1953,
          1954,
          1955,
          1956,
          1957,
          1958,
          1959,
          1960,
          1961,
          1962,
          1963,
          1964,
          1965,
          1966,
          1967,
          1968,
          1969,
          1970,
          1971,
          1972,
          1973,
          1974,
          1975,
          1976,
          1977,
          1978,
          1979,
          1980,
          1981,
          1982,
          1983,
          1984,
          1985,
          1986,
          1987,
          1988,
          1989,
          1990,
          1991,
          1992,
          1993,
          1994,
          1995,
          1996,
          1997,
          1998,
          1999,
          2000,
          2001,
          2002,
          2003,
          2004,
          2005,
          2006,
          2007,
          2008,
          2009,
          2010,
          2011,
          2012,
          2013,
          2014,
          2015,
          2016,
          2017,
          2018,
          2019,
          2020
         ],
         "xaxis": "x",
         "y": [
          0.4185973333333336,
          0.4820422535211267,
          0.5773405405405401,
          0.5498940677966102,
          0.5738633093525181,
          0.5998802612481859,
          0.6482682926829262,
          0.5342878667724027,
          0.6476698529411761,
          0.5181758835758836,
          0.5952217391304357,
          0.5577976095617526,
          0.57029030390738,
          0.528705882352941,
          0.5558691699604746,
          0.5580055454545453,
          0.5421572298325723,
          0.479977977161501,
          0.5126828,
          0.52189235,
          0.4804813541666676,
          0.4646338882282997,
          0.4551456338028168,
          0.5001744680851068,
          0.5191431500000011,
          0.4144450116009276,
          0.4713208484848491,
          0.4633694736842109,
          0.4421993999999996,
          0.5042531000000008,
          0.4624800999999999,
          0.4570322000000001,
          0.4374260512820513,
          0.4656388999999994,
          0.4881312,
          0.4878145000000007,
          0.5034812307692305,
          0.4800213999999995,
          0.4821143076923083,
          0.4860292432432435,
          0.4891655789473678,
          0.4931643684210523,
          0.48162135,
          0.5041769743589742,
          0.5034505641025638,
          0.5070204999999981,
          0.4926885942971483,
          0.5010080999999997,
          0.4880977999999999,
          0.5063075000000004,
          0.5042738499999999,
          0.5209994499999997,
          0.5154494500000005,
          0.51533975,
          0.5209980000000007,
          0.5297624999999999,
          0.5333237000000017,
          0.5407746000000005,
          0.5620453000000001,
          0.5561523589743594,
          0.5421846999999999,
          0.5642594000000005,
          0.5456292999999998,
          0.5303089499999987,
          0.5556424000000012,
          0.5409334000000001,
          0.5410193333333342,
          0.5404594358974372,
          0.5472274499999988,
          0.5352986500000001,
          0.5558243589743591,
          0.5550648499999989,
          0.5698781500000001,
          0.5528299500000016,
          0.5590457500000001,
          0.5878306000000001,
          0.5768138499999994,
          0.5862116499999998,
          0.5821579190158892,
          0.590918047034764,
          0.5833178553615969,
          0.5761602999999997,
          0.5757633060388944,
          0.5676803662258397,
          0.5722805641025652,
          0.5682301538461539,
          0.5634143589743592,
          0.5791928388746803,
          0.5641903571428577,
          0.5724883432539687,
          0.5528669806643526,
          0.5708818508997433,
          0.5711480263157896,
          0.5899476807980057,
          0.5937740628166152,
          0.6002023928770179,
          0.6122170180722886,
          0.6635004755111744,
          0.6448141097998967,
          0.6929043349753701
         ],
         "yaxis": "y"
        },
        {
         "hovertemplate": "variable=energy<br>year=%{x}<br>value=%{y}<extra></extra>",
         "legendgroup": "energy",
         "line": {
          "color": "#00cc96",
          "dash": "solid"
         },
         "marker": {
          "symbol": "circle"
         },
         "mode": "lines",
         "name": "energy",
         "orientation": "v",
         "showlegend": true,
         "type": "scatter",
         "x": [
          1921,
          1922,
          1923,
          1924,
          1925,
          1926,
          1927,
          1928,
          1929,
          1930,
          1931,
          1932,
          1933,
          1934,
          1935,
          1936,
          1937,
          1938,
          1939,
          1940,
          1941,
          1942,
          1943,
          1944,
          1945,
          1946,
          1947,
          1948,
          1949,
          1950,
          1951,
          1952,
          1953,
          1954,
          1955,
          1956,
          1957,
          1958,
          1959,
          1960,
          1961,
          1962,
          1963,
          1964,
          1965,
          1966,
          1967,
          1968,
          1969,
          1970,
          1971,
          1972,
          1973,
          1974,
          1975,
          1976,
          1977,
          1978,
          1979,
          1980,
          1981,
          1982,
          1983,
          1984,
          1985,
          1986,
          1987,
          1988,
          1989,
          1990,
          1991,
          1992,
          1993,
          1994,
          1995,
          1996,
          1997,
          1998,
          1999,
          2000,
          2001,
          2002,
          2003,
          2004,
          2005,
          2006,
          2007,
          2008,
          2009,
          2010,
          2011,
          2012,
          2013,
          2014,
          2015,
          2016,
          2017,
          2018,
          2019,
          2020
         ],
         "xaxis": "x",
         "y": [
          0.2318151333333333,
          0.2378153521126759,
          0.2624064864864865,
          0.3443466101694912,
          0.2785935251798561,
          0.2114670907111756,
          0.2643213008130081,
          0.2079477954004757,
          0.2418007352941172,
          0.3335239189189189,
          0.2344967732919257,
          0.3020677290836656,
          0.2798994211287988,
          0.2621313148788928,
          0.2463669762845848,
          0.3083886092727274,
          0.3110482952815827,
          0.2809812398042416,
          0.2826715000000002,
          0.3108928949999999,
          0.2656431979166666,
          0.2560794708680144,
          0.2799900422535211,
          0.2534414494680852,
          0.2260444155,
          0.2221723085846866,
          0.2635512000000002,
          0.242464841052632,
          0.2461146149999996,
          0.3140711950000003,
          0.254665655,
          0.2536260100000002,
          0.2661968307692306,
          0.264347385,
          0.2950963400000001,
          0.3047611200000001,
          0.2952791333333324,
          0.3087957550000006,
          0.3109944051282049,
          0.3411423783783781,
          0.3395318673684203,
          0.3710257,
          0.3653538849999999,
          0.394438825641026,
          0.4490272461538461,
          0.482208465,
          0.4468238319159585,
          0.4569696500000004,
          0.4876251299999994,
          0.495633050000001,
          0.4963612550000003,
          0.5045261799999999,
          0.5361382499999989,
          0.5147236550000011,
          0.5232085050000003,
          0.5538432500000001,
          0.560287959000001,
          0.5614288650000007,
          0.5910127149999996,
          0.5977773948717964,
          0.5993827249999998,
          0.5909193894999996,
          0.6014252350000012,
          0.5910916750000013,
          0.6015154800000013,
          0.6149545999999998,
          0.5798395538461533,
          0.5856792461538458,
          0.584046375000001,
          0.5715913950000007,
          0.5594023641025635,
          0.5828642050000001,
          0.5625599100000002,
          0.578772685000001,
          0.5785795100000009,
          0.5860684750000011,
          0.5986987151000001,
          0.6051975050000015,
          0.6375226022552535,
          0.6254128323108387,
          0.6269855221945144,
          0.6412697960000012,
          0.6601652610030712,
          0.6488679450661226,
          0.653208511282051,
          0.6503262820512825,
          0.6683047743589737,
          0.6714608207672623,
          0.6707487551020408,
          0.6817778026289684,
          0.6483008934060499,
          0.6565714601542408,
          0.6455968914473688,
          0.6487954437905223,
          0.6270642715298895,
          0.5928552316082347,
          0.5904210208835337,
          0.6024346220161672,
          0.5932240360184717,
          0.6312316354679793
         ],
         "yaxis": "y"
        },
        {
         "hovertemplate": "variable=instrumentalness<br>year=%{x}<br>value=%{y}<extra></extra>",
         "legendgroup": "instrumentalness",
         "line": {
          "color": "#ab63fa",
          "dash": "solid"
         },
         "marker": {
          "symbol": "circle"
         },
         "mode": "lines",
         "name": "instrumentalness",
         "orientation": "v",
         "showlegend": true,
         "type": "scatter",
         "x": [
          1921,
          1922,
          1923,
          1924,
          1925,
          1926,
          1927,
          1928,
          1929,
          1930,
          1931,
          1932,
          1933,
          1934,
          1935,
          1936,
          1937,
          1938,
          1939,
          1940,
          1941,
          1942,
          1943,
          1944,
          1945,
          1946,
          1947,
          1948,
          1949,
          1950,
          1951,
          1952,
          1953,
          1954,
          1955,
          1956,
          1957,
          1958,
          1959,
          1960,
          1961,
          1962,
          1963,
          1964,
          1965,
          1966,
          1967,
          1968,
          1969,
          1970,
          1971,
          1972,
          1973,
          1974,
          1975,
          1976,
          1977,
          1978,
          1979,
          1980,
          1981,
          1982,
          1983,
          1984,
          1985,
          1986,
          1987,
          1988,
          1989,
          1990,
          1991,
          1992,
          1993,
          1994,
          1995,
          1996,
          1997,
          1998,
          1999,
          2000,
          2001,
          2002,
          2003,
          2004,
          2005,
          2006,
          2007,
          2008,
          2009,
          2010,
          2011,
          2012,
          2013,
          2014,
          2015,
          2016,
          2017,
          2018,
          2019,
          2020
         ],
         "xaxis": "x",
         "y": [
          0.3448780588666665,
          0.4341948697183099,
          0.371732725027027,
          0.5817009136440677,
          0.4182973612230215,
          0.3330931111175616,
          0.3913284986504065,
          0.4948354801348136,
          0.2152040310609246,
          0.3522059281652805,
          0.2214196416149072,
          0.2263565791633467,
          0.1839489396816208,
          0.276382266643599,
          0.2258732980895915,
          0.2571099957181816,
          0.3270876216438359,
          0.3784246349265906,
          0.2776824694100001,
          0.3168486998649998,
          0.4449516393124999,
          0.392882047871581,
          0.4098969234647892,
          0.4492919654122334,
          0.2758942570149996,
          0.4861264096461711,
          0.3475934179090908,
          0.3554848223842104,
          0.2977615361899994,
          0.245000820015,
          0.3084378555850002,
          0.2884126469300002,
          0.3183223943230766,
          0.2974400082799999,
          0.2166044216900002,
          0.2387634177800001,
          0.1945206161692309,
          0.1812411100599998,
          0.1881481940615383,
          0.1765021594216216,
          0.2646232531421054,
          0.1714715509421054,
          0.18543231468,
          0.1595978017794872,
          0.1183659460923078,
          0.1151259555649999,
          0.1189468546723362,
          0.112776949285,
          0.1594527081650001,
          0.1275670030849998,
          0.12501788923,
          0.1148803337599997,
          0.0996802232299999,
          0.11636098351,
          0.1113220337449999,
          0.12162904398,
          0.1277210319449999,
          0.1003812145099999,
          0.1157513720150001,
          0.1287510612717948,
          0.1468379466199998,
          0.100016383,
          0.1454105232900004,
          0.1451730397350004,
          0.1137385580749998,
          0.1099408543649999,
          0.1019745174666666,
          0.117190380220513,
          0.1131825446149999,
          0.1258262680949997,
          0.1150923397999999,
          0.1006900830649998,
          0.11529396538,
          0.1118857599499999,
          0.1232687960699999,
          0.0950528120350001,
          0.1046901786199999,
          0.1113257503499999,
          0.0940681410661199,
          0.1011677687934559,
          0.1072140189925186,
          0.0880483503149999,
          0.0830492746673491,
          0.0779340349084435,
          0.0901943611846154,
          0.0777014718769231,
          0.0729572680512819,
          0.0636620903171356,
          0.0758720736836735,
          0.0829805682192461,
          0.103772332166584,
          0.0852055206786631,
          0.0983650539170038,
          0.0765695548379051,
          0.1067868780547114,
          0.0939843871174179,
          0.0970906090662649,
          0.0542171216690441,
          0.0776402469728064,
          0.0163755243054187
         ],
         "yaxis": "y"
        },
        {
         "hovertemplate": "variable=liveness<br>year=%{x}<br>value=%{y}<extra></extra>",
         "legendgroup": "liveness",
         "line": {
          "color": "#FFA15A",
          "dash": "solid"
         },
         "marker": {
          "symbol": "circle"
         },
         "mode": "lines",
         "name": "liveness",
         "orientation": "v",
         "showlegend": true,
         "type": "scatter",
         "x": [
          1921,
          1922,
          1923,
          1924,
          1925,
          1926,
          1927,
          1928,
          1929,
          1930,
          1931,
          1932,
          1933,
          1934,
          1935,
          1936,
          1937,
          1938,
          1939,
          1940,
          1941,
          1942,
          1943,
          1944,
          1945,
          1946,
          1947,
          1948,
          1949,
          1950,
          1951,
          1952,
          1953,
          1954,
          1955,
          1956,
          1957,
          1958,
          1959,
          1960,
          1961,
          1962,
          1963,
          1964,
          1965,
          1966,
          1967,
          1968,
          1969,
          1970,
          1971,
          1972,
          1973,
          1974,
          1975,
          1976,
          1977,
          1978,
          1979,
          1980,
          1981,
          1982,
          1983,
          1984,
          1985,
          1986,
          1987,
          1988,
          1989,
          1990,
          1991,
          1992,
          1993,
          1994,
          1995,
          1996,
          1997,
          1998,
          1999,
          2000,
          2001,
          2002,
          2003,
          2004,
          2005,
          2006,
          2007,
          2008,
          2009,
          2010,
          2011,
          2012,
          2013,
          2014,
          2015,
          2016,
          2017,
          2018,
          2019,
          2020
         ],
         "xaxis": "x",
         "y": [
          0.20571,
          0.2407197183098592,
          0.2274621621621621,
          0.2352190677966101,
          0.2376679856115108,
          0.2323695936139332,
          0.1684502439024389,
          0.1752893735130848,
          0.2360002100840333,
          0.2213108627858629,
          0.2274279503105589,
          0.2324962151394422,
          0.2090719247467437,
          0.2134525951557092,
          0.2292998682476943,
          0.2214382727272726,
          0.2259677321156773,
          0.237111092985318,
          0.2391015999999999,
          0.2643351000000004,
          0.2018398958333331,
          0.2128784185493456,
          0.2392107042253524,
          0.2387719414893616,
          0.2030099500000001,
          0.2108183294663576,
          0.2238293939393936,
          0.2196935789473678,
          0.2088585500000004,
          0.2169584000000004,
          0.2177773999999999,
          0.2329722999999998,
          0.221734051282051,
          0.2178411499999996,
          0.2214353500000001,
          0.1822571500000002,
          0.1827485641025636,
          0.2058408500000003,
          0.1918429230769232,
          0.2078637297297298,
          0.2089125789473681,
          0.2018957368421054,
          0.2037453000000002,
          0.2172323589743596,
          0.2138391282051284,
          0.2180930999999999,
          0.190917658829415,
          0.2173509500000005,
          0.2069658999999999,
          0.2122688000000002,
          0.2149145500000001,
          0.2069549500000001,
          0.2013747499999997,
          0.2093463499999996,
          0.2154413500000002,
          0.2490321999999999,
          0.2232140500000004,
          0.2180709499999994,
          0.2134431000000002,
          0.2037541025641026,
          0.2250998999999999,
          0.20100675,
          0.1989224500000002,
          0.1977062,
          0.1992064499999998,
          0.2118794500000001,
          0.202018102564103,
          0.207707538461538,
          0.1990802,
          0.1909609,
          0.1886289230769235,
          0.2002455000000007,
          0.1949322500000003,
          0.1921651000000001,
          0.2013737000000004,
          0.1986863000000002,
          0.1984788000000003,
          0.1937308999999996,
          0.206308047155305,
          0.1976860429447853,
          0.1870256359102248,
          0.1939111999999998,
          0.196976305015353,
          0.2021994404883014,
          0.1900816256410258,
          0.1882892820512821,
          0.1961265641025642,
          0.1984314066496162,
          0.2052522959183674,
          0.1997006448412699,
          0.2033088249876056,
          0.1897330077120824,
          0.1996308198380571,
          0.1918215960099752,
          0.1888564336372847,
          0.181169894268225,
          0.1917126004016064,
          0.1763255349500711,
          0.1726164186762446,
          0.1785354187192117
         ],
         "yaxis": "y"
        },
        {
         "hovertemplate": "variable=valence<br>year=%{x}<br>value=%{y}<extra></extra>",
         "legendgroup": "valence",
         "line": {
          "color": "#19d3f3",
          "dash": "solid"
         },
         "marker": {
          "symbol": "circle"
         },
         "mode": "lines",
         "name": "valence",
         "orientation": "v",
         "showlegend": true,
         "type": "scatter",
         "x": [
          1921,
          1922,
          1923,
          1924,
          1925,
          1926,
          1927,
          1928,
          1929,
          1930,
          1931,
          1932,
          1933,
          1934,
          1935,
          1936,
          1937,
          1938,
          1939,
          1940,
          1941,
          1942,
          1943,
          1944,
          1945,
          1946,
          1947,
          1948,
          1949,
          1950,
          1951,
          1952,
          1953,
          1954,
          1955,
          1956,
          1957,
          1958,
          1959,
          1960,
          1961,
          1962,
          1963,
          1964,
          1965,
          1966,
          1967,
          1968,
          1969,
          1970,
          1971,
          1972,
          1973,
          1974,
          1975,
          1976,
          1977,
          1978,
          1979,
          1980,
          1981,
          1982,
          1983,
          1984,
          1985,
          1986,
          1987,
          1988,
          1989,
          1990,
          1991,
          1992,
          1993,
          1994,
          1995,
          1996,
          1997,
          1998,
          1999,
          2000,
          2001,
          2002,
          2003,
          2004,
          2005,
          2006,
          2007,
          2008,
          2009,
          2010,
          2011,
          2012,
          2013,
          2014,
          2015,
          2016,
          2017,
          2018,
          2019,
          2020
         ],
         "xaxis": "x",
         "y": [
          0.3793266666666666,
          0.5355492957746479,
          0.6254924324324328,
          0.6637254237288139,
          0.6219287769784171,
          0.4369104571843251,
          0.6597004878048782,
          0.4957126883425853,
          0.6365298319327733,
          0.6162376299376306,
          0.5131170807453418,
          0.5881599601593626,
          0.5994099855282197,
          0.5588046712802772,
          0.5455777997364957,
          0.5640635454545455,
          0.5857894977168944,
          0.5149111092985317,
          0.5599248999999992,
          0.6167094700000009,
          0.4794560416666661,
          0.4774088585017848,
          0.4954545070422531,
          0.5406954787234041,
          0.4913613500000002,
          0.3982538283062647,
          0.5082125454545455,
          0.4621423684210526,
          0.4304195000000001,
          0.5516497000000001,
          0.44134755,
          0.4431349620499994,
          0.4291420512820513,
          0.4523410500000002,
          0.4724154999999997,
          0.5084230500000003,
          0.5110101538461542,
          0.4976614999999994,
          0.4784156410256422,
          0.5239316756756759,
          0.5128512105263155,
          0.5477920526315792,
          0.5415274500000008,
          0.55726042051282,
          0.5809506666666668,
          0.5801445499999996,
          0.5507916958479243,
          0.5659936500000002,
          0.5547452849999999,
          0.5720753999999992,
          0.5749132500000002,
          0.5956881500000009,
          0.5921162000000004,
          0.5812744000000009,
          0.5694151500000002,
          0.5807332499999998,
          0.58524655,
          0.5895352500000014,
          0.6099818000000005,
          0.5980580512820513,
          0.5829518500000006,
          0.5864384500000001,
          0.5721198999999989,
          0.5516387100000003,
          0.5655964500000001,
          0.5509485500000019,
          0.5414511794871785,
          0.5464853897435901,
          0.5483329000000007,
          0.5265268499999999,
          0.5486552307692295,
          0.5590983000000014,
          0.5555684500000001,
          0.5266491500000006,
          0.5302466999999994,
          0.5608732500000001,
          0.5485525000000002,
          0.5377209,
          0.5564528446950284,
          0.5594754601226991,
          0.541479107231919,
          0.5423971500000008,
          0.5305042476970324,
          0.5244885554425227,
          0.5325309230769236,
          0.5200283076923078,
          0.5167938461538473,
          0.5275418925831203,
          0.5071696617346935,
          0.5208951587301589,
          0.4724536787307882,
          0.4627090128534706,
          0.4547411943319834,
          0.4630487780548628,
          0.4320983687943254,
          0.4315320589872012,
          0.4164763112449793,
          0.4479212743699474,
          0.4588176295536167,
          0.5010478078817729
         ],
         "yaxis": "y"
        }
       ],
       "layout": {
        "legend": {
         "title": {
          "text": "variable"
         },
         "tracegroupgap": 0
        },
        "margin": {
         "t": 60
        },
        "template": {
         "data": {
          "bar": [
           {
            "error_x": {
             "color": "#2a3f5f"
            },
            "error_y": {
             "color": "#2a3f5f"
            },
            "marker": {
             "line": {
              "color": "#E5ECF6",
              "width": 0.5
             },
             "pattern": {
              "fillmode": "overlay",
              "size": 10,
              "solidity": 0.2
             }
            },
            "type": "bar"
           }
          ],
          "barpolar": [
           {
            "marker": {
             "line": {
              "color": "#E5ECF6",
              "width": 0.5
             },
             "pattern": {
              "fillmode": "overlay",
              "size": 10,
              "solidity": 0.2
             }
            },
            "type": "barpolar"
           }
          ],
          "carpet": [
           {
            "aaxis": {
             "endlinecolor": "#2a3f5f",
             "gridcolor": "white",
             "linecolor": "white",
             "minorgridcolor": "white",
             "startlinecolor": "#2a3f5f"
            },
            "baxis": {
             "endlinecolor": "#2a3f5f",
             "gridcolor": "white",
             "linecolor": "white",
             "minorgridcolor": "white",
             "startlinecolor": "#2a3f5f"
            },
            "type": "carpet"
           }
          ],
          "choropleth": [
           {
            "colorbar": {
             "outlinewidth": 0,
             "ticks": ""
            },
            "type": "choropleth"
           }
          ],
          "contour": [
           {
            "colorbar": {
             "outlinewidth": 0,
             "ticks": ""
            },
            "colorscale": [
             [
              0,
              "#0d0887"
             ],
             [
              0.1111111111111111,
              "#46039f"
             ],
             [
              0.2222222222222222,
              "#7201a8"
             ],
             [
              0.3333333333333333,
              "#9c179e"
             ],
             [
              0.4444444444444444,
              "#bd3786"
             ],
             [
              0.5555555555555556,
              "#d8576b"
             ],
             [
              0.6666666666666666,
              "#ed7953"
             ],
             [
              0.7777777777777778,
              "#fb9f3a"
             ],
             [
              0.8888888888888888,
              "#fdca26"
             ],
             [
              1,
              "#f0f921"
             ]
            ],
            "type": "contour"
           }
          ],
          "contourcarpet": [
           {
            "colorbar": {
             "outlinewidth": 0,
             "ticks": ""
            },
            "type": "contourcarpet"
           }
          ],
          "heatmap": [
           {
            "colorbar": {
             "outlinewidth": 0,
             "ticks": ""
            },
            "colorscale": [
             [
              0,
              "#0d0887"
             ],
             [
              0.1111111111111111,
              "#46039f"
             ],
             [
              0.2222222222222222,
              "#7201a8"
             ],
             [
              0.3333333333333333,
              "#9c179e"
             ],
             [
              0.4444444444444444,
              "#bd3786"
             ],
             [
              0.5555555555555556,
              "#d8576b"
             ],
             [
              0.6666666666666666,
              "#ed7953"
             ],
             [
              0.7777777777777778,
              "#fb9f3a"
             ],
             [
              0.8888888888888888,
              "#fdca26"
             ],
             [
              1,
              "#f0f921"
             ]
            ],
            "type": "heatmap"
           }
          ],
          "heatmapgl": [
           {
            "colorbar": {
             "outlinewidth": 0,
             "ticks": ""
            },
            "colorscale": [
             [
              0,
              "#0d0887"
             ],
             [
              0.1111111111111111,
              "#46039f"
             ],
             [
              0.2222222222222222,
              "#7201a8"
             ],
             [
              0.3333333333333333,
              "#9c179e"
             ],
             [
              0.4444444444444444,
              "#bd3786"
             ],
             [
              0.5555555555555556,
              "#d8576b"
             ],
             [
              0.6666666666666666,
              "#ed7953"
             ],
             [
              0.7777777777777778,
              "#fb9f3a"
             ],
             [
              0.8888888888888888,
              "#fdca26"
             ],
             [
              1,
              "#f0f921"
             ]
            ],
            "type": "heatmapgl"
           }
          ],
          "histogram": [
           {
            "marker": {
             "pattern": {
              "fillmode": "overlay",
              "size": 10,
              "solidity": 0.2
             }
            },
            "type": "histogram"
           }
          ],
          "histogram2d": [
           {
            "colorbar": {
             "outlinewidth": 0,
             "ticks": ""
            },
            "colorscale": [
             [
              0,
              "#0d0887"
             ],
             [
              0.1111111111111111,
              "#46039f"
             ],
             [
              0.2222222222222222,
              "#7201a8"
             ],
             [
              0.3333333333333333,
              "#9c179e"
             ],
             [
              0.4444444444444444,
              "#bd3786"
             ],
             [
              0.5555555555555556,
              "#d8576b"
             ],
             [
              0.6666666666666666,
              "#ed7953"
             ],
             [
              0.7777777777777778,
              "#fb9f3a"
             ],
             [
              0.8888888888888888,
              "#fdca26"
             ],
             [
              1,
              "#f0f921"
             ]
            ],
            "type": "histogram2d"
           }
          ],
          "histogram2dcontour": [
           {
            "colorbar": {
             "outlinewidth": 0,
             "ticks": ""
            },
            "colorscale": [
             [
              0,
              "#0d0887"
             ],
             [
              0.1111111111111111,
              "#46039f"
             ],
             [
              0.2222222222222222,
              "#7201a8"
             ],
             [
              0.3333333333333333,
              "#9c179e"
             ],
             [
              0.4444444444444444,
              "#bd3786"
             ],
             [
              0.5555555555555556,
              "#d8576b"
             ],
             [
              0.6666666666666666,
              "#ed7953"
             ],
             [
              0.7777777777777778,
              "#fb9f3a"
             ],
             [
              0.8888888888888888,
              "#fdca26"
             ],
             [
              1,
              "#f0f921"
             ]
            ],
            "type": "histogram2dcontour"
           }
          ],
          "mesh3d": [
           {
            "colorbar": {
             "outlinewidth": 0,
             "ticks": ""
            },
            "type": "mesh3d"
           }
          ],
          "parcoords": [
           {
            "line": {
             "colorbar": {
              "outlinewidth": 0,
              "ticks": ""
             }
            },
            "type": "parcoords"
           }
          ],
          "pie": [
           {
            "automargin": true,
            "type": "pie"
           }
          ],
          "scatter": [
           {
            "marker": {
             "colorbar": {
              "outlinewidth": 0,
              "ticks": ""
             }
            },
            "type": "scatter"
           }
          ],
          "scatter3d": [
           {
            "line": {
             "colorbar": {
              "outlinewidth": 0,
              "ticks": ""
             }
            },
            "marker": {
             "colorbar": {
              "outlinewidth": 0,
              "ticks": ""
             }
            },
            "type": "scatter3d"
           }
          ],
          "scattercarpet": [
           {
            "marker": {
             "colorbar": {
              "outlinewidth": 0,
              "ticks": ""
             }
            },
            "type": "scattercarpet"
           }
          ],
          "scattergeo": [
           {
            "marker": {
             "colorbar": {
              "outlinewidth": 0,
              "ticks": ""
             }
            },
            "type": "scattergeo"
           }
          ],
          "scattergl": [
           {
            "marker": {
             "colorbar": {
              "outlinewidth": 0,
              "ticks": ""
             }
            },
            "type": "scattergl"
           }
          ],
          "scattermapbox": [
           {
            "marker": {
             "colorbar": {
              "outlinewidth": 0,
              "ticks": ""
             }
            },
            "type": "scattermapbox"
           }
          ],
          "scatterpolar": [
           {
            "marker": {
             "colorbar": {
              "outlinewidth": 0,
              "ticks": ""
             }
            },
            "type": "scatterpolar"
           }
          ],
          "scatterpolargl": [
           {
            "marker": {
             "colorbar": {
              "outlinewidth": 0,
              "ticks": ""
             }
            },
            "type": "scatterpolargl"
           }
          ],
          "scatterternary": [
           {
            "marker": {
             "colorbar": {
              "outlinewidth": 0,
              "ticks": ""
             }
            },
            "type": "scatterternary"
           }
          ],
          "surface": [
           {
            "colorbar": {
             "outlinewidth": 0,
             "ticks": ""
            },
            "colorscale": [
             [
              0,
              "#0d0887"
             ],
             [
              0.1111111111111111,
              "#46039f"
             ],
             [
              0.2222222222222222,
              "#7201a8"
             ],
             [
              0.3333333333333333,
              "#9c179e"
             ],
             [
              0.4444444444444444,
              "#bd3786"
             ],
             [
              0.5555555555555556,
              "#d8576b"
             ],
             [
              0.6666666666666666,
              "#ed7953"
             ],
             [
              0.7777777777777778,
              "#fb9f3a"
             ],
             [
              0.8888888888888888,
              "#fdca26"
             ],
             [
              1,
              "#f0f921"
             ]
            ],
            "type": "surface"
           }
          ],
          "table": [
           {
            "cells": {
             "fill": {
              "color": "#EBF0F8"
             },
             "line": {
              "color": "white"
             }
            },
            "header": {
             "fill": {
              "color": "#C8D4E3"
             },
             "line": {
              "color": "white"
             }
            },
            "type": "table"
           }
          ]
         },
         "layout": {
          "annotationdefaults": {
           "arrowcolor": "#2a3f5f",
           "arrowhead": 0,
           "arrowwidth": 1
          },
          "autotypenumbers": "strict",
          "coloraxis": {
           "colorbar": {
            "outlinewidth": 0,
            "ticks": ""
           }
          },
          "colorscale": {
           "diverging": [
            [
             0,
             "#8e0152"
            ],
            [
             0.1,
             "#c51b7d"
            ],
            [
             0.2,
             "#de77ae"
            ],
            [
             0.3,
             "#f1b6da"
            ],
            [
             0.4,
             "#fde0ef"
            ],
            [
             0.5,
             "#f7f7f7"
            ],
            [
             0.6,
             "#e6f5d0"
            ],
            [
             0.7,
             "#b8e186"
            ],
            [
             0.8,
             "#7fbc41"
            ],
            [
             0.9,
             "#4d9221"
            ],
            [
             1,
             "#276419"
            ]
           ],
           "sequential": [
            [
             0,
             "#0d0887"
            ],
            [
             0.1111111111111111,
             "#46039f"
            ],
            [
             0.2222222222222222,
             "#7201a8"
            ],
            [
             0.3333333333333333,
             "#9c179e"
            ],
            [
             0.4444444444444444,
             "#bd3786"
            ],
            [
             0.5555555555555556,
             "#d8576b"
            ],
            [
             0.6666666666666666,
             "#ed7953"
            ],
            [
             0.7777777777777778,
             "#fb9f3a"
            ],
            [
             0.8888888888888888,
             "#fdca26"
            ],
            [
             1,
             "#f0f921"
            ]
           ],
           "sequentialminus": [
            [
             0,
             "#0d0887"
            ],
            [
             0.1111111111111111,
             "#46039f"
            ],
            [
             0.2222222222222222,
             "#7201a8"
            ],
            [
             0.3333333333333333,
             "#9c179e"
            ],
            [
             0.4444444444444444,
             "#bd3786"
            ],
            [
             0.5555555555555556,
             "#d8576b"
            ],
            [
             0.6666666666666666,
             "#ed7953"
            ],
            [
             0.7777777777777778,
             "#fb9f3a"
            ],
            [
             0.8888888888888888,
             "#fdca26"
            ],
            [
             1,
             "#f0f921"
            ]
           ]
          },
          "colorway": [
           "#636efa",
           "#EF553B",
           "#00cc96",
           "#ab63fa",
           "#FFA15A",
           "#19d3f3",
           "#FF6692",
           "#B6E880",
           "#FF97FF",
           "#FECB52"
          ],
          "font": {
           "color": "#2a3f5f"
          },
          "geo": {
           "bgcolor": "white",
           "lakecolor": "white",
           "landcolor": "#E5ECF6",
           "showlakes": true,
           "showland": true,
           "subunitcolor": "white"
          },
          "hoverlabel": {
           "align": "left"
          },
          "hovermode": "closest",
          "mapbox": {
           "style": "light"
          },
          "paper_bgcolor": "white",
          "plot_bgcolor": "#E5ECF6",
          "polar": {
           "angularaxis": {
            "gridcolor": "white",
            "linecolor": "white",
            "ticks": ""
           },
           "bgcolor": "#E5ECF6",
           "radialaxis": {
            "gridcolor": "white",
            "linecolor": "white",
            "ticks": ""
           }
          },
          "scene": {
           "xaxis": {
            "backgroundcolor": "#E5ECF6",
            "gridcolor": "white",
            "gridwidth": 2,
            "linecolor": "white",
            "showbackground": true,
            "ticks": "",
            "zerolinecolor": "white"
           },
           "yaxis": {
            "backgroundcolor": "#E5ECF6",
            "gridcolor": "white",
            "gridwidth": 2,
            "linecolor": "white",
            "showbackground": true,
            "ticks": "",
            "zerolinecolor": "white"
           },
           "zaxis": {
            "backgroundcolor": "#E5ECF6",
            "gridcolor": "white",
            "gridwidth": 2,
            "linecolor": "white",
            "showbackground": true,
            "ticks": "",
            "zerolinecolor": "white"
           }
          },
          "shapedefaults": {
           "line": {
            "color": "#2a3f5f"
           }
          },
          "ternary": {
           "aaxis": {
            "gridcolor": "white",
            "linecolor": "white",
            "ticks": ""
           },
           "baxis": {
            "gridcolor": "white",
            "linecolor": "white",
            "ticks": ""
           },
           "bgcolor": "#E5ECF6",
           "caxis": {
            "gridcolor": "white",
            "linecolor": "white",
            "ticks": ""
           }
          },
          "title": {
           "x": 0.05
          },
          "xaxis": {
           "automargin": true,
           "gridcolor": "white",
           "linecolor": "white",
           "ticks": "",
           "title": {
            "standoff": 15
           },
           "zerolinecolor": "white",
           "zerolinewidth": 2
          },
          "yaxis": {
           "automargin": true,
           "gridcolor": "white",
           "linecolor": "white",
           "ticks": "",
           "title": {
            "standoff": 15
           },
           "zerolinecolor": "white",
           "zerolinewidth": 2
          }
         }
        },
        "xaxis": {
         "anchor": "y",
         "domain": [
          0,
          1
         ],
         "title": {
          "text": "year"
         }
        },
        "yaxis": {
         "anchor": "x",
         "domain": [
          0,
          1
         ],
         "title": {
          "text": "value"
         }
        }
       }
      },
      "text/html": [
       "<div>                            <div id=\"41dd2e88-ef5d-4a81-91cd-a8f756bf0243\" class=\"plotly-graph-div\" style=\"height:525px; width:100%;\"></div>            <script type=\"text/javascript\">                require([\"plotly\"], function(Plotly) {                    window.PLOTLYENV=window.PLOTLYENV || {};                                    if (document.getElementById(\"41dd2e88-ef5d-4a81-91cd-a8f756bf0243\")) {                    Plotly.newPlot(                        \"41dd2e88-ef5d-4a81-91cd-a8f756bf0243\",                        [{\"hovertemplate\":\"variable=acousticness<br>year=%{x}<br>value=%{y}<extra></extra>\",\"legendgroup\":\"acousticness\",\"line\":{\"color\":\"#636efa\",\"dash\":\"solid\"},\"marker\":{\"symbol\":\"circle\"},\"mode\":\"lines\",\"name\":\"acousticness\",\"orientation\":\"v\",\"showlegend\":true,\"x\":[1921,1922,1923,1924,1925,1926,1927,1928,1929,1930,1931,1932,1933,1934,1935,1936,1937,1938,1939,1940,1941,1942,1943,1944,1945,1946,1947,1948,1949,1950,1951,1952,1953,1954,1955,1956,1957,1958,1959,1960,1961,1962,1963,1964,1965,1966,1967,1968,1969,1970,1971,1972,1973,1974,1975,1976,1977,1978,1979,1980,1981,1982,1983,1984,1985,1986,1987,1988,1989,1990,1991,1992,1993,1994,1995,1996,1997,1998,1999,2000,2001,2002,2003,2004,2005,2006,2007,2008,2009,2010,2011,2012,2013,2014,2015,2016,2017,2018,2019,2020],\"xaxis\":\"x\",\"y\":[0.8868960000000005,0.9385915492957748,0.9572467913513516,0.940199860169493,0.9626070503597138,0.660817216981134,0.9361794552845558,0.9386165035685952,0.6014265861344558,0.936714937370057,0.8330399585921336,0.9357705179282878,0.899897909117222,0.8911487501730107,0.7783855599472987,0.7723120800000008,0.8654357853881286,0.9192803908646014,0.9087381000000004,0.8476440499999951,0.8957376562500025,0.8529343703923857,0.9027523185915528,0.9076531914893636,0.7096568630000005,0.9199445823665852,0.9139650224242392,0.9221549999999956,0.9075328949999956,0.8539413005999965,0.9022971956499974,0.8743009244999965,0.8909223502564074,0.8650197272999992,0.8405510069999986,0.8230569899999975,0.7928023589743608,0.7796118650000005,0.7793927897435907,0.7671814843243259,0.7519038684210535,0.720607806842106,0.7227048300000004,0.6941005307692291,0.6099113295384619,0.5248094599699997,0.5296103243521767,0.4937702403500001,0.4488463039999994,0.4600571139500007,0.4583362981000009,0.4600428051999994,0.4165241889999992,0.4472074226000001,0.4337738871950005,0.3614706321099993,0.3393025333750004,0.3289685734499993,0.29593224063,0.284955397635897,0.3012042267400006,0.2895800382050001,0.2947778916300001,0.2877095803450008,0.2965709032099995,0.2850806564249999,0.3116640663948722,0.322009946512821,0.3133512518150009,0.3328699505850001,0.3327652916307699,0.3208087638250009,0.3090685537400004,0.3062343630899999,0.3025118061200004,0.3010268798000006,0.3067156934549995,0.2914894615700001,0.2715901110661201,0.2893227005163599,0.2868424748428934,0.282624289885001,0.2564705181729783,0.2805589466225845,0.2557635068666665,0.2799863520256408,0.2540809575538463,0.2491917627212275,0.261928619096939,0.2426866435515872,0.2731826625185919,0.2499530443804624,0.2574880859564779,0.249312645880299,0.2539522577102332,0.2841710299554814,0.2860990665261043,0.2676329907750836,0.2782985863365824,0.2199308880935964],\"yaxis\":\"y\",\"type\":\"scatter\"},{\"hovertemplate\":\"variable=danceability<br>year=%{x}<br>value=%{y}<extra></extra>\",\"legendgroup\":\"danceability\",\"line\":{\"color\":\"#EF553B\",\"dash\":\"solid\"},\"marker\":{\"symbol\":\"circle\"},\"mode\":\"lines\",\"name\":\"danceability\",\"orientation\":\"v\",\"showlegend\":true,\"x\":[1921,1922,1923,1924,1925,1926,1927,1928,1929,1930,1931,1932,1933,1934,1935,1936,1937,1938,1939,1940,1941,1942,1943,1944,1945,1946,1947,1948,1949,1950,1951,1952,1953,1954,1955,1956,1957,1958,1959,1960,1961,1962,1963,1964,1965,1966,1967,1968,1969,1970,1971,1972,1973,1974,1975,1976,1977,1978,1979,1980,1981,1982,1983,1984,1985,1986,1987,1988,1989,1990,1991,1992,1993,1994,1995,1996,1997,1998,1999,2000,2001,2002,2003,2004,2005,2006,2007,2008,2009,2010,2011,2012,2013,2014,2015,2016,2017,2018,2019,2020],\"xaxis\":\"x\",\"y\":[0.4185973333333336,0.4820422535211267,0.5773405405405401,0.5498940677966102,0.5738633093525181,0.5998802612481859,0.6482682926829262,0.5342878667724027,0.6476698529411761,0.5181758835758836,0.5952217391304357,0.5577976095617526,0.57029030390738,0.528705882352941,0.5558691699604746,0.5580055454545453,0.5421572298325723,0.479977977161501,0.5126828,0.52189235,0.4804813541666676,0.4646338882282997,0.4551456338028168,0.5001744680851068,0.5191431500000011,0.4144450116009276,0.4713208484848491,0.4633694736842109,0.4421993999999996,0.5042531000000008,0.4624800999999999,0.4570322000000001,0.4374260512820513,0.4656388999999994,0.4881312,0.4878145000000007,0.5034812307692305,0.4800213999999995,0.4821143076923083,0.4860292432432435,0.4891655789473678,0.4931643684210523,0.48162135,0.5041769743589742,0.5034505641025638,0.5070204999999981,0.4926885942971483,0.5010080999999997,0.4880977999999999,0.5063075000000004,0.5042738499999999,0.5209994499999997,0.5154494500000005,0.51533975,0.5209980000000007,0.5297624999999999,0.5333237000000017,0.5407746000000005,0.5620453000000001,0.5561523589743594,0.5421846999999999,0.5642594000000005,0.5456292999999998,0.5303089499999987,0.5556424000000012,0.5409334000000001,0.5410193333333342,0.5404594358974372,0.5472274499999988,0.5352986500000001,0.5558243589743591,0.5550648499999989,0.5698781500000001,0.5528299500000016,0.5590457500000001,0.5878306000000001,0.5768138499999994,0.5862116499999998,0.5821579190158892,0.590918047034764,0.5833178553615969,0.5761602999999997,0.5757633060388944,0.5676803662258397,0.5722805641025652,0.5682301538461539,0.5634143589743592,0.5791928388746803,0.5641903571428577,0.5724883432539687,0.5528669806643526,0.5708818508997433,0.5711480263157896,0.5899476807980057,0.5937740628166152,0.6002023928770179,0.6122170180722886,0.6635004755111744,0.6448141097998967,0.6929043349753701],\"yaxis\":\"y\",\"type\":\"scatter\"},{\"hovertemplate\":\"variable=energy<br>year=%{x}<br>value=%{y}<extra></extra>\",\"legendgroup\":\"energy\",\"line\":{\"color\":\"#00cc96\",\"dash\":\"solid\"},\"marker\":{\"symbol\":\"circle\"},\"mode\":\"lines\",\"name\":\"energy\",\"orientation\":\"v\",\"showlegend\":true,\"x\":[1921,1922,1923,1924,1925,1926,1927,1928,1929,1930,1931,1932,1933,1934,1935,1936,1937,1938,1939,1940,1941,1942,1943,1944,1945,1946,1947,1948,1949,1950,1951,1952,1953,1954,1955,1956,1957,1958,1959,1960,1961,1962,1963,1964,1965,1966,1967,1968,1969,1970,1971,1972,1973,1974,1975,1976,1977,1978,1979,1980,1981,1982,1983,1984,1985,1986,1987,1988,1989,1990,1991,1992,1993,1994,1995,1996,1997,1998,1999,2000,2001,2002,2003,2004,2005,2006,2007,2008,2009,2010,2011,2012,2013,2014,2015,2016,2017,2018,2019,2020],\"xaxis\":\"x\",\"y\":[0.2318151333333333,0.2378153521126759,0.2624064864864865,0.3443466101694912,0.2785935251798561,0.2114670907111756,0.2643213008130081,0.2079477954004757,0.2418007352941172,0.3335239189189189,0.2344967732919257,0.3020677290836656,0.2798994211287988,0.2621313148788928,0.2463669762845848,0.3083886092727274,0.3110482952815827,0.2809812398042416,0.2826715000000002,0.3108928949999999,0.2656431979166666,0.2560794708680144,0.2799900422535211,0.2534414494680852,0.2260444155,0.2221723085846866,0.2635512000000002,0.242464841052632,0.2461146149999996,0.3140711950000003,0.254665655,0.2536260100000002,0.2661968307692306,0.264347385,0.2950963400000001,0.3047611200000001,0.2952791333333324,0.3087957550000006,0.3109944051282049,0.3411423783783781,0.3395318673684203,0.3710257,0.3653538849999999,0.394438825641026,0.4490272461538461,0.482208465,0.4468238319159585,0.4569696500000004,0.4876251299999994,0.495633050000001,0.4963612550000003,0.5045261799999999,0.5361382499999989,0.5147236550000011,0.5232085050000003,0.5538432500000001,0.560287959000001,0.5614288650000007,0.5910127149999996,0.5977773948717964,0.5993827249999998,0.5909193894999996,0.6014252350000012,0.5910916750000013,0.6015154800000013,0.6149545999999998,0.5798395538461533,0.5856792461538458,0.584046375000001,0.5715913950000007,0.5594023641025635,0.5828642050000001,0.5625599100000002,0.578772685000001,0.5785795100000009,0.5860684750000011,0.5986987151000001,0.6051975050000015,0.6375226022552535,0.6254128323108387,0.6269855221945144,0.6412697960000012,0.6601652610030712,0.6488679450661226,0.653208511282051,0.6503262820512825,0.6683047743589737,0.6714608207672623,0.6707487551020408,0.6817778026289684,0.6483008934060499,0.6565714601542408,0.6455968914473688,0.6487954437905223,0.6270642715298895,0.5928552316082347,0.5904210208835337,0.6024346220161672,0.5932240360184717,0.6312316354679793],\"yaxis\":\"y\",\"type\":\"scatter\"},{\"hovertemplate\":\"variable=instrumentalness<br>year=%{x}<br>value=%{y}<extra></extra>\",\"legendgroup\":\"instrumentalness\",\"line\":{\"color\":\"#ab63fa\",\"dash\":\"solid\"},\"marker\":{\"symbol\":\"circle\"},\"mode\":\"lines\",\"name\":\"instrumentalness\",\"orientation\":\"v\",\"showlegend\":true,\"x\":[1921,1922,1923,1924,1925,1926,1927,1928,1929,1930,1931,1932,1933,1934,1935,1936,1937,1938,1939,1940,1941,1942,1943,1944,1945,1946,1947,1948,1949,1950,1951,1952,1953,1954,1955,1956,1957,1958,1959,1960,1961,1962,1963,1964,1965,1966,1967,1968,1969,1970,1971,1972,1973,1974,1975,1976,1977,1978,1979,1980,1981,1982,1983,1984,1985,1986,1987,1988,1989,1990,1991,1992,1993,1994,1995,1996,1997,1998,1999,2000,2001,2002,2003,2004,2005,2006,2007,2008,2009,2010,2011,2012,2013,2014,2015,2016,2017,2018,2019,2020],\"xaxis\":\"x\",\"y\":[0.3448780588666665,0.4341948697183099,0.371732725027027,0.5817009136440677,0.4182973612230215,0.3330931111175616,0.3913284986504065,0.4948354801348136,0.2152040310609246,0.3522059281652805,0.2214196416149072,0.2263565791633467,0.1839489396816208,0.276382266643599,0.2258732980895915,0.2571099957181816,0.3270876216438359,0.3784246349265906,0.2776824694100001,0.3168486998649998,0.4449516393124999,0.392882047871581,0.4098969234647892,0.4492919654122334,0.2758942570149996,0.4861264096461711,0.3475934179090908,0.3554848223842104,0.2977615361899994,0.245000820015,0.3084378555850002,0.2884126469300002,0.3183223943230766,0.2974400082799999,0.2166044216900002,0.2387634177800001,0.1945206161692309,0.1812411100599998,0.1881481940615383,0.1765021594216216,0.2646232531421054,0.1714715509421054,0.18543231468,0.1595978017794872,0.1183659460923078,0.1151259555649999,0.1189468546723362,0.112776949285,0.1594527081650001,0.1275670030849998,0.12501788923,0.1148803337599997,0.0996802232299999,0.11636098351,0.1113220337449999,0.12162904398,0.1277210319449999,0.1003812145099999,0.1157513720150001,0.1287510612717948,0.1468379466199998,0.100016383,0.1454105232900004,0.1451730397350004,0.1137385580749998,0.1099408543649999,0.1019745174666666,0.117190380220513,0.1131825446149999,0.1258262680949997,0.1150923397999999,0.1006900830649998,0.11529396538,0.1118857599499999,0.1232687960699999,0.0950528120350001,0.1046901786199999,0.1113257503499999,0.0940681410661199,0.1011677687934559,0.1072140189925186,0.0880483503149999,0.0830492746673491,0.0779340349084435,0.0901943611846154,0.0777014718769231,0.0729572680512819,0.0636620903171356,0.0758720736836735,0.0829805682192461,0.103772332166584,0.0852055206786631,0.0983650539170038,0.0765695548379051,0.1067868780547114,0.0939843871174179,0.0970906090662649,0.0542171216690441,0.0776402469728064,0.0163755243054187],\"yaxis\":\"y\",\"type\":\"scatter\"},{\"hovertemplate\":\"variable=liveness<br>year=%{x}<br>value=%{y}<extra></extra>\",\"legendgroup\":\"liveness\",\"line\":{\"color\":\"#FFA15A\",\"dash\":\"solid\"},\"marker\":{\"symbol\":\"circle\"},\"mode\":\"lines\",\"name\":\"liveness\",\"orientation\":\"v\",\"showlegend\":true,\"x\":[1921,1922,1923,1924,1925,1926,1927,1928,1929,1930,1931,1932,1933,1934,1935,1936,1937,1938,1939,1940,1941,1942,1943,1944,1945,1946,1947,1948,1949,1950,1951,1952,1953,1954,1955,1956,1957,1958,1959,1960,1961,1962,1963,1964,1965,1966,1967,1968,1969,1970,1971,1972,1973,1974,1975,1976,1977,1978,1979,1980,1981,1982,1983,1984,1985,1986,1987,1988,1989,1990,1991,1992,1993,1994,1995,1996,1997,1998,1999,2000,2001,2002,2003,2004,2005,2006,2007,2008,2009,2010,2011,2012,2013,2014,2015,2016,2017,2018,2019,2020],\"xaxis\":\"x\",\"y\":[0.20571,0.2407197183098592,0.2274621621621621,0.2352190677966101,0.2376679856115108,0.2323695936139332,0.1684502439024389,0.1752893735130848,0.2360002100840333,0.2213108627858629,0.2274279503105589,0.2324962151394422,0.2090719247467437,0.2134525951557092,0.2292998682476943,0.2214382727272726,0.2259677321156773,0.237111092985318,0.2391015999999999,0.2643351000000004,0.2018398958333331,0.2128784185493456,0.2392107042253524,0.2387719414893616,0.2030099500000001,0.2108183294663576,0.2238293939393936,0.2196935789473678,0.2088585500000004,0.2169584000000004,0.2177773999999999,0.2329722999999998,0.221734051282051,0.2178411499999996,0.2214353500000001,0.1822571500000002,0.1827485641025636,0.2058408500000003,0.1918429230769232,0.2078637297297298,0.2089125789473681,0.2018957368421054,0.2037453000000002,0.2172323589743596,0.2138391282051284,0.2180930999999999,0.190917658829415,0.2173509500000005,0.2069658999999999,0.2122688000000002,0.2149145500000001,0.2069549500000001,0.2013747499999997,0.2093463499999996,0.2154413500000002,0.2490321999999999,0.2232140500000004,0.2180709499999994,0.2134431000000002,0.2037541025641026,0.2250998999999999,0.20100675,0.1989224500000002,0.1977062,0.1992064499999998,0.2118794500000001,0.202018102564103,0.207707538461538,0.1990802,0.1909609,0.1886289230769235,0.2002455000000007,0.1949322500000003,0.1921651000000001,0.2013737000000004,0.1986863000000002,0.1984788000000003,0.1937308999999996,0.206308047155305,0.1976860429447853,0.1870256359102248,0.1939111999999998,0.196976305015353,0.2021994404883014,0.1900816256410258,0.1882892820512821,0.1961265641025642,0.1984314066496162,0.2052522959183674,0.1997006448412699,0.2033088249876056,0.1897330077120824,0.1996308198380571,0.1918215960099752,0.1888564336372847,0.181169894268225,0.1917126004016064,0.1763255349500711,0.1726164186762446,0.1785354187192117],\"yaxis\":\"y\",\"type\":\"scatter\"},{\"hovertemplate\":\"variable=valence<br>year=%{x}<br>value=%{y}<extra></extra>\",\"legendgroup\":\"valence\",\"line\":{\"color\":\"#19d3f3\",\"dash\":\"solid\"},\"marker\":{\"symbol\":\"circle\"},\"mode\":\"lines\",\"name\":\"valence\",\"orientation\":\"v\",\"showlegend\":true,\"x\":[1921,1922,1923,1924,1925,1926,1927,1928,1929,1930,1931,1932,1933,1934,1935,1936,1937,1938,1939,1940,1941,1942,1943,1944,1945,1946,1947,1948,1949,1950,1951,1952,1953,1954,1955,1956,1957,1958,1959,1960,1961,1962,1963,1964,1965,1966,1967,1968,1969,1970,1971,1972,1973,1974,1975,1976,1977,1978,1979,1980,1981,1982,1983,1984,1985,1986,1987,1988,1989,1990,1991,1992,1993,1994,1995,1996,1997,1998,1999,2000,2001,2002,2003,2004,2005,2006,2007,2008,2009,2010,2011,2012,2013,2014,2015,2016,2017,2018,2019,2020],\"xaxis\":\"x\",\"y\":[0.3793266666666666,0.5355492957746479,0.6254924324324328,0.6637254237288139,0.6219287769784171,0.4369104571843251,0.6597004878048782,0.4957126883425853,0.6365298319327733,0.6162376299376306,0.5131170807453418,0.5881599601593626,0.5994099855282197,0.5588046712802772,0.5455777997364957,0.5640635454545455,0.5857894977168944,0.5149111092985317,0.5599248999999992,0.6167094700000009,0.4794560416666661,0.4774088585017848,0.4954545070422531,0.5406954787234041,0.4913613500000002,0.3982538283062647,0.5082125454545455,0.4621423684210526,0.4304195000000001,0.5516497000000001,0.44134755,0.4431349620499994,0.4291420512820513,0.4523410500000002,0.4724154999999997,0.5084230500000003,0.5110101538461542,0.4976614999999994,0.4784156410256422,0.5239316756756759,0.5128512105263155,0.5477920526315792,0.5415274500000008,0.55726042051282,0.5809506666666668,0.5801445499999996,0.5507916958479243,0.5659936500000002,0.5547452849999999,0.5720753999999992,0.5749132500000002,0.5956881500000009,0.5921162000000004,0.5812744000000009,0.5694151500000002,0.5807332499999998,0.58524655,0.5895352500000014,0.6099818000000005,0.5980580512820513,0.5829518500000006,0.5864384500000001,0.5721198999999989,0.5516387100000003,0.5655964500000001,0.5509485500000019,0.5414511794871785,0.5464853897435901,0.5483329000000007,0.5265268499999999,0.5486552307692295,0.5590983000000014,0.5555684500000001,0.5266491500000006,0.5302466999999994,0.5608732500000001,0.5485525000000002,0.5377209,0.5564528446950284,0.5594754601226991,0.541479107231919,0.5423971500000008,0.5305042476970324,0.5244885554425227,0.5325309230769236,0.5200283076923078,0.5167938461538473,0.5275418925831203,0.5071696617346935,0.5208951587301589,0.4724536787307882,0.4627090128534706,0.4547411943319834,0.4630487780548628,0.4320983687943254,0.4315320589872012,0.4164763112449793,0.4479212743699474,0.4588176295536167,0.5010478078817729],\"yaxis\":\"y\",\"type\":\"scatter\"}],                        {\"template\":{\"data\":{\"bar\":[{\"error_x\":{\"color\":\"#2a3f5f\"},\"error_y\":{\"color\":\"#2a3f5f\"},\"marker\":{\"line\":{\"color\":\"#E5ECF6\",\"width\":0.5},\"pattern\":{\"fillmode\":\"overlay\",\"size\":10,\"solidity\":0.2}},\"type\":\"bar\"}],\"barpolar\":[{\"marker\":{\"line\":{\"color\":\"#E5ECF6\",\"width\":0.5},\"pattern\":{\"fillmode\":\"overlay\",\"size\":10,\"solidity\":0.2}},\"type\":\"barpolar\"}],\"carpet\":[{\"aaxis\":{\"endlinecolor\":\"#2a3f5f\",\"gridcolor\":\"white\",\"linecolor\":\"white\",\"minorgridcolor\":\"white\",\"startlinecolor\":\"#2a3f5f\"},\"baxis\":{\"endlinecolor\":\"#2a3f5f\",\"gridcolor\":\"white\",\"linecolor\":\"white\",\"minorgridcolor\":\"white\",\"startlinecolor\":\"#2a3f5f\"},\"type\":\"carpet\"}],\"choropleth\":[{\"colorbar\":{\"outlinewidth\":0,\"ticks\":\"\"},\"type\":\"choropleth\"}],\"contour\":[{\"colorbar\":{\"outlinewidth\":0,\"ticks\":\"\"},\"colorscale\":[[0.0,\"#0d0887\"],[0.1111111111111111,\"#46039f\"],[0.2222222222222222,\"#7201a8\"],[0.3333333333333333,\"#9c179e\"],[0.4444444444444444,\"#bd3786\"],[0.5555555555555556,\"#d8576b\"],[0.6666666666666666,\"#ed7953\"],[0.7777777777777778,\"#fb9f3a\"],[0.8888888888888888,\"#fdca26\"],[1.0,\"#f0f921\"]],\"type\":\"contour\"}],\"contourcarpet\":[{\"colorbar\":{\"outlinewidth\":0,\"ticks\":\"\"},\"type\":\"contourcarpet\"}],\"heatmap\":[{\"colorbar\":{\"outlinewidth\":0,\"ticks\":\"\"},\"colorscale\":[[0.0,\"#0d0887\"],[0.1111111111111111,\"#46039f\"],[0.2222222222222222,\"#7201a8\"],[0.3333333333333333,\"#9c179e\"],[0.4444444444444444,\"#bd3786\"],[0.5555555555555556,\"#d8576b\"],[0.6666666666666666,\"#ed7953\"],[0.7777777777777778,\"#fb9f3a\"],[0.8888888888888888,\"#fdca26\"],[1.0,\"#f0f921\"]],\"type\":\"heatmap\"}],\"heatmapgl\":[{\"colorbar\":{\"outlinewidth\":0,\"ticks\":\"\"},\"colorscale\":[[0.0,\"#0d0887\"],[0.1111111111111111,\"#46039f\"],[0.2222222222222222,\"#7201a8\"],[0.3333333333333333,\"#9c179e\"],[0.4444444444444444,\"#bd3786\"],[0.5555555555555556,\"#d8576b\"],[0.6666666666666666,\"#ed7953\"],[0.7777777777777778,\"#fb9f3a\"],[0.8888888888888888,\"#fdca26\"],[1.0,\"#f0f921\"]],\"type\":\"heatmapgl\"}],\"histogram\":[{\"marker\":{\"pattern\":{\"fillmode\":\"overlay\",\"size\":10,\"solidity\":0.2}},\"type\":\"histogram\"}],\"histogram2d\":[{\"colorbar\":{\"outlinewidth\":0,\"ticks\":\"\"},\"colorscale\":[[0.0,\"#0d0887\"],[0.1111111111111111,\"#46039f\"],[0.2222222222222222,\"#7201a8\"],[0.3333333333333333,\"#9c179e\"],[0.4444444444444444,\"#bd3786\"],[0.5555555555555556,\"#d8576b\"],[0.6666666666666666,\"#ed7953\"],[0.7777777777777778,\"#fb9f3a\"],[0.8888888888888888,\"#fdca26\"],[1.0,\"#f0f921\"]],\"type\":\"histogram2d\"}],\"histogram2dcontour\":[{\"colorbar\":{\"outlinewidth\":0,\"ticks\":\"\"},\"colorscale\":[[0.0,\"#0d0887\"],[0.1111111111111111,\"#46039f\"],[0.2222222222222222,\"#7201a8\"],[0.3333333333333333,\"#9c179e\"],[0.4444444444444444,\"#bd3786\"],[0.5555555555555556,\"#d8576b\"],[0.6666666666666666,\"#ed7953\"],[0.7777777777777778,\"#fb9f3a\"],[0.8888888888888888,\"#fdca26\"],[1.0,\"#f0f921\"]],\"type\":\"histogram2dcontour\"}],\"mesh3d\":[{\"colorbar\":{\"outlinewidth\":0,\"ticks\":\"\"},\"type\":\"mesh3d\"}],\"parcoords\":[{\"line\":{\"colorbar\":{\"outlinewidth\":0,\"ticks\":\"\"}},\"type\":\"parcoords\"}],\"pie\":[{\"automargin\":true,\"type\":\"pie\"}],\"scatter\":[{\"marker\":{\"colorbar\":{\"outlinewidth\":0,\"ticks\":\"\"}},\"type\":\"scatter\"}],\"scatter3d\":[{\"line\":{\"colorbar\":{\"outlinewidth\":0,\"ticks\":\"\"}},\"marker\":{\"colorbar\":{\"outlinewidth\":0,\"ticks\":\"\"}},\"type\":\"scatter3d\"}],\"scattercarpet\":[{\"marker\":{\"colorbar\":{\"outlinewidth\":0,\"ticks\":\"\"}},\"type\":\"scattercarpet\"}],\"scattergeo\":[{\"marker\":{\"colorbar\":{\"outlinewidth\":0,\"ticks\":\"\"}},\"type\":\"scattergeo\"}],\"scattergl\":[{\"marker\":{\"colorbar\":{\"outlinewidth\":0,\"ticks\":\"\"}},\"type\":\"scattergl\"}],\"scattermapbox\":[{\"marker\":{\"colorbar\":{\"outlinewidth\":0,\"ticks\":\"\"}},\"type\":\"scattermapbox\"}],\"scatterpolar\":[{\"marker\":{\"colorbar\":{\"outlinewidth\":0,\"ticks\":\"\"}},\"type\":\"scatterpolar\"}],\"scatterpolargl\":[{\"marker\":{\"colorbar\":{\"outlinewidth\":0,\"ticks\":\"\"}},\"type\":\"scatterpolargl\"}],\"scatterternary\":[{\"marker\":{\"colorbar\":{\"outlinewidth\":0,\"ticks\":\"\"}},\"type\":\"scatterternary\"}],\"surface\":[{\"colorbar\":{\"outlinewidth\":0,\"ticks\":\"\"},\"colorscale\":[[0.0,\"#0d0887\"],[0.1111111111111111,\"#46039f\"],[0.2222222222222222,\"#7201a8\"],[0.3333333333333333,\"#9c179e\"],[0.4444444444444444,\"#bd3786\"],[0.5555555555555556,\"#d8576b\"],[0.6666666666666666,\"#ed7953\"],[0.7777777777777778,\"#fb9f3a\"],[0.8888888888888888,\"#fdca26\"],[1.0,\"#f0f921\"]],\"type\":\"surface\"}],\"table\":[{\"cells\":{\"fill\":{\"color\":\"#EBF0F8\"},\"line\":{\"color\":\"white\"}},\"header\":{\"fill\":{\"color\":\"#C8D4E3\"},\"line\":{\"color\":\"white\"}},\"type\":\"table\"}]},\"layout\":{\"annotationdefaults\":{\"arrowcolor\":\"#2a3f5f\",\"arrowhead\":0,\"arrowwidth\":1},\"autotypenumbers\":\"strict\",\"coloraxis\":{\"colorbar\":{\"outlinewidth\":0,\"ticks\":\"\"}},\"colorscale\":{\"diverging\":[[0,\"#8e0152\"],[0.1,\"#c51b7d\"],[0.2,\"#de77ae\"],[0.3,\"#f1b6da\"],[0.4,\"#fde0ef\"],[0.5,\"#f7f7f7\"],[0.6,\"#e6f5d0\"],[0.7,\"#b8e186\"],[0.8,\"#7fbc41\"],[0.9,\"#4d9221\"],[1,\"#276419\"]],\"sequential\":[[0.0,\"#0d0887\"],[0.1111111111111111,\"#46039f\"],[0.2222222222222222,\"#7201a8\"],[0.3333333333333333,\"#9c179e\"],[0.4444444444444444,\"#bd3786\"],[0.5555555555555556,\"#d8576b\"],[0.6666666666666666,\"#ed7953\"],[0.7777777777777778,\"#fb9f3a\"],[0.8888888888888888,\"#fdca26\"],[1.0,\"#f0f921\"]],\"sequentialminus\":[[0.0,\"#0d0887\"],[0.1111111111111111,\"#46039f\"],[0.2222222222222222,\"#7201a8\"],[0.3333333333333333,\"#9c179e\"],[0.4444444444444444,\"#bd3786\"],[0.5555555555555556,\"#d8576b\"],[0.6666666666666666,\"#ed7953\"],[0.7777777777777778,\"#fb9f3a\"],[0.8888888888888888,\"#fdca26\"],[1.0,\"#f0f921\"]]},\"colorway\":[\"#636efa\",\"#EF553B\",\"#00cc96\",\"#ab63fa\",\"#FFA15A\",\"#19d3f3\",\"#FF6692\",\"#B6E880\",\"#FF97FF\",\"#FECB52\"],\"font\":{\"color\":\"#2a3f5f\"},\"geo\":{\"bgcolor\":\"white\",\"lakecolor\":\"white\",\"landcolor\":\"#E5ECF6\",\"showlakes\":true,\"showland\":true,\"subunitcolor\":\"white\"},\"hoverlabel\":{\"align\":\"left\"},\"hovermode\":\"closest\",\"mapbox\":{\"style\":\"light\"},\"paper_bgcolor\":\"white\",\"plot_bgcolor\":\"#E5ECF6\",\"polar\":{\"angularaxis\":{\"gridcolor\":\"white\",\"linecolor\":\"white\",\"ticks\":\"\"},\"bgcolor\":\"#E5ECF6\",\"radialaxis\":{\"gridcolor\":\"white\",\"linecolor\":\"white\",\"ticks\":\"\"}},\"scene\":{\"xaxis\":{\"backgroundcolor\":\"#E5ECF6\",\"gridcolor\":\"white\",\"gridwidth\":2,\"linecolor\":\"white\",\"showbackground\":true,\"ticks\":\"\",\"zerolinecolor\":\"white\"},\"yaxis\":{\"backgroundcolor\":\"#E5ECF6\",\"gridcolor\":\"white\",\"gridwidth\":2,\"linecolor\":\"white\",\"showbackground\":true,\"ticks\":\"\",\"zerolinecolor\":\"white\"},\"zaxis\":{\"backgroundcolor\":\"#E5ECF6\",\"gridcolor\":\"white\",\"gridwidth\":2,\"linecolor\":\"white\",\"showbackground\":true,\"ticks\":\"\",\"zerolinecolor\":\"white\"}},\"shapedefaults\":{\"line\":{\"color\":\"#2a3f5f\"}},\"ternary\":{\"aaxis\":{\"gridcolor\":\"white\",\"linecolor\":\"white\",\"ticks\":\"\"},\"baxis\":{\"gridcolor\":\"white\",\"linecolor\":\"white\",\"ticks\":\"\"},\"bgcolor\":\"#E5ECF6\",\"caxis\":{\"gridcolor\":\"white\",\"linecolor\":\"white\",\"ticks\":\"\"}},\"title\":{\"x\":0.05},\"xaxis\":{\"automargin\":true,\"gridcolor\":\"white\",\"linecolor\":\"white\",\"ticks\":\"\",\"title\":{\"standoff\":15},\"zerolinecolor\":\"white\",\"zerolinewidth\":2},\"yaxis\":{\"automargin\":true,\"gridcolor\":\"white\",\"linecolor\":\"white\",\"ticks\":\"\",\"title\":{\"standoff\":15},\"zerolinecolor\":\"white\",\"zerolinewidth\":2}}},\"xaxis\":{\"anchor\":\"y\",\"domain\":[0.0,1.0],\"title\":{\"text\":\"year\"}},\"yaxis\":{\"anchor\":\"x\",\"domain\":[0.0,1.0],\"title\":{\"text\":\"value\"}},\"legend\":{\"title\":{\"text\":\"variable\"},\"tracegroupgap\":0},\"margin\":{\"t\":60}},                        {\"responsive\": true}                    ).then(function(){\n",
       "                            \n",
       "var gd = document.getElementById('41dd2e88-ef5d-4a81-91cd-a8f756bf0243');\n",
       "var x = new MutationObserver(function (mutations, observer) {{\n",
       "        var display = window.getComputedStyle(gd).display;\n",
       "        if (!display || display === 'none') {{\n",
       "            console.log([gd, 'removed!']);\n",
       "            Plotly.purge(gd);\n",
       "            observer.disconnect();\n",
       "        }}\n",
       "}});\n",
       "\n",
       "// Listen for the removal of the full notebook cells\n",
       "var notebookContainer = gd.closest('#notebook-container');\n",
       "if (notebookContainer) {{\n",
       "    x.observe(notebookContainer, {childList: true});\n",
       "}}\n",
       "\n",
       "// Listen for the clearing of the current output cell\n",
       "var outputEl = gd.closest('.output');\n",
       "if (outputEl) {{\n",
       "    x.observe(outputEl, {childList: true});\n",
       "}}\n",
       "\n",
       "                        })                };                });            </script>        </div>"
      ]
     },
     "metadata": {},
     "output_type": "display_data"
    }
   ],
   "source": [
    "sound_features = ['acousticness', 'danceability', 'energy', 'instrumentalness', 'liveness', 'valence']\n",
    "fig = px.line(year_data, x='year', y=sound_features)\n",
    "fig.show()\n"
   ]
  },
  {
   "cell_type": "code",
   "execution_count": 73,
   "id": "97f58f76",
   "metadata": {},
   "outputs": [],
   "source": [
    "#Popular genres and their characteristics"
   ]
  },
  {
   "cell_type": "code",
   "execution_count": 74,
   "id": "5a8eacc2",
   "metadata": {},
   "outputs": [
    {
     "data": {
      "application/vnd.plotly.v1+json": {
       "config": {
        "plotlyServerURL": "https://plot.ly"
       },
       "data": [
        {
         "alignmentgroup": "True",
         "hovertemplate": "variable=valence<br>genres=%{x}<br>value=%{y}<extra></extra>",
         "legendgroup": "valence",
         "marker": {
          "color": "#636efa",
          "pattern": {
           "shape": ""
          }
         },
         "name": "valence",
         "offsetgroup": "valence",
         "orientation": "v",
         "showlegend": true,
         "textposition": "auto",
         "type": "bar",
         "x": [
          "basshall",
          "south african house",
          "trap venezolano",
          "turkish edm",
          "alberta hip hop",
          "chinese electropop",
          "afroswing",
          "afro soul",
          "circuit",
          "guaracha",
          "indie triste",
          "russian dance",
          "uk diy punk",
          "pagode baiano",
          "ritmo kombina"
         ],
         "xaxis": "x",
         "y": [
          0.5886666666666667,
          0.8343333333333334,
          0.706,
          0.364,
          0.937,
          0.199,
          0.676625,
          0.743,
          0.556,
          0.556,
          0.189,
          0.326,
          0.604,
          0.7280000000000001,
          0.5053333333333333
         ],
         "yaxis": "y"
        },
        {
         "alignmentgroup": "True",
         "hovertemplate": "variable=energy<br>genres=%{x}<br>value=%{y}<extra></extra>",
         "legendgroup": "energy",
         "marker": {
          "color": "#EF553B",
          "pattern": {
           "shape": ""
          }
         },
         "name": "energy",
         "offsetgroup": "energy",
         "orientation": "v",
         "showlegend": true,
         "textposition": "auto",
         "type": "bar",
         "x": [
          "basshall",
          "south african house",
          "trap venezolano",
          "turkish edm",
          "alberta hip hop",
          "chinese electropop",
          "afroswing",
          "afro soul",
          "circuit",
          "guaracha",
          "indie triste",
          "russian dance",
          "uk diy punk",
          "pagode baiano",
          "ritmo kombina"
         ],
         "xaxis": "x",
         "y": [
          0.6301666666666668,
          0.5623333333333332,
          0.777,
          0.7190000000000001,
          0.685,
          0.787,
          0.5801875,
          0.873,
          0.972,
          0.972,
          0.159,
          0.945,
          0.937,
          0.6659999999999999,
          0.5783333333333334
         ],
         "yaxis": "y"
        },
        {
         "alignmentgroup": "True",
         "hovertemplate": "variable=danceability<br>genres=%{x}<br>value=%{y}<extra></extra>",
         "legendgroup": "danceability",
         "marker": {
          "color": "#00cc96",
          "pattern": {
           "shape": ""
          }
         },
         "name": "danceability",
         "offsetgroup": "danceability",
         "orientation": "v",
         "showlegend": true,
         "textposition": "auto",
         "type": "bar",
         "x": [
          "basshall",
          "south african house",
          "trap venezolano",
          "turkish edm",
          "alberta hip hop",
          "chinese electropop",
          "afroswing",
          "afro soul",
          "circuit",
          "guaracha",
          "indie triste",
          "russian dance",
          "uk diy punk",
          "pagode baiano",
          "ritmo kombina"
         ],
         "xaxis": "x",
         "y": [
          0.8180000000000001,
          0.847,
          0.877,
          0.698,
          0.885,
          0.66,
          0.71175,
          0.7659999999999999,
          0.745,
          0.745,
          0.83,
          0.653,
          0.452,
          0.8266666666666667,
          0.8450000000000001
         ],
         "yaxis": "y"
        },
        {
         "alignmentgroup": "True",
         "hovertemplate": "variable=liveness<br>genres=%{x}<br>value=%{y}<extra></extra>",
         "legendgroup": "liveness",
         "marker": {
          "color": "#ab63fa",
          "pattern": {
           "shape": ""
          }
         },
         "name": "liveness",
         "offsetgroup": "liveness",
         "orientation": "v",
         "showlegend": true,
         "textposition": "auto",
         "type": "bar",
         "x": [
          "basshall",
          "south african house",
          "trap venezolano",
          "turkish edm",
          "alberta hip hop",
          "chinese electropop",
          "afroswing",
          "afro soul",
          "circuit",
          "guaracha",
          "indie triste",
          "russian dance",
          "uk diy punk",
          "pagode baiano",
          "ritmo kombina"
         ],
         "xaxis": "x",
         "y": [
          0.0810666666666666,
          0.0751333333333333,
          0.0863,
          0.326,
          0.148,
          0.3229999999999999,
          0.18995,
          0.0764,
          0.297,
          0.297,
          0.362,
          0.439,
          0.606,
          0.1111,
          0.0695333333333333
         ],
         "yaxis": "y"
        }
       ],
       "layout": {
        "barmode": "group",
        "legend": {
         "title": {
          "text": "variable"
         },
         "tracegroupgap": 0
        },
        "margin": {
         "t": 60
        },
        "template": {
         "data": {
          "bar": [
           {
            "error_x": {
             "color": "#2a3f5f"
            },
            "error_y": {
             "color": "#2a3f5f"
            },
            "marker": {
             "line": {
              "color": "#E5ECF6",
              "width": 0.5
             },
             "pattern": {
              "fillmode": "overlay",
              "size": 10,
              "solidity": 0.2
             }
            },
            "type": "bar"
           }
          ],
          "barpolar": [
           {
            "marker": {
             "line": {
              "color": "#E5ECF6",
              "width": 0.5
             },
             "pattern": {
              "fillmode": "overlay",
              "size": 10,
              "solidity": 0.2
             }
            },
            "type": "barpolar"
           }
          ],
          "carpet": [
           {
            "aaxis": {
             "endlinecolor": "#2a3f5f",
             "gridcolor": "white",
             "linecolor": "white",
             "minorgridcolor": "white",
             "startlinecolor": "#2a3f5f"
            },
            "baxis": {
             "endlinecolor": "#2a3f5f",
             "gridcolor": "white",
             "linecolor": "white",
             "minorgridcolor": "white",
             "startlinecolor": "#2a3f5f"
            },
            "type": "carpet"
           }
          ],
          "choropleth": [
           {
            "colorbar": {
             "outlinewidth": 0,
             "ticks": ""
            },
            "type": "choropleth"
           }
          ],
          "contour": [
           {
            "colorbar": {
             "outlinewidth": 0,
             "ticks": ""
            },
            "colorscale": [
             [
              0,
              "#0d0887"
             ],
             [
              0.1111111111111111,
              "#46039f"
             ],
             [
              0.2222222222222222,
              "#7201a8"
             ],
             [
              0.3333333333333333,
              "#9c179e"
             ],
             [
              0.4444444444444444,
              "#bd3786"
             ],
             [
              0.5555555555555556,
              "#d8576b"
             ],
             [
              0.6666666666666666,
              "#ed7953"
             ],
             [
              0.7777777777777778,
              "#fb9f3a"
             ],
             [
              0.8888888888888888,
              "#fdca26"
             ],
             [
              1,
              "#f0f921"
             ]
            ],
            "type": "contour"
           }
          ],
          "contourcarpet": [
           {
            "colorbar": {
             "outlinewidth": 0,
             "ticks": ""
            },
            "type": "contourcarpet"
           }
          ],
          "heatmap": [
           {
            "colorbar": {
             "outlinewidth": 0,
             "ticks": ""
            },
            "colorscale": [
             [
              0,
              "#0d0887"
             ],
             [
              0.1111111111111111,
              "#46039f"
             ],
             [
              0.2222222222222222,
              "#7201a8"
             ],
             [
              0.3333333333333333,
              "#9c179e"
             ],
             [
              0.4444444444444444,
              "#bd3786"
             ],
             [
              0.5555555555555556,
              "#d8576b"
             ],
             [
              0.6666666666666666,
              "#ed7953"
             ],
             [
              0.7777777777777778,
              "#fb9f3a"
             ],
             [
              0.8888888888888888,
              "#fdca26"
             ],
             [
              1,
              "#f0f921"
             ]
            ],
            "type": "heatmap"
           }
          ],
          "heatmapgl": [
           {
            "colorbar": {
             "outlinewidth": 0,
             "ticks": ""
            },
            "colorscale": [
             [
              0,
              "#0d0887"
             ],
             [
              0.1111111111111111,
              "#46039f"
             ],
             [
              0.2222222222222222,
              "#7201a8"
             ],
             [
              0.3333333333333333,
              "#9c179e"
             ],
             [
              0.4444444444444444,
              "#bd3786"
             ],
             [
              0.5555555555555556,
              "#d8576b"
             ],
             [
              0.6666666666666666,
              "#ed7953"
             ],
             [
              0.7777777777777778,
              "#fb9f3a"
             ],
             [
              0.8888888888888888,
              "#fdca26"
             ],
             [
              1,
              "#f0f921"
             ]
            ],
            "type": "heatmapgl"
           }
          ],
          "histogram": [
           {
            "marker": {
             "pattern": {
              "fillmode": "overlay",
              "size": 10,
              "solidity": 0.2
             }
            },
            "type": "histogram"
           }
          ],
          "histogram2d": [
           {
            "colorbar": {
             "outlinewidth": 0,
             "ticks": ""
            },
            "colorscale": [
             [
              0,
              "#0d0887"
             ],
             [
              0.1111111111111111,
              "#46039f"
             ],
             [
              0.2222222222222222,
              "#7201a8"
             ],
             [
              0.3333333333333333,
              "#9c179e"
             ],
             [
              0.4444444444444444,
              "#bd3786"
             ],
             [
              0.5555555555555556,
              "#d8576b"
             ],
             [
              0.6666666666666666,
              "#ed7953"
             ],
             [
              0.7777777777777778,
              "#fb9f3a"
             ],
             [
              0.8888888888888888,
              "#fdca26"
             ],
             [
              1,
              "#f0f921"
             ]
            ],
            "type": "histogram2d"
           }
          ],
          "histogram2dcontour": [
           {
            "colorbar": {
             "outlinewidth": 0,
             "ticks": ""
            },
            "colorscale": [
             [
              0,
              "#0d0887"
             ],
             [
              0.1111111111111111,
              "#46039f"
             ],
             [
              0.2222222222222222,
              "#7201a8"
             ],
             [
              0.3333333333333333,
              "#9c179e"
             ],
             [
              0.4444444444444444,
              "#bd3786"
             ],
             [
              0.5555555555555556,
              "#d8576b"
             ],
             [
              0.6666666666666666,
              "#ed7953"
             ],
             [
              0.7777777777777778,
              "#fb9f3a"
             ],
             [
              0.8888888888888888,
              "#fdca26"
             ],
             [
              1,
              "#f0f921"
             ]
            ],
            "type": "histogram2dcontour"
           }
          ],
          "mesh3d": [
           {
            "colorbar": {
             "outlinewidth": 0,
             "ticks": ""
            },
            "type": "mesh3d"
           }
          ],
          "parcoords": [
           {
            "line": {
             "colorbar": {
              "outlinewidth": 0,
              "ticks": ""
             }
            },
            "type": "parcoords"
           }
          ],
          "pie": [
           {
            "automargin": true,
            "type": "pie"
           }
          ],
          "scatter": [
           {
            "marker": {
             "colorbar": {
              "outlinewidth": 0,
              "ticks": ""
             }
            },
            "type": "scatter"
           }
          ],
          "scatter3d": [
           {
            "line": {
             "colorbar": {
              "outlinewidth": 0,
              "ticks": ""
             }
            },
            "marker": {
             "colorbar": {
              "outlinewidth": 0,
              "ticks": ""
             }
            },
            "type": "scatter3d"
           }
          ],
          "scattercarpet": [
           {
            "marker": {
             "colorbar": {
              "outlinewidth": 0,
              "ticks": ""
             }
            },
            "type": "scattercarpet"
           }
          ],
          "scattergeo": [
           {
            "marker": {
             "colorbar": {
              "outlinewidth": 0,
              "ticks": ""
             }
            },
            "type": "scattergeo"
           }
          ],
          "scattergl": [
           {
            "marker": {
             "colorbar": {
              "outlinewidth": 0,
              "ticks": ""
             }
            },
            "type": "scattergl"
           }
          ],
          "scattermapbox": [
           {
            "marker": {
             "colorbar": {
              "outlinewidth": 0,
              "ticks": ""
             }
            },
            "type": "scattermapbox"
           }
          ],
          "scatterpolar": [
           {
            "marker": {
             "colorbar": {
              "outlinewidth": 0,
              "ticks": ""
             }
            },
            "type": "scatterpolar"
           }
          ],
          "scatterpolargl": [
           {
            "marker": {
             "colorbar": {
              "outlinewidth": 0,
              "ticks": ""
             }
            },
            "type": "scatterpolargl"
           }
          ],
          "scatterternary": [
           {
            "marker": {
             "colorbar": {
              "outlinewidth": 0,
              "ticks": ""
             }
            },
            "type": "scatterternary"
           }
          ],
          "surface": [
           {
            "colorbar": {
             "outlinewidth": 0,
             "ticks": ""
            },
            "colorscale": [
             [
              0,
              "#0d0887"
             ],
             [
              0.1111111111111111,
              "#46039f"
             ],
             [
              0.2222222222222222,
              "#7201a8"
             ],
             [
              0.3333333333333333,
              "#9c179e"
             ],
             [
              0.4444444444444444,
              "#bd3786"
             ],
             [
              0.5555555555555556,
              "#d8576b"
             ],
             [
              0.6666666666666666,
              "#ed7953"
             ],
             [
              0.7777777777777778,
              "#fb9f3a"
             ],
             [
              0.8888888888888888,
              "#fdca26"
             ],
             [
              1,
              "#f0f921"
             ]
            ],
            "type": "surface"
           }
          ],
          "table": [
           {
            "cells": {
             "fill": {
              "color": "#EBF0F8"
             },
             "line": {
              "color": "white"
             }
            },
            "header": {
             "fill": {
              "color": "#C8D4E3"
             },
             "line": {
              "color": "white"
             }
            },
            "type": "table"
           }
          ]
         },
         "layout": {
          "annotationdefaults": {
           "arrowcolor": "#2a3f5f",
           "arrowhead": 0,
           "arrowwidth": 1
          },
          "autotypenumbers": "strict",
          "coloraxis": {
           "colorbar": {
            "outlinewidth": 0,
            "ticks": ""
           }
          },
          "colorscale": {
           "diverging": [
            [
             0,
             "#8e0152"
            ],
            [
             0.1,
             "#c51b7d"
            ],
            [
             0.2,
             "#de77ae"
            ],
            [
             0.3,
             "#f1b6da"
            ],
            [
             0.4,
             "#fde0ef"
            ],
            [
             0.5,
             "#f7f7f7"
            ],
            [
             0.6,
             "#e6f5d0"
            ],
            [
             0.7,
             "#b8e186"
            ],
            [
             0.8,
             "#7fbc41"
            ],
            [
             0.9,
             "#4d9221"
            ],
            [
             1,
             "#276419"
            ]
           ],
           "sequential": [
            [
             0,
             "#0d0887"
            ],
            [
             0.1111111111111111,
             "#46039f"
            ],
            [
             0.2222222222222222,
             "#7201a8"
            ],
            [
             0.3333333333333333,
             "#9c179e"
            ],
            [
             0.4444444444444444,
             "#bd3786"
            ],
            [
             0.5555555555555556,
             "#d8576b"
            ],
            [
             0.6666666666666666,
             "#ed7953"
            ],
            [
             0.7777777777777778,
             "#fb9f3a"
            ],
            [
             0.8888888888888888,
             "#fdca26"
            ],
            [
             1,
             "#f0f921"
            ]
           ],
           "sequentialminus": [
            [
             0,
             "#0d0887"
            ],
            [
             0.1111111111111111,
             "#46039f"
            ],
            [
             0.2222222222222222,
             "#7201a8"
            ],
            [
             0.3333333333333333,
             "#9c179e"
            ],
            [
             0.4444444444444444,
             "#bd3786"
            ],
            [
             0.5555555555555556,
             "#d8576b"
            ],
            [
             0.6666666666666666,
             "#ed7953"
            ],
            [
             0.7777777777777778,
             "#fb9f3a"
            ],
            [
             0.8888888888888888,
             "#fdca26"
            ],
            [
             1,
             "#f0f921"
            ]
           ]
          },
          "colorway": [
           "#636efa",
           "#EF553B",
           "#00cc96",
           "#ab63fa",
           "#FFA15A",
           "#19d3f3",
           "#FF6692",
           "#B6E880",
           "#FF97FF",
           "#FECB52"
          ],
          "font": {
           "color": "#2a3f5f"
          },
          "geo": {
           "bgcolor": "white",
           "lakecolor": "white",
           "landcolor": "#E5ECF6",
           "showlakes": true,
           "showland": true,
           "subunitcolor": "white"
          },
          "hoverlabel": {
           "align": "left"
          },
          "hovermode": "closest",
          "mapbox": {
           "style": "light"
          },
          "paper_bgcolor": "white",
          "plot_bgcolor": "#E5ECF6",
          "polar": {
           "angularaxis": {
            "gridcolor": "white",
            "linecolor": "white",
            "ticks": ""
           },
           "bgcolor": "#E5ECF6",
           "radialaxis": {
            "gridcolor": "white",
            "linecolor": "white",
            "ticks": ""
           }
          },
          "scene": {
           "xaxis": {
            "backgroundcolor": "#E5ECF6",
            "gridcolor": "white",
            "gridwidth": 2,
            "linecolor": "white",
            "showbackground": true,
            "ticks": "",
            "zerolinecolor": "white"
           },
           "yaxis": {
            "backgroundcolor": "#E5ECF6",
            "gridcolor": "white",
            "gridwidth": 2,
            "linecolor": "white",
            "showbackground": true,
            "ticks": "",
            "zerolinecolor": "white"
           },
           "zaxis": {
            "backgroundcolor": "#E5ECF6",
            "gridcolor": "white",
            "gridwidth": 2,
            "linecolor": "white",
            "showbackground": true,
            "ticks": "",
            "zerolinecolor": "white"
           }
          },
          "shapedefaults": {
           "line": {
            "color": "#2a3f5f"
           }
          },
          "ternary": {
           "aaxis": {
            "gridcolor": "white",
            "linecolor": "white",
            "ticks": ""
           },
           "baxis": {
            "gridcolor": "white",
            "linecolor": "white",
            "ticks": ""
           },
           "bgcolor": "#E5ECF6",
           "caxis": {
            "gridcolor": "white",
            "linecolor": "white",
            "ticks": ""
           }
          },
          "title": {
           "x": 0.05
          },
          "xaxis": {
           "automargin": true,
           "gridcolor": "white",
           "linecolor": "white",
           "ticks": "",
           "title": {
            "standoff": 15
           },
           "zerolinecolor": "white",
           "zerolinewidth": 2
          },
          "yaxis": {
           "automargin": true,
           "gridcolor": "white",
           "linecolor": "white",
           "ticks": "",
           "title": {
            "standoff": 15
           },
           "zerolinecolor": "white",
           "zerolinewidth": 2
          }
         }
        },
        "xaxis": {
         "anchor": "y",
         "domain": [
          0,
          1
         ],
         "title": {
          "text": "genres"
         }
        },
        "yaxis": {
         "anchor": "x",
         "domain": [
          0,
          1
         ],
         "title": {
          "text": "value"
         }
        }
       }
      },
      "text/html": [
       "<div>                            <div id=\"0e9722e3-d2f7-42a9-a26d-4fa53d6260b2\" class=\"plotly-graph-div\" style=\"height:525px; width:100%;\"></div>            <script type=\"text/javascript\">                require([\"plotly\"], function(Plotly) {                    window.PLOTLYENV=window.PLOTLYENV || {};                                    if (document.getElementById(\"0e9722e3-d2f7-42a9-a26d-4fa53d6260b2\")) {                    Plotly.newPlot(                        \"0e9722e3-d2f7-42a9-a26d-4fa53d6260b2\",                        [{\"alignmentgroup\":\"True\",\"hovertemplate\":\"variable=valence<br>genres=%{x}<br>value=%{y}<extra></extra>\",\"legendgroup\":\"valence\",\"marker\":{\"color\":\"#636efa\",\"pattern\":{\"shape\":\"\"}},\"name\":\"valence\",\"offsetgroup\":\"valence\",\"orientation\":\"v\",\"showlegend\":true,\"textposition\":\"auto\",\"x\":[\"basshall\",\"south african house\",\"trap venezolano\",\"turkish edm\",\"alberta hip hop\",\"chinese electropop\",\"afroswing\",\"afro soul\",\"circuit\",\"guaracha\",\"indie triste\",\"russian dance\",\"uk diy punk\",\"pagode baiano\",\"ritmo kombina\"],\"xaxis\":\"x\",\"y\":[0.5886666666666667,0.8343333333333334,0.706,0.364,0.937,0.199,0.676625,0.743,0.556,0.556,0.189,0.326,0.604,0.7280000000000001,0.5053333333333333],\"yaxis\":\"y\",\"type\":\"bar\"},{\"alignmentgroup\":\"True\",\"hovertemplate\":\"variable=energy<br>genres=%{x}<br>value=%{y}<extra></extra>\",\"legendgroup\":\"energy\",\"marker\":{\"color\":\"#EF553B\",\"pattern\":{\"shape\":\"\"}},\"name\":\"energy\",\"offsetgroup\":\"energy\",\"orientation\":\"v\",\"showlegend\":true,\"textposition\":\"auto\",\"x\":[\"basshall\",\"south african house\",\"trap venezolano\",\"turkish edm\",\"alberta hip hop\",\"chinese electropop\",\"afroswing\",\"afro soul\",\"circuit\",\"guaracha\",\"indie triste\",\"russian dance\",\"uk diy punk\",\"pagode baiano\",\"ritmo kombina\"],\"xaxis\":\"x\",\"y\":[0.6301666666666668,0.5623333333333332,0.777,0.7190000000000001,0.685,0.787,0.5801875,0.873,0.972,0.972,0.159,0.945,0.937,0.6659999999999999,0.5783333333333334],\"yaxis\":\"y\",\"type\":\"bar\"},{\"alignmentgroup\":\"True\",\"hovertemplate\":\"variable=danceability<br>genres=%{x}<br>value=%{y}<extra></extra>\",\"legendgroup\":\"danceability\",\"marker\":{\"color\":\"#00cc96\",\"pattern\":{\"shape\":\"\"}},\"name\":\"danceability\",\"offsetgroup\":\"danceability\",\"orientation\":\"v\",\"showlegend\":true,\"textposition\":\"auto\",\"x\":[\"basshall\",\"south african house\",\"trap venezolano\",\"turkish edm\",\"alberta hip hop\",\"chinese electropop\",\"afroswing\",\"afro soul\",\"circuit\",\"guaracha\",\"indie triste\",\"russian dance\",\"uk diy punk\",\"pagode baiano\",\"ritmo kombina\"],\"xaxis\":\"x\",\"y\":[0.8180000000000001,0.847,0.877,0.698,0.885,0.66,0.71175,0.7659999999999999,0.745,0.745,0.83,0.653,0.452,0.8266666666666667,0.8450000000000001],\"yaxis\":\"y\",\"type\":\"bar\"},{\"alignmentgroup\":\"True\",\"hovertemplate\":\"variable=liveness<br>genres=%{x}<br>value=%{y}<extra></extra>\",\"legendgroup\":\"liveness\",\"marker\":{\"color\":\"#ab63fa\",\"pattern\":{\"shape\":\"\"}},\"name\":\"liveness\",\"offsetgroup\":\"liveness\",\"orientation\":\"v\",\"showlegend\":true,\"textposition\":\"auto\",\"x\":[\"basshall\",\"south african house\",\"trap venezolano\",\"turkish edm\",\"alberta hip hop\",\"chinese electropop\",\"afroswing\",\"afro soul\",\"circuit\",\"guaracha\",\"indie triste\",\"russian dance\",\"uk diy punk\",\"pagode baiano\",\"ritmo kombina\"],\"xaxis\":\"x\",\"y\":[0.0810666666666666,0.0751333333333333,0.0863,0.326,0.148,0.3229999999999999,0.18995,0.0764,0.297,0.297,0.362,0.439,0.606,0.1111,0.0695333333333333],\"yaxis\":\"y\",\"type\":\"bar\"}],                        {\"template\":{\"data\":{\"bar\":[{\"error_x\":{\"color\":\"#2a3f5f\"},\"error_y\":{\"color\":\"#2a3f5f\"},\"marker\":{\"line\":{\"color\":\"#E5ECF6\",\"width\":0.5},\"pattern\":{\"fillmode\":\"overlay\",\"size\":10,\"solidity\":0.2}},\"type\":\"bar\"}],\"barpolar\":[{\"marker\":{\"line\":{\"color\":\"#E5ECF6\",\"width\":0.5},\"pattern\":{\"fillmode\":\"overlay\",\"size\":10,\"solidity\":0.2}},\"type\":\"barpolar\"}],\"carpet\":[{\"aaxis\":{\"endlinecolor\":\"#2a3f5f\",\"gridcolor\":\"white\",\"linecolor\":\"white\",\"minorgridcolor\":\"white\",\"startlinecolor\":\"#2a3f5f\"},\"baxis\":{\"endlinecolor\":\"#2a3f5f\",\"gridcolor\":\"white\",\"linecolor\":\"white\",\"minorgridcolor\":\"white\",\"startlinecolor\":\"#2a3f5f\"},\"type\":\"carpet\"}],\"choropleth\":[{\"colorbar\":{\"outlinewidth\":0,\"ticks\":\"\"},\"type\":\"choropleth\"}],\"contour\":[{\"colorbar\":{\"outlinewidth\":0,\"ticks\":\"\"},\"colorscale\":[[0.0,\"#0d0887\"],[0.1111111111111111,\"#46039f\"],[0.2222222222222222,\"#7201a8\"],[0.3333333333333333,\"#9c179e\"],[0.4444444444444444,\"#bd3786\"],[0.5555555555555556,\"#d8576b\"],[0.6666666666666666,\"#ed7953\"],[0.7777777777777778,\"#fb9f3a\"],[0.8888888888888888,\"#fdca26\"],[1.0,\"#f0f921\"]],\"type\":\"contour\"}],\"contourcarpet\":[{\"colorbar\":{\"outlinewidth\":0,\"ticks\":\"\"},\"type\":\"contourcarpet\"}],\"heatmap\":[{\"colorbar\":{\"outlinewidth\":0,\"ticks\":\"\"},\"colorscale\":[[0.0,\"#0d0887\"],[0.1111111111111111,\"#46039f\"],[0.2222222222222222,\"#7201a8\"],[0.3333333333333333,\"#9c179e\"],[0.4444444444444444,\"#bd3786\"],[0.5555555555555556,\"#d8576b\"],[0.6666666666666666,\"#ed7953\"],[0.7777777777777778,\"#fb9f3a\"],[0.8888888888888888,\"#fdca26\"],[1.0,\"#f0f921\"]],\"type\":\"heatmap\"}],\"heatmapgl\":[{\"colorbar\":{\"outlinewidth\":0,\"ticks\":\"\"},\"colorscale\":[[0.0,\"#0d0887\"],[0.1111111111111111,\"#46039f\"],[0.2222222222222222,\"#7201a8\"],[0.3333333333333333,\"#9c179e\"],[0.4444444444444444,\"#bd3786\"],[0.5555555555555556,\"#d8576b\"],[0.6666666666666666,\"#ed7953\"],[0.7777777777777778,\"#fb9f3a\"],[0.8888888888888888,\"#fdca26\"],[1.0,\"#f0f921\"]],\"type\":\"heatmapgl\"}],\"histogram\":[{\"marker\":{\"pattern\":{\"fillmode\":\"overlay\",\"size\":10,\"solidity\":0.2}},\"type\":\"histogram\"}],\"histogram2d\":[{\"colorbar\":{\"outlinewidth\":0,\"ticks\":\"\"},\"colorscale\":[[0.0,\"#0d0887\"],[0.1111111111111111,\"#46039f\"],[0.2222222222222222,\"#7201a8\"],[0.3333333333333333,\"#9c179e\"],[0.4444444444444444,\"#bd3786\"],[0.5555555555555556,\"#d8576b\"],[0.6666666666666666,\"#ed7953\"],[0.7777777777777778,\"#fb9f3a\"],[0.8888888888888888,\"#fdca26\"],[1.0,\"#f0f921\"]],\"type\":\"histogram2d\"}],\"histogram2dcontour\":[{\"colorbar\":{\"outlinewidth\":0,\"ticks\":\"\"},\"colorscale\":[[0.0,\"#0d0887\"],[0.1111111111111111,\"#46039f\"],[0.2222222222222222,\"#7201a8\"],[0.3333333333333333,\"#9c179e\"],[0.4444444444444444,\"#bd3786\"],[0.5555555555555556,\"#d8576b\"],[0.6666666666666666,\"#ed7953\"],[0.7777777777777778,\"#fb9f3a\"],[0.8888888888888888,\"#fdca26\"],[1.0,\"#f0f921\"]],\"type\":\"histogram2dcontour\"}],\"mesh3d\":[{\"colorbar\":{\"outlinewidth\":0,\"ticks\":\"\"},\"type\":\"mesh3d\"}],\"parcoords\":[{\"line\":{\"colorbar\":{\"outlinewidth\":0,\"ticks\":\"\"}},\"type\":\"parcoords\"}],\"pie\":[{\"automargin\":true,\"type\":\"pie\"}],\"scatter\":[{\"marker\":{\"colorbar\":{\"outlinewidth\":0,\"ticks\":\"\"}},\"type\":\"scatter\"}],\"scatter3d\":[{\"line\":{\"colorbar\":{\"outlinewidth\":0,\"ticks\":\"\"}},\"marker\":{\"colorbar\":{\"outlinewidth\":0,\"ticks\":\"\"}},\"type\":\"scatter3d\"}],\"scattercarpet\":[{\"marker\":{\"colorbar\":{\"outlinewidth\":0,\"ticks\":\"\"}},\"type\":\"scattercarpet\"}],\"scattergeo\":[{\"marker\":{\"colorbar\":{\"outlinewidth\":0,\"ticks\":\"\"}},\"type\":\"scattergeo\"}],\"scattergl\":[{\"marker\":{\"colorbar\":{\"outlinewidth\":0,\"ticks\":\"\"}},\"type\":\"scattergl\"}],\"scattermapbox\":[{\"marker\":{\"colorbar\":{\"outlinewidth\":0,\"ticks\":\"\"}},\"type\":\"scattermapbox\"}],\"scatterpolar\":[{\"marker\":{\"colorbar\":{\"outlinewidth\":0,\"ticks\":\"\"}},\"type\":\"scatterpolar\"}],\"scatterpolargl\":[{\"marker\":{\"colorbar\":{\"outlinewidth\":0,\"ticks\":\"\"}},\"type\":\"scatterpolargl\"}],\"scatterternary\":[{\"marker\":{\"colorbar\":{\"outlinewidth\":0,\"ticks\":\"\"}},\"type\":\"scatterternary\"}],\"surface\":[{\"colorbar\":{\"outlinewidth\":0,\"ticks\":\"\"},\"colorscale\":[[0.0,\"#0d0887\"],[0.1111111111111111,\"#46039f\"],[0.2222222222222222,\"#7201a8\"],[0.3333333333333333,\"#9c179e\"],[0.4444444444444444,\"#bd3786\"],[0.5555555555555556,\"#d8576b\"],[0.6666666666666666,\"#ed7953\"],[0.7777777777777778,\"#fb9f3a\"],[0.8888888888888888,\"#fdca26\"],[1.0,\"#f0f921\"]],\"type\":\"surface\"}],\"table\":[{\"cells\":{\"fill\":{\"color\":\"#EBF0F8\"},\"line\":{\"color\":\"white\"}},\"header\":{\"fill\":{\"color\":\"#C8D4E3\"},\"line\":{\"color\":\"white\"}},\"type\":\"table\"}]},\"layout\":{\"annotationdefaults\":{\"arrowcolor\":\"#2a3f5f\",\"arrowhead\":0,\"arrowwidth\":1},\"autotypenumbers\":\"strict\",\"coloraxis\":{\"colorbar\":{\"outlinewidth\":0,\"ticks\":\"\"}},\"colorscale\":{\"diverging\":[[0,\"#8e0152\"],[0.1,\"#c51b7d\"],[0.2,\"#de77ae\"],[0.3,\"#f1b6da\"],[0.4,\"#fde0ef\"],[0.5,\"#f7f7f7\"],[0.6,\"#e6f5d0\"],[0.7,\"#b8e186\"],[0.8,\"#7fbc41\"],[0.9,\"#4d9221\"],[1,\"#276419\"]],\"sequential\":[[0.0,\"#0d0887\"],[0.1111111111111111,\"#46039f\"],[0.2222222222222222,\"#7201a8\"],[0.3333333333333333,\"#9c179e\"],[0.4444444444444444,\"#bd3786\"],[0.5555555555555556,\"#d8576b\"],[0.6666666666666666,\"#ed7953\"],[0.7777777777777778,\"#fb9f3a\"],[0.8888888888888888,\"#fdca26\"],[1.0,\"#f0f921\"]],\"sequentialminus\":[[0.0,\"#0d0887\"],[0.1111111111111111,\"#46039f\"],[0.2222222222222222,\"#7201a8\"],[0.3333333333333333,\"#9c179e\"],[0.4444444444444444,\"#bd3786\"],[0.5555555555555556,\"#d8576b\"],[0.6666666666666666,\"#ed7953\"],[0.7777777777777778,\"#fb9f3a\"],[0.8888888888888888,\"#fdca26\"],[1.0,\"#f0f921\"]]},\"colorway\":[\"#636efa\",\"#EF553B\",\"#00cc96\",\"#ab63fa\",\"#FFA15A\",\"#19d3f3\",\"#FF6692\",\"#B6E880\",\"#FF97FF\",\"#FECB52\"],\"font\":{\"color\":\"#2a3f5f\"},\"geo\":{\"bgcolor\":\"white\",\"lakecolor\":\"white\",\"landcolor\":\"#E5ECF6\",\"showlakes\":true,\"showland\":true,\"subunitcolor\":\"white\"},\"hoverlabel\":{\"align\":\"left\"},\"hovermode\":\"closest\",\"mapbox\":{\"style\":\"light\"},\"paper_bgcolor\":\"white\",\"plot_bgcolor\":\"#E5ECF6\",\"polar\":{\"angularaxis\":{\"gridcolor\":\"white\",\"linecolor\":\"white\",\"ticks\":\"\"},\"bgcolor\":\"#E5ECF6\",\"radialaxis\":{\"gridcolor\":\"white\",\"linecolor\":\"white\",\"ticks\":\"\"}},\"scene\":{\"xaxis\":{\"backgroundcolor\":\"#E5ECF6\",\"gridcolor\":\"white\",\"gridwidth\":2,\"linecolor\":\"white\",\"showbackground\":true,\"ticks\":\"\",\"zerolinecolor\":\"white\"},\"yaxis\":{\"backgroundcolor\":\"#E5ECF6\",\"gridcolor\":\"white\",\"gridwidth\":2,\"linecolor\":\"white\",\"showbackground\":true,\"ticks\":\"\",\"zerolinecolor\":\"white\"},\"zaxis\":{\"backgroundcolor\":\"#E5ECF6\",\"gridcolor\":\"white\",\"gridwidth\":2,\"linecolor\":\"white\",\"showbackground\":true,\"ticks\":\"\",\"zerolinecolor\":\"white\"}},\"shapedefaults\":{\"line\":{\"color\":\"#2a3f5f\"}},\"ternary\":{\"aaxis\":{\"gridcolor\":\"white\",\"linecolor\":\"white\",\"ticks\":\"\"},\"baxis\":{\"gridcolor\":\"white\",\"linecolor\":\"white\",\"ticks\":\"\"},\"bgcolor\":\"#E5ECF6\",\"caxis\":{\"gridcolor\":\"white\",\"linecolor\":\"white\",\"ticks\":\"\"}},\"title\":{\"x\":0.05},\"xaxis\":{\"automargin\":true,\"gridcolor\":\"white\",\"linecolor\":\"white\",\"ticks\":\"\",\"title\":{\"standoff\":15},\"zerolinecolor\":\"white\",\"zerolinewidth\":2},\"yaxis\":{\"automargin\":true,\"gridcolor\":\"white\",\"linecolor\":\"white\",\"ticks\":\"\",\"title\":{\"standoff\":15},\"zerolinecolor\":\"white\",\"zerolinewidth\":2}}},\"xaxis\":{\"anchor\":\"y\",\"domain\":[0.0,1.0],\"title\":{\"text\":\"genres\"}},\"yaxis\":{\"anchor\":\"x\",\"domain\":[0.0,1.0],\"title\":{\"text\":\"value\"}},\"legend\":{\"title\":{\"text\":\"variable\"},\"tracegroupgap\":0},\"margin\":{\"t\":60},\"barmode\":\"group\"},                        {\"responsive\": true}                    ).then(function(){\n",
       "                            \n",
       "var gd = document.getElementById('0e9722e3-d2f7-42a9-a26d-4fa53d6260b2');\n",
       "var x = new MutationObserver(function (mutations, observer) {{\n",
       "        var display = window.getComputedStyle(gd).display;\n",
       "        if (!display || display === 'none') {{\n",
       "            console.log([gd, 'removed!']);\n",
       "            Plotly.purge(gd);\n",
       "            observer.disconnect();\n",
       "        }}\n",
       "}});\n",
       "\n",
       "// Listen for the removal of the full notebook cells\n",
       "var notebookContainer = gd.closest('#notebook-container');\n",
       "if (notebookContainer) {{\n",
       "    x.observe(notebookContainer, {childList: true});\n",
       "}}\n",
       "\n",
       "// Listen for the clearing of the current output cell\n",
       "var outputEl = gd.closest('.output');\n",
       "if (outputEl) {{\n",
       "    x.observe(outputEl, {childList: true});\n",
       "}}\n",
       "\n",
       "                        })                };                });            </script>        </div>"
      ]
     },
     "metadata": {},
     "output_type": "display_data"
    }
   ],
   "source": [
    "top_genres = genre_data.nlargest(15, 'popularity')\n",
    "\n",
    "fig = px.bar(top_genres, x='genres', y=['valence', 'energy', 'danceability','liveness'], barmode='group')\n",
    "fig.show()"
   ]
  },
  {
   "cell_type": "code",
   "execution_count": 75,
   "id": "eb43cb58",
   "metadata": {},
   "outputs": [],
   "source": [
    "from sklearn.cluster import KMeans\n",
    "from sklearn.preprocessing import StandardScaler\n",
    "from sklearn.pipeline import Pipeline\n",
    "\n",
    "cluster_pipeline = Pipeline([('scaler', StandardScaler()), ('kmeans', KMeans(n_clusters=10, n_jobs=-1))])\n",
    "X = genre_data.select_dtypes(np.number)\n",
    "cluster_pipeline.fit(X)\n",
    "genre_data['cluster'] = cluster_pipeline.predict(X)"
   ]
  },
  {
   "cell_type": "code",
   "execution_count": 76,
   "id": "d06e84e8",
   "metadata": {},
   "outputs": [
    {
     "name": "stdout",
     "output_type": "stream",
     "text": [
      "[t-SNE] Computing 91 nearest neighbors...\n",
      "[t-SNE] Indexed 2973 samples in 0.026s...\n",
      "[t-SNE] Computed neighbors for 2973 samples in 0.701s...\n",
      "[t-SNE] Computed conditional probabilities for sample 1000 / 2973\n",
      "[t-SNE] Computed conditional probabilities for sample 2000 / 2973\n",
      "[t-SNE] Computed conditional probabilities for sample 2973 / 2973\n",
      "[t-SNE] Mean sigma: 0.777516\n",
      "[t-SNE] KL divergence after 250 iterations with early exaggeration: 76.109291\n",
      "[t-SNE] KL divergence after 1000 iterations: 1.391317\n"
     ]
    },
    {
     "data": {
      "application/vnd.plotly.v1+json": {
       "config": {
        "plotlyServerURL": "https://plot.ly"
       },
       "data": [
        {
         "customdata": [
          [
           "21st century classical"
          ],
          [
           "432hz"
          ],
          [
           "8-bit"
          ],
          [
           "[]"
          ],
          [
           "a cappella"
          ],
          [
           "abstract"
          ],
          [
           "abstract beats"
          ],
          [
           "abstract hip hop"
          ],
          [
           "accordeon"
          ],
          [
           "accordion"
          ],
          [
           "acid house"
          ],
          [
           "acid rock"
          ],
          [
           "acid trance"
          ],
          [
           "acousmatic"
          ],
          [
           "acoustic blues"
          ],
          [
           "acoustic pop"
          ],
          [
           "acoustic punk"
          ],
          [
           "acoustic rock"
          ],
          [
           "action rock"
          ],
          [
           "adoracion"
          ],
          [
           "adult standards"
          ],
          [
           "adventista"
          ],
          [
           "afghan pop"
          ],
          [
           "afghan traditional"
          ],
          [
           "african percussion"
          ],
          [
           "african reggae"
          ],
          [
           "african rock"
          ],
          [
           "african-american classical"
          ],
          [
           "afro dancehall"
          ],
          [
           "afro house"
          ],
          [
           "afro psych"
          ],
          [
           "afro soul"
          ],
          [
           "afro-funk"
          ],
          [
           "afrobeat"
          ],
          [
           "afrofuturism"
          ],
          [
           "afrofuturismo brasileiro"
          ],
          [
           "afropop"
          ],
          [
           "afroswing"
          ],
          [
           "aggrotech"
          ],
          [
           "alabama indie"
          ],
          [
           "alabama metal"
          ],
          [
           "alabama rap"
          ],
          [
           "alaska indie"
          ],
          [
           "albanian pop"
          ],
          [
           "albany ny indie"
          ],
          [
           "alberta country"
          ],
          [
           "alberta hip hop"
          ],
          [
           "album rock"
          ],
          [
           "albuquerque indie"
          ],
          [
           "alt-idol"
          ],
          [
           "alte"
          ],
          [
           "alternative americana"
          ],
          [
           "alternative country"
          ],
          [
           "alternative dance"
          ],
          [
           "alternative emo"
          ],
          [
           "alternative hip hop"
          ],
          [
           "alternative metal"
          ],
          [
           "alternative pop"
          ],
          [
           "alternative pop rock"
          ],
          [
           "alternative r&b"
          ],
          [
           "alternative rock"
          ],
          [
           "alternative roots rock"
          ],
          [
           "ambeat"
          ],
          [
           "ambient"
          ],
          [
           "ambient black metal"
          ],
          [
           "ambient folk"
          ],
          [
           "ambient house"
          ],
          [
           "ambient idm"
          ],
          [
           "ambient industrial"
          ],
          [
           "ambient pop"
          ],
          [
           "ambient techno"
          ],
          [
           "ambient worship"
          ],
          [
           "american 21st century classical"
          ],
          [
           "american choir"
          ],
          [
           "american classical piano"
          ],
          [
           "american contemporary classical"
          ],
          [
           "american early music"
          ],
          [
           "american folk revival"
          ],
          [
           "american metalcore"
          ],
          [
           "american modern classical"
          ],
          [
           "american oi"
          ],
          [
           "american orchestra"
          ],
          [
           "american post-rock"
          ],
          [
           "american primitive"
          ],
          [
           "american romanticism"
          ],
          [
           "american shoegaze"
          ],
          [
           "anadolu rock"
          ],
          [
           "anarcho-punk"
          ],
          [
           "anglican liturgy"
          ],
          [
           "animal singing"
          ],
          [
           "anime"
          ],
          [
           "anime latino"
          ],
          [
           "anime rock"
          ],
          [
           "anime score"
          ],
          [
           "ann arbor indie"
          ],
          [
           "anthem emo"
          ],
          [
           "anthem worship"
          ],
          [
           "anti-folk"
          ],
          [
           "antilliaanse folklore"
          ],
          [
           "antiviral pop"
          ],
          [
           "appalachian folk"
          ],
          [
           "arab folk"
          ],
          [
           "arab groove"
          ],
          [
           "arab pop"
          ],
          [
           "arabesk"
          ],
          [
           "arabic hip hop"
          ],
          [
           "arabic jazz"
          ],
          [
           "argentine ambient"
          ],
          [
           "argentine hardcore"
          ],
          [
           "argentine heavy metal"
          ],
          [
           "argentine hip hop"
          ],
          [
           "argentine indie"
          ],
          [
           "argentine metal"
          ],
          [
           "argentine punk"
          ],
          [
           "argentine reggae"
          ],
          [
           "argentine rock"
          ],
          [
           "argentine telepop"
          ],
          [
           "arizona punk"
          ],
          [
           "arkansas country"
          ],
          [
           "arkansas hip hop"
          ],
          [
           "arkansas indie"
          ],
          [
           "armenian folk"
          ],
          [
           "art pop"
          ],
          [
           "art punk"
          ],
          [
           "art rock"
          ],
          [
           "art song"
          ],
          [
           "asbury park indie"
          ],
          [
           "asheville indie"
          ],
          [
           "asian american hip hop"
          ],
          [
           "asmr"
          ],
          [
           "athens indie"
          ],
          [
           "atl hip hop"
          ],
          [
           "atl trap"
          ],
          [
           "atlanta indie"
          ],
          [
           "atlanta metal"
          ],
          [
           "atlanta punk"
          ],
          [
           "atmosphere"
          ],
          [
           "atmospheric black metal"
          ],
          [
           "atmospheric dnb"
          ],
          [
           "atmospheric post-metal"
          ],
          [
           "atmospheric post-rock"
          ],
          [
           "atmospheric sludge"
          ],
          [
           "auckland indie"
          ],
          [
           "audiophile vocal"
          ],
          [
           "aussietronica"
          ],
          [
           "austin americana"
          ],
          [
           "austin singer-songwriter"
          ],
          [
           "austindie"
          ],
          [
           "australian alternative pop"
          ],
          [
           "australian alternative rock"
          ],
          [
           "australian ambient"
          ],
          [
           "australian children's music"
          ],
          [
           "australian choir"
          ],
          [
           "australian classical"
          ],
          [
           "australian classical piano"
          ],
          [
           "australian country"
          ],
          [
           "australian dance"
          ],
          [
           "australian electropop"
          ],
          [
           "australian garage punk"
          ],
          [
           "australian hip hop"
          ],
          [
           "australian house"
          ],
          [
           "australian indie"
          ],
          [
           "australian indie folk"
          ],
          [
           "australian indie rock"
          ],
          [
           "australian indigenous"
          ],
          [
           "australian metal"
          ],
          [
           "australian metalcore"
          ],
          [
           "australian pop"
          ],
          [
           "australian post-hardcore"
          ],
          [
           "australian post-punk"
          ],
          [
           "australian psych"
          ],
          [
           "australian r&b"
          ],
          [
           "australian reggae fusion"
          ],
          [
           "australian rock"
          ],
          [
           "australian singer-songwriter"
          ],
          [
           "australian ska"
          ],
          [
           "australian talent show"
          ],
          [
           "australian trap"
          ],
          [
           "australian underground hip hop"
          ],
          [
           "austrian choir"
          ],
          [
           "austrian classical piano"
          ],
          [
           "austrian orchestra"
          ],
          [
           "austrian pop"
          ],
          [
           "austro-german modernism"
          ],
          [
           "austropop"
          ],
          [
           "autoharp"
          ],
          [
           "autonomous black metal"
          ],
          [
           "avant-garde"
          ],
          [
           "avant-garde jazz"
          ],
          [
           "avant-garde metal"
          ],
          [
           "axe"
          ],
          [
           "azeri traditional"
          ],
          [
           "azonto"
          ],
          [
           "azontobeats"
          ],
          [
           "bachata"
          ],
          [
           "bachata dominicana"
          ],
          [
           "background music"
          ],
          [
           "background piano"
          ],
          [
           "baglama"
          ],
          [
           "bahai"
          ],
          [
           "bahamian folk"
          ],
          [
           "bahamian pop"
          ],
          [
           "baiao"
          ],
          [
           "bajki"
          ],
          [
           "bakersfield sound"
          ],
          [
           "balearic"
          ],
          [
           "balkan brass"
          ],
          [
           "balkan classical piano"
          ],
          [
           "ballet class"
          ],
          [
           "ballroom"
          ],
          [
           "baltic classical"
          ],
          [
           "baltimore hip hop"
          ],
          [
           "baltimore indie"
          ],
          [
           "banda"
          ],
          [
           "banda caliente"
          ],
          [
           "banda carnavalera"
          ],
          [
           "bandinhas"
          ],
          [
           "bandolim"
          ],
          [
           "bandoneon"
          ],
          [
           "bangla"
          ],
          [
           "banjo"
          ],
          [
           "bansuri"
          ],
          [
           "barbadian pop"
          ],
          [
           "barbershop"
          ],
          [
           "bard"
          ],
          [
           "barnmusik"
          ],
          [
           "barockinterpreten"
          ],
          [
           "baroque"
          ],
          [
           "baroque brass"
          ],
          [
           "baroque ensemble"
          ],
          [
           "baroque pop"
          ],
          [
           "baroque singing"
          ],
          [
           "baroque violin"
          ],
          [
           "baroque woodwind"
          ],
          [
           "bass house"
          ],
          [
           "bass music"
          ],
          [
           "bass trap"
          ],
          [
           "basshall"
          ],
          [
           "bassline"
          ],
          [
           "bath indie"
          ],
          [
           "baton rouge indie"
          ],
          [
           "baton rouge rap"
          ],
          [
           "battle rap"
          ],
          [
           "bay area hip hop"
          ],
          [
           "bay area indie"
          ],
          [
           "bboy"
          ],
          [
           "bc underground hip hop"
          ],
          [
           "beach music"
          ],
          [
           "beat italiano"
          ],
          [
           "beat poetry"
          ],
          [
           "beatboxing"
          ],
          [
           "beatlesque"
          ],
          [
           "bebop"
          ],
          [
           "bedroom pop"
          ],
          [
           "bedroom soul"
          ],
          [
           "belarusian indie"
          ],
          [
           "belarusian pop"
          ],
          [
           "belarusian rock"
          ],
          [
           "belgian classical piano"
          ],
          [
           "belgian contemporary classical"
          ],
          [
           "belgian dance"
          ],
          [
           "belgian edm"
          ],
          [
           "belgian hardcore"
          ],
          [
           "belgian indie"
          ],
          [
           "belgian indie rock"
          ],
          [
           "belgian jazz"
          ],
          [
           "belgian new wave"
          ],
          [
           "belgian pop"
          ],
          [
           "belgian rock"
          ],
          [
           "belgian singer-songwriter"
          ],
          [
           "belgian techno"
          ],
          [
           "belly dance"
          ],
          [
           "bengali folk"
          ],
          [
           "beninese pop"
          ],
          [
           "bergen indie"
          ],
          [
           "berlin minimal techno"
          ],
          [
           "berlin school"
          ],
          [
           "bhajan"
          ],
          [
           "bhangra"
          ],
          [
           "bible"
          ],
          [
           "big band"
          ],
          [
           "big beat"
          ],
          [
           "big room"
          ],
          [
           "binaural"
          ],
          [
           "birdsong"
          ],
          [
           "birmingham grime"
          ],
          [
           "birmingham hip hop"
          ],
          [
           "birmingham metal"
          ],
          [
           "bitpop"
          ],
          [
           "black 'n' roll"
          ],
          [
           "black comedy"
          ],
          [
           "black metal"
          ],
          [
           "black punk"
          ],
          [
           "black thrash"
          ],
          [
           "blackened crust"
          ],
          [
           "blackgaze"
          ],
          [
           "bleep techno"
          ],
          [
           "bluegrass"
          ],
          [
           "bluegrass fiddle"
          ],
          [
           "bluegrass gospel"
          ],
          [
           "blues"
          ],
          [
           "blues latinoamericano"
          ],
          [
           "blues mexicano"
          ],
          [
           "blues rock"
          ],
          [
           "bmore"
          ],
          [
           "bolero"
          ],
          [
           "bolero cubano"
          ],
          [
           "boogaloo"
          ],
          [
           "boogie"
          ],
          [
           "boogie-woogie"
          ],
          [
           "boom bap"
          ],
          [
           "boom bap brasileiro"
          ],
          [
           "bossa nova"
          ],
          [
           "bossa nova jazz"
          ],
          [
           "boston folk"
          ],
          [
           "boston hardcore"
          ],
          [
           "boston hip hop"
          ],
          [
           "boston indie"
          ],
          [
           "boston metal"
          ],
          [
           "boston punk"
          ],
          [
           "boston rock"
          ],
          [
           "bounce"
          ],
          [
           "bouncy house"
          ],
          [
           "bouzouki"
          ],
          [
           "bow pop"
          ],
          [
           "boy band"
          ],
          [
           "boy pop"
          ],
          [
           "boy soprano"
          ],
          [
           "brain waves"
          ],
          [
           "braindance"
          ],
          [
           "brass band"
          ],
          [
           "brass ensemble"
          ],
          [
           "brass quintet"
          ],
          [
           "brazilian boogie"
          ],
          [
           "brazilian classical"
          ],
          [
           "brazilian classical piano"
          ],
          [
           "brazilian contemporary classical"
          ],
          [
           "brazilian edm"
          ],
          [
           "brazilian groove metal"
          ],
          [
           "brazilian hip hop"
          ],
          [
           "brazilian indie"
          ],
          [
           "brazilian jazz"
          ],
          [
           "brazilian metal"
          ],
          [
           "brazilian modern jazz"
          ],
          [
           "brazilian percussion"
          ],
          [
           "brazilian punk"
          ],
          [
           "brazilian reggae"
          ],
          [
           "brazilian rock"
          ],
          [
           "brazilian ska"
          ],
          [
           "brazilian soul"
          ],
          [
           "brazilian thrash metal"
          ],
          [
           "breakbeat"
          ],
          [
           "breakcore"
          ],
          [
           "brega"
          ],
          [
           "breton folk"
          ],
          [
           "brighton indie"
          ],
          [
           "brill building pop"
          ],
          [
           "brisbane indie"
          ],
          [
           "bristol electronic"
          ],
          [
           "bristol indie"
          ],
          [
           "brit funk"
          ],
          [
           "british alternative rock"
          ],
          [
           "british black metal"
          ],
          [
           "british blues"
          ],
          [
           "british children's music"
          ],
          [
           "british choir"
          ],
          [
           "british classical piano"
          ],
          [
           "british comedy"
          ],
          [
           "british contemporary classical"
          ],
          [
           "british dance band"
          ],
          [
           "british death metal"
          ],
          [
           "british experimental"
          ],
          [
           "british folk"
          ],
          [
           "british grindcore"
          ],
          [
           "british indie rock"
          ],
          [
           "british industrial"
          ],
          [
           "british invasion"
          ],
          [
           "british jazz"
          ],
          [
           "british modern classical"
          ],
          [
           "british orchestra"
          ],
          [
           "british post-rock"
          ],
          [
           "british power metal"
          ],
          [
           "british singer-songwriter"
          ],
          [
           "british soul"
          ],
          [
           "british soundtrack"
          ],
          [
           "britpop"
          ],
          [
           "broadway"
          ],
          [
           "broken beat"
          ],
          [
           "bronx hip hop"
          ],
          [
           "brooklyn drill"
          ],
          [
           "brooklyn indie"
          ],
          [
           "brostep"
          ],
          [
           "brutal death metal"
          ],
          [
           "brutal deathcore"
          ],
          [
           "bubble trance"
          ],
          [
           "bubblegrunge"
          ],
          [
           "bubblegum dance"
          ],
          [
           "bubblegum pop"
          ],
          [
           "buffalo hip hop"
          ],
          [
           "buffalo ny indie"
          ],
          [
           "buffalo ny metal"
          ],
          [
           "bulgarian experimental"
          ],
          [
           "burmese traditional"
          ],
          [
           "bush ballad"
          ],
          [
           "c-pop"
          ],
          [
           "c86"
          ],
          [
           "cabaret"
          ],
          [
           "cajun"
          ],
          [
           "calgary indie"
          ],
          [
           "cali rap"
          ],
          [
           "calming instrumental"
          ],
          [
           "calypso"
          ],
          [
           "cambodian rock"
          ],
          [
           "cambridge choir"
          ],
          [
           "cambridgeshire indie"
          ],
          [
           "cameroonian pop"
          ],
          [
           "canadian americana"
          ],
          [
           "canadian blues"
          ],
          [
           "canadian ccm"
          ],
          [
           "canadian celtic"
          ],
          [
           "canadian children's music"
          ],
          [
           "canadian choir"
          ],
          [
           "canadian classical"
          ],
          [
           "canadian classical piano"
          ],
          [
           "canadian comedy"
          ],
          [
           "canadian contemporary country"
          ],
          [
           "canadian contemporary r&b"
          ],
          [
           "canadian country"
          ],
          [
           "canadian electronic"
          ],
          [
           "canadian electropop"
          ],
          [
           "canadian experimental"
          ],
          [
           "canadian folk"
          ],
          [
           "canadian hardcore"
          ],
          [
           "canadian hip hop"
          ],
          [
           "canadian house"
          ],
          [
           "canadian indie"
          ],
          [
           "canadian indie folk"
          ],
          [
           "canadian indigenous"
          ],
          [
           "canadian indigenous hip hop"
          ],
          [
           "canadian latin"
          ],
          [
           "canadian metal"
          ],
          [
           "canadian metalcore"
          ],
          [
           "canadian modern jazz"
          ],
          [
           "canadian pop"
          ],
          [
           "canadian pop punk"
          ],
          [
           "canadian post-hardcore"
          ],
          [
           "canadian post-rock"
          ],
          [
           "canadian psychedelic"
          ],
          [
           "canadian punk"
          ],
          [
           "canadian rock"
          ],
          [
           "canadian rockabilly"
          ],
          [
           "canadian singer-songwriter"
          ],
          [
           "canadian soundtrack"
          ],
          [
           "cancion melodica"
          ],
          [
           "candy pop"
          ],
          [
           "cantautor"
          ],
          [
           "cante flamenco"
          ],
          [
           "canterbury scene"
          ],
          [
           "canto popular uruguayo"
          ],
          [
           "cantopop"
          ],
          [
           "canzone d'autore"
          ],
          [
           "canzone genovese"
          ],
          [
           "canzone napoletana"
          ],
          [
           "cape town indie"
          ],
          [
           "cape verdean folk"
          ],
          [
           "capoeira"
          ],
          [
           "caracas indie"
          ],
          [
           "carnatic"
          ],
          [
           "carnatic instrumental"
          ],
          [
           "carnatic vocal"
          ],
          [
           "cartoon"
          ],
          [
           "cathedral choir"
          ],
          [
           "caucasian classical"
          ],
          [
           "caucasian classical piano"
          ],
          [
           "ccm"
          ],
          [
           "cedm"
          ],
          [
           "cello"
          ],
          [
           "celtic"
          ],
          [
           "celtic harp"
          ],
          [
           "celtic metal"
          ],
          [
           "celtic punk"
          ],
          [
           "celtic rock"
          ],
          [
           "cha-cha-cha"
          ],
          [
           "chakra"
          ],
          [
           "chamame"
          ],
          [
           "chamber choir"
          ],
          [
           "chamber ensemble"
          ],
          [
           "chamber folk"
          ],
          [
           "chamber orchestra"
          ],
          [
           "chamber pop"
          ],
          [
           "chamber psych"
          ],
          [
           "champeta"
          ],
          [
           "channel islands indie"
          ],
          [
           "channel pop"
          ],
          [
           "chanson"
          ],
          [
           "chanson paillarde"
          ],
          [
           "chaotic hardcore"
          ],
          [
           "charanga"
          ],
          [
           "charango"
          ],
          [
           "charlotte nc indie"
          ],
          [
           "charlottesville indie"
          ],
          [
           "chattanooga indie"
          ],
          [
           "chicago blues"
          ],
          [
           "chicago drill"
          ],
          [
           "chicago hardcore"
          ],
          [
           "chicago house"
          ],
          [
           "chicago indie"
          ],
          [
           "chicago pop punk"
          ],
          [
           "chicago punk"
          ],
          [
           "chicago rap"
          ],
          [
           "chicago soul"
          ],
          [
           "chicano punk"
          ],
          [
           "chicano rap"
          ],
          [
           "chicha"
          ],
          [
           "chihuahua indie"
          ],
          [
           "children's choir"
          ],
          [
           "children's folk"
          ],
          [
           "children's music"
          ],
          [
           "children's story"
          ],
          [
           "chilean hardcore"
          ],
          [
           "chilean indie"
          ],
          [
           "chilean rock"
          ],
          [
           "chilena"
          ],
          [
           "chill beats"
          ],
          [
           "chill guitar"
          ],
          [
           "chill lounge"
          ],
          [
           "chill out"
          ],
          [
           "chill pop"
          ],
          [
           "chill r&b"
          ],
          [
           "chillhop"
          ],
          [
           "chillstep"
          ],
          [
           "chillwave"
          ],
          [
           "chinese audiophile"
          ],
          [
           "chinese classical"
          ],
          [
           "chinese classical performance"
          ],
          [
           "chinese classical piano"
          ],
          [
           "chinese electropop"
          ],
          [
           "chinese hip hop"
          ],
          [
           "chinese idol pop"
          ],
          [
           "chinese indie"
          ],
          [
           "chinese indie rock"
          ],
          [
           "chinese instrumental"
          ],
          [
           "chinese jazz"
          ],
          [
           "chinese r&b"
          ],
          [
           "chinese soundtrack"
          ],
          [
           "chinese traditional"
          ],
          [
           "chiptune"
          ],
          [
           "chopped and screwed"
          ],
          [
           "choral"
          ],
          [
           "choro"
          ],
          [
           "christchurch indie"
          ],
          [
           "christelijk"
          ],
          [
           "christian a cappella"
          ],
          [
           "christian alternative rock"
          ],
          [
           "christian dance"
          ],
          [
           "christian hard rock"
          ],
          [
           "christian hardcore"
          ],
          [
           "christian hip hop"
          ],
          [
           "christian indie"
          ],
          [
           "christian metal"
          ],
          [
           "christian metalcore"
          ],
          [
           "christian music"
          ],
          [
           "christian pop"
          ],
          [
           "christian power metal"
          ],
          [
           "christian punk"
          ],
          [
           "christian relaxative"
          ],
          [
           "christian rock"
          ],
          [
           "christian trap"
          ],
          [
           "christian uplift"
          ],
          [
           "christmas instrumental"
          ],
          [
           "christmas product"
          ],
          [
           "chunchaca"
          ],
          [
           "chutney"
          ],
          [
           "cincinnati rap"
          ],
          [
           "cinematic post-rock"
          ],
          [
           "circuit"
          ],
          [
           "circus"
          ],
          [
           "classic afrobeat"
          ],
          [
           "classic arab pop"
          ],
          [
           "classic australian country"
          ],
          [
           "classic belgian pop"
          ],
          [
           "classic bhangra"
          ],
          [
           "classic bollywood"
          ],
          [
           "classic canadian rock"
          ],
          [
           "classic cantopop"
          ],
          [
           "classic colombian pop"
          ],
          [
           "classic country pop"
          ],
          [
           "classic czech pop"
          ],
          [
           "classic danish pop"
          ],
          [
           "classic dubstep"
          ],
          [
           "classic eurovision"
          ],
          [
           "classic finnish pop"
          ],
          [
           "classic french pop"
          ],
          [
           "classic garage rock"
          ],
          [
           "classic girl group"
          ],
          [
           "classic greek pop"
          ],
          [
           "classic hardstyle"
          ],
          [
           "classic icelandic pop"
          ],
          [
           "classic indo pop"
          ],
          [
           "classic iskelma"
          ],
          [
           "classic israeli pop"
          ],
          [
           "classic italian folk pop"
          ],
          [
           "classic italian pop"
          ],
          [
           "classic j-rock"
          ],
          [
           "classic japanese jazz"
          ],
          [
           "classic korean pop"
          ],
          [
           "classic latvian pop"
          ],
          [
           "classic mandopop"
          ],
          [
           "classic norwegian pop"
          ],
          [
           "classic opm"
          ],
          [
           "classic pakistani pop"
          ],
          [
           "classic persian pop"
          ],
          [
           "classic peruvian pop"
          ],
          [
           "classic polish pop"
          ],
          [
           "classic praise"
          ],
          [
           "classic psychedelic rock"
          ],
          [
           "classic punjabi pop"
          ],
          [
           "classic rock"
          ],
          [
           "classic russian pop"
          ],
          [
           "classic russian rock"
          ],
          [
           "classic schlager"
          ],
          [
           "classic soul"
          ],
          [
           "classic soundtrack"
          ],
          [
           "classic swedish pop"
          ],
          [
           "classic thai pop"
          ],
          [
           "classic tunisian pop"
          ],
          [
           "classic turkish pop"
          ],
          [
           "classic uk pop"
          ],
          [
           "classic venezuelan pop"
          ],
          [
           "classical"
          ],
          [
           "classical accordion"
          ],
          [
           "classical baritone"
          ],
          [
           "classical bass"
          ],
          [
           "classical cello"
          ],
          [
           "classical clarinet"
          ],
          [
           "classical contralto"
          ],
          [
           "classical countertenor"
          ],
          [
           "classical era"
          ],
          [
           "classical flute"
          ],
          [
           "classical guitar"
          ],
          [
           "classical harp"
          ],
          [
           "classical horn"
          ],
          [
           "classical mandolin"
          ],
          [
           "classical mezzo-soprano"
          ],
          [
           "classical oboe"
          ],
          [
           "classical organ"
          ],
          [
           "classical performance"
          ],
          [
           "classical piano"
          ],
          [
           "classical piano duo"
          ],
          [
           "classical piano trio"
          ],
          [
           "classical saxophone"
          ],
          [
           "classical soprano"
          ],
          [
           "classical tenor"
          ],
          [
           "classical trumpet"
          ],
          [
           "classify"
          ],
          [
           "clawhammer banjo"
          ],
          [
           "clean comedy"
          ],
          [
           "cleveland metal"
          ],
          [
           "coco"
          ],
          [
           "collage pop"
          ],
          [
           "college a cappella"
          ],
          [
           "colombian hip hop"
          ],
          [
           "colombian pop"
          ],
          [
           "colombian rock"
          ],
          [
           "columbus ohio indie"
          ],
          [
           "comedy"
          ],
          [
           "comedy rap"
          ],
          [
           "comedy rock"
          ],
          [
           "comic"
          ],
          [
           "comic metal"
          ],
          [
           "commons"
          ],
          [
           "complextro"
          ],
          [
           "compositional ambient"
          ],
          [
           "concepcion indie"
          ],
          [
           "concert band"
          ],
          [
           "connecticut hardcore"
          ],
          [
           "connecticut indie"
          ],
          [
           "conscious hip hop"
          ],
          [
           "contemporary choir"
          ],
          [
           "contemporary classical"
          ],
          [
           "contemporary classical piano"
          ],
          [
           "contemporary country"
          ],
          [
           "contemporary folk"
          ],
          [
           "contemporary gospel"
          ],
          [
           "contemporary jazz"
          ],
          [
           "contemporary post-bop"
          ],
          [
           "contemporary vocal jazz"
          ],
          [
           "contrabass"
          ],
          [
           "cool jazz"
          ],
          [
           "copla"
          ],
          [
           "cornish folk"
          ],
          [
           "cornwall indie"
          ],
          [
           "corrido"
          ],
          [
           "corridos cristianos"
          ],
          [
           "corridos tumbados"
          ],
          [
           "corrosion"
          ],
          [
           "cosmic american"
          ],
          [
           "cosmic post-rock"
          ],
          [
           "country"
          ],
          [
           "country blues"
          ],
          [
           "country boogie"
          ],
          [
           "country dawn"
          ],
          [
           "country gospel"
          ],
          [
           "country pop"
          ],
          [
           "country rap"
          ],
          [
           "country road"
          ],
          [
           "country rock"
          ],
          [
           "coverchill"
          ],
          [
           "cowboy western"
          ],
          [
           "cowpunk"
          ],
          [
           "crack rock steady"
          ],
          [
           "croatian folk"
          ],
          [
           "croatian pop"
          ],
          [
           "croatian rock"
          ],
          [
           "crossover thrash"
          ],
          [
           "crunk"
          ],
          [
           "crust punk"
          ],
          [
           "cuarteto"
          ],
          [
           "cuatro venezolano"
          ],
          [
           "cuban alternative"
          ],
          [
           "cuban rumba"
          ],
          [
           "cubaton"
          ],
          [
           "cumbia"
          ],
          [
           "cumbia andina mexicana"
          ],
          [
           "cumbia chilena"
          ],
          [
           "cumbia colombiana regia"
          ],
          [
           "cumbia ecuatoriana"
          ],
          [
           "cumbia funk"
          ],
          [
           "cumbia lagunera"
          ],
          [
           "cumbia paraguaya"
          ],
          [
           "cumbia peruana"
          ],
          [
           "cumbia pop"
          ],
          [
           "cumbia ranchera"
          ],
          [
           "cumbia salvadorena"
          ],
          [
           "cumbia santafesina"
          ],
          [
           "cumbia sonidera"
          ],
          [
           "cumbia villera"
          ],
          [
           "cyberpunk"
          ],
          [
           "cymraeg"
          ],
          [
           "cypriot pop"
          ],
          [
           "czech classical"
          ],
          [
           "czech classical piano"
          ],
          [
           "czech contemporary classical"
          ],
          [
           "d-beat"
          ],
          [
           "dabke"
          ],
          [
           "dakke dak"
          ],
          [
           "dallas indie"
          ],
          [
           "dance pop"
          ],
          [
           "dance rock"
          ],
          [
           "dance-punk"
          ],
          [
           "dancehall"
          ],
          [
           "dangdut"
          ],
          [
           "danish alternative rock"
          ],
          [
           "danish classical"
          ],
          [
           "danish electronic"
          ],
          [
           "danish electropop"
          ],
          [
           "danish hip hop"
          ],
          [
           "danish jazz"
          ],
          [
           "danish metal"
          ],
          [
           "danish pop"
          ],
          [
           "danish pop rock"
          ],
          [
           "danish post-punk"
          ],
          [
           "danish punk"
          ],
          [
           "danish rock"
          ],
          [
           "danish singer-songwriter"
          ],
          [
           "dansband"
          ],
          [
           "danseband"
          ],
          [
           "dansktop"
          ],
          [
           "danspunk"
          ],
          [
           "dark cabaret"
          ],
          [
           "dark clubbing"
          ],
          [
           "dark disco"
          ],
          [
           "dark hardcore"
          ],
          [
           "dark jazz"
          ],
          [
           "dark minimal techno"
          ],
          [
           "dark post-punk"
          ],
          [
           "dark techno"
          ],
          [
           "dark trap"
          ],
          [
           "dark wave"
          ],
          [
           "darksynth"
          ],
          [
           "dayton indie"
          ],
          [
           "dc hardcore"
          ],
          [
           "dc indie"
          ],
          [
           "death 'n' roll"
          ],
          [
           "death metal"
          ],
          [
           "deathcore"
          ],
          [
           "deathgrass"
          ],
          [
           "deathgrind"
          ],
          [
           "deathrash"
          ],
          [
           "deathrock"
          ],
          [
           "deathstep"
          ],
          [
           "deep acoustic pop"
          ],
          [
           "deep adult standards"
          ],
          [
           "deep big room"
          ],
          [
           "deep ccm"
          ],
          [
           "deep christian rock"
          ],
          [
           "deep classic garage rock"
          ],
          [
           "deep comedy"
          ],
          [
           "deep contemporary country"
          ],
          [
           "deep dance pop"
          ],
          [
           "deep delta blues"
          ],
          [
           "deep disco"
          ],
          [
           "deep disco house"
          ],
          [
           "deep dnb"
          ],
          [
           "deep east coast hip hop"
          ],
          [
           "deep euro house"
          ],
          [
           "deep flow"
          ],
          [
           "deep free jazz"
          ],
          [
           "deep freestyle"
          ],
          [
           "deep full on"
          ],
          [
           "deep funk"
          ],
          [
           "deep g funk"
          ],
          [
           "deep gothic post-punk"
          ],
          [
           "deep groove house"
          ],
          [
           "deep house"
          ],
          [
           "deep idm"
          ],
          [
           "deep indian pop"
          ],
          [
           "deep indie singer-songwriter"
          ],
          [
           "deep latin alternative"
          ],
          [
           "deep latin christian"
          ],
          [
           "deep melodic metalcore"
          ],
          [
           "deep minimal techno"
          ],
          [
           "deep motown"
          ],
          [
           "deep new americana"
          ],
          [
           "deep new wave"
          ],
          [
           "deep norteno"
          ],
          [
           "deep northern soul"
          ],
          [
           "deep pop edm"
          ],
          [
           "deep progressive house"
          ],
          [
           "deep psychobilly"
          ],
          [
           "deep punk rock"
          ],
          [
           "deep r&b"
          ],
          [
           "deep ragga"
          ],
          [
           "deep regional mexican"
          ],
          [
           "deep smooth jazz"
          ],
          [
           "deep soft rock"
          ],
          [
           "deep soul house"
          ],
          [
           "deep soundtrack"
          ],
          [
           "deep southern soul"
          ],
          [
           "deep southern trap"
          ],
          [
           "deep space rock"
          ],
          [
           "deep talent show"
          ],
          [
           "deep tech house"
          ],
          [
           "deep techno"
          ],
          [
           "deep tropical house"
          ],
          [
           "deep underground hip hop"
          ],
          [
           "deep uplifting trance"
          ],
          [
           "delta blues"
          ],
          [
           "dembow"
          ],
          [
           "denpa-kei"
          ],
          [
           "denton tx indie"
          ],
          [
           "denver indie"
          ],
          [
           "depressive black metal"
          ],
          [
           "derby indie"
          ],
          [
           "desert blues"
          ],
          [
           "desi hip hop"
          ],
          [
           "desi pop"
          ],
          [
           "destroy techno"
          ],
          [
           "detroit hip hop"
          ],
          [
           "detroit house"
          ],
          [
           "detroit techno"
          ],
          [
           "detroit trap"
          ],
          [
           "detske pisnicky"
          ],
          [
           "detskie pesni"
          ],
          [
           "devon indie"
          ],
          [
           "dfw rap"
          ],
          [
           "dhrupad"
          ],
          [
           "digital hardcore"
          ],
          [
           "dinner jazz"
          ],
          [
           "dirty south rap"
          ],
          [
           "dirty texas rap"
          ],
          [
           "disco"
          ],
          [
           "disco house"
          ],
          [
           "disney"
          ],
          [
           "diva house"
          ],
          [
           "dixieland"
          ],
          [
           "diy emo"
          ],
          [
           "djent"
          ],
          [
           "dmv rap"
          ],
          [
           "dominican pop"
          ],
          [
           "dong-yo"
          ],
          [
           "doo-wop"
          ],
          [
           "doom metal"
          ],
          [
           "double drumming"
          ],
          [
           "downtempo"
          ],
          [
           "drama"
          ],
          [
           "dream pop"
          ],
          [
           "dream trance"
          ],
          [
           "dreamgaze"
          ],
          [
           "dreamo"
          ],
          [
           "drift"
          ],
          [
           "drill"
          ],
          [
           "drill and bass"
          ],
          [
           "drone"
          ],
          [
           "drone folk"
          ],
          [
           "drone metal"
          ],
          [
           "drum and bass"
          ],
          [
           "dub"
          ],
          [
           "dub metal"
          ],
          [
           "dub poetry"
          ],
          [
           "dub techno"
          ],
          [
           "dubstep"
          ],
          [
           "dubsteppe"
          ],
          [
           "duduk"
          ],
          [
           "duluth indie"
          ],
          [
           "dunedin indie"
          ],
          [
           "dunedin sound"
          ],
          [
           "dungeon synth"
          ],
          [
           "duranguense"
          ],
          [
           "dusseldorf electronic"
          ],
          [
           "dutch blues"
          ],
          [
           "dutch cabaret"
          ],
          [
           "dutch classical piano"
          ],
          [
           "dutch death metal"
          ],
          [
           "dutch dnb"
          ],
          [
           "dutch edm"
          ],
          [
           "dutch folk"
          ],
          [
           "dutch hip hop"
          ],
          [
           "dutch house"
          ],
          [
           "dutch indie"
          ],
          [
           "dutch jazz"
          ],
          [
           "dutch metal"
          ],
          [
           "dutch pop"
          ],
          [
           "dutch prog"
          ],
          [
           "dutch rap pop"
          ],
          [
           "dutch rock"
          ],
          [
           "dutch trance"
          ],
          [
           "e6fi"
          ],
          [
           "early american folk"
          ],
          [
           "early avant garde"
          ],
          [
           "early modern classical"
          ],
          [
           "early music"
          ],
          [
           "early music choir"
          ],
          [
           "early music ensemble"
          ],
          [
           "early reggae"
          ],
          [
           "early romantic era"
          ],
          [
           "early synthpop"
          ],
          [
           "early us punk"
          ],
          [
           "east coast hip hop"
          ],
          [
           "east coast reggae"
          ],
          [
           "eastern bloc groove"
          ],
          [
           "easy listening"
          ],
          [
           "easycore"
          ],
          [
           "eau claire indie"
          ],
          [
           "ebm"
          ],
          [
           "ecm-style jazz"
          ],
          [
           "ectofolk"
          ],
          [
           "ecuadorian pop"
          ],
          [
           "edm"
          ],
          [
           "edmonton indie"
          ],
          [
           "egyptian pop"
          ],
          [
           "egyptian traditional"
          ],
          [
           "el paso indie"
          ],
          [
           "electra"
          ],
          [
           "electric bass"
          ],
          [
           "electric blues"
          ],
          [
           "electro"
          ],
          [
           "electro house"
          ],
          [
           "electro jazz"
          ],
          [
           "electro latino"
          ],
          [
           "electro swing"
          ],
          [
           "electro-industrial"
          ],
          [
           "electro-pop francais"
          ],
          [
           "electroclash"
          ],
          [
           "electrofox"
          ],
          [
           "electronic djent"
          ],
          [
           "electronic rock"
          ],
          [
           "electronic trap"
          ],
          [
           "electronica"
          ],
          [
           "electronica argentina"
          ],
          [
           "electropop"
          ],
          [
           "electropowerpop"
          ],
          [
           "emo"
          ],
          [
           "emo mexicano"
          ],
          [
           "emo punk"
          ],
          [
           "emo rap"
          ],
          [
           "emocore"
          ],
          [
           "english baroque"
          ],
          [
           "english indie rock"
          ],
          [
           "english renaissance"
          ],
          [
           "enka"
          ],
          [
           "entehno"
          ],
          [
           "environmental"
          ],
          [
           "epic doom"
          ],
          [
           "epicore"
          ],
          [
           "erhu"
          ],
          [
           "escape room"
          ],
          [
           "esperanto"
          ],
          [
           "essex indie"
          ],
          [
           "estonian hip hop"
          ],
          [
           "estonian pop"
          ],
          [
           "ethereal wave"
          ],
          [
           "etherpop"
          ],
          [
           "ethio-jazz"
          ],
          [
           "ethiopian pop"
          ],
          [
           "ethnomusicology"
          ],
          [
           "ethnotronica"
          ],
          [
           "eugene indie"
          ],
          [
           "euphoric hardstyle"
          ],
          [
           "eurobeat"
          ],
          [
           "eurodance"
          ],
          [
           "europop"
          ],
          [
           "euroska"
          ],
          [
           "eurovision"
          ],
          [
           "exotica"
          ],
          [
           "experimental"
          ],
          [
           "experimental ambient"
          ],
          [
           "experimental big band"
          ],
          [
           "experimental dub"
          ],
          [
           "experimental folk"
          ],
          [
           "experimental guitar"
          ],
          [
           "experimental hip hop"
          ],
          [
           "experimental house"
          ],
          [
           "experimental indie"
          ],
          [
           "experimental jazz"
          ],
          [
           "experimental pop"
          ],
          [
           "experimental rock"
          ],
          [
           "experimental vocal"
          ],
          [
           "fado"
          ],
          [
           "family gospel"
          ],
          [
           "faroese pop"
          ],
          [
           "fast melodic punk"
          ],
          [
           "fidget house"
          ],
          [
           "filmi"
          ],
          [
           "filter house"
          ],
          [
           "filthstep"
          ],
          [
           "final fantasy"
          ],
          [
           "fingerstyle"
          ],
          [
           "finnish alternative rock"
          ],
          [
           "finnish classical"
          ],
          [
           "finnish contemporary classical"
          ],
          [
           "finnish death metal"
          ],
          [
           "finnish edm"
          ],
          [
           "finnish hard rock"
          ],
          [
           "finnish heavy metal"
          ],
          [
           "finnish metal"
          ],
          [
           "finnish power metal"
          ],
          [
           "finnish soul"
          ],
          [
           "flamenco"
          ],
          [
           "flamenco guitar"
          ],
          [
           "flick hop"
          ],
          [
           "flint hip hop"
          ],
          [
           "float house"
          ],
          [
           "florida death metal"
          ],
          [
           "florida rap"
          ],
          [
           "fluxwork"
          ],
          [
           "fo jing"
          ],
          [
           "focus"
          ],
          [
           "focus beats"
          ],
          [
           "focus trance"
          ],
          [
           "folclor afrocolombiano"
          ],
          [
           "folclor colombiano"
          ],
          [
           "folclore extremeno"
          ],
          [
           "folclore jujeno"
          ],
          [
           "folclore navarra"
          ],
          [
           "folclore salteno"
          ],
          [
           "folclore tucumano"
          ],
          [
           "folk"
          ],
          [
           "folk metal"
          ],
          [
           "folk punk"
          ],
          [
           "folk rock"
          ],
          [
           "folk rock italiano"
          ],
          [
           "folk-pop"
          ],
          [
           "folklore argentino"
          ],
          [
           "folklore boliviano"
          ],
          [
           "folklore chileno"
          ],
          [
           "folklore ecuatoriano"
          ],
          [
           "folklore peruano"
          ],
          [
           "folklore venezolano"
          ],
          [
           "folklore veracruzano"
          ],
          [
           "folkmusik"
          ],
          [
           "folktronica"
          ],
          [
           "footwork"
          ],
          [
           "forro"
          ],
          [
           "forro tradicional"
          ],
          [
           "fort worth indie"
          ],
          [
           "fourth world"
          ],
          [
           "francoton"
          ],
          [
           "freak folk"
          ],
          [
           "freakbeat"
          ],
          [
           "free folk"
          ],
          [
           "free improvisation"
          ],
          [
           "free jazz"
          ],
          [
           "freestyle"
          ],
          [
           "french baroque"
          ],
          [
           "french classical piano"
          ],
          [
           "french contemporary classical"
          ],
          [
           "french death metal"
          ],
          [
           "french dnb"
          ],
          [
           "french hip hop"
          ],
          [
           "french indie folk"
          ],
          [
           "french indie pop"
          ],
          [
           "french indietronica"
          ],
          [
           "french jazz"
          ],
          [
           "french metal"
          ],
          [
           "french movie tunes"
          ],
          [
           "french opera"
          ],
          [
           "french orchestra"
          ],
          [
           "french pop"
          ],
          [
           "french post-punk"
          ],
          [
           "french psychedelic"
          ],
          [
           "french reggae"
          ],
          [
           "french rock"
          ],
          [
           "french romanticism"
          ],
          [
           "french shoegaze"
          ],
          [
           "french soundtrack"
          ],
          [
           "french synthpop"
          ],
          [
           "french techno"
          ],
          [
           "frenchcore"
          ],
          [
           "full on"
          ],
          [
           "funana"
          ],
          [
           "funeral doom"
          ],
          [
           "funk"
          ],
          [
           "funk 150 bpm"
          ],
          [
           "funk carioca"
          ],
          [
           "funk das antigas"
          ],
          [
           "funk metal"
          ],
          [
           "funk mexicano"
          ],
          [
           "funk ostentacao"
          ],
          [
           "funk paulista"
          ],
          [
           "funk pop"
          ],
          [
           "funk rock"
          ],
          [
           "funky breaks"
          ],
          [
           "funky tech house"
          ],
          [
           "future bass"
          ],
          [
           "future funk"
          ],
          [
           "future garage"
          ],
          [
           "future house"
          ],
          [
           "future rock"
          ],
          [
           "futurepop"
          ],
          [
           "g funk"
          ],
          [
           "gabba"
          ],
          [
           "gabonese pop"
          ],
          [
           "gaian doom"
          ],
          [
           "gainesville indie"
          ],
          [
           "gaita zuliana"
          ],
          [
           "galante era"
          ],
          [
           "gamelan"
          ],
          [
           "gaming dubstep"
          ],
          [
           "gaming edm"
          ],
          [
           "gangster rap"
          ],
          [
           "garage house"
          ],
          [
           "garage pop"
          ],
          [
           "garage psych"
          ],
          [
           "garage punk"
          ],
          [
           "garage punk blues"
          ],
          [
           "garage rock"
          ],
          [
           "garage rock revival"
          ],
          [
           "gauze pop"
          ],
          [
           "gbvfi"
          ],
          [
           "geek folk"
          ],
          [
           "geek rock"
          ],
          [
           "georgian folk"
          ],
          [
           "german alternative rock"
          ],
          [
           "german baroque"
          ],
          [
           "german choir"
          ],
          [
           "german classical piano"
          ],
          [
           "german country"
          ],
          [
           "german dance"
          ],
          [
           "german hard rock"
          ],
          [
           "german heavy metal"
          ],
          [
           "german house"
          ],
          [
           "german indie"
          ],
          [
           "german jazz"
          ],
          [
           "german literature"
          ],
          [
           "german metal"
          ],
          [
           "german oi"
          ],
          [
           "german opera"
          ],
          [
           "german orchestra"
          ],
          [
           "german pop"
          ],
          [
           "german pop rock"
          ],
          [
           "german post-hardcore"
          ],
          [
           "german power metal"
          ],
          [
           "german punk"
          ],
          [
           "german renaissance"
          ],
          [
           "german rock"
          ],
          [
           "german romanticism"
          ],
          [
           "german show tunes"
          ],
          [
           "german soundtrack"
          ],
          [
           "german techno"
          ],
          [
           "german thrash metal"
          ],
          [
           "german trance"
          ],
          [
           "german underground rap"
          ],
          [
           "ghanaian hip hop"
          ],
          [
           "ghanaian traditional"
          ],
          [
           "ghazal"
          ],
          [
           "ghent indie"
          ],
          [
           "girl group"
          ],
          [
           "glam metal"
          ],
          [
           "glam punk"
          ],
          [
           "glam rock"
          ],
          [
           "glee club"
          ],
          [
           "glitch"
          ],
          [
           "glitch hop"
          ],
          [
           "glitch pop"
          ],
          [
           "glitchcore"
          ],
          [
           "go-go"
          ],
          [
           "goregrind"
          ],
          [
           "gospel"
          ],
          [
           "gospel antigas"
          ],
          [
           "gospel blues"
          ],
          [
           "gospel italiano"
          ],
          [
           "gospel r&b"
          ],
          [
           "gospel rap"
          ],
          [
           "gospel singers"
          ],
          [
           "gospel soul"
          ],
          [
           "gothabilly"
          ],
          [
           "gothenburg indie"
          ],
          [
           "gothenburg metal"
          ],
          [
           "gothic alternative"
          ],
          [
           "gothic americana"
          ],
          [
           "gothic black metal"
          ],
          [
           "gothic metal"
          ],
          [
           "gothic post-punk"
          ],
          [
           "gothic rock"
          ],
          [
           "gothic symphonic metal"
          ],
          [
           "gqom"
          ],
          [
           "grand rapids indie"
          ],
          [
           "grave wave"
          ],
          [
           "greek clarinet"
          ],
          [
           "greek contemporary classical"
          ],
          [
           "greek folk"
          ],
          [
           "greek guitar"
          ],
          [
           "greek house"
          ],
          [
           "greek jazz"
          ],
          [
           "greek pop"
          ],
          [
           "greek swing"
          ],
          [
           "gregorian chant"
          ],
          [
           "grime"
          ],
          [
           "grindcore"
          ],
          [
           "griot"
          ],
          [
           "groove metal"
          ],
          [
           "groove room"
          ],
          [
           "grunge"
          ],
          [
           "grunge pop"
          ],
          [
           "grupera"
          ],
          [
           "gruperas inmortales"
          ],
          [
           "guadalajara indie"
          ],
          [
           "guam indie"
          ],
          [
           "guaracha"
          ],
          [
           "guatemalan pop"
          ],
          [
           "guidance"
          ],
          [
           "guinean pop"
          ],
          [
           "guitarra argentina"
          ],
          [
           "guitarra clasica"
          ],
          [
           "guitarra portuguesa"
          ],
          [
           "gujarati garba"
          ],
          [
           "gujarati pop"
          ],
          [
           "guzheng"
          ],
          [
           "gymcore"
          ],
          [
           "gypsy"
          ],
          [
           "gypsy jazz"
          ],
          [
           "gypsy punk"
          ],
          [
           "haitian traditional"
          ],
          [
           "halifax indie"
          ],
          [
           "halloween"
          ],
          [
           "hamburg electronic"
          ],
          [
           "hammered dulcimer"
          ],
          [
           "hammond organ"
          ],
          [
           "hands up"
          ],
          [
           "hangpan"
          ],
          [
           "happy hardcore"
          ],
          [
           "hard alternative"
          ],
          [
           "hard bop"
          ],
          [
           "hard minimal techno"
          ],
          [
           "hard rock"
          ],
          [
           "hard rock brasileiro"
          ],
          [
           "hardcore"
          ],
          [
           "hardcore hip hop"
          ],
          [
           "hardcore punk"
          ],
          [
           "hardcore techno"
          ],
          [
           "hardstyle"
          ],
          [
           "harlem hip hop"
          ],
          [
           "harlem renaissance"
          ],
          [
           "harmonica blues"
          ],
          [
           "harmonica jazz"
          ],
          [
           "harp"
          ],
          [
           "harpsichord"
          ],
          [
           "haryanvi pop"
          ],
          [
           "hauntology"
          ],
          [
           "hawaiian"
          ],
          [
           "hawaiian hip hop"
          ],
          [
           "hawaiian indie"
          ],
          [
           "healing"
          ],
          [
           "heartland rock"
          ],
          [
           "hi-nrg"
          ],
          [
           "highlife"
          ],
          [
           "hindi hip hop"
          ],
          [
           "hindi indie"
          ],
          [
           "hindustani classical"
          ],
          [
           "hindustani instrumental"
          ],
          [
           "hindustani vocal"
          ],
          [
           "hip hop"
          ],
          [
           "hip hop cubano"
          ],
          [
           "hip house"
          ],
          [
           "hip pop"
          ],
          [
           "hiplife"
          ],
          [
           "histoire pour enfants"
          ],
          [
           "historic classical performance"
          ],
          [
           "historic orchestral performance"
          ],
          [
           "historic piano performance"
          ],
          [
           "historic string quartet"
          ],
          [
           "historical keyboard"
          ],
          [
           "historically informed performance"
          ],
          [
           "hoerspiel"
          ],
          [
           "hokkien pop"
          ],
          [
           "hollywood"
          ],
          [
           "hong kong hip hop"
          ],
          [
           "hong kong indie"
          ],
          [
           "hong kong rock"
          ],
          [
           "honky tonk"
          ],
          [
           "honky-tonk piano"
          ],
          [
           "hopebeat"
          ],
          [
           "horror punk"
          ],
          [
           "horror synth"
          ],
          [
           "horrorcore"
          ],
          [
           "house"
          ],
          [
           "houston rap"
          ],
          [
           "huapango"
          ],
          [
           "huayno"
          ],
          [
           "hula"
          ],
          [
           "humppa"
          ],
          [
           "hungarian choir"
          ],
          [
           "hungarian classical performance"
          ],
          [
           "hungarian classical piano"
          ],
          [
           "hungarian contemporary classical"
          ],
          [
           "hungarian edm"
          ],
          [
           "hungarian folk"
          ],
          [
           "hungarian pop"
          ],
          [
           "hungarian rock"
          ],
          [
           "hungarian techno"
          ],
          [
           "hurdy-gurdy"
          ],
          [
           "hyperpop"
          ],
          [
           "hyphy"
          ],
          [
           "icelandic classical"
          ],
          [
           "icelandic electronic"
          ],
          [
           "icelandic experimental"
          ],
          [
           "icelandic folk"
          ],
          [
           "icelandic indie"
          ],
          [
           "icelandic jazz"
          ],
          [
           "icelandic pop"
          ],
          [
           "icelandic rock"
          ],
          [
           "idaho indie"
          ],
          [
           "idol"
          ],
          [
           "idol rock"
          ],
          [
           "ilahiler"
          ],
          [
           "ilocano pop"
          ],
          [
           "impressionism"
          ],
          [
           "indian classical"
          ],
          [
           "indian edm"
          ],
          [
           "indian folk"
          ],
          [
           "indian fusion"
          ],
          [
           "indian indie"
          ],
          [
           "indian instrumental"
          ],
          [
           "indian jazz"
          ],
          [
           "indiana hip hop"
          ],
          [
           "indie anthem-folk"
          ],
          [
           "indie cafe pop"
          ],
          [
           "indie deutschrap"
          ],
          [
           "indie dream pop"
          ],
          [
           "indie electronica"
          ],
          [
           "indie electropop"
          ],
          [
           "indie folk"
          ],
          [
           "indie game soundtrack"
          ],
          [
           "indie garage rock"
          ],
          [
           "indie hip hop"
          ],
          [
           "indie jazz"
          ],
          [
           "indie pop"
          ],
          [
           "indie pop rap"
          ],
          [
           "indie poptimism"
          ],
          [
           "indie psych-pop"
          ],
          [
           "indie punk"
          ],
          [
           "indie quebecois"
          ],
          [
           "indie r&b"
          ],
          [
           "indie rock"
          ],
          [
           "indie rock mexicano"
          ],
          [
           "indie rockism"
          ],
          [
           "indie shoegaze"
          ],
          [
           "indie singer-songwriter"
          ],
          [
           "indie soul"
          ],
          [
           "indie surf"
          ],
          [
           "indie triste"
          ],
          [
           "indiecoustica"
          ],
          [
           "indietronica"
          ],
          [
           "indonesian hip hop"
          ],
          [
           "indonesian indie"
          ],
          [
           "indonesian pop"
          ],
          [
           "indonesian r&b"
          ],
          [
           "indonesian worship"
          ],
          [
           "industrial"
          ],
          [
           "industrial hardcore"
          ],
          [
           "industrial hip hop"
          ],
          [
           "industrial metal"
          ],
          [
           "industrial rock"
          ],
          [
           "indy indie"
          ],
          [
           "instrumental acoustic guitar"
          ],
          [
           "instrumental bluegrass"
          ],
          [
           "instrumental funk"
          ],
          [
           "instrumental grime"
          ],
          [
           "instrumental math rock"
          ],
          [
           "instrumental post-rock"
          ],
          [
           "instrumental progressive metal"
          ],
          [
           "instrumental rock"
          ],
          [
           "instrumental soul"
          ],
          [
           "instrumental stoner rock"
          ],
          [
           "instrumental surf"
          ],
          [
           "intelligent dance music"
          ],
          [
           "iowa hip hop"
          ],
          [
           "irish accordion"
          ],
          [
           "irish ballad"
          ],
          [
           "irish banjo"
          ],
          [
           "irish classical"
          ],
          [
           "irish country"
          ],
          [
           "irish dance"
          ],
          [
           "irish fiddle"
          ],
          [
           "irish folk"
          ],
          [
           "irish hip hop"
          ],
          [
           "irish indie"
          ],
          [
           "irish metal"
          ],
          [
           "irish pop"
          ],
          [
           "irish pub song"
          ],
          [
           "irish rock"
          ],
          [
           "irish singer-songwriter"
          ],
          [
           "iskelma"
          ],
          [
           "islamic recitation"
          ],
          [
           "isle of wight indie"
          ],
          [
           "israeli classical"
          ],
          [
           "israeli classical piano"
          ],
          [
           "israeli folk"
          ],
          [
           "israeli hip hop"
          ],
          [
           "israeli mediterranean"
          ],
          [
           "israeli pop"
          ],
          [
           "israeli rock"
          ],
          [
           "israeli singer-songwriter"
          ],
          [
           "israeli techno"
          ],
          [
           "italian adult pop"
          ],
          [
           "italian baritone"
          ],
          [
           "italian baroque"
          ],
          [
           "italian baroque ensemble"
          ],
          [
           "italian bass"
          ],
          [
           "italian blues"
          ],
          [
           "italian classical guitar"
          ],
          [
           "italian classical piano"
          ],
          [
           "italian contemporary jazz"
          ],
          [
           "italian disco"
          ],
          [
           "italian gothic"
          ],
          [
           "italian gothic metal"
          ],
          [
           "italian indie pop"
          ],
          [
           "italian jazz"
          ],
          [
           "italian library music"
          ],
          [
           "italian mandolin"
          ],
          [
           "italian metal"
          ],
          [
           "italian mezzo-soprano"
          ],
          [
           "italian modern prog"
          ],
          [
           "italian opera"
          ],
          [
           "italian orchestra"
          ],
          [
           "italian pop rock"
          ],
          [
           "italian power metal"
          ],
          [
           "italian progressive metal"
          ],
          [
           "italian progressive rock"
          ],
          [
           "italian renaissance"
          ],
          [
           "italian romanticism"
          ],
          [
           "italian soprano"
          ],
          [
           "italian soundtrack"
          ],
          [
           "italian techno"
          ],
          [
           "italian tenor"
          ],
          [
           "italian violin"
          ],
          [
           "italo dance"
          ],
          [
           "italo house"
          ],
          [
           "j-acoustic"
          ],
          [
           "j-ambient"
          ],
          [
           "j-dance"
          ],
          [
           "j-division"
          ],
          [
           "j-idol"
          ],
          [
           "j-metal"
          ],
          [
           "j-pixie"
          ],
          [
           "j-pop"
          ],
          [
           "j-pop girl group"
          ],
          [
           "j-poprock"
          ],
          [
           "j-punk"
          ],
          [
           "j-reggae"
          ],
          [
           "j-rock"
          ],
          [
           "jacksonville indie"
          ],
          [
           "jam band"
          ],
          [
           "jamgrass"
          ],
          [
           "jamtronica"
          ],
          [
           "jangle pop"
          ],
          [
           "japanese alternative rock"
          ],
          [
           "japanese chillhop"
          ],
          [
           "japanese city pop"
          ],
          [
           "japanese classical"
          ],
          [
           "japanese classical performance"
          ],
          [
           "japanese classical piano"
          ],
          [
           "japanese concert band"
          ],
          [
           "japanese dream pop"
          ],
          [
           "japanese electronic"
          ],
          [
           "japanese electropop"
          ],
          [
           "japanese emo"
          ],
          [
           "japanese experimental"
          ],
          [
           "japanese folk"
          ],
          [
           "japanese garage rock"
          ],
          [
           "japanese girl punk"
          ],
          [
           "japanese heavy metal"
          ],
          [
           "japanese idm"
          ],
          [
           "japanese indie folk"
          ],
          [
           "japanese indie rock"
          ],
          [
           "japanese instrumental"
          ],
          [
           "japanese jazz"
          ],
          [
           "japanese jazz fusion"
          ],
          [
           "japanese jazztronica"
          ],
          [
           "japanese metalcore"
          ],
          [
           "japanese new wave"
          ],
          [
           "japanese piano"
          ],
          [
           "japanese pop punk"
          ],
          [
           "japanese post-hardcore"
          ],
          [
           "japanese power metal"
          ],
          [
           "japanese prog"
          ],
          [
           "japanese psychedelic"
          ],
          [
           "japanese punk rock"
          ],
          [
           "japanese r&b"
          ],
          [
           "japanese rockabilly"
          ],
          [
           "japanese singer-songwriter"
          ],
          [
           "japanese soundtrack"
          ],
          [
           "japanese traditional"
          ],
          [
           "japanese vgm"
          ],
          [
           "japanese vocal jazz"
          ],
          [
           "jawaiian"
          ],
          [
           "jazz"
          ],
          [
           "jazz accordion"
          ],
          [
           "jazz blues"
          ],
          [
           "jazz boom bap"
          ],
          [
           "jazz brass"
          ],
          [
           "jazz chileno"
          ],
          [
           "jazz clarinet"
          ],
          [
           "jazz colombiano"
          ],
          [
           "jazz cubano"
          ],
          [
           "jazz double bass"
          ],
          [
           "jazz drums"
          ],
          [
           "jazz flute"
          ],
          [
           "jazz funk"
          ],
          [
           "jazz fusion"
          ],
          [
           "jazz guitar"
          ],
          [
           "jazz harp"
          ],
          [
           "jazz metal"
          ],
          [
           "jazz mexicano"
          ],
          [
           "jazz orchestra"
          ],
          [
           "jazz organ"
          ],
          [
           "jazz piano"
          ],
          [
           "jazz pop"
          ],
          [
           "jazz quartet"
          ],
          [
           "jazz rap"
          ],
          [
           "jazz rock"
          ],
          [
           "jazz saxophone"
          ],
          [
           "jazz trio"
          ],
          [
           "jazz trombone"
          ],
          [
           "jazz trumpet"
          ],
          [
           "jazz tuba"
          ],
          [
           "jazz venezolano"
          ],
          [
           "jazz vibraphone"
          ],
          [
           "jazz violin"
          ],
          [
           "jazztronica"
          ],
          [
           "jewish cantorial"
          ],
          [
           "jewish hip hop"
          ],
          [
           "jig and reel"
          ],
          [
           "jordanian pop"
          ],
          [
           "joropo"
          ],
          [
           "jovem guarda"
          ],
          [
           "jug band"
          ],
          [
           "juju"
          ],
          [
           "jump blues"
          ],
          [
           "jump up"
          ],
          [
           "k-indie"
          ],
          [
           "k-pop"
          ],
          [
           "k-pop boy group"
          ],
          [
           "k-pop girl group"
          ],
          [
           "k-rap"
          ],
          [
           "kabarett"
          ],
          [
           "kabyle"
          ],
          [
           "kaneka"
          ],
          [
           "kannada bhava geethe"
          ],
          [
           "kansas city hip hop"
          ],
          [
           "kashmiri pop"
          ],
          [
           "kawaii future bass"
          ],
          [
           "kawaii metal"
          ],
          [
           "kayokyoku"
          ],
          [
           "kc indie"
          ],
          [
           "kent indie"
          ],
          [
           "kentucky hip hop"
          ],
          [
           "kentucky indie"
          ],
          [
           "kentucky metal"
          ],
          [
           "kentucky mountain folk"
          ],
          [
           "kentucky punk"
          ],
          [
           "kentucky roots"
          ],
          [
           "keroncong"
          ],
          [
           "khaleeji iraqi"
          ],
          [
           "khmer"
          ],
          [
           "kids dance party"
          ],
          [
           "kindie rock"
          ],
          [
           "kingston on indie"
          ],
          [
           "kirtan"
          ],
          [
           "kiwi rock"
          ],
          [
           "kizomba antigas"
          ],
          [
           "kleine hoerspiel"
          ],
          [
           "klezmer"
          ],
          [
           "knoxville indie"
          ],
          [
           "kodomo no ongaku"
          ],
          [
           "kolsche karneval"
          ],
          [
           "komedi"
          ],
          [
           "kompa"
          ],
          [
           "kora"
          ],
          [
           "korean classical performance"
          ],
          [
           "korean classical piano"
          ],
          [
           "korean indie rock"
          ],
          [
           "korean mask singer"
          ],
          [
           "korean pop"
          ],
          [
           "korean r&b"
          ],
          [
           "korean trap"
          ],
          [
           "koto"
          ],
          [
           "krautrock"
          ],
          [
           "kundiman"
          ],
          [
           "la indie"
          ],
          [
           "la pop"
          ],
          [
           "laboratorio"
          ],
          [
           "lafayette indie"
          ],
          [
           "laiko"
          ],
          [
           "lancashire indie"
          ],
          [
           "lancaster pa indie"
          ],
          [
           "late romantic era"
          ],
          [
           "latin"
          ],
          [
           "latin afrobeat"
          ],
          [
           "latin alternative"
          ],
          [
           "latin american classical piano"
          ],
          [
           "latin arena pop"
          ],
          [
           "latin christian"
          ],
          [
           "latin classical"
          ],
          [
           "latin funk"
          ],
          [
           "latin hip hop"
          ],
          [
           "latin house"
          ],
          [
           "latin jazz"
          ],
          [
           "latin metal"
          ],
          [
           "latin pop"
          ],
          [
           "latin rock"
          ],
          [
           "latin ska"
          ],
          [
           "latin soundtrack"
          ],
          [
           "latin talent show"
          ],
          [
           "latin tech house"
          ],
          [
           "latin viral pop"
          ],
          [
           "latin worship"
          ],
          [
           "latincore"
          ],
          [
           "latino comedy"
          ],
          [
           "latintronica"
          ],
          [
           "latinx alternative"
          ],
          [
           "latvian pop"
          ],
          [
           "lds"
          ],
          [
           "lds youth"
          ],
          [
           "lebanese pop"
          ],
          [
           "leicester indie"
          ],
          [
           "lexington ky indie"
          ],
          [
           "lgbtq+ hip hop"
          ],
          [
           "library music"
          ],
          [
           "liedermacher"
          ],
          [
           "light music"
          ],
          [
           "lilith"
          ],
          [
           "liquid funk"
          ],
          [
           "lithuanian electronic"
          ],
          [
           "liverpool indie"
          ],
          [
           "livetronica"
          ],
          [
           "lldm"
          ],
          [
           "lo star"
          ],
          [
           "lo-fi"
          ],
          [
           "lo-fi beats"
          ],
          [
           "lo-fi brasileiro"
          ],
          [
           "lo-fi chill"
          ],
          [
           "lo-fi cover"
          ],
          [
           "lo-fi emo"
          ],
          [
           "lo-fi house"
          ],
          [
           "lo-fi indie"
          ],
          [
           "lo-fi vgm"
          ],
          [
           "london rap"
          ],
          [
           "louisiana blues"
          ],
          [
           "louisiana metal"
          ],
          [
           "louisville indie"
          ],
          [
           "louisville underground"
          ],
          [
           "lounge"
          ],
          [
           "louvor"
          ],
          [
           "lovers rock"
          ],
          [
           "lullaby"
          ],
          [
           "lund indie"
          ],
          [
           "lute"
          ],
          [
           "macedonian folk"
          ],
          [
           "madchester"
          ],
          [
           "madrigal"
          ],
          [
           "magyar alternative"
          ],
          [
           "maine hip hop"
          ],
          [
           "maine indie"
          ],
          [
           "mainland chinese pop"
          ],
          [
           "makossa"
          ],
          [
           "malaysian mandopop"
          ],
          [
           "malaysian pop"
          ],
          [
           "malian blues"
          ],
          [
           "mallet"
          ],
          [
           "malmo indie"
          ],
          [
           "mambo"
          ],
          [
           "manchester hip hop"
          ],
          [
           "manchester indie"
          ],
          [
           "mande pop"
          ],
          [
           "mandolin"
          ],
          [
           "mandopop"
          ],
          [
           "manguebeat"
          ],
          [
           "manila sound"
          ],
          [
           "manitoba indie"
          ],
          [
           "mantra"
          ],
          [
           "marathi pop"
          ],
          [
           "marathi traditional"
          ],
          [
           "marching band"
          ],
          [
           "mariachi"
          ],
          [
           "mariachi cristiano"
          ],
          [
           "marimba orquesta"
          ],
          [
           "martial industrial"
          ],
          [
           "mashup"
          ],
          [
           "math rock"
          ],
          [
           "mathcore"
          ],
          [
           "mbalax"
          ],
          [
           "medieval"
          ],
          [
           "medieval folk"
          ],
          [
           "medieval rock"
          ],
          [
           "meditation"
          ],
          [
           "melancholia"
          ],
          [
           "melbourne bounce"
          ],
          [
           "melbourne bounce international"
          ],
          [
           "melbourne indie"
          ],
          [
           "mellow gold"
          ],
          [
           "melodic death metal"
          ],
          [
           "melodic deathcore"
          ],
          [
           "melodic dubstep"
          ],
          [
           "melodic groove metal"
          ],
          [
           "melodic hard rock"
          ],
          [
           "melodic hardcore"
          ],
          [
           "melodic metal"
          ],
          [
           "melodic metalcore"
          ],
          [
           "melodic power metal"
          ],
          [
           "melodic rap"
          ],
          [
           "melodic thrash"
          ],
          [
           "meme rap"
          ],
          [
           "memphis americana"
          ],
          [
           "memphis blues"
          ],
          [
           "memphis hip hop"
          ],
          [
           "memphis indie"
          ],
          [
           "memphis soul"
          ],
          [
           "mento"
          ],
          [
           "merengue"
          ],
          [
           "merengue tipico"
          ],
          [
           "merseybeat"
          ],
          [
           "messianic praise"
          ],
          [
           "metal"
          ],
          [
           "metal guitar"
          ],
          [
           "metal mineiro"
          ],
          [
           "metalcore"
          ],
          [
           "metropopolis"
          ],
          [
           "mexican classic rock"
          ],
          [
           "mexican classical"
          ],
          [
           "mexican hip hop"
          ],
          [
           "mexican indie"
          ],
          [
           "mexican pop"
          ],
          [
           "mexican pop punk"
          ],
          [
           "mexican rock"
          ],
          [
           "mexican rock-and-roll"
          ],
          [
           "mexican son"
          ],
          [
           "mexican traditional"
          ],
          [
           "miami bass"
          ],
          [
           "miami hip hop"
          ],
          [
           "miami indie"
          ],
          [
           "miami metal"
          ],
          [
           "michigan indie"
          ],
          [
           "microhouse"
          ],
          [
           "microtonal"
          ],
          [
           "middle earth"
          ],
          [
           "middle east hip hop"
          ],
          [
           "middle eastern traditional"
          ],
          [
           "midwest americana"
          ],
          [
           "midwest emo"
          ],
          [
           "military cadence"
          ],
          [
           "military rap"
          ],
          [
           "milwaukee indie"
          ],
          [
           "mindfulness"
          ],
          [
           "minecraft"
          ],
          [
           "minimal melodic techno"
          ],
          [
           "minimal tech house"
          ],
          [
           "minimal techno"
          ],
          [
           "minimal wave"
          ],
          [
           "minimalism"
          ],
          [
           "minneapolis indie"
          ],
          [
           "minneapolis metal"
          ],
          [
           "minneapolis punk"
          ],
          [
           "minneapolis sound"
          ],
          [
           "minnesota hip hop"
          ],
          [
           "mississippi hip hop"
          ],
          [
           "mississippi indie"
          ],
          [
           "mizrahi"
          ],
          [
           "mod revival"
          ],
          [
           "modern alternative pop"
          ],
          [
           "modern alternative rock"
          ],
          [
           "modern big band"
          ],
          [
           "modern blues"
          ],
          [
           "modern blues rock"
          ],
          [
           "modern bollywood"
          ],
          [
           "modern country rock"
          ],
          [
           "modern dream pop"
          ],
          [
           "modern folk rock"
          ],
          [
           "modern funk"
          ],
          [
           "modern hard rock"
          ],
          [
           "modern indie pop"
          ],
          [
           "modern jazz piano"
          ],
          [
           "modern jazz trio"
          ],
          [
           "modern old-time"
          ],
          [
           "modern performance"
          ],
          [
           "modern power pop"
          ],
          [
           "modern psychedelic folk"
          ],
          [
           "modern reggae"
          ],
          [
           "modern rock"
          ],
          [
           "modern salsa"
          ],
          [
           "modern ska punk"
          ],
          [
           "modern southern rock"
          ],
          [
           "modern string quartet"
          ],
          [
           "modern swing"
          ],
          [
           "modern uplift"
          ],
          [
           "modular synth"
          ],
          [
           "moldovan pop"
          ],
          [
           "mollywood"
          ],
          [
           "mongolian hip hop"
          ],
          [
           "mongolian pop"
          ],
          [
           "monterrey indie"
          ],
          [
           "montreal indie"
          ],
          [
           "moog"
          ],
          [
           "moombahton"
          ],
          [
           "morna"
          ],
          [
           "motivation"
          ],
          [
           "motown"
          ],
          [
           "mountain dulcimer"
          ],
          [
           "movie tunes"
          ],
          [
           "mpb"
          ],
          [
           "music box"
          ],
          [
           "music hall"
          ],
          [
           "musica afroperuana"
          ],
          [
           "musica alagoana"
          ],
          [
           "musica andina"
          ],
          [
           "musica andina colombiana"
          ],
          [
           "musica antigua"
          ],
          [
           "musica aragonesa"
          ],
          [
           "musica ayacuchana"
          ],
          [
           "musica canaria"
          ],
          [
           "musica costarricense"
          ],
          [
           "musica costena"
          ],
          [
           "musica cristiana guatemalteca"
          ],
          [
           "musica de fondo"
          ],
          [
           "musica gaucha tradicionalista"
          ],
          [
           "musica hondurena"
          ],
          [
           "musica infantil"
          ],
          [
           "musica jibara"
          ],
          [
           "musica juiz-forana"
          ],
          [
           "musica llanera"
          ],
          [
           "musica nicaraguense"
          ],
          [
           "musica para criancas"
          ],
          [
           "musica para ninos"
          ],
          [
           "musica paraibana"
          ],
          [
           "musica piemonteisa"
          ],
          [
           "musica popular colombiana"
          ],
          [
           "musica popular mineira"
          ],
          [
           "musica popular paraense"
          ],
          [
           "musica potosina"
          ],
          [
           "musica prehispanica"
          ],
          [
           "musica sarda"
          ],
          [
           "musica tradicional cubana"
          ],
          [
           "musica tropical guatemalteca"
          ],
          [
           "musical advocacy"
          ],
          [
           "musikkorps"
          ],
          [
           "musique concrete"
          ],
          [
           "musique peule"
          ],
          [
           "musique pour enfant quebecois"
          ],
          [
           "musique pour enfants"
          ],
          [
           "musique touareg"
          ],
          [
           "muzica populara"
          ],
          [
           "muzika l'yeladim"
          ],
          [
           "naija worship"
          ],
          [
           "nantes indie"
          ],
          [
           "narodna muzika"
          ],
          [
           "nashville americana"
          ],
          [
           "nashville hip hop"
          ],
          [
           "nashville indie"
          ],
          [
           "nashville singer-songwriter"
          ],
          [
           "nashville sound"
          ],
          [
           "native american"
          ],
          [
           "native american contemporary"
          ],
          [
           "native american flute"
          ],
          [
           "native american hip hop"
          ],
          [
           "native american spiritual"
          ],
          [
           "navajo"
          ],
          [
           "nederlandse hardstyle"
          ],
          [
           "nederpop"
          ],
          [
           "neo classical metal"
          ],
          [
           "neo kyma"
          ],
          [
           "neo mellow"
          ],
          [
           "neo r&b"
          ],
          [
           "neo soul"
          ],
          [
           "neo-classical"
          ],
          [
           "neo-kraut"
          ],
          [
           "neo-pagan"
          ],
          [
           "neo-progressive"
          ],
          [
           "neo-psychedelic"
          ],
          [
           "neo-rockabilly"
          ],
          [
           "neo-singer-songwriter"
          ],
          [
           "neo-synthpop"
          ],
          [
           "neo-trad metal"
          ],
          [
           "neo-traditional bluegrass"
          ],
          [
           "neo-traditional country"
          ],
          [
           "neoclassical darkwave"
          ],
          [
           "neoclassicism"
          ],
          [
           "neofolk"
          ],
          [
           "neon pop punk"
          ],
          [
           "neotango"
          ],
          [
           "nepali indie"
          ],
          [
           "nepali pop"
          ],
          [
           "nerdcore"
          ],
          [
           "neue deutsche harte"
          ],
          [
           "neue deutsche todeskunst"
          ],
          [
           "neue deutsche welle"
          ],
          [
           "neurofunk"
          ],
          [
           "new age"
          ],
          [
           "new age piano"
          ],
          [
           "new americana"
          ],
          [
           "new beat"
          ],
          [
           "new comedy"
          ],
          [
           "new england americana"
          ],
          [
           "new england emo"
          ],
          [
           "new french touch"
          ],
          [
           "new isolationism"
          ],
          [
           "new jack swing"
          ],
          [
           "new jersey hardcore"
          ],
          [
           "new jersey indie"
          ],
          [
           "new jersey punk"
          ],
          [
           "new jersey rap"
          ],
          [
           "new mexico music"
          ],
          [
           "new orleans blues"
          ],
          [
           "new orleans funk"
          ],
          [
           "new orleans indie"
          ],
          [
           "new orleans jazz"
          ],
          [
           "new orleans rap"
          ],
          [
           "new rave"
          ],
          [
           "new romantic"
          ],
          [
           "new tribe"
          ],
          [
           "new wave"
          ],
          [
           "new wave of thrash metal"
          ],
          [
           "new wave pop"
          ],
          [
           "new weird america"
          ],
          [
           "new york death metal"
          ],
          [
           "new york drill"
          ],
          [
           "new zealand classical"
          ],
          [
           "newcastle indie"
          ],
          [
           "newcastle nsw indie"
          ],
          [
           "nigerian hip hop"
          ],
          [
           "nigerian pop"
          ],
          [
           "nightcore"
          ],
          [
           "nightrun"
          ],
          [
           "ninja"
          ],
          [
           "nintendocore"
          ],
          [
           "nisiotika"
          ],
          [
           "nl folk"
          ],
          [
           "no wave"
          ],
          [
           "noise pop"
          ],
          [
           "noise punk"
          ],
          [
           "noise rock"
          ],
          [
           "nordic classical piano"
          ],
          [
           "nordic contemporary classical"
          ],
          [
           "nordic folk"
          ],
          [
           "nordic house"
          ],
          [
           "nordic orchestra"
          ],
          [
           "nordic post-rock"
          ],
          [
           "nordic soundtrack"
          ],
          [
           "norman ok indie"
          ],
          [
           "norsk lovsang"
          ],
          [
           "norteno"
          ],
          [
           "norteno-sax"
          ],
          [
           "north carolina emo"
          ],
          [
           "north carolina hip hop"
          ],
          [
           "north carolina indie"
          ],
          [
           "north carolina metal"
          ],
          [
           "north carolina roots"
          ],
          [
           "north east england indie"
          ],
          [
           "northern irish indie"
          ],
          [
           "northern irish punk"
          ],
          [
           "northern soul"
          ],
          [
           "norwegian black metal"
          ],
          [
           "norwegian choir"
          ],
          [
           "norwegian classical"
          ],
          [
           "norwegian contemporary jazz"
          ],
          [
           "norwegian death metal"
          ],
          [
           "norwegian experimental"
          ],
          [
           "norwegian hip hop"
          ],
          [
           "norwegian indie"
          ],
          [
           "norwegian jazz"
          ],
          [
           "norwegian metal"
          ],
          [
           "norwegian pop"
          ],
          [
           "norwegian pop rap"
          ],
          [
           "norwegian punk rock"
          ],
          [
           "norwegian rock"
          ],
          [
           "norwegian singer-songwriter"
          ],
          [
           "norwegian space disco"
          ],
          [
           "nottingham indie"
          ],
          [
           "nouvelle chanson francaise"
          ],
          [
           "nova canco"
          ],
          [
           "nova mpb"
          ],
          [
           "nova musica pernambucana"
          ],
          [
           "novelty"
          ],
          [
           "nu age"
          ],
          [
           "nu disco"
          ],
          [
           "nu gaze"
          ],
          [
           "nu jazz"
          ],
          [
           "nu metal"
          ],
          [
           "nu skool breaks"
          ],
          [
           "nu-cumbia"
          ],
          [
           "nu-metalcore"
          ],
          [
           "nubian traditional"
          ],
          [
           "nueva cancion"
          ],
          [
           "nueva ola chilena"
          ],
          [
           "nueva ola peruana"
          ],
          [
           "nuevo flamenco"
          ],
          [
           "nuevo folklore mexicano"
          ],
          [
           "nuevo regional mexicano"
          ],
          [
           "nuevo tango"
          ],
          [
           "nursery"
          ],
          [
           "nwobhm"
          ],
          [
           "nwothm"
          ],
          [
           "ny roots"
          ],
          [
           "nyc pop"
          ],
          [
           "nyc rap"
          ],
          [
           "nyhc"
          ],
          [
           "nz christian"
          ],
          [
           "nz folk"
          ],
          [
           "nz hardcore"
          ],
          [
           "nz indie"
          ],
          [
           "nz pop"
          ],
          [
           "nz punk"
          ],
          [
           "nz reggae"
          ],
          [
           "nz singer-songwriter"
          ],
          [
           "oakland hip hop"
          ],
          [
           "oakland indie"
          ],
          [
           "oc indie"
          ],
          [
           "oc rap"
          ],
          [
           "oceania soundtrack"
          ],
          [
           "ohio hip hop"
          ],
          [
           "ohio indie"
          ],
          [
           "oi"
          ],
          [
           "ok indie"
          ],
          [
           "okc indie"
          ],
          [
           "okinawan pop"
          ],
          [
           "oklahoma country"
          ],
          [
           "old school dancehall"
          ],
          [
           "old school hip hop"
          ],
          [
           "old school rap francais"
          ],
          [
           "old school thrash"
          ],
          [
           "old school uk hip hop"
          ],
          [
           "old west"
          ],
          [
           "old-time"
          ],
          [
           "old-time fiddle"
          ],
          [
           "olympia wa indie"
          ],
          [
           "omaha indie"
          ],
          [
           "one-person band"
          ],
          [
           "ontario indie"
          ],
          [
           "opera"
          ],
          [
           "opera chorus"
          ],
          [
           "opera metal"
          ],
          [
           "operatic pop"
          ],
          [
           "operetta"
          ],
          [
           "opm"
          ],
          [
           "oratory"
          ],
          [
           "orchestra"
          ],
          [
           "orchestral performance"
          ],
          [
           "orebro indie"
          ],
          [
           "organic ambient"
          ],
          [
           "organic electronic"
          ],
          [
           "organic house"
          ],
          [
           "orgcore"
          ],
          [
           "oriental classical"
          ],
          [
           "orkney and shetland folk"
          ],
          [
           "orlando indie"
          ],
          [
           "orquesta tipica"
          ],
          [
           "orthodox chant"
          ],
          [
           "oshare kei"
          ],
          [
           "otacore"
          ],
          [
           "oth indie"
          ],
          [
           "ottawa indie"
          ],
          [
           "ottawa rap"
          ],
          [
           "oud"
          ],
          [
           "outer hip hop"
          ],
          [
           "outlaw country"
          ],
          [
           "outsider"
          ],
          [
           "outsider house"
          ],
          [
           "oxford choir"
          ],
          [
           "oxford indie"
          ],
          [
           "p funk"
          ],
          [
           "pagan black metal"
          ],
          [
           "pagode"
          ],
          [
           "pagode baiano"
          ],
          [
           "paisley underground"
          ],
          [
           "pakistani folk"
          ],
          [
           "pakistani hip hop"
          ],
          [
           "pakistani pop"
          ],
          [
           "palestinian pop"
          ],
          [
           "palm desert scene"
          ],
          [
           "panamanian pop"
          ],
          [
           "panamanian rock"
          ],
          [
           "panpipe"
          ],
          [
           "papuri"
          ],
          [
           "parody"
          ],
          [
           "partido alto"
          ],
          [
           "partyschlager"
          ],
          [
           "pei indie"
          ],
          [
           "permanent wave"
          ],
          [
           "perreo"
          ],
          [
           "persian pop"
          ],
          [
           "persian traditional"
          ],
          [
           "perth indie"
          ],
          [
           "peruvian hip hop"
          ],
          [
           "peruvian rock"
          ],
          [
           "pet calming"
          ],
          [
           "philly indie"
          ],
          [
           "philly rap"
          ],
          [
           "philly soul"
          ],
          [
           "phoenix indie"
          ],
          [
           "phonk"
          ],
          [
           "pianissimo"
          ],
          [
           "piano blues"
          ],
          [
           "piano cover"
          ],
          [
           "piano mpb"
          ],
          [
           "piano rock"
          ],
          [
           "pibroch"
          ],
          [
           "piedmont blues"
          ],
          [
           "pinoy hip hop"
          ],
          [
           "pinoy indie"
          ],
          [
           "pinoy pop punk"
          ],
          [
           "pinoy praise"
          ],
          [
           "pinoy r&b"
          ],
          [
           "pinoy reggae"
          ],
          [
           "pinoy rock"
          ],
          [
           "pinoy traditional"
          ],
          [
           "pinoy trap"
          ],
          [
           "pirate"
          ],
          [
           "pittsburgh indie"
          ],
          [
           "pittsburgh rap"
          ],
          [
           "pittsburgh rock"
          ],
          [
           "pixie"
          ],
          [
           "plunderphonics"
          ],
          [
           "poetry"
          ],
          [
           "polca paraguaya"
          ],
          [
           "polish blues"
          ],
          [
           "polish classical"
          ],
          [
           "polish classical piano"
          ],
          [
           "polish contemporary classical"
          ],
          [
           "polish jazz"
          ],
          [
           "polish modern jazz"
          ],
          [
           "polish pop"
          ],
          [
           "polish post-rock"
          ],
          [
           "polish reggae"
          ],
          [
           "polish rock"
          ],
          [
           "political hip hop"
          ],
          [
           "polka"
          ],
          [
           "polynesian hip hop"
          ],
          [
           "polynesian pop"
          ],
          [
           "polyphony"
          ],
          [
           "pony"
          ],
          [
           "pop"
          ],
          [
           "pop argentino"
          ],
          [
           "pop chileno"
          ],
          [
           "pop dance"
          ],
          [
           "pop edm"
          ],
          [
           "pop electronico"
          ],
          [
           "pop emo"
          ],
          [
           "pop flamenco"
          ],
          [
           "pop folk"
          ],
          [
           "pop house"
          ],
          [
           "pop nacional"
          ],
          [
           "pop nacional antigas"
          ],
          [
           "pop peruano"
          ],
          [
           "pop punk"
          ],
          [
           "pop quebecois"
          ],
          [
           "pop r&b"
          ],
          [
           "pop rap"
          ],
          [
           "pop reggaeton"
          ],
          [
           "pop rock"
          ],
          [
           "pop rock brasileiro"
          ],
          [
           "pop romantico"
          ],
          [
           "pop soul"
          ],
          [
           "pop venezolano"
          ],
          [
           "pop violin"
          ],
          [
           "popgaze"
          ],
          [
           "popping"
          ],
          [
           "pops orchestra"
          ],
          [
           "popwave"
          ],
          [
           "pornogrind"
          ],
          [
           "porro"
          ],
          [
           "portland hip hop"
          ],
          [
           "portland indie"
          ],
          [
           "portland metal"
          ],
          [
           "portland punk"
          ],
          [
           "portuguese early music"
          ],
          [
           "post-disco"
          ],
          [
           "post-disco soul"
          ],
          [
           "post-doom metal"
          ],
          [
           "post-grunge"
          ],
          [
           "post-hardcore"
          ],
          [
           "post-metal"
          ],
          [
           "post-minimalism"
          ],
          [
           "post-post-hardcore"
          ],
          [
           "post-punk"
          ],
          [
           "post-punk argentina"
          ],
          [
           "post-rock"
          ],
          [
           "post-romantic era"
          ],
          [
           "post-screamo"
          ],
          [
           "post-teen pop"
          ],
          [
           "power metal"
          ],
          [
           "power pop"
          ],
          [
           "power thrash"
          ],
          [
           "power-pop punk"
          ],
          [
           "praise"
          ],
          [
           "prepared piano"
          ],
          [
           "preschool children's music"
          ],
          [
           "prog quebec"
          ],
          [
           "progressive alternative"
          ],
          [
           "progressive bluegrass"
          ],
          [
           "progressive deathcore"
          ],
          [
           "progressive electro house"
          ],
          [
           "progressive groove metal"
          ],
          [
           "progressive house"
          ],
          [
           "progressive jazz fusion"
          ],
          [
           "progressive metal"
          ],
          [
           "progressive metalcore"
          ],
          [
           "progressive post-hardcore"
          ],
          [
           "progressive power metal"
          ],
          [
           "progressive psytrance"
          ],
          [
           "progressive rock"
          ],
          [
           "progressive sludge"
          ],
          [
           "progressive trance"
          ],
          [
           "progressive trance house"
          ],
          [
           "progressive uplifting trance"
          ],
          [
           "proto-rap"
          ],
          [
           "proto-techno"
          ],
          [
           "protopunk"
          ],
          [
           "psalmen"
          ],
          [
           "psicodelia brasileira"
          ],
          [
           "psybass"
          ],
          [
           "psychedelic blues-rock"
          ],
          [
           "psychedelic doom"
          ],
          [
           "psychedelic folk"
          ],
          [
           "psychedelic folk rock"
          ],
          [
           "psychedelic hip hop"
          ],
          [
           "psychedelic pop"
          ],
          [
           "psychedelic punk"
          ],
          [
           "psychedelic rock"
          ],
          [
           "psychedelic soul"
          ],
          [
           "psychedelic trance"
          ],
          [
           "psychill"
          ],
          [
           "psychobilly"
          ],
          [
           "pub rock"
          ],
          [
           "puerto rican folk"
          ],
          [
           "puerto rican pop"
          ],
          [
           "puerto rican rock"
          ],
          [
           "punjabi folk"
          ],
          [
           "punjabi hip hop"
          ],
          [
           "punjabi pop"
          ],
          [
           "punk"
          ],
          [
           "punk 'n' roll"
          ],
          [
           "punk blues"
          ],
          [
           "punk rock italiano"
          ],
          [
           "punk rock mexicano"
          ],
          [
           "punta"
          ],
          [
           "purple sound"
          ],
          [
           "qawwali"
          ],
          [
           "quartetto d'archi"
          ],
          [
           "quatuor a cordes"
          ],
          [
           "quebec death metal"
          ],
          [
           "quebec indie"
          ],
          [
           "queens hip hop"
          ],
          [
           "queer country"
          ],
          [
           "queercore"
          ],
          [
           "quiet storm"
          ],
          [
           "quran"
          ],
          [
           "r&b"
          ],
          [
           "r&b en espanol"
          ],
          [
           "rabindra sangeet"
          ],
          [
           "radio symphony"
          ],
          [
           "ragtime"
          ],
          [
           "rai"
          ],
          [
           "ranchera"
          ],
          [
           "rap"
          ],
          [
           "rap chileno"
          ],
          [
           "rap conciencia"
          ],
          [
           "rap conscient"
          ],
          [
           "rap cristiano"
          ],
          [
           "rap dominicano"
          ],
          [
           "rap kreyol"
          ],
          [
           "rap latina"
          ],
          [
           "rap metal"
          ],
          [
           "rap nacional antigo"
          ],
          [
           "rap napoletano"
          ],
          [
           "rap rock"
          ],
          [
           "rap underground mexicano"
          ],
          [
           "rare groove"
          ],
          [
           "rave"
          ],
          [
           "rawstyle"
          ],
          [
           "reading"
          ],
          [
           "reading indie"
          ],
          [
           "rebel blues"
          ],
          [
           "rebetiko"
          ],
          [
           "recorder"
          ],
          [
           "red dirt"
          ],
          [
           "redneck"
          ],
          [
           "reggae"
          ],
          [
           "reggae en espanol"
          ],
          [
           "reggae fusion"
          ],
          [
           "reggae rock"
          ],
          [
           "reggaeton"
          ],
          [
           "reggaeton colombiano"
          ],
          [
           "reggaeton cristiano"
          ],
          [
           "reggaeton flow"
          ],
          [
           "reggaeton mexicano"
          ],
          [
           "regional mexican"
          ],
          [
           "relaxative"
          ],
          [
           "renaissance"
          ],
          [
           "rennes indie"
          ],
          [
           "retro metal"
          ],
          [
           "retro soul"
          ],
          [
           "rhode island indie"
          ],
          [
           "rhode island rap"
          ],
          [
           "rhythm and blues"
          ],
          [
           "riddim"
          ],
          [
           "rif"
          ],
          [
           "riot grrrl"
          ],
          [
           "ritmo kombina"
          ],
          [
           "rochester mn indie"
          ],
          [
           "rochester ny indie"
          ],
          [
           "rock"
          ],
          [
           "rock alternatif francais"
          ],
          [
           "rock alternativo brasileiro"
          ],
          [
           "rock andaluz"
          ],
          [
           "rock baiano"
          ],
          [
           "rock brasiliense"
          ],
          [
           "rock chapin"
          ],
          [
           "rock cristiano"
          ],
          [
           "rock drums"
          ],
          [
           "rock en espanol"
          ],
          [
           "rock gaucho"
          ],
          [
           "rock independant francais"
          ],
          [
           "rock kapak"
          ],
          [
           "rock keyboard"
          ],
          [
           "rock nacional"
          ],
          [
           "rock nacional brasileiro"
          ],
          [
           "rock pernambucano"
          ],
          [
           "rock progressif francais"
          ],
          [
           "rock steady"
          ],
          [
           "rock urbano mexicano"
          ],
          [
           "rock-and-roll"
          ],
          [
           "rockabilly"
          ],
          [
           "rockabilly en espanol"
          ],
          [
           "roda de samba"
          ],
          [
           "romanian classical piano"
          ],
          [
           "romanian electronic"
          ],
          [
           "romanian folk"
          ],
          [
           "romanian pop"
          ],
          [
           "romanian rock"
          ],
          [
           "romantico"
          ],
          [
           "roots americana"
          ],
          [
           "roots reggae"
          ],
          [
           "roots rock"
          ],
          [
           "roots worship"
          ],
          [
           "rosary"
          ],
          [
           "rumba"
          ],
          [
           "rumba congolaise"
          ],
          [
           "rune folk"
          ],
          [
           "russian alternative rock"
          ],
          [
           "russian ccm"
          ],
          [
           "russian chanson"
          ],
          [
           "russian choir"
          ],
          [
           "russian classical piano"
          ],
          [
           "russian dance"
          ],
          [
           "russian edm"
          ],
          [
           "russian folk"
          ],
          [
           "russian folk rock"
          ],
          [
           "russian jazz"
          ],
          [
           "russian metal"
          ],
          [
           "russian metalcore"
          ],
          [
           "russian modern classical"
          ],
          [
           "russian orchestra"
          ],
          [
           "russian pop"
          ],
          [
           "russian post-punk"
          ],
          [
           "russian punk"
          ],
          [
           "russian rock"
          ],
          [
           "russian romanticism"
          ],
          [
           "russian shoegaze"
          ],
          [
           "russian trance"
          ],
          [
           "rva indie"
          ],
          [
           "rwandan traditional"
          ],
          [
           "ryukyu ongaku"
          ],
          [
           "sacramento hip hop"
          ],
          [
           "sacramento indie"
          ],
          [
           "sacred steel"
          ],
          [
           "sad rap"
          ],
          [
           "salsa"
          ],
          [
           "salsa choke"
          ],
          [
           "salsa colombiana"
          ],
          [
           "salsa cubana"
          ],
          [
           "salsa international"
          ],
          [
           "salsa peruana"
          ],
          [
           "salsa puertorriquena"
          ],
          [
           "salsa venezolana"
          ],
          [
           "samba"
          ],
          [
           "samba de roda"
          ],
          [
           "samba moderno"
          ],
          [
           "samba-enredo"
          ],
          [
           "samba-jazz"
          ],
          [
           "samba-rock"
          ],
          [
           "san antonio rap"
          ],
          [
           "san diego indie"
          ],
          [
           "san diego rap"
          ],
          [
           "san marcos tx indie"
          ],
          [
           "sandalwood"
          ],
          [
           "sarod"
          ],
          [
           "saskatchewan indie"
          ],
          [
           "scam rap"
          ],
          [
           "scandinavian r&b"
          ],
          [
           "scandipop"
          ],
          [
           "schlager"
          ],
          [
           "scorecore"
          ],
          [
           "scottish electronic"
          ],
          [
           "scottish fiddle"
          ],
          [
           "scottish folk"
          ],
          [
           "scottish hip hop"
          ],
          [
           "scottish indie"
          ],
          [
           "scottish jazz"
          ],
          [
           "scottish metal"
          ],
          [
           "scottish new wave"
          ],
          [
           "scottish rock"
          ],
          [
           "scottish singer-songwriter"
          ],
          [
           "scratch"
          ],
          [
           "scream rap"
          ],
          [
           "screamo"
          ],
          [
           "seattle hip hop"
          ],
          [
           "seattle indie"
          ],
          [
           "second line"
          ],
          [
           "sefardi"
          ],
          [
           "serbian electronic"
          ],
          [
           "serialism"
          ],
          [
           "sertanejo"
          ],
          [
           "sertanejo pop"
          ],
          [
           "sertanejo tradicional"
          ],
          [
           "sertanejo universitario"
          ],
          [
           "sevdah"
          ],
          [
           "sevillanas"
          ],
          [
           "shaabi"
          ],
          [
           "shabad"
          ],
          [
           "shakuhachi"
          ],
          [
           "shamanic"
          ],
          [
           "shanty"
          ],
          [
           "sheffield indie"
          ],
          [
           "shibuya-kei"
          ],
          [
           "shimmer pop"
          ],
          [
           "shimmer psych"
          ],
          [
           "shiver pop"
          ],
          [
           "shoegaze"
          ],
          [
           "show tunes"
          ],
          [
           "shred"
          ],
          [
           "shush"
          ],
          [
           "sierreno"
          ],
          [
           "singaporean mandopop"
          ],
          [
           "singaporean pop"
          ],
          [
           "singaporean singer-songwriter"
          ],
          [
           "singer-songwriter"
          ],
          [
           "singing bowl"
          ],
          [
           "sitar"
          ],
          [
           "ska"
          ],
          [
           "ska argentino"
          ],
          [
           "ska chileno"
          ],
          [
           "ska jazz"
          ],
          [
           "ska mexicano"
          ],
          [
           "ska punk"
          ],
          [
           "ska revival"
          ],
          [
           "skate punk"
          ],
          [
           "skiffle"
          ],
          [
           "skramz"
          ],
          [
           "sky room"
          ],
          [
           "slack-key guitar"
          ],
          [
           "slam poetry"
          ],
          [
           "slamming deathcore"
          ],
          [
           "slavic folk metal"
          ],
          [
           "slayer"
          ],
          [
           "slc indie"
          ],
          [
           "sleaze rock"
          ],
          [
           "sleep"
          ],
          [
           "slovak electronic"
          ],
          [
           "slovenian electronic"
          ],
          [
           "slovenian metal"
          ],
          [
           "slow game"
          ],
          [
           "slowcore"
          ],
          [
           "sludge metal"
          ],
          [
           "small room"
          ],
          [
           "smooth jazz"
          ],
          [
           "smooth saxophone"
          ],
          [
           "smooth soul"
          ],
          [
           "soca"
          ],
          [
           "socal pop punk"
          ],
          [
           "social media pop"
          ],
          [
           "soda pop"
          ],
          [
           "soft rock"
          ],
          [
           "solipsynthm"
          ],
          [
           "son cubano"
          ],
          [
           "son cubano clasico"
          ],
          [
           "son jarocho"
          ],
          [
           "sophisti-pop"
          ],
          [
           "sotalaulut"
          ],
          [
           "soukous"
          ],
          [
           "soul"
          ],
          [
           "soul blues"
          ],
          [
           "soul flow"
          ],
          [
           "soul jazz"
          ],
          [
           "souldies"
          ],
          [
           "sound"
          ],
          [
           "sound art"
          ],
          [
           "sound effects"
          ],
          [
           "sound team"
          ],
          [
           "soundtrack"
          ],
          [
           "south african alternative"
          ],
          [
           "south african choral"
          ],
          [
           "south african country"
          ],
          [
           "south african hip hop"
          ],
          [
           "south african house"
          ],
          [
           "south african jazz"
          ],
          [
           "south african pop"
          ],
          [
           "south african pop dance"
          ],
          [
           "south african rock"
          ],
          [
           "south carolina hip hop"
          ],
          [
           "south carolina indie"
          ],
          [
           "south carolina metal"
          ],
          [
           "south dakota indie"
          ],
          [
           "southampton indie"
          ],
          [
           "southern americana"
          ],
          [
           "southern gospel"
          ],
          [
           "southern hip hop"
          ],
          [
           "southern metal"
          ],
          [
           "southern rock"
          ],
          [
           "southern soul"
          ],
          [
           "southern soul blues"
          ],
          [
           "soviet synthpop"
          ],
          [
           "sovietwave"
          ],
          [
           "spa"
          ],
          [
           "space age pop"
          ],
          [
           "space ambient"
          ],
          [
           "space rock"
          ],
          [
           "spanish baroque"
          ],
          [
           "spanish classical"
          ],
          [
           "spanish classical piano"
          ],
          [
           "spanish folk metal"
          ],
          [
           "spanish hip hop"
          ],
          [
           "spanish indie pop"
          ],
          [
           "spanish invasion"
          ],
          [
           "spanish metal"
          ],
          [
           "spanish modern rock"
          ],
          [
           "spanish new wave"
          ],
          [
           "spanish noise pop"
          ],
          [
           "spanish pop"
          ],
          [
           "spanish pop rock"
          ],
          [
           "spanish renaissance"
          ],
          [
           "spanish rock"
          ],
          [
           "spanish synthpop"
          ],
          [
           "spanish techno"
          ],
          [
           "speed garage"
          ],
          [
           "speed metal"
          ],
          [
           "speedcore"
          ],
          [
           "spiritual hip hop"
          ],
          [
           "spiritual jazz"
          ],
          [
           "spirituals"
          ],
          [
           "springfield mo indie"
          ],
          [
           "spytrack"
          ],
          [
           "st louis rap"
          ],
          [
           "steampunk"
          ],
          [
           "steel guitar"
          ],
          [
           "steelpan"
          ],
          [
           "stl indie"
          ],
          [
           "stomp and flutter"
          ],
          [
           "stomp and holler"
          ],
          [
           "stomp and whittle"
          ],
          [
           "stomp pop"
          ],
          [
           "stoner metal"
          ],
          [
           "stoner rock"
          ],
          [
           "straight edge"
          ],
          [
           "straight-ahead jazz"
          ],
          [
           "street band"
          ],
          [
           "street punk"
          ],
          [
           "streichquartett"
          ],
          [
           "stride"
          ],
          [
           "string band"
          ],
          [
           "string folk"
          ],
          [
           "string orchestra"
          ],
          [
           "string quartet"
          ],
          [
           "strut"
          ],
          [
           "substep"
          ],
          [
           "sudanese pop"
          ],
          [
           "sufi"
          ],
          [
           "sufi chant"
          ],
          [
           "sunshine pop"
          ],
          [
           "supergroup"
          ],
          [
           "surf music"
          ],
          [
           "surf punk"
          ],
          [
           "svensk progg"
          ],
          [
           "swamp blues"
          ],
          [
           "swamp pop"
          ],
          [
           "swamp rock"
          ],
          [
           "swancore"
          ],
          [
           "swedish alternative rock"
          ],
          [
           "swedish americana"
          ],
          [
           "swedish black metal"
          ],
          [
           "swedish choir"
          ],
          [
           "swedish country"
          ],
          [
           "swedish dancehall"
          ],
          [
           "swedish death metal"
          ],
          [
           "swedish doom metal"
          ],
          [
           "swedish electronic"
          ],
          [
           "swedish electropop"
          ],
          [
           "swedish eurodance"
          ],
          [
           "swedish garage rock"
          ],
          [
           "swedish hard rock"
          ],
          [
           "swedish hardcore"
          ],
          [
           "swedish heavy metal"
          ],
          [
           "swedish house"
          ],
          [
           "swedish idol pop"
          ],
          [
           "swedish indie folk"
          ],
          [
           "swedish indie pop"
          ],
          [
           "swedish indie rock"
          ],
          [
           "swedish jazz"
          ],
          [
           "swedish jazz orkester"
          ],
          [
           "swedish melodic rock"
          ],
          [
           "swedish metal"
          ],
          [
           "swedish metalcore"
          ],
          [
           "swedish pop"
          ],
          [
           "swedish post-hardcore"
          ],
          [
           "swedish power metal"
          ],
          [
           "swedish prog"
          ],
          [
           "swedish progressive metal"
          ],
          [
           "swedish rock-and-roll"
          ],
          [
           "swedish singer-songwriter"
          ],
          [
           "swedish soul"
          ],
          [
           "swedish stoner rock"
          ],
          [
           "swedish synth"
          ],
          [
           "swedish synthpop"
          ],
          [
           "swedish tropical house"
          ],
          [
           "swedish underground rap"
          ],
          [
           "swing"
          ],
          [
           "swing italiano"
          ],
          [
           "swing revival"
          ],
          [
           "swiss black metal"
          ],
          [
           "swiss classical piano"
          ],
          [
           "swiss country"
          ],
          [
           "swiss metal"
          ],
          [
           "swiss pop"
          ],
          [
           "swiss rock"
          ],
          [
           "swiss worship"
          ],
          [
           "sydney indie"
          ],
          [
           "symphonic black metal"
          ],
          [
           "symphonic metal"
          ],
          [
           "symphonic rock"
          ],
          [
           "synth funk"
          ],
          [
           "synthpop"
          ],
          [
           "synthwave"
          ],
          [
           "syrian pop"
          ],
          [
           "tabla"
          ],
          [
           "tagalog rap"
          ],
          [
           "tagalog worship"
          ],
          [
           "taiwan campus folk"
          ],
          [
           "taiwan classical performance"
          ],
          [
           "taiwan hip hop"
          ],
          [
           "taiwan indie"
          ],
          [
           "taiwan pop"
          ],
          [
           "taiwan singer-songwriter"
          ],
          [
           "tajik pop"
          ],
          [
           "talent show"
          ],
          [
           "tamaulipas indie"
          ],
          [
           "tamaulipas rap"
          ],
          [
           "tamborazo"
          ],
          [
           "tamil hip hop"
          ],
          [
           "tamil pop"
          ],
          [
           "tamil worship"
          ],
          [
           "tampa indie"
          ],
          [
           "tango"
          ],
          [
           "tango cancion"
          ],
          [
           "tape club"
          ],
          [
           "tech house"
          ],
          [
           "technical death metal"
          ],
          [
           "technical deathcore"
          ],
          [
           "technical groove metal"
          ],
          [
           "technical melodic death metal"
          ],
          [
           "technical thrash"
          ],
          [
           "techno"
          ],
          [
           "techno kayo"
          ],
          [
           "tecnobanda"
          ],
          [
           "teen pop"
          ],
          [
           "tejano"
          ],
          [
           "tempe indie"
          ],
          [
           "tennessee hip hop"
          ],
          [
           "tennessee metal"
          ],
          [
           "tex-mex"
          ],
          [
           "texas blues"
          ],
          [
           "texas country"
          ],
          [
           "texas latin rap"
          ],
          [
           "texas pop punk"
          ],
          [
           "texas punk"
          ],
          [
           "thai folk"
          ],
          [
           "thai folk rock"
          ],
          [
           "thai idol"
          ],
          [
           "thai indie rock"
          ],
          [
           "thai pop"
          ],
          [
           "thall"
          ],
          [
           "theme"
          ],
          [
           "theremin"
          ],
          [
           "thrash core"
          ],
          [
           "thrash metal"
          ],
          [
           "timba"
          ],
          [
           "tin pan alley"
          ],
          [
           "tipico"
          ],
          [
           "tolkien metal"
          ],
          [
           "tollywood"
          ],
          [
           "tone"
          ],
          [
           "torch song"
          ],
          [
           "toronto indie"
          ],
          [
           "toronto rap"
          ],
          [
           "trad jazz catala"
          ],
          [
           "traditional bluegrass"
          ],
          [
           "traditional blues"
          ],
          [
           "traditional british folk"
          ],
          [
           "traditional country"
          ],
          [
           "traditional folk"
          ],
          [
           "traditional funk"
          ],
          [
           "traditional rockabilly"
          ],
          [
           "traditional ska"
          ],
          [
           "traditional soul"
          ],
          [
           "trance"
          ],
          [
           "trance mexicano"
          ],
          [
           "trancecore"
          ],
          [
           "transpop"
          ],
          [
           "trap"
          ],
          [
           "trap argentino"
          ],
          [
           "trap chileno"
          ],
          [
           "trap dominicano"
          ],
          [
           "trap latino"
          ],
          [
           "trap mexicano"
          ],
          [
           "trap queen"
          ],
          [
           "trap soul"
          ],
          [
           "trap triste"
          ],
          [
           "trap venezolano"
          ],
          [
           "traprun"
          ],
          [
           "trash rock"
          ],
          [
           "triangle indie"
          ],
          [
           "tribal house"
          ],
          [
           "trinidadian reggae"
          ],
          [
           "trio cubano"
          ],
          [
           "trip hop"
          ],
          [
           "trival"
          ],
          [
           "tropical"
          ],
          [
           "tropical house"
          ],
          [
           "tropicalia"
          ],
          [
           "trova"
          ],
          [
           "trova mexicana"
          ],
          [
           "truck-driving country"
          ],
          [
           "tuareg guitar"
          ],
          [
           "tucson indie"
          ],
          [
           "tulsa indie"
          ],
          [
           "tuna estudiantil"
          ],
          [
           "tunisian pop"
          ],
          [
           "turbo folk"
          ],
          [
           "turkish classical"
          ],
          [
           "turkish classical performance"
          ],
          [
           "turkish edm"
          ],
          [
           "turkish experimental"
          ],
          [
           "turkish folk"
          ],
          [
           "turkish jazz"
          ],
          [
           "turkish modern jazz"
          ],
          [
           "turkish pop"
          ],
          [
           "turkish psych"
          ],
          [
           "turkish trap"
          ],
          [
           "turkish trap pop"
          ],
          [
           "turntablism"
          ],
          [
           "twee pop"
          ],
          [
           "twoubadou"
          ],
          [
           "tzadik"
          ],
          [
           "ugandan pop"
          ],
          [
           "uilleann pipes"
          ],
          [
           "uk alternative hip hop"
          ],
          [
           "uk alternative pop"
          ],
          [
           "uk americana"
          ],
          [
           "uk contemporary jazz"
          ],
          [
           "uk contemporary r&b"
          ],
          [
           "uk dance"
          ],
          [
           "uk dancehall"
          ],
          [
           "uk diy punk"
          ],
          [
           "uk dnb"
          ],
          [
           "uk doom metal"
          ],
          [
           "uk dub"
          ],
          [
           "uk experimental electronic"
          ],
          [
           "uk funky"
          ],
          [
           "uk garage"
          ],
          [
           "uk hip hop"
          ],
          [
           "uk house"
          ],
          [
           "uk metalcore"
          ],
          [
           "uk noise rock"
          ],
          [
           "uk pop"
          ],
          [
           "uk pop punk"
          ],
          [
           "uk post-hardcore"
          ],
          [
           "uk post-punk"
          ],
          [
           "uk reggae"
          ],
          [
           "uk rockabilly"
          ],
          [
           "uk stoner rock"
          ],
          [
           "uk worship"
          ],
          [
           "uk82"
          ],
          [
           "ukrainian choir"
          ],
          [
           "ukrainian classical"
          ],
          [
           "ukrainian classical piano"
          ],
          [
           "ukrainian electronic"
          ],
          [
           "ukrainian pop"
          ],
          [
           "ukulele"
          ],
          [
           "umbanda"
          ],
          [
           "underground hip hop"
          ],
          [
           "underground power pop"
          ],
          [
           "underground rap"
          ],
          [
           "university choir"
          ],
          [
           "uplifting trance"
          ],
          [
           "uptempo hardcore"
          ],
          [
           "urban contemporary"
          ],
          [
           "urbano espanol"
          ],
          [
           "us power metal"
          ],
          [
           "utah indie"
          ],
          [
           "uzbek pop"
          ],
          [
           "uzbek traditional"
          ],
          [
           "v-pop"
          ],
          [
           "vallenato"
          ],
          [
           "vallenato moderno"
          ],
          [
           "vancouver indie"
          ],
          [
           "vancouver metal"
          ],
          [
           "vancouver punk"
          ],
          [
           "vapor pop"
          ],
          [
           "vapor soul"
          ],
          [
           "vapor trap"
          ],
          [
           "vapor twitch"
          ],
          [
           "vaporwave"
          ],
          [
           "variete francaise"
          ],
          [
           "vaudeville"
          ],
          [
           "vbs"
          ],
          [
           "veena"
          ],
          [
           "vegan straight edge"
          ],
          [
           "vegas indie"
          ],
          [
           "velha guarda"
          ],
          [
           "venezuelan hip hop"
          ],
          [
           "venezuelan indie"
          ],
          [
           "venezuelan rock"
          ],
          [
           "veracruz indie"
          ],
          [
           "vermont indie"
          ],
          [
           "vgm instrumental"
          ],
          [
           "vgm remix"
          ],
          [
           "victoria bc indie"
          ],
          [
           "victorian britain"
          ],
          [
           "video game music"
          ],
          [
           "vienna indie"
          ],
          [
           "vietnamese bolero"
          ],
          [
           "vietnamese pop"
          ],
          [
           "viking black metal"
          ],
          [
           "viking folk"
          ],
          [
           "viking metal"
          ],
          [
           "villancicos"
          ],
          [
           "vintage chanson"
          ],
          [
           "vintage chinese pop"
          ],
          [
           "vintage classical singing"
          ],
          [
           "vintage country folk"
          ],
          [
           "vintage dutch pop"
          ],
          [
           "vintage french electronic"
          ],
          [
           "vintage gospel"
          ],
          [
           "vintage hollywood"
          ],
          [
           "vintage italian pop"
          ],
          [
           "vintage italian soundtrack"
          ],
          [
           "vintage jazz"
          ],
          [
           "vintage old-time"
          ],
          [
           "vintage rockabilly"
          ],
          [
           "vintage schlager"
          ],
          [
           "vintage spanish pop"
          ],
          [
           "vintage swedish pop"
          ],
          [
           "vintage swing"
          ],
          [
           "vintage tango"
          ],
          [
           "viola"
          ],
          [
           "violao"
          ],
          [
           "violao classico"
          ],
          [
           "violin"
          ],
          [
           "viral pop"
          ],
          [
           "viral rap"
          ],
          [
           "viral trap"
          ],
          [
           "virgin islands reggae"
          ],
          [
           "virginia hip hop"
          ],
          [
           "virginia metal"
          ],
          [
           "virginia punk"
          ],
          [
           "visor"
          ],
          [
           "visual kei"
          ],
          [
           "vocal ensemble"
          ],
          [
           "vocal harmony group"
          ],
          [
           "vocal house"
          ],
          [
           "vocal jazz"
          ],
          [
           "vocal trance"
          ],
          [
           "vocaloid"
          ],
          [
           "vogue"
          ],
          [
           "volksmusik"
          ],
          [
           "warm drone"
          ],
          [
           "washboard"
          ],
          [
           "washington indie"
          ],
          [
           "wassoulou"
          ],
          [
           "water"
          ],
          [
           "wave"
          ],
          [
           "welsh folk"
          ],
          [
           "welsh indie"
          ],
          [
           "welsh metal"
          ],
          [
           "welsh rock"
          ],
          [
           "west african jazz"
          ],
          [
           "west australian hip hop"
          ],
          [
           "west coast rap"
          ],
          [
           "west coast reggae"
          ],
          [
           "west coast trap"
          ],
          [
           "west end"
          ],
          [
           "west virginia indie"
          ],
          [
           "western americana"
          ],
          [
           "western mass indie"
          ],
          [
           "western saharan folk"
          ],
          [
           "western swing"
          ],
          [
           "white noise"
          ],
          [
           "wind ensemble"
          ],
          [
           "wind quintet"
          ],
          [
           "wisconsin indie"
          ],
          [
           "witch house"
          ],
          [
           "women's choir"
          ],
          [
           "women's music"
          ],
          [
           "wonky"
          ],
          [
           "worcester ma indie"
          ],
          [
           "world"
          ],
          [
           "world fusion"
          ],
          [
           "world meditation"
          ],
          [
           "world worship"
          ],
          [
           "worship"
          ],
          [
           "wrestling"
          ],
          [
           "wu fam"
          ],
          [
           "wyoming indie"
          ],
          [
           "wyoming roots"
          ],
          [
           "xhosa"
          ],
          [
           "xtra raw"
          ],
          [
           "yacht rock"
          ],
          [
           "ye ye"
          ],
          [
           "yiddish folk"
          ],
          [
           "yodeling"
          ],
          [
           "yoga"
          ],
          [
           "yoik"
          ],
          [
           "york indie"
          ],
          [
           "yorkshire folk"
          ],
          [
           "yugoslav new wave"
          ],
          [
           "yugoslav rock"
          ],
          [
           "zambian pop"
          ],
          [
           "zeuhl"
          ],
          [
           "zhongguo feng"
          ],
          [
           "zimdancehall"
          ],
          [
           "zolo"
          ],
          [
           "zouglou"
          ],
          [
           "zouk"
          ],
          [
           "zurich indie"
          ],
          [
           "zydeco"
          ]
         ],
         "hovertemplate": "x=%{x}<br>y=%{y}<br>genres=%{customdata[0]}<br>cluster=%{marker.color}<extra></extra>",
         "legendgroup": "",
         "marker": {
          "color": [
           5,
           3,
           2,
           0,
           7,
           5,
           2,
           1,
           4,
           0,
           4,
           1,
           2,
           5,
           0,
           7,
           2,
           7,
           4,
           7,
           7,
           0,
           2,
           0,
           4,
           2,
           2,
           5,
           4,
           2,
           2,
           4,
           1,
           1,
           2,
           4,
           2,
           4,
           1,
           2,
           8,
           1,
           2,
           4,
           0,
           1,
           4,
           2,
           2,
           8,
           1,
           7,
           7,
           1,
           8,
           1,
           1,
           8,
           2,
           2,
           8,
           2,
           4,
           5,
           8,
           7,
           4,
           8,
           1,
           5,
           4,
           7,
           5,
           5,
           5,
           5,
           5,
           0,
           8,
           0,
           4,
           5,
           7,
           5,
           5,
           8,
           4,
           8,
           5,
           0,
           1,
           1,
           8,
           7,
           7,
           8,
           8,
           7,
           0,
           1,
           0,
           0,
           4,
           4,
           7,
           6,
           5,
           4,
           2,
           2,
           1,
           7,
           1,
           2,
           2,
           2,
           2,
           8,
           2,
           4,
           7,
           5,
           7,
           2,
           7,
           5,
           1,
           1,
           1,
           5,
           2,
           1,
           1,
           2,
           1,
           2,
           5,
           8,
           1,
           6,
           4,
           6,
           1,
           0,
           4,
           2,
           2,
           2,
           7,
           1,
           5,
           2,
           5,
           5,
           5,
           1,
           4,
           4,
           2,
           2,
           1,
           2,
           7,
           1,
           1,
           8,
           8,
           1,
           2,
           8,
           1,
           7,
           4,
           2,
           2,
           8,
           2,
           1,
           1,
           5,
           5,
           5,
           4,
           0,
           4,
           6,
           8,
           5,
           0,
           8,
           2,
           7,
           4,
           2,
           2,
           2,
           5,
           7,
           0,
           7,
           0,
           4,
           0,
           7,
           0,
           1,
           7,
           5,
           5,
           0,
           5,
           1,
           8,
           2,
           2,
           1,
           0,
           0,
           0,
           0,
           0,
           5,
           2,
           0,
           7,
           6,
           5,
           5,
           5,
           5,
           2,
           5,
           5,
           4,
           1,
           7,
           2,
           1,
           4,
           1,
           2,
           1,
           1,
           4,
           2,
           2,
           4,
           0,
           1,
           0,
           2,
           2,
           0,
           2,
           2,
           1,
           8,
           8,
           5,
           5,
           4,
           4,
           1,
           2,
           4,
           0,
           8,
           4,
           4,
           4,
           4,
           2,
           0,
           2,
           2,
           1,
           5,
           0,
           1,
           5,
           0,
           2,
           4,
           5,
           6,
           4,
           2,
           8,
           4,
           8,
           9,
           8,
           8,
           8,
           8,
           7,
           4,
           7,
           0,
           2,
           1,
           4,
           8,
           2,
           1,
           7,
           0,
           1,
           4,
           0,
           4,
           4,
           7,
           4,
           7,
           2,
           2,
           2,
           8,
           8,
           1,
           2,
           8,
           0,
           7,
           1,
           1,
           5,
           5,
           5,
           7,
           5,
           5,
           2,
           5,
           5,
           5,
           2,
           8,
           2,
           2,
           0,
           8,
           7,
           0,
           1,
           2,
           2,
           8,
           4,
           8,
           8,
           2,
           7,
           5,
           2,
           7,
           1,
           4,
           8,
           2,
           2,
           8,
           2,
           2,
           5,
           5,
           2,
           5,
           0,
           8,
           1,
           7,
           8,
           1,
           1,
           2,
           7,
           5,
           5,
           7,
           8,
           7,
           2,
           5,
           2,
           7,
           2,
           1,
           1,
           2,
           1,
           8,
           2,
           8,
           1,
           2,
           2,
           4,
           4,
           8,
           3,
           0,
           7,
           7,
           8,
           0,
           2,
           4,
           1,
           5,
           0,
           1,
           5,
           4,
           2,
           7,
           2,
           1,
           2,
           0,
           5,
           5,
           5,
           7,
           2,
           7,
           7,
           1,
           4,
           5,
           7,
           8,
           1,
           6,
           2,
           7,
           7,
           4,
           2,
           8,
           8,
           4,
           1,
           8,
           8,
           5,
           7,
           8,
           2,
           4,
           7,
           5,
           7,
           2,
           2,
           2,
           7,
           7,
           7,
           7,
           0,
           0,
           8,
           7,
           2,
           1,
           0,
           0,
           0,
           2,
           5,
           5,
           5,
           2,
           1,
           7,
           7,
           5,
           4,
           2,
           2,
           0,
           5,
           7,
           5,
           5,
           7,
           5,
           7,
           7,
           2,
           2,
           7,
           7,
           4,
           8,
           0,
           4,
           1,
           2,
           7,
           0,
           1,
           4,
           4,
           1,
           8,
           8,
           1,
           2,
           8,
           1,
           4,
           2,
           7,
           1,
           1,
           9,
           2,
           4,
           4,
           1,
           8,
           5,
           0,
           8,
           2,
           2,
           2,
           8,
           2,
           7,
           5,
           5,
           5,
           4,
           7,
           4,
           7,
           8,
           5,
           7,
           7,
           5,
           5,
           7,
           2,
           5,
           0,
           7,
           0,
           7,
           2,
           4,
           8,
           1,
           1,
           1,
           8,
           8,
           1,
           1,
           8,
           1,
           5,
           8,
           1,
           7,
           5,
           7,
           2,
           2,
           1,
           8,
           2,
           4,
           1,
           0,
           7,
           2,
           4,
           0,
           1,
           7,
           4,
           7,
           0,
           0,
           8,
           0,
           4,
           4,
           2,
           2,
           4,
           4,
           6,
           8,
           4,
           7,
           0,
           7,
           8,
           7,
           7,
           0,
           7,
           2,
           7,
           0,
           4,
           2,
           4,
           7,
           8,
           2,
           2,
           0,
           8,
           7,
           2,
           5,
           1,
           8,
           1,
           4,
           2,
           2,
           5,
           7,
           5,
           5,
           5,
           5,
           5,
           5,
           5,
           5,
           5,
           5,
           5,
           7,
           5,
           5,
           5,
           5,
           5,
           5,
           5,
           7,
           5,
           5,
           5,
           7,
           0,
           9,
           8,
           2,
           2,
           4,
           1,
           2,
           1,
           2,
           9,
           2,
           1,
           2,
           1,
           6,
           8,
           5,
           4,
           6,
           8,
           2,
           1,
           5,
           5,
           5,
           2,
           7,
           1,
           5,
           0,
           7,
           5,
           0,
           0,
           0,
           8,
           2,
           2,
           4,
           8,
           7,
           5,
           2,
           0,
           0,
           2,
           0,
           2,
           2,
           2,
           2,
           0,
           0,
           2,
           2,
           0,
           2,
           2,
           8,
           1,
           8,
           2,
           2,
           4,
           0,
           2,
           2,
           2,
           2,
           2,
           4,
           4,
           2,
           2,
           7,
           2,
           0,
           2,
           4,
           2,
           2,
           8,
           1,
           0,
           5,
           5,
           0,
           8,
           0,
           4,
           1,
           2,
           2,
           2,
           1,
           8,
           8,
           5,
           8,
           5,
           4,
           5,
           8,
           4,
           6,
           8,
           2,
           1,
           8,
           0,
           8,
           0,
           2,
           2,
           1,
           4,
           8,
           5,
           8,
           8,
           8,
           1,
           1,
           8,
           8,
           8,
           4,
           8,
           8,
           8,
           2,
           8,
           8,
           8,
           4,
           2,
           0,
           4,
           8,
           7,
           1,
           9,
           2,
           1,
           0,
           4,
           1,
           8,
           4,
           2,
           1,
           7,
           2,
           8,
           1,
           4,
           8,
           2,
           2,
           5,
           0,
           8,
           7,
           4,
           8,
           1,
           0,
           7,
           1,
           2,
           0,
           7,
           6,
           8,
           1,
           8,
           2,
           2,
           4,
           2,
           4,
           5,
           2,
           2,
           0,
           2,
           4,
           4,
           4,
           1,
           8,
           0,
           1,
           2,
           1,
           1,
           1,
           4,
           7,
           4,
           2,
           2,
           1,
           1,
           6,
           4,
           0,
           4,
           7,
           1,
           0,
           4,
           5,
           1,
           1,
           2,
           4,
           7,
           2,
           0,
           8,
           8,
           4,
           2,
           1,
           7,
           8,
           8,
           7,
           0,
           7,
           8,
           8,
           8,
           5,
           1,
           7,
           5,
           5,
           8,
           8,
           2,
           8,
           4,
           5,
           8,
           8,
           5,
           2,
           7,
           1,
           8,
           2,
           1,
           4,
           9,
           5,
           8,
           8,
           2,
           0,
           2,
           1,
           7,
           6,
           8,
           4,
           4,
           4,
           2,
           4,
           2,
           0,
           9,
           5,
           5,
           5,
           5,
           2,
           5,
           1,
           8,
           1,
           2,
           1,
           0,
           2,
           7,
           8,
           5,
           7,
           2,
           2,
           1,
           4,
           0,
           4,
           2,
           7,
           2,
           2,
           2,
           2,
           2,
           2,
           8,
           7,
           2,
           2,
           8,
           4,
           1,
           2,
           4,
           2,
           2,
           8,
           8,
           8,
           1,
           8,
           5,
           4,
           5,
           4,
           0,
           6,
           8,
           4,
           0,
           1,
           5,
           8,
           0,
           2,
           7,
           4,
           7,
           5,
           0,
           6,
           1,
           4,
           1,
           4,
           2,
           2,
           4,
           0,
           7,
           5,
           5,
           4,
           6,
           5,
           2,
           4,
           8,
           7,
           7,
           7,
           7,
           0,
           7,
           7,
           8,
           4,
           0,
           1,
           1,
           1,
           5,
           4,
           5,
           5,
           8,
           4,
           1,
           1,
           8,
           4,
           1,
           2,
           4,
           5,
           1,
           7,
           8,
           2,
           7,
           7,
           5,
           2,
           8,
           4,
           1,
           0,
           4,
           0,
           0,
           1,
           7,
           8,
           1,
           7,
           7,
           1,
           7,
           4,
           0,
           0,
           2,
           2,
           2,
           5,
           7,
           1,
           2,
           2,
           8,
           5,
           2,
           7,
           2,
           2,
           5,
           0,
           2,
           0,
           5,
           7,
           8,
           8,
           1,
           7,
           2,
           1,
           0,
           8,
           4,
           5,
           5,
           7,
           4,
           8,
           2,
           2,
           5,
           8,
           0,
           2,
           4,
           8,
           8,
           4,
           8,
           2,
           0,
           4,
           4,
           8,
           1,
           4,
           1,
           4,
           2,
           4,
           8,
           1,
           2,
           4,
           1,
           8,
           2,
           1,
           8,
           1,
           8,
           1,
           2,
           0,
           5,
           8,
           4,
           1,
           2,
           8,
           8,
           8,
           8,
           8,
           2,
           4,
           2,
           7,
           2,
           1,
           8,
           5,
           5,
           5,
           7,
           4,
           4,
           8,
           4,
           1,
           5,
           9,
           4,
           8,
           5,
           5,
           2,
           1,
           2,
           8,
           2,
           5,
           1,
           5,
           5,
           5,
           2,
           8,
           2,
           1,
           4,
           9,
           0,
           4,
           2,
           8,
           8,
           2,
           2,
           8,
           8,
           1,
           2,
           4,
           8,
           1,
           0,
           0,
           9,
           1,
           6,
           0,
           2,
           8,
           1,
           8,
           4,
           2,
           8,
           4,
           4,
           8,
           4,
           2,
           1,
           8,
           0,
           5,
           0,
           0,
           6,
           0,
           4,
           0,
           0,
           2,
           8,
           4,
           8,
           2,
           8,
           8,
           2,
           2,
           4,
           4,
           2,
           7,
           9,
           4,
           0,
           5,
           0,
           6,
           7,
           5,
           1,
           0,
           0,
           2,
           0,
           8,
           2,
           4,
           5,
           1,
           2,
           5,
           8,
           8,
           0,
           8,
           8,
           2,
           8,
           1,
           8,
           8,
           8,
           2,
           0,
           0,
           0,
           5,
           5,
           0,
           5,
           0,
           1,
           1,
           5,
           2,
           2,
           2,
           2,
           4,
           0,
           5,
           0,
           1,
           2,
           2,
           1,
           4,
           3,
           5,
           5,
           5,
           5,
           5,
           5,
           9,
           6,
           7,
           4,
           7,
           7,
           0,
           0,
           2,
           8,
           7,
           4,
           2,
           1,
           2,
           2,
           0,
           4,
           5,
           5,
           5,
           5,
           4,
           9,
           0,
           0,
           4,
           7,
           2,
           1,
           5,
           4,
           5,
           7,
           7,
           1,
           7,
           7,
           7,
           7,
           8,
           0,
           0,
           5,
           0,
           4,
           1,
           5,
           2,
           0,
           4,
           1,
           7,
           1,
           4,
           7,
           7,
           2,
           7,
           2,
           1,
           2,
           7,
           2,
           1,
           2,
           7,
           1,
           7,
           2,
           2,
           8,
           2,
           8,
           1,
           2,
           1,
           7,
           7,
           2,
           1,
           8,
           4,
           2,
           5,
           1,
           4,
           2,
           1,
           1,
           7,
           7,
           0,
           1,
           4,
           8,
           8,
           8,
           8,
           7,
           8,
           8,
           7,
           6,
           1,
           0,
           6,
           0,
           7,
           7,
           0,
           0,
           2,
           5,
           4,
           2,
           0,
           1,
           7,
           4,
           0,
           7,
           0,
           5,
           0,
           2,
           8,
           1,
           7,
           7,
           1,
           2,
           0,
           5,
           5,
           0,
           8,
           5,
           5,
           7,
           4,
           4,
           4,
           1,
           5,
           4,
           0,
           4,
           0,
           8,
           5,
           5,
           7,
           4,
           0,
           8,
           5,
           0,
           5,
           5,
           8,
           0,
           7,
           2,
           4,
           6,
           5,
           2,
           8,
           1,
           8,
           8,
           2,
           2,
           1,
           8,
           4,
           8,
           8,
           2,
           2,
           4,
           2,
           2,
           2,
           2,
           5,
           5,
           5,
           5,
           2,
           5,
           2,
           8,
           7,
           1,
           6,
           8,
           4,
           5,
           7,
           2,
           7,
           7,
           2,
           8,
           8,
           4,
           8,
           8,
           8,
           8,
           8,
           8,
           1,
           4,
           6,
           2,
           4,
           5,
           7,
           1,
           2,
           0,
           0,
           0,
           2,
           0,
           0,
           0,
           4,
           0,
           5,
           0,
           7,
           7,
           7,
           0,
           0,
           8,
           5,
           0,
           0,
           0,
           7,
           0,
           2,
           8,
           0,
           5,
           0,
           0,
           0,
           0,
           0,
           0,
           2,
           5,
           4,
           6,
           4,
           2,
           2,
           0,
           4,
           0,
           8,
           1,
           2,
           4,
           4,
           1,
           0,
           7,
           2,
           0,
           1,
           0,
           1,
           8,
           7,
           7,
           7,
           2,
           7,
           4,
           0,
           4,
           2,
           0,
           6,
           1,
           2,
           1,
           2,
           5,
           2,
           1,
           9,
           0,
           1,
           5,
           0,
           5,
           4,
           5,
           5,
           5,
           4,
           1,
           2,
           1,
           1,
           5,
           5,
           1,
           2,
           2,
           5,
           4,
           4,
           4,
           7,
           5,
           2,
           2,
           2,
           5,
           1,
           7,
           0,
           2,
           1,
           2,
           2,
           8,
           1,
           2,
           2,
           5,
           2,
           6,
           1,
           7,
           2,
           9,
           2,
           1,
           0,
           5,
           7,
           4,
           8,
           2,
           2,
           0,
           6,
           5,
           7,
           8,
           1,
           7,
           2,
           7,
           1,
           7,
           7,
           2,
           7,
           7,
           7,
           7,
           7,
           4,
           2,
           0,
           8,
           1,
           8,
           0,
           7,
           2,
           5,
           7,
           5,
           0,
           2,
           5,
           9,
           6,
           7,
           7,
           2,
           7,
           4,
           7,
           5,
           8,
           0,
           2,
           8,
           7,
           7,
           7,
           2,
           7,
           7,
           0,
           1,
           0,
           0,
           1,
           7,
           2,
           4,
           2,
           7,
           4,
           4,
           5,
           7,
           8,
           5,
           7,
           1,
           2,
           1,
           2,
           8,
           8,
           8,
           8,
           8,
           8,
           4,
           8,
           8,
           1,
           8,
           1,
           7,
           0,
           4,
           4,
           1,
           0,
           2,
           2,
           2,
           7,
           8,
           8,
           8,
           8,
           1,
           2,
           5,
           2,
           1,
           2,
           2,
           2,
           7,
           6,
           2,
           2,
           1,
           2,
           4,
           1,
           7,
           3,
           5,
           6,
           6,
           4,
           8,
           0,
           2,
           7,
           6,
           7,
           8,
           2,
           7,
           8,
           5,
           2,
           8,
           8,
           2,
           2,
           1,
           2,
           5,
           8,
           4,
           1,
           8,
           2,
           2,
           2,
           2,
           1,
           2,
           1,
           2,
           1,
           5,
           5,
           2,
           5,
           8,
           4,
           4,
           2,
           4,
           2,
           2,
           5,
           8,
           2,
           6,
           1,
           0,
           6,
           6,
           4,
           2,
           5,
           1,
           7,
           9,
           1,
           0,
           7,
           7,
           0,
           0,
           4,
           2,
           4,
           1,
           5,
           4,
           2,
           2,
           7,
           1,
           7,
           5,
           0,
           1,
           1,
           2,
           2,
           2,
           4,
           1,
           7,
           6,
           0,
           2,
           4,
           1,
           2,
           0,
           4,
           0,
           6,
           7,
           0,
           4,
           4,
           2,
           3,
           7,
           0,
           0,
           6,
           6,
           4,
           7,
           2,
           2,
           7,
           0,
           5,
           2,
           5,
           2,
           5,
           0,
           8,
           2,
           8,
           0,
           1,
           4,
           2,
           5,
           0,
           7,
           7,
           2,
           2,
           7,
           2,
           8,
           7,
           6,
           7,
           5,
           4,
           1,
           4,
           0,
           0,
           1,
           1,
           4,
           2,
           8,
           5,
           5,
           7,
           4,
           9,
           7,
           1,
           1,
           5,
           2,
           8,
           2,
           8,
           2,
           2,
           0,
           2,
           2,
           0,
           2,
           2,
           2,
           7,
           2,
           8,
           2,
           7,
           8,
           2,
           5,
           8,
           2,
           4,
           2,
           8,
           4,
           1,
           4,
           0,
           2,
           2,
           8,
           6,
           8,
           5,
           6,
           4,
           4,
           5,
           8,
           5,
           0,
           8,
           2,
           2,
           8,
           2,
           7,
           8,
           7,
           8,
           1,
           8,
           1,
           8,
           5,
           5,
           5,
           8,
           5,
           4,
           2,
           5,
           8,
           4,
           4,
           8,
           8,
           4,
           6,
           4,
           1,
           7,
           7,
           2,
           2,
           5,
           1,
           8,
           2,
           1,
           8,
           1,
           8,
           0,
           7,
           7,
           2,
           7,
           0,
           2,
           0,
           7,
           8,
           8,
           1,
           2,
           1,
           8,
           5,
           7,
           8,
           7,
           1,
           8,
           1,
           7,
           2,
           2,
           8,
           2,
           5,
           1,
           2,
           8,
           4,
           4,
           2,
           7,
           2,
           2,
           1,
           8,
           2,
           4,
           0,
           0,
           1,
           8,
           2,
           2,
           5,
           0,
           8,
           7,
           0,
           7,
           3,
           5,
           5,
           8,
           5,
           6,
           6,
           8,
           0,
           0,
           4,
           0,
           5,
           2,
           1,
           2,
           4,
           1,
           0,
           4,
           2,
           7,
           5,
           5,
           8,
           2,
           8,
           2,
           4,
           2,
           0,
           4,
           0,
           6,
           1,
           2,
           2,
           5,
           7,
           2,
           1,
           1,
           7,
           2,
           1,
           7,
           4,
           4,
           2,
           2,
           6,
           1,
           2,
           1,
           2,
           1,
           1,
           0,
           5,
           4,
           2,
           5,
           0,
           2,
           2,
           1,
           8,
           0,
           7,
           7,
           4,
           2,
           2,
           2,
           1,
           1,
           8,
           8,
           9,
           5,
           4,
           5,
           5,
           5,
           6,
           5,
           4,
           8,
           7,
           4,
           1,
           0,
           4,
           2,
           5,
           4,
           1,
           2,
           7,
           2,
           2,
           4,
           8,
           1,
           7,
           4,
           4,
           7,
           1,
           1,
           1,
           2,
           1,
           2,
           2,
           2,
           7,
           1,
           1,
           7,
           2,
           2,
           5,
           2,
           7,
           4,
           2,
           2,
           8,
           7,
           5,
           2,
           2,
           8,
           8,
           8,
           8,
           5,
           8,
           2,
           2,
           5,
           5,
           8,
           2,
           8,
           1,
           8,
           8,
           1,
           5,
           2,
           7,
           1,
           7,
           8,
           8,
           8,
           4,
           8,
           8,
           1,
           8,
           8,
           8,
           7,
           8,
           4,
           8,
           8,
           4,
           1,
           2,
           0,
           7,
           6,
           8,
           8,
           7,
           7,
           1,
           2,
           8,
           1,
           1,
           8,
           8,
           8,
           2,
           1,
           2,
           6,
           0,
           4,
           4,
           8,
           8,
           8,
           8,
           8,
           1,
           2,
           7,
           0,
           5,
           8,
           7,
           1,
           2,
           2,
           2,
           0,
           1,
           2,
           0,
           5,
           0,
           7,
           1,
           1,
           2,
           1,
           2,
           1,
           2,
           1,
           1,
           8,
           4,
           0,
           1,
           2,
           2,
           8,
           8,
           9,
           8,
           4,
           0,
           7,
           2,
           2,
           2,
           1,
           1,
           2,
           1,
           2,
           8,
           4,
           1,
           2,
           7,
           5,
           2,
           8,
           2,
           7,
           4,
           0,
           1,
           4,
           8,
           4,
           2,
           4,
           2,
           4,
           2,
           2,
           2,
           2,
           7,
           8,
           2,
           2,
           2,
           8,
           4,
           8,
           2,
           2,
           2,
           4,
           2,
           1,
           2,
           2,
           2,
           2,
           5,
           4,
           5,
           1,
           0,
           0,
           2,
           2,
           2,
           7,
           7,
           4,
           1,
           7,
           4,
           8,
           4,
           5,
           5,
           8,
           1,
           4,
           4,
           4,
           1,
           1,
           5,
           5,
           4,
           1,
           7,
           4,
           5,
           8,
           8,
           1,
           5,
           0,
           2,
           8,
           1,
           2,
           2,
           1,
           1,
           1,
           2,
           2,
           2,
           2,
           7,
           0,
           2,
           6,
           7,
           4,
           2,
           8,
           2,
           2,
           0,
           5,
           7,
           2,
           4,
           2,
           7,
           5,
           2,
           5,
           7,
           2,
           8,
           7,
           2,
           2,
           2,
           2,
           1,
           1,
           8,
           2,
           1,
           2,
           4,
           4,
           5,
           2,
           0,
           0,
           2,
           4,
           4,
           1,
           0,
           5,
           5,
           0,
           8,
           1,
           2,
           4,
           4,
           8,
           7,
           8,
           5,
           2,
           7,
           7,
           7,
           7,
           5,
           5,
           2,
           2,
           2,
           4,
           4,
           2,
           2,
           8,
           7,
           0,
           8,
           7,
           1,
           8,
           8,
           8,
           7,
           8,
           5,
           4,
           2,
           8,
           1,
           7,
           8,
           7,
           7,
           4,
           2,
           2,
           1,
           2,
           0,
           2,
           2,
           2,
           0,
           2,
           2,
           4,
           1,
           1,
           7,
           4,
           0,
           7,
           5,
           5,
           6,
           1,
           5,
           2,
           0,
           1,
           2,
           1,
           7,
           1,
           4,
           2,
           4,
           7,
           8,
           1,
           7,
           2,
           7,
           1,
           8,
           2,
           2,
           2,
           4,
           1,
           6,
           0,
           5,
           8,
           0,
           0,
           5,
           4,
           2,
           7,
           1,
           4,
           4,
           2,
           4,
           1,
           2,
           5,
           2,
           2,
           8,
           6,
           8,
           4,
           4,
           7,
           0,
           4,
           0,
           2,
           2,
           0,
           4,
           2,
           7,
           7,
           4,
           2,
           8,
           8,
           8,
           5,
           1,
           8,
           5,
           0,
           0,
           5,
           5,
           5,
           2,
           4,
           4,
           1,
           0,
           2,
           2,
           2,
           8,
           8,
           2,
           1,
           2,
           8,
           1,
           7,
           8,
           5,
           2,
           2,
           8,
           8,
           4,
           2,
           4,
           8,
           8,
           2,
           7,
           4,
           1,
           7,
           2,
           1,
           5,
           0,
           8,
           8,
           8,
           1,
           2,
           4,
           8,
           8,
           1,
           7,
           7,
           7,
           7,
           2,
           7,
           4,
           0,
           0,
           4,
           8,
           5,
           5,
           8,
           2,
           8,
           5,
           7,
           8,
           4,
           7,
           2,
           2,
           2,
           0,
           0,
           2,
           6,
           7,
           5,
           7,
           7,
           7,
           7,
           0,
           2,
           2,
           2,
           1,
           0,
           0,
           0,
           8,
           0,
           0,
           8,
           1,
           8,
           2,
           8,
           8,
           8,
           1,
           1,
           2,
           1,
           2,
           2,
           2,
           8,
           2,
           1,
           2,
           2,
           2,
           2,
           2,
           2,
           0,
           0,
           2,
           8,
           0,
           5,
           8,
           8,
           2,
           0,
           4,
           8,
           0,
           5,
           0,
           7,
           4,
           0,
           0,
           0,
           7,
           0,
           7,
           7,
           2,
           1,
           2,
           4,
           6,
           8,
           2,
           1,
           2,
           1,
           2,
           1,
           2,
           1,
           1,
           2,
           1,
           4,
           8,
           8,
           1,
           0,
           0,
           1,
           2,
           2,
           2,
           1,
           7,
           7,
           0,
           7,
           2,
           6,
           2,
           1,
           4,
           6,
           5,
           4,
           4,
           0,
           0,
           0,
           4,
           7,
           6,
           4,
           1,
           2,
           4,
           5,
           1,
           0,
           2,
           1,
           7,
           7,
           1,
           1,
           4,
           6,
           8,
           8,
           4,
           1,
           2,
           4,
           2,
           2,
           4,
           4,
           2,
           8,
           1,
           2,
           2,
           8,
           8,
           7,
           8,
           5,
           5,
           5,
           8,
           1,
           0,
           1,
           1,
           1,
           2,
           5,
           4,
           8,
           1,
           1,
           8,
           7,
           0,
           0,
           4,
           2,
           1,
           7,
           8,
           2,
           7,
           2,
           1,
           1,
           4,
           7,
           6,
           2,
           0,
           8,
           8,
           0,
           2,
           2,
           2,
           1,
           7,
           5,
           8,
           7,
           5,
           7,
           4,
           4,
           4,
           8,
           4,
           8,
           2,
           0,
           7,
           0,
           0,
           9,
           2,
           0,
           0,
           0,
           5,
           0,
           0,
           4,
           0,
           0,
           0,
           0,
           0,
           5,
           4,
           0,
           5,
           7,
           1,
           1,
           1,
           2,
           8,
           8,
           5,
           8,
           5,
           0,
           2,
           0,
           4,
           4,
           1,
           0,
           5,
           0,
           2,
           2,
           6,
           4,
           5,
           1,
           1,
           1,
           4,
           6,
           1,
           4,
           1,
           7,
           4,
           7,
           2,
           7,
           0,
           5,
           5,
           5,
           7,
           2,
           8,
           7,
           7,
           1,
           7,
           7,
           5,
           7,
           7,
           2,
           2,
           8,
           2,
           0,
           8,
           2,
           7,
           5,
           0,
           5,
           5,
           7,
           7,
           2,
           2,
           4,
           8,
           2,
           4,
           2,
           4,
           2,
           0,
           2
          ],
          "coloraxis": "coloraxis",
          "symbol": "circle"
         },
         "mode": "markers",
         "name": "",
         "showlegend": false,
         "type": "scattergl",
         "x": [
          -50.85668182373047,
          -50.666725158691406,
          2.968313455581665,
          -27.0017147064209,
          -9.853036880493164,
          -10.961677551269531,
          23.386438369750977,
          61.17049789428711,
          -32.79371643066406,
          -9.898751258850098,
          -18.318918228149414,
          -7.025640487670898,
          3.9279162883758545,
          -50.1047477722168,
          -13.719572067260742,
          -0.9540181756019592,
          2.5164742469787598,
          -3.3448925018310547,
          -14.533658981323242,
          10.731019020080566,
          -9.737571716308594,
          -14.14085578918457,
          17.268583297729492,
          -32.939231872558594,
          -18.197635650634766,
          24.66264533996582,
          18.784860610961914,
          -45.16621780395508,
          -23.864315032958984,
          21.70840835571289,
          18.467432022094727,
          -27.15901756286621,
          34.3023681640625,
          -3.320513963699341,
          33.81575012207031,
          -11.412896156311035,
          15.172891616821289,
          -27.419357299804688,
          54.37120056152344,
          22.338668823242188,
          40.45457458496094,
          56.286285400390625,
          24.5341796875,
          -30.441909790039062,
          -4.14323091506958,
          39.093509674072266,
          -28.51348114013672,
          16.15342140197754,
          17.817991256713867,
          55.47432327270508,
          38.770755767822266,
          3.0146312713623047,
          -4.725584506988525,
          51.59211349487305,
          37.74449920654297,
          58.42920684814453,
          50.21666717529297,
          16.613414764404297,
          30.626598358154297,
          34.867855072021484,
          19.3159122467041,
          21.12919044494629,
          -33.3138542175293,
          -37.62513732910156,
          12.358417510986328,
          -9.17626667022705,
          -17.697879791259766,
          -3.2310590744018555,
          -7.222169399261475,
          -46.062015533447266,
          -31.036399841308594,
          -13.369283676147461,
          -59.76781463623047,
          -42.844966888427734,
          -57.07231140136719,
          -54.72543716430664,
          -44.69858932495117,
          -14.173768043518066,
          -8.71500301361084,
          -34.73148727416992,
          -42.73877716064453,
          -48.84865188598633,
          -11.413666725158691,
          -35.857444763183594,
          -47.67108154296875,
          12.932642936706543,
          -38.386287689208984,
          32.377830505371094,
          -46.10593032836914,
          -12.870466232299805,
          51.574100494384766,
          53.52298355102539,
          29.429702758789062,
          4.6617584228515625,
          7.4406585693359375,
          37.644752502441406,
          13.114151954650879,
          2.6838369369506836,
          -33.08073043823242,
          50.592037200927734,
          -16.937856674194336,
          -33.76001739501953,
          -35.326297760009766,
          -34.361724853515625,
          0.8805883526802063,
          -24.93516731262207,
          -46.18488311767578,
          -27.605022430419922,
          19.94407844543457,
          31.445825576782227,
          53.88540267944336,
          16.457111358642578,
          60.807865142822266,
          19.977231979370117,
          24.266435623168945,
          18.183561325073242,
          28.43339729309082,
          26.181625366210938,
          1.0907357931137085,
          -21.544282913208008,
          5.707400321960449,
          -54.82948684692383,
          3.312283992767334,
          15.626116752624512,
          13.346139907836914,
          -39.524253845214844,
          45.8137321472168,
          -3.132018804550171,
          52.07175827026367,
          -50.79225158691406,
          13.981202125549316,
          57.73149108886719,
          59.40412521362305,
          21.129426956176758,
          50.64491653442383,
          44.83266067504883,
          -59.38048553466797,
          12.357253074645996,
          35.19059753417969,
          -26.754528045654297,
          -14.787301063537598,
          -26.7545223236084,
          30.975467681884766,
          -15.277032852172852,
          -24.937835693359375,
          16.13800048828125,
          13.905269622802734,
          19.305627822875977,
          1.431124210357666,
          47.325504302978516,
          -55.665489196777344,
          11.87378978729248,
          -38.62660598754883,
          -44.868282318115234,
          -41.719459533691406,
          -2.615104913711548,
          -19.425548553466797,
          -19.892620086669922,
          28.513423919677734,
          33.769039154052734,
          53.29256057739258,
          27.54597282409668,
          6.396601676940918,
          58.303794860839844,
          46.651634216308594,
          28.12723731994629,
          26.813335418701172,
          49.062469482421875,
          21.367719650268555,
          12.20003604888916,
          49.32007598876953,
          5.235261917114258,
          -25.641210556030273,
          20.622817993164062,
          20.738323211669922,
          -8.763514518737793,
          26.245691299438477,
          62.59701156616211,
          55.48257827758789,
          -51.12034225463867,
          -57.69365692138672,
          -56.90557098388672,
          -26.953763961791992,
          -50.478248596191406,
          -30.068349838256836,
          -19.73810577392578,
          17.801189422607422,
          -53.97932434082031,
          -32.421142578125,
          17.300622940063477,
          26.531198501586914,
          -39.480106353759766,
          -24.447221755981445,
          11.17333698272705,
          21.758934020996094,
          21.664113998413086,
          -61.19524002075195,
          -35.87952423095703,
          -34.32355499267578,
          -17.14148712158203,
          -19.393774032592773,
          -28.05371856689453,
          -22.58043098449707,
          -13.688984870910645,
          -12.34877872467041,
          -12.938619613647461,
          6.810237407684326,
          -46.45613098144531,
          -38.32289505004883,
          -33.547183990478516,
          -53.122222900390625,
          47.89486312866211,
          22.36516761779785,
          21.61062240600586,
          20.41622543334961,
          29.12868309020996,
          -27.974515914916992,
          -20.1505126953125,
          -25.289796829223633,
          -34.62361526489258,
          -4.9947967529296875,
          -56.945716857910156,
          28.06851577758789,
          -17.627342224121094,
          -12.37806224822998,
          -17.76692771911621,
          -41.67829132080078,
          -46.17214584350586,
          -38.35000228881836,
          -40.20229721069336,
          16.766315460205078,
          -47.51966857910156,
          -38.255699157714844,
          -42.703651428222656,
          34.12489318847656,
          5.814582824707031,
          31.158796310424805,
          48.69884490966797,
          -22.387332916259766,
          51.53562545776367,
          25.943315505981445,
          57.54991149902344,
          57.492427825927734,
          -23.841562271118164,
          23.782724380493164,
          30.534555435180664,
          -23.171117782592773,
          -11.569375991821289,
          -6.78378963470459,
          -24.166759490966797,
          43.50358581542969,
          17.12919044494629,
          -31.496212005615234,
          20.842920303344727,
          20.237180709838867,
          44.344669342041016,
          -8.79650592803955,
          -8.796433448791504,
          -60.18635940551758,
          -36.021270751953125,
          -17.5318546295166,
          -18.0617733001709,
          53.81593322753906,
          8.7463960647583,
          -16.855817794799805,
          -38.05415344238281,
          11.351631164550781,
          -22.746789932250977,
          -29.10169219970703,
          -39.038551330566406,
          -9.045722007751465,
          14.399843215942383,
          -34.44553756713867,
          24.673786163330078,
          24.794788360595703,
          -4.5734710693359375,
          -14.71625804901123,
          -28.169645309448242,
          33.233062744140625,
          -44.906368255615234,
          -27.621013641357422,
          8.76380443572998,
          -16.94988250732422,
          -62.41549301147461,
          -27.740903854370117,
          -25.882524490356445,
          61.504539489746094,
          21.21186637878418,
          -11.361745834350586,
          -5.127769470214844,
          -20.757658004760742,
          20.323108673095703,
          32.67564010620117,
          19.836807250976562,
          -5.127768039703369,
          -12.884634971618652,
          -13.785398483276367,
          -4.3420939445495605,
          -14.64469051361084,
          -4.480165004730225,
          -8.789490699768066,
          -10.973978042602539,
          39.378334045410156,
          15.157610893249512,
          33.25901794433594,
          -10.539448738098145,
          -12.180184364318848,
          -6.241097927093506,
          -32.120052337646484,
          -22.167327880859375,
          -19.157602310180664,
          -19.774499893188477,
          -10.072481155395508,
          -43.3376350402832,
          -10.632805824279785,
          22.713790893554688,
          37.254371643066406,
          28.862592697143555,
          31.57196807861328,
          44.69497299194336,
          47.856895446777344,
          40.063934326171875,
          39.78764724731445,
          -20.999195098876953,
          -10.475956916809082,
          50.395118713378906,
          47.26919174194336,
          -55.87594223022461,
          -62.415496826171875,
          -31.371055603027344,
          -26.491804122924805,
          -47.170536041259766,
          -56.771446228027344,
          15.097983360290527,
          -41.44361114501953,
          -56.04691696166992,
          -41.24113464355469,
          24.674903869628906,
          26.07605743408203,
          43.205692291259766,
          1.5197054147720337,
          -21.84790802001953,
          26.07600975036621,
          -12.209615707397461,
          -5.361955642700195,
          55.77513885498047,
          33.8154411315918,
          16.91197967529297,
          -10.107633590698242,
          -36.93024826049805,
          26.075254440307617,
          26.389137268066406,
          33.071407318115234,
          -2.39872145652771,
          -47.40049743652344,
          20.31959342956543,
          -2.0409109592437744,
          56.76586151123047,
          -25.055063247680664,
          15.358892440795898,
          20.908748626708984,
          11.876361846923828,
          18.461933135986328,
          14.86316204071045,
          25.14882469177246,
          -48.293880462646484,
          -57.99285888671875,
          12.94474983215332,
          -51.51585006713867,
          -35.02802658081055,
          16.18748664855957,
          -4.125568389892578,
          -10.128711700439453,
          20.919921875,
          41.11381912231445,
          -4.142528057098389,
          1.8291616439819336,
          -8.923542022705078,
          -48.112709045410156,
          -53.44147491455078,
          -31.434682846069336,
          52.59207534790039,
          1.9349429607391357,
          32.98411560058594,
          -45.76948928833008,
          22.491621017456055,
          -8.710795402526855,
          16.400257110595703,
          59.49798583984375,
          42.48033142089844,
          23.60854148864746,
          53.23448181152344,
          15.55141830444336,
          17.8311767578125,
          8.099806785583496,
          17.862443923950195,
          30.404342651367188,
          -0.31376558542251587,
          -18.701019287109375,
          -30.975460052490234,
          16.23873519897461,
          -51.2759895324707,
          -40.087860107421875,
          -18.035114288330078,
          -3.10990834236145,
          16.859676361083984,
          -33.731712341308594,
          -1.038820505142212,
          -15.895359992980957,
          61.41567611694336,
          -38.15007019042969,
          -23.49015998840332,
          43.936561584472656,
          -51.21274948120117,
          -26.908355712890625,
          13.578396797180176,
          -27.556081771850586,
          20.2108097076416,
          43.263301849365234,
          9.283751487731934,
          -10.131349563598633,
          -48.64678192138672,
          -45.66494369506836,
          -59.54181671142578,
          -9.062372207641602,
          26.240312576293945,
          -6.523856163024902,
          -3.5353245735168457,
          52.22532653808594,
          -28.577756881713867,
          -35.72352981567383,
          -10.64207935333252,
          25.72637367248535,
          58.13247299194336,
          -17.1102294921875,
          17.142160415649414,
          -14.285821914672852,
          -1.9115222692489624,
          -23.17163848876953,
          29.991012573242188,
          48.779354095458984,
          30.74683380126953,
          -30.22651481628418,
          48.839134216308594,
          38.00950622558594,
          39.9592399597168,
          -50.34038543701172,
          1.4930824041366577,
          34.0223274230957,
          28.001670837402344,
          -36.27700424194336,
          -7.621372222900391,
          -34.96198272705078,
          -6.001708507537842,
          27.50514030456543,
          15.780850410461426,
          -4.417605400085449,
          8.999032020568848,
          -10.752418518066406,
          -2.2367777824401855,
          -7.262306213378906,
          -17.076324462890625,
          -47.1409797668457,
          36.29288864135742,
          1.465603232383728,
          15.98577880859375,
          36.54191970825195,
          -27.951457977294922,
          -24.836166381835938,
          -27.962757110595703,
          10.855878829956055,
          -50.3333854675293,
          -56.34681701660156,
          -62.093727111816406,
          13.20332145690918,
          51.65519332885742,
          -33.96746826171875,
          -8.473494529724121,
          -43.134117126464844,
          -14.099404335021973,
          16.961801528930664,
          23.408416748046875,
          -15.12394905090332,
          -48.185604095458984,
          -11.71339225769043,
          -48.98110580444336,
          -41.035465240478516,
          1.1321392059326172,
          -53.891353607177734,
          -4.145677089691162,
          3.6406447887420654,
          31.30743408203125,
          31.918766021728516,
          -1.3417763710021973,
          -7.755884647369385,
          -37.691871643066406,
          50.870182037353516,
          6.347708225250244,
          -34.071048736572266,
          58.72726821899414,
          29.63941764831543,
          3.3703863620758057,
          -9.383091926574707,
          57.669700622558594,
          -13.01438045501709,
          -29.79395866394043,
          49.20979690551758,
          36.279361724853516,
          30.31210708618164,
          59.09408950805664,
          -2.5428688526153564,
          44.93240737915039,
          61.187660217285156,
          -34.236541748046875,
          -0.28270965814590454,
          -10.268411636352539,
          -5.72927188873291,
          -5.234435558319092,
          -25.0732421875,
          32.2691764831543,
          -33.0926628112793,
          -32.307373046875,
          30.161174774169922,
          7.887928485870361,
          -58.57386016845703,
          -19.457412719726562,
          7.83964729309082,
          8.017115592956543,
          36.37737274169922,
          11.184181213378906,
          34.18100357055664,
          10.525214195251465,
          -13.940444946289062,
          -43.235923767089844,
          -60.34003829956055,
          -60.07067108154297,
          -21.145742416381836,
          9.258106231689453,
          -26.3765811920166,
          -1.365310788154602,
          39.93223571777344,
          -47.84880447387695,
          2.923515558242798,
          -0.7063040733337402,
          -43.23609924316406,
          -42.0092658996582,
          -34.13271713256836,
          39.01219177246094,
          -48.30215835571289,
          -16.565298080444336,
          5.643460750579834,
          -48.168052673339844,
          -8.965597152709961,
          23.56282615661621,
          -22.362659454345703,
          38.34014129638672,
          50.353878021240234,
          55.20732879638672,
          8.185468673706055,
          23.938159942626953,
          27.878772735595703,
          7.87547492980957,
          46.556922912597656,
          19.82608413696289,
          47.07204818725586,
          -35.032318115234375,
          37.73497009277344,
          57.17079544067383,
          0.8105753660202026,
          -42.20370864868164,
          -17.533201217651367,
          21.552261352539062,
          20.15643310546875,
          60.79997253417969,
          -1.4877439737319946,
          35.32463836669922,
          -27.064531326293945,
          33.72066879272461,
          -28.408512115478516,
          -6.639139175415039,
          23.549463272094727,
          -32.487342834472656,
          -25.036890029907227,
          -2.7627415657043457,
          -3.38627028465271,
          -43.16018295288086,
          -2.3699471950531006,
          -37.75020217895508,
          -11.856529235839844,
          34.20753479003906,
          -36.82583999633789,
          -40.88721466064453,
          -22.72060775756836,
          2.091493606567383,
          0.8862909078598022,
          -42.05044937133789,
          -12.56529712677002,
          -16.960067749023438,
          38.11948776245117,
          -41.31672286987305,
          -6.756866455078125,
          -35.142425537109375,
          -7.65887451171875,
          7.8126044273376465,
          -28.89314842224121,
          -17.3121337890625,
          -48.610870361328125,
          -2.99056339263916,
          11.986377716064453,
          4.4719719886779785,
          -24.91590690612793,
          -37.6778564453125,
          -2.9282281398773193,
          -39.42824172973633,
          -16.837364196777344,
          -0.1697826385498047,
          1.982900619506836,
          15.272184371948242,
          -41.33616638183594,
          19.74353790283203,
          -5.2286882400512695,
          2.000354766845703,
          -51.19384765625,
          -4.564270973205566,
          5.677195072174072,
          36.1019401550293,
          -38.91001892089844,
          3.1366214752197266,
          9.812373161315918,
          -53.881752014160156,
          5.680516242980957,
          -49.01512908935547,
          -51.021751403808594,
          -56.29535675048828,
          -49.0045166015625,
          -55.82606887817383,
          -43.9460563659668,
          -51.394752502441406,
          -50.62653732299805,
          -59.561485290527344,
          -59.7454833984375,
          -55.94987487792969,
          -26.010255813598633,
          -50.670616149902344,
          -52.64653778076172,
          -53.08100128173828,
          -48.676570892333984,
          -57.232948303222656,
          -61.87099838256836,
          -47.67780303955078,
          -4.289951801300049,
          -49.88768768310547,
          -49.95172882080078,
          -43.14414978027344,
          -26.31001853942871,
          -22.626230239868164,
          -21.58135414123535,
          26.602375030517578,
          -3.366262912750244,
          22.777782440185547,
          -25.63075828552246,
          41.794921875,
          30.122255325317383,
          29.99190902709961,
          21.090925216674805,
          -21.158462524414062,
          38.151004791259766,
          -11.462905883789062,
          7.821046352386475,
          51.9810676574707,
          -26.191757202148438,
          28.218557357788086,
          -46.82405471801758,
          -32.177772521972656,
          -42.17405700683594,
          27.629173278808594,
          30.80883026123047,
          58.38158416748047,
          -59.767860412597656,
          -55.26746368408203,
          -48.281776428222656,
          27.020099639892578,
          -7.977508068084717,
          -9.749226570129395,
          -36.37788009643555,
          -31.984895706176758,
          -11.575207710266113,
          -48.50941467285156,
          -31.712141036987305,
          -12.30167293548584,
          -18.10932159423828,
          -7.224542617797852,
          23.291837692260742,
          26.5885009765625,
          -27.171794891357422,
          14.51401138305664,
          -7.423497200012207,
          -12.98353099822998,
          21.372785568237305,
          -11.63881778717041,
          -13.699694633483887,
          22.133358001708984,
          -11.39103889465332,
          27.51276397705078,
          35.5171012878418,
          25.585861206054688,
          2.6487956047058105,
          -29.597721099853516,
          -13.141358375549316,
          17.08514404296875,
          9.888277053833008,
          -26.98282814025879,
          23.50348663330078,
          23.50381088256836,
          17.717269897460938,
          58.30936050415039,
          26.319826126098633,
          28.209375381469727,
          10.061555862426758,
          -24.87149429321289,
          -16.829002380371094,
          29.64650535583496,
          23.692630767822266,
          21.564908981323242,
          28.563447952270508,
          25.76610565185547,
          -39.67649841308594,
          -30.974876403808594,
          21.707538604736328,
          28.091291427612305,
          -12.676654815673828,
          30.071056365966797,
          -8.883042335510254,
          24.02886199951172,
          -29.373987197875977,
          22.664125442504883,
          28.239025115966797,
          10.553910255432129,
          58.7049446105957,
          -30.01801300048828,
          -55.32249450683594,
          -54.95852279663086,
          -35.968177795410156,
          27.343992233276367,
          -26.206228256225586,
          -19.189594268798828,
          45.87141799926758,
          31.146209716796875,
          17.417551040649414,
          33.34855270385742,
          56.95824432373047,
          38.11927795410156,
          18.46092987060547,
          -54.25743865966797,
          11.307024002075195,
          -43.52952575683594,
          -25.251541137695312,
          -34.913509368896484,
          20.77107810974121,
          -24.554065704345703,
          -17.177980422973633,
          8.023158073425293,
          31.75252914428711,
          50.37765884399414,
          8.023160934448242,
          -5.134275913238525,
          12.586854934692383,
          -31.526384353637695,
          30.1060848236084,
          30.267908096313477,
          -6.975857257843018,
          -31.454771041870117,
          -10.209424018859863,
          -48.16950225830078,
          -1.2097207307815552,
          13.076026916503906,
          -3.3767213821411133,
          57.953712463378906,
          -2.6546266078948975,
          7.001676559448242,
          35.48965835571289,
          25.79901123046875,
          -25.565479278564453,
          20.548757553100586,
          21.579362869262695,
          27.839277267456055,
          19.821170806884766,
          16.16060447692871,
          16.884477615356445,
          15.466215133666992,
          -9.224230766296387,
          27.434804916381836,
          -12.203570365905762,
          -17.45102882385254,
          8.719263076782227,
          -3.3914878368377686,
          32.86550521850586,
          -21.425521850585938,
          1.2791134119033813,
          59.88149642944336,
          -36.08881378173828,
          -32.37974166870117,
          -1.9557216167449951,
          36.11861801147461,
          -24.524826049804688,
          28.046810150146484,
          38.88901901245117,
          -17.02056884765625,
          21.440143585205078,
          -3.071704864501953,
          28.78377914428711,
          -21.512893676757812,
          7.655686378479004,
          34.03441619873047,
          30.573331832885742,
          -43.70568084716797,
          -11.3153715133667,
          -10.253327369689941,
          -1.3076649904251099,
          -27.245866775512695,
          40.47593307495117,
          -3.8466956615448,
          -11.214739799499512,
          -1.484958529472351,
          21.56450080871582,
          24.400510787963867,
          -19.130434036254883,
          12.796796798706055,
          -10.196473121643066,
          -2.578946590423584,
          41.564422607421875,
          38.89161682128906,
          36.519229888916016,
          22.09027862548828,
          -34.64785385131836,
          5.338717460632324,
          -28.9970645904541,
          -59.49223327636719,
          5.26020622253418,
          40.63945770263672,
          -39.24472427368164,
          22.871915817260742,
          -30.63457679748535,
          -9.045722007751465,
          -26.33323097229004,
          58.96215057373047,
          -9.947551727294922,
          -16.89972686767578,
          49.4728889465332,
          25.52497673034668,
          48.33466339111328,
          -6.156839847564697,
          -5.242230415344238,
          -29.951513290405273,
          -3.6789321899414062,
          -26.146760940551758,
          15.261700630187988,
          31.883209228515625,
          56.78565216064453,
          -1.3961480855941772,
          9.143034934997559,
          -24.54932403564453,
          -19.059030532836914,
          -41.82028579711914,
          7.074223518371582,
          61.64939498901367,
          -32.31755828857422,
          -15.487320899963379,
          -45.32756423950195,
          58.578365325927734,
          59.95663070678711,
          17.18870735168457,
          -24.3572998046875,
          -9.254203796386719,
          23.67196273803711,
          -22.17076873779297,
          19.59895896911621,
          49.523197174072266,
          -22.917997360229492,
          21.945457458496094,
          51.057838439941406,
          -2.4246721267700195,
          20.7828426361084,
          19.937435150146484,
          4.251399993896484,
          -25.188488006591797,
          2.4019649028778076,
          9.170110702514648,
          22.367507934570312,
          25.38966941833496,
          -52.94393539428711,
          57.65333557128906,
          7.523704528808594,
          -47.41736602783203,
          -33.688385009765625,
          10.505599021911621,
          49.27509307861328,
          35.369380950927734,
          16.207277297973633,
          -25.857646942138672,
          -29.386302947998047,
          28.382291793823242,
          -4.223325729370117,
          -54.82960510253906,
          15.681998252868652,
          -9.501355171203613,
          -5.682136535644531,
          12.358417510986328,
          21.155088424682617,
          -5.006863594055176,
          -8.420883178710938,
          -21.73910903930664,
          -59.112762451171875,
          18.899194717407227,
          36.38222885131836,
          27.540889739990234,
          -28.65134620666504,
          33.27436065673828,
          53.541996002197266,
          -13.337509155273438,
          -25.194522857666016,
          25.225635528564453,
          -29.659595489501953,
          -32.163639068603516,
          -27.932218551635742,
          -16.267013549804688,
          -14.772896766662598,
          15.513340950012207,
          -10.693182945251465,
          -24.356874465942383,
          -52.83818817138672,
          -51.686710357666016,
          -46.18796920776367,
          -47.517208099365234,
          8.271186828613281,
          -52.894126892089844,
          -3.212634563446045,
          29.247966766357422,
          59.175392150878906,
          22.35042953491211,
          -6.324786186218262,
          -30.852134704589844,
          32.43162155151367,
          -4.8935112953186035,
          11.087185859680176,
          -46.814823150634766,
          -9.568953514099121,
          25.573143005371094,
          27.594806671142578,
          34.119590759277344,
          -28.200742721557617,
          -16.82016372680664,
          -12.252023696899414,
          32.792850494384766,
          -27.908123016357422,
          14.128615379333496,
          36.909446716308594,
          27.7290096282959,
          3.3962442874908447,
          32.66429138183594,
          30.290536880493164,
          11.106260299682617,
          40.260337829589844,
          31.23276710510254,
          25.64990234375,
          -8.13471794128418,
          -16.68622589111328,
          53.3836784362793,
          7.6975555419921875,
          -25.034196853637695,
          30.69361686706543,
          32.27976608276367,
          27.397993087768555,
          38.533042907714844,
          25.983619689941406,
          56.3194694519043,
          25.534931182861328,
          -46.824031829833984,
          -10.421005249023438,
          -45.64411163330078,
          -38.95248031616211,
          -25.315759658813477,
          -30.556589126586914,
          20.979583740234375,
          -28.556245803833008,
          -25.46162986755371,
          56.97825622558594,
          -48.52469253540039,
          7.655681133270264,
          -14.837409019470215,
          35.715309143066406,
          2.150777816772461,
          -27.960269927978516,
          -5.414332389831543,
          -47.48456954956055,
          -24.356510162353516,
          -10.020662307739258,
          43.28286361694336,
          -12.198589324951172,
          53.41176986694336,
          -19.404815673828125,
          29.61635398864746,
          43.93994140625,
          -33.8926887512207,
          -31.692100524902344,
          -8.769158363342285,
          -53.36827087402344,
          -45.49428176879883,
          -25.852476119995117,
          -18.63722038269043,
          -39.319698333740234,
          24.599699020385742,
          -25.629873275756836,
          -3.4695818424224854,
          -5.097475528717041,
          3.74410080909729,
          4.536961078643799,
          -27.85863494873047,
          -14.118345260620117,
          -3.517659902572632,
          -14.854283332824707,
          -9.151596069335938,
          -18.242891311645508,
          -11.164986610412598,
          53.1177864074707,
          51.05748748779297,
          -5.699409484863281,
          -39.8210334777832,
          -26.00485610961914,
          -53.041011810302734,
          -49.36936569213867,
          13.806650161743164,
          -28.854248046875,
          45.489139556884766,
          45.61566925048828,
          48.31968688964844,
          -7.868232727050781,
          34.48248291015625,
          10.479320526123047,
          -35.384098052978516,
          -45.64109420776367,
          58.27719497680664,
          4.7427473068237305,
          22.48726463317871,
          35.711910247802734,
          -31.162221908569336,
          -39.95637130737305,
          -61.10729217529297,
          24.932918548583984,
          -2.2947893142700195,
          -39.675296783447266,
          33.942955017089844,
          -23.24370574951172,
          -41.16818618774414,
          -38.07418441772461,
          -14.9856538772583,
          -9.174036979675293,
          -7.4720916748046875,
          19.04680824279785,
          48.63727951049805,
          2.1263253688812256,
          -6.250131130218506,
          6.888345241546631,
          -6.044821262359619,
          -34.07044219970703,
          -36.0809211730957,
          -42.62287139892578,
          19.9732666015625,
          10.185203552246094,
          -3.0958499908447266,
          -38.95153045654297,
          12.215232849121094,
          16.805404663085938,
          -4.868231773376465,
          -4.837509632110596,
          27.14104652404785,
          -47.23855209350586,
          32.2988395690918,
          2.877995729446411,
          1.9698162078857422,
          4.982593059539795,
          -33.78575897216797,
          -32.38092041015625,
          21.657466888427734,
          -40.33069610595703,
          -59.61988830566406,
          -13.739853858947754,
          18.889095306396484,
          38.92699432373047,
          51.292972564697266,
          -12.614242553710938,
          18.345165252685547,
          3.1363823413848877,
          -31.994821548461914,
          18.889549255371094,
          -39.701847076416016,
          -48.44049835205078,
          -48.1654167175293,
          -2.798809051513672,
          -19.371498107910156,
          11.833748817443848,
          21.750694274902344,
          18.242494583129883,
          -48.59456253051758,
          24.77135467529297,
          -34.08647155761719,
          25.246936798095703,
          -17.005815505981445,
          32.74397277832031,
          -9.221687316894531,
          -30.64206314086914,
          32.70868682861328,
          16.106578826904297,
          -36.822357177734375,
          -23.51144027709961,
          -23.33041763305664,
          22.82082748413086,
          44.48955535888672,
          -35.217369079589844,
          52.48552703857422,
          -23.326988220214844,
          19.33792495727539,
          -19.814119338989258,
          -2.4302151203155518,
          30.431203842163086,
          27.544261932373047,
          -25.21985626220703,
          33.10245132446289,
          40.22262954711914,
          14.301136016845703,
          59.40415573120117,
          32.69707489013672,
          -7.7074103355407715,
          12.640697479248047,
          46.278419494628906,
          19.289337158203125,
          -35.54621124267578,
          -47.40549087524414,
          61.79423141479492,
          -19.02980613708496,
          59.02220153808594,
          23.094253540039062,
          29.570348739624023,
          17.89341163635254,
          43.07865905761719,
          21.342622756958008,
          28.242259979248047,
          23.9483642578125,
          -27.12952995300293,
          16.16144561767578,
          0.2933352589607239,
          17.189374923706055,
          -11.725571632385254,
          40.425811767578125,
          -46.31561279296875,
          -41.571537017822266,
          -57.63637161254883,
          -0.1324342042207718,
          -25.340911865234375,
          -12.852460861206055,
          22.19382667541504,
          -26.669954299926758,
          35.4606819152832,
          -36.85017776489258,
          -22.672048568725586,
          -8.95238208770752,
          53.718849182128906,
          -49.454498291015625,
          -54.39623260498047,
          19.94493293762207,
          47.9647216796875,
          24.92141342163086,
          -11.577716827392578,
          21.987459182739258,
          -56.42270278930664,
          48.217891693115234,
          -53.02074432373047,
          -51.601741790771484,
          -35.01277160644531,
          25.379310607910156,
          18.0855770111084,
          3.999892234802246,
          53.40997314453125,
          -25.991422653198242,
          -23.204137802124023,
          -25.250808715820312,
          -16.855817794799805,
          30.602413177490234,
          21.803117752075195,
          29.67632484436035,
          17.586143493652344,
          25.23373031616211,
          4.563019275665283,
          11.301918029785156,
          -7.067688465118408,
          34.35097885131836,
          -22.007150650024414,
          21.244583129882812,
          -9.631881713867188,
          -36.954044342041016,
          -15.93759822845459,
          -22.23480224609375,
          -8.400321006774902,
          -19.70502281188965,
          -8.732059478759766,
          -0.6236397624015808,
          16.80883026123047,
          9.376702308654785,
          19.000621795654297,
          -23.476152420043945,
          26.717266082763672,
          -6.558082580566406,
          -10.966226577758789,
          -13.273201942443848,
          14.243613243103027,
          -10.816817283630371,
          32.603546142578125,
          38.141761779785156,
          9.555849075317383,
          -30.534160614013672,
          -34.50627517700195,
          -32.85468673706055,
          -32.009334564208984,
          -10.515995025634766,
          -56.637542724609375,
          -42.57228469848633,
          -44.2248649597168,
          -36.57059097290039,
          34.19216537475586,
          14.886672019958496,
          -35.7410888671875,
          27.328628540039062,
          8.149626731872559,
          19.146730422973633,
          25.22399139404297,
          18.338035583496094,
          18.52094268798828,
          -28.963539123535156,
          -26.02715301513672,
          35.324554443359375,
          14.97503662109375,
          -23.75043296813965,
          -33.3924674987793,
          -39.18128967285156,
          -46.71599578857422,
          -44.52814865112305,
          -23.103639602661133,
          2.1730268001556396,
          -47.572689056396484,
          51.126800537109375,
          -35.08321762084961,
          -18.948680877685547,
          15.371207237243652,
          -27.50240707397461,
          43.56147384643555,
          7.756011009216309,
          -27.444622039794922,
          -41.746803283691406,
          -3.974207639694214,
          31.750038146972656,
          -47.51712417602539,
          32.06669998168945,
          37.13019943237305,
          -31.07988739013672,
          -3.443171977996826,
          21.550790786743164,
          10.90897274017334,
          46.4958381652832,
          59.1042366027832,
          45.14180374145508,
          14.663375854492188,
          -11.123175621032715,
          38.36531448364258,
          -33.02492904663086,
          -15.097539901733398,
          -38.05405807495117,
          -38.12742614746094,
          -41.530731201171875,
          -37.3685188293457,
          -50.000091552734375,
          -13.49863052368164,
          43.13848114013672,
          36.27375793457031,
          -52.1121711730957,
          16.82042121887207,
          22.59587287902832,
          18.55228614807129,
          1.3809869289398193,
          -31.223379135131836,
          -33.74997329711914,
          -34.06825256347656,
          -32.13762664794922,
          58.67485046386719,
          44.93830871582031,
          22.08469009399414,
          55.93843460083008,
          -13.281257629394531,
          -51.08076477050781,
          -54.80751037597656,
          -52.22591018676758,
          -52.684017181396484,
          -57.40936279296875,
          -53.816654205322266,
          -39.95889663696289,
          -23.364362716674805,
          -16.88821029663086,
          -7.5257086753845215,
          -21.390396118164062,
          1.6347503662109375,
          1.634751558303833,
          -12.733948707580566,
          -37.797767639160156,
          27.957731246948242,
          43.70671844482422,
          -32.17927932739258,
          -19.97144317626953,
          26.39491081237793,
          59.43207931518555,
          27.176271438598633,
          19.789709091186523,
          -18.435096740722656,
          -40.887210845947266,
          -53.33364486694336,
          -53.86366271972656,
          -56.89280700683594,
          -61.886070251464844,
          -7.8560590744018555,
          -24.678190231323242,
          -33.10704040527344,
          -33.106895446777344,
          -7.856052398681641,
          4.763259410858154,
          34.90118408203125,
          60.44910430908203,
          -61.42900466918945,
          -28.972990036010742,
          -35.565879821777344,
          -2.8432962894439697,
          -12.081535339355469,
          -8.245892524719238,
          -3.2223172187805176,
          -13.17316722869873,
          4.203960418701172,
          18.13551902770996,
          34.49077606201172,
          -45.4064826965332,
          -18.810625076293945,
          -51.54311752319336,
          -33.20442199707031,
          -30.875747680664062,
          51.313026428222656,
          -46.080013275146484,
          20.24342918395996,
          -25.535995483398438,
          -37.25178146362305,
          60.29862976074219,
          -0.35609182715415955,
          5.892217636108398,
          -32.340511322021484,
          -7.2897138595581055,
          -29.01851463317871,
          31.80233383178711,
          -1.6058002710342407,
          6.099627494812012,
          17.834070205688477,
          43.32851791381836,
          -9.029871940612793,
          24.273889541625977,
          58.664615631103516,
          30.197128295898438,
          2.8951947689056396,
          48.16482925415039,
          11.472738265991211,
          34.94163513183594,
          23.556564331054688,
          37.56327438354492,
          28.63831329345703,
          22.46818733215332,
          -4.962203025817871,
          34.92349624633789,
          49.06025695800781,
          -3.985173463821411,
          -0.5568357110023499,
          25.909528732299805,
          51.527244567871094,
          38.119140625,
          -26.23341178894043,
          38.00379943847656,
          -45.108707427978516,
          -3.1068878173828125,
          -12.971871376037598,
          37.453060150146484,
          49.792259216308594,
          48.58660888671875,
          -3.4396402835845947,
          -25.057289123535156,
          -14.274336814880371,
          -4.099174976348877,
          -26.998947143554688,
          -4.316629409790039,
          -12.954298973083496,
          41.33139419555664,
          13.490557670593262,
          -28.43655776977539,
          9.11594009399414,
          16.781049728393555,
          -10.456174850463867,
          -19.43226432800293,
          32.84520721435547,
          -37.678741455078125,
          -21.1030216217041,
          -39.12709045410156,
          -1.7183935642242432,
          -12.53894329071045,
          -20.730510711669922,
          -6.530139923095703,
          37.89044189453125,
          -26.76556396484375,
          -7.968025207519531,
          -0.006633834447711706,
          -20.623085021972656,
          7.683658123016357,
          2.4130849838256836,
          -40.88729476928711,
          -18.20525360107422,
          -16.058883666992188,
          -36.768707275390625,
          -57.137935638427734,
          -38.24208450317383,
          26.69207763671875,
          40.17298126220703,
          45.91769790649414,
          -2.6603286266326904,
          -2.0451855659484863,
          -4.3601202964782715,
          -5.312514781951904,
          -48.419189453125,
          -51.907997131347656,
          -37.44533920288086,
          -48.882171630859375,
          52.64884948730469,
          -62.33058547973633,
          -57.513877868652344,
          5.680511474609375,
          -31.585512161254883,
          -10.621789932250977,
          -10.621790885925293,
          50.640785217285156,
          -51.19255828857422,
          -32.188453674316406,
          -43.29957580566406,
          -10.621789932250977,
          -48.6027946472168,
          21.69698715209961,
          -43.39595413208008,
          -43.099884033203125,
          0.9794836044311523,
          -23.61663246154785,
          -20.505399703979492,
          -9.60961627960205,
          -52.4291877746582,
          -47.697505950927734,
          -48.94422149658203,
          -34.45857620239258,
          -3.619462728500366,
          -47.825408935546875,
          -40.03095245361328,
          30.22441291809082,
          -30.607059478759766,
          4.464311122894287,
          -50.28895950317383,
          10.456073760986328,
          40.48111343383789,
          38.04671096801758,
          35.64546585083008,
          37.91524124145508,
          29.518110275268555,
          28.204814910888672,
          51.850982666015625,
          33.517147064208984,
          -31.67107582092285,
          37.71371078491211,
          31.72618865966797,
          13.284878730773926,
          12.811720848083496,
          -21.752609252929688,
          17.237411499023438,
          36.372535705566406,
          11.343768119812012,
          18.180917739868164,
          -36.89210510253906,
          -53.90237808227539,
          -57.9337272644043,
          -51.92156219482422,
          5.919061183929443,
          -36.94034194946289,
          31.47837257385254,
          28.096128463745117,
          -9.46524715423584,
          -5.1641669273376465,
          0.8719648122787476,
          55.38255310058594,
          -11.722978591918945,
          -36.940181732177734,
          -14.550455093383789,
          40.04288101196289,
          -31.157697677612305,
          -29.769975662231445,
          2.943242073059082,
          34.107093811035156,
          34.65388870239258,
          -16.402198791503906,
          9.529172897338867,
          54.4260368347168,
          34.816123962402344,
          36.53819274902344,
          18.675779342651367,
          -2.549335241317749,
          55.0255126953125,
          -31.671279907226562,
          -24.844430923461914,
          19.964876174926758,
          -29.111215591430664,
          -53.86757278442383,
          -33.62083435058594,
          -7.436869144439697,
          7.231271266937256,
          -31.328441619873047,
          -19.37735366821289,
          -13.457661628723145,
          36.44773483276367,
          -32.047767639160156,
          -13.070476531982422,
          -31.986083984375,
          -37.13611602783203,
          -18.446393966674805,
          -45.437286376953125,
          -31.494314193725586,
          -30.925472259521484,
          -27.128320693969727,
          -30.035890579223633,
          -30.73897361755371,
          -31.264415740966797,
          14.211296081542969,
          -38.31172561645508,
          -20.343271255493164,
          -26.41246795654297,
          -32.23048400878906,
          -0.1392718255519867,
          -30.060720443725586,
          37.126182556152344,
          10.671619415283203,
          -30.57672691345215,
          -40.14893341064453,
          -31.921361923217773,
          -30.948558807373047,
          -35.32388687133789,
          -7.29732084274292,
          -30.96807861328125,
          -25.128070831298828,
          6.44915771484375,
          -36.9579963684082,
          -23.799530029296875,
          -14.588472366333008,
          -27.138408660888672,
          11.536556243896484,
          5.800744533538818,
          -18.114917755126953,
          -32.34479904174805,
          -12.264278411865234,
          38.926998138427734,
          36.65174102783203,
          31.069711685180664,
          -24.77234649658203,
          -24.48440933227539,
          55.6754035949707,
          -43.528770446777344,
          -40.013755798339844,
          29.44534683227539,
          -31.256126403808594,
          60.47660446166992,
          -29.43938446044922,
          54.304935455322266,
          55.47446060180664,
          -4.846871852874756,
          -0.8500473499298096,
          4.959691047668457,
          41.4739990234375,
          -4.61796236038208,
          -25.358613967895508,
          -18.041399002075195,
          -25.366674423217773,
          17.8331356048584,
          -13.792754173278809,
          -24.645023345947266,
          43.9106559753418,
          36.69206237792969,
          -5.930105209350586,
          19.171979904174805,
          -50.73774719238281,
          12.947731018066406,
          -7.707385063171387,
          -22.71092414855957,
          -12.530450820922852,
          46.21037673950195,
          -45.535980224609375,
          -48.80819320678711,
          -48.78013229370117,
          -35.07831954956055,
          -38.90804672241211,
          -47.351200103759766,
          -62.19072723388672,
          -18.715051651000977,
          51.25065612792969,
          20.28083610534668,
          35.897552490234375,
          58.59497833251953,
          -45.93455505371094,
          -14.544299125671387,
          -7.626381874084473,
          25.822891235351562,
          31.678503036499023,
          -35.17350387573242,
          -30.713069915771484,
          -42.67107009887695,
          -24.94373321533203,
          7.968032360076904,
          -54.19426345825195,
          29.649457931518555,
          26.64178466796875,
          29.059953689575195,
          -57.00163269042969,
          49.54951095581055,
          10.850860595703125,
          -35.03054428100586,
          27.579872131347656,
          54.14699172973633,
          26.431961059570312,
          10.806718826293945,
          24.35780906677246,
          50.19324493408203,
          26.4152889251709,
          28.952388763427734,
          -30.765560150146484,
          36.6644172668457,
          -10.206014633178711,
          50.4594841003418,
          10.976058006286621,
          38.33087921142578,
          -19.893444061279297,
          29.09075164794922,
          29.87092399597168,
          -48.61109161376953,
          -43.88739013671875,
          0.3706672191619873,
          -38.066925048828125,
          25.435470581054688,
          26.446537017822266,
          37.05158996582031,
          -33.81954574584961,
          -16.444116592407227,
          -51.99802017211914,
          -4.299570560455322,
          22.670269012451172,
          16.782377243041992,
          -5.921380996704102,
          4.217405796051025,
          -15.06302547454834,
          45.6936149597168,
          4.257932662963867,
          10.994935035705566,
          24.93291664123535,
          10.648630142211914,
          -39.53754806518555,
          1.9712536334991455,
          -24.80970573425293,
          -10.687307357788086,
          -29.887292861938477,
          33.83647918701172,
          -6.546992301940918,
          21.97678565979004,
          49.99481201171875,
          11.244251251220703,
          -30.63355255126953,
          -7.932591438293457,
          36.0377311706543,
          -42.51129913330078,
          -4.45749044418335,
          -40.02878189086914,
          -4.8937506675720215,
          21.8316707611084,
          -42.06233215332031,
          -24.678205490112305,
          -20.02435874938965,
          2.8996987342834473,
          11.281757354736328,
          16.781076431274414,
          1.9682670831680298,
          -12.44100284576416,
          -8.497767448425293,
          -46.2938232421875,
          6.056396007537842,
          -17.537546157836914,
          27.704105377197266,
          50.28558349609375,
          -8.239466667175293,
          -4.433826446533203,
          4.96108341217041,
          14.26381778717041,
          -1.5201150178909302,
          -1.9130653142929077,
          -29.114561080932617,
          29.491676330566406,
          -32.3480110168457,
          -32.65484619140625,
          -8.007989883422852,
          20.306657791137695,
          45.16093444824219,
          -29.54085350036621,
          35.703697204589844,
          3.78145170211792,
          -9.026556968688965,
          -36.06352996826172,
          -48.562435150146484,
          -4.764942646026611,
          11.076705932617188,
          -51.91550827026367,
          -4.478091239929199,
          35.943199157714844,
          24.987197875976562,
          47.011192321777344,
          3.237654685974121,
          25.39918327331543,
          27.956192016601562,
          23.46876335144043,
          29.986896514892578,
          22.244043350219727,
          44.47262954711914,
          -8.435972213745117,
          27.89361572265625,
          36.7990608215332,
          56.86257553100586,
          30.71215057373047,
          60.678524017333984,
          3.7972681522369385,
          -13.856234550476074,
          -23.761409759521484,
          -14.533768653869629,
          -7.799804210662842,
          -23.3179988861084,
          19.34176254272461,
          18.809104919433594,
          -0.604569673538208,
          -16.196985244750977,
          22.365785598754883,
          14.946276664733887,
          26.07541275024414,
          50.41261291503906,
          28.78824806213379,
          0.23288527131080627,
          -48.50260925292969,
          36.385406494140625,
          28.224092483520508,
          27.568845748901367,
          29.681533813476562,
          29.505661010742188,
          -2.487107753753662,
          -20.834352493286133,
          16.32378387451172,
          38.89707946777344,
          58.81406021118164,
          27.045181274414062,
          -15.453568458557129,
          49.60675811767578,
          -29.439531326293945,
          -50.702579498291016,
          -50.132476806640625,
          -24.935192108154297,
          -24.644933700561523,
          -26.205371856689453,
          34.48582077026367,
          -11.417791366577148,
          35.50688934326172,
          5.705544471740723,
          -28.665985107421875,
          23.319053649902344,
          -8.736892700195312,
          27.317407608032227,
          -8.440223693847656,
          10.059480667114258,
          -48.56742858886719,
          14.992459297180176,
          14.847635269165039,
          33.55853271484375,
          20.876604080200195,
          36.08249282836914,
          54.6771240234375,
          23.78510856628418,
          -46.07282257080078,
          30.940454483032227,
          -29.269254684448242,
          49.78413772583008,
          9.640279769897461,
          13.454119682312012,
          23.343189239501953,
          15.267531394958496,
          26.700326919555664,
          -5.730471611022949,
          18.318777084350586,
          -3.425870656967163,
          22.619443893432617,
          55.76938247680664,
          -47.91838073730469,
          -42.65033721923828,
          9.21793270111084,
          -57.33475875854492,
          34.66135787963867,
          -30.93058967590332,
          -24.821191787719727,
          27.095375061035156,
          -34.65085983276367,
          30.67862319946289,
          22.388601303100586,
          -37.267608642578125,
          33.15485763549805,
          38.06790542602539,
          -25.427494049072266,
          51.129356384277344,
          -30.228679656982422,
          3.5240886211395264,
          3.5240886211395264,
          -19.117969512939453,
          38.06510925292969,
          -36.22785186767578,
          53.63319778442383,
          1.4655767679214478,
          -23.75043296813965,
          -6.183049201965332,
          -40.69354248046875,
          -9.33859920501709,
          -3.9975779056549072,
          -20.081178665161133,
          -29.553943634033203,
          -28.395923614501953,
          7.55400276184082,
          -36.76396179199219,
          33.94281768798828,
          -47.76652145385742,
          -13.406604766845703,
          19.790088653564453,
          30.92782211303711,
          4.634862899780273,
          30.378551483154297,
          6.760640621185303,
          -59.54599380493164,
          -27.974515914916992,
          32.02211380004883,
          -2.9063801765441895,
          7.454234600067139,
          6.485682010650635,
          9.688996315002441,
          -41.4371223449707,
          1.2017849683761597,
          -8.677006721496582,
          -18.18182373046875,
          -20.76215934753418,
          19.747264862060547,
          -38.41123580932617,
          -4.713486194610596,
          27.678834915161133,
          -27.242431640625,
          -41.58388137817383,
          -13.869829177856445,
          -13.4379301071167,
          7.142798900604248,
          -10.759919166564941,
          -14.829524993896484,
          -7.237202167510986,
          12.914400100708008,
          -51.080528259277344,
          -21.34401512145996,
          -34.03886795043945,
          -7.086665153503418,
          9.44986343383789,
          9.17867660522461,
          -36.66388702392578,
          3.180504322052002,
          36.635799407958984,
          25.896474838256836,
          -3.259469509124756,
          -12.43488597869873,
          -46.28926086425781,
          5.418598651885986,
          -46.94367599487305,
          43.80024719238281,
          -43.09904861450195,
          -42.92054748535156,
          -9.354757308959961,
          21.578754425048828,
          21.721986770629883,
          -42.494991302490234,
          7.366457462310791,
          -25.514366149902344,
          21.796310424804688,
          -42.80828094482422,
          -39.2447395324707,
          -17.244443893432617,
          -9.4760103225708,
          11.47733211517334,
          0.6184749603271484,
          -1.2924823760986328,
          28.335708618164062,
          48.25889205932617,
          -1.046585202217102,
          -20.586406707763672,
          -32.926231384277344,
          -51.0256233215332,
          -29.540904998779297,
          50.54788589477539,
          -29.17412567138672,
          -46.740814208984375,
          -46.7413444519043,
          -2.0863256454467773,
          48.90460205078125,
          -15.562094688415527,
          19.607240676879883,
          36.11873245239258,
          -37.14265060424805,
          -37.39061737060547,
          -1.803632378578186,
          -19.07010841369629,
          -21.67155647277832,
          -5.062371253967285,
          42.46708679199219,
          33.40559005737305,
          -48.261173248291016,
          21.43562126159668,
          28.037412643432617,
          22.837739944458008,
          27.566343307495117,
          40.45464324951172,
          -3.202568769454956,
          -10.14392375946045,
          15.429848670959473,
          29.795690536499023,
          -21.488019943237305,
          40.50204849243164,
          26.226045608520508,
          17.896705627441406,
          -13.58218765258789,
          17.36465072631836,
          31.138099670410156,
          18.17165184020996,
          -8.376494407653809,
          11.502437591552734,
          38.997352600097656,
          -48.523536682128906,
          38.470218658447266,
          28.484355926513672,
          -23.57390594482422,
          33.33626174926758,
          59.26655960083008,
          -25.875083923339844,
          -7.767037868499756,
          -9.394100189208984,
          -43.65546798706055,
          0.08631149679422379,
          12.849766731262207,
          18.990734100341797,
          19.038349151611328,
          19.816774368286133,
          -60.34681701660156,
          -25.782567977905273,
          -30.33759307861328,
          -26.907527923583984,
          -52.5250244140625,
          -1.8486294746398926,
          -52.81474304199219,
          -35.06290054321289,
          49.0732536315918,
          22.685550689697266,
          27.63590431213379,
          36.15336227416992,
          41.80073928833008,
          -2.965804100036621,
          40.90911102294922,
          -3.1878345012664795,
          38.48322677612305,
          51.34244155883789,
          30.430801391601562,
          -5.626348495483398,
          18.387081146240234,
          -48.94268035888672,
          -54.734962463378906,
          -39.991695404052734,
          -5.126992702484131,
          -48.30831527709961,
          -22.788999557495117,
          18.147628784179688,
          -45.38051223754883,
          -5.7859601974487305,
          -27.73242950439453,
          -7.254700660705566,
          36.310401916503906,
          33.4573860168457,
          -27.968238830566406,
          -12.630088806152344,
          -25.573320388793945,
          13.637022972106934,
          -5.3716139793396,
          -2.8712375164031982,
          25.574838638305664,
          -0.13246919214725494,
          -53.89204406738281,
          53.13540267944336,
          11.238712310791016,
          3.6447105407714844,
          50.506141662597656,
          10.780282974243164,
          32.98561096191406,
          26.495956420898438,
          -16.820327758789062,
          -7.45703649520874,
          -9.589198112487793,
          -0.4923708140850067,
          9.704641342163086,
          -18.114179611206055,
          23.635961532592773,
          -43.159767150878906,
          -7.056610584259033,
          22.71176528930664,
          48.589595794677734,
          33.04380798339844,
          33.51155090332031,
          61.351322174072266,
          26.566831588745117,
          -45.19255828857422,
          6.9943342208862305,
          33.878177642822266,
          -7.158482074737549,
          48.11137771606445,
          33.878387451171875,
          27.452478408813477,
          -2.1446340084075928,
          37.4658317565918,
          30.284543991088867,
          45.03841781616211,
          24.79994010925293,
          -45.05490493774414,
          59.68286895751953,
          18.42045783996582,
          30.423194885253906,
          -34.49943161010742,
          -35.42735290527344,
          30.62541961669922,
          -1.321266531944275,
          37.10811233520508,
          37.32774353027344,
          51.29273986816406,
          22.17438316345215,
          25.831119537353516,
          -28.782814025878906,
          -15.333373069763184,
          -41.133277893066406,
          10.788542747497559,
          19.898836135864258,
          15.360296249389648,
          20.50672149658203,
          -49.948970794677734,
          -41.24162292480469,
          20.622262954711914,
          -43.759212493896484,
          -46.978458404541016,
          -0.7155306935310364,
          -25.416852951049805,
          -54.763519287109375,
          -48.583717346191406,
          10.268913269042969,
          -32.52733612060547,
          -10.515975952148438,
          -0.7971246242523193,
          32.08312225341797,
          -36.83384704589844,
          -44.13142013549805,
          -32.091148376464844,
          -24.479087829589844,
          -53.373146057128906,
          20.815662384033203,
          50.04349899291992,
          3.6043295860290527,
          -34.224369049072266,
          52.192840576171875,
          -28.97184944152832,
          -13.970821380615234,
          3.273310422897339,
          -9.909187316894531,
          -44.178611755371094,
          -51.97964859008789,
          24.125818252563477,
          20.96540641784668,
          17.801191329956055,
          14.32411003112793,
          -24.063724517822266,
          15.617879867553711,
          -21.34967041015625,
          -23.45918846130371,
          -27.6270694732666,
          -24.935169219970703,
          -5.616733551025391,
          32.42459487915039,
          45.44044876098633,
          -45.829139709472656,
          -4.730959415435791,
          10.566845893859863,
          32.94384002685547,
          51.36546325683594,
          -13.981684684753418,
          19.507461547851562,
          54.65801239013672,
          -2.5148632526397705,
          -34.695228576660156,
          -15.394109725952148,
          40.87871551513672,
          27.57932472229004,
          -34.871604919433594,
          47.67057800292969,
          41.32895278930664,
          -6.132873058319092,
          23.481761932373047,
          56.7260627746582,
          27.738370895385742,
          -21.986412048339844,
          -39.5577392578125,
          -38.53776168823242,
          15.017152786254883,
          -41.71012496948242,
          -11.609800338745117,
          20.969419479370117,
          11.725486755371094,
          45.354652404785156,
          10.03536605834961,
          -44.56440353393555,
          1.1520191431045532,
          8.6060209274292,
          -42.428565979003906,
          5.918788909912109,
          19.64551544189453,
          36.42298889160156,
          56.206939697265625,
          48.794342041015625,
          37.17950439453125,
          9.970962524414062,
          -23.061235427856445,
          -46.95563888549805,
          -38.46459197998047,
          -51.08440017700195,
          -52.068870544433594,
          -48.37205123901367,
          -35.143043518066406,
          -54.30534744262695,
          -39.50461959838867,
          38.15175247192383,
          -3.5934720039367676,
          -38.46504592895508,
          58.08654022216797,
          -15.807292938232422,
          -22.41391372680664,
          25.449052810668945,
          -47.90205764770508,
          -29.381488800048828,
          48.5528678894043,
          37.143917083740234,
          5.414475440979004,
          31.186199188232422,
          30.370107650756836,
          -26.252674102783203,
          37.47112274169922,
          4.855422019958496,
          1.961441159248352,
          -18.45020294189453,
          -24.707595825195312,
          11.49137020111084,
          27.535432815551758,
          50.677703857421875,
          7.31728982925415,
          34.46483612060547,
          56.697086334228516,
          26.44432258605957,
          25.030941009521484,
          30.755592346191406,
          -4.779684066772461,
          46.79816818237305,
          41.89015197753906,
          6.431944370269775,
          24.10953712463379,
          25.413509368896484,
          -42.313262939453125,
          13.657051086425781,
          -16.828081130981445,
          -38.80757141113281,
          23.11513900756836,
          14.414877891540527,
          23.440595626831055,
          21.67551612854004,
          -44.21884536743164,
          19.012901306152344,
          20.257509231567383,
          10.304136276245117,
          26.447956085205078,
          25.651805877685547,
          10.107542037963867,
          -60.96071243286133,
          25.569677352905273,
          15.088362693786621,
          17.55687713623047,
          -12.463829040527344,
          -53.21900939941406,
          37.462467193603516,
          30.7249698638916,
          27.07319450378418,
          44.412109375,
          24.783912658691406,
          31.153230667114258,
          -9.590263366699219,
          -48.980560302734375,
          11.105912208557129,
          -2.2138516902923584,
          -4.480742931365967,
          -4.306822299957275,
          -4.215558052062988,
          27.5866641998291,
          18.46744155883789,
          -13.954325675964355,
          9.855799674987793,
          21.64928436279297,
          51.272701263427734,
          24.961572647094727,
          -3.5382070541381836,
          -1.238092064857483,
          -8.97857666015625,
          19.370975494384766,
          -17.35285186767578,
          -1.8023015260696411,
          -9.746552467346191,
          -28.507322311401367,
          -3.585712194442749,
          16.411842346191406,
          -48.16798400878906,
          -5.939373016357422,
          11.487285614013672,
          11.058771133422852,
          10.665627479553223,
          -18.966718673706055,
          -1.7885825634002686,
          56.55130386352539,
          13.113850593566895,
          22.122480392456055,
          -6.824579238891602,
          -6.251332759857178,
          -0.7047138214111328,
          5.399392604827881,
          29.883825302124023,
          16.587203979492188,
          -8.29321002960205,
          15.494868278503418,
          -19.34475326538086,
          -31.9849910736084,
          -27.06255531311035,
          -35.54408264160156,
          29.11256217956543,
          28.85524559020996,
          28.898481369018555,
          24.181631088256836,
          38.5330696105957,
          32.02254104614258,
          62.96828079223633,
          -26.833309173583984,
          -37.37693405151367,
          -42.18373489379883,
          17.78469467163086,
          9.173179626464844,
          59.28263854980469,
          21.01385498046875,
          22.832901000976562,
          21.184724807739258,
          -18.20527458190918,
          51.78989791870117,
          39.5544548034668,
          -36.06489944458008,
          -48.3852653503418,
          -23.355005264282227,
          -22.732074737548828,
          -8.045656204223633,
          58.522491455078125,
          14.391655921936035,
          54.84741973876953,
          38.537933349609375,
          6.853114604949951,
          28.90949249267578,
          56.78169250488281,
          52.70227813720703,
          36.37801742553711,
          -19.77436637878418,
          -40.04784393310547,
          50.93108367919922,
          36.21955108642578,
          15.590744018554688,
          26.39423942565918,
          53.16619110107422,
          -23.249374389648438,
          11.672240257263184,
          -24.96097183227539,
          -30.71634864807129,
          -14.531667709350586,
          23.248268127441406,
          31.06529998779297,
          35.44525909423828,
          53.141475677490234,
          56.13022232055664,
          24.75078582763672,
          53.60694122314453,
          32.90096664428711,
          37.91291046142578,
          -23.744869232177734,
          61.51439666748047,
          23.009408950805664,
          -10.468511581420898,
          -46.08963394165039,
          24.601449966430664,
          8.265240669250488,
          24.73299217224121,
          -1.3684216737747192,
          -22.33020782470703,
          -2.6819403171539307,
          59.98147964477539,
          -37.048091888427734,
          30.389081954956055,
          -24.12102508544922,
          33.38644790649414,
          -28.466625213623047,
          20.087814331054688,
          -34.957672119140625,
          10.909067153930664,
          16.667633056640625,
          9.004366874694824,
          17.577388763427734,
          14.974921226501465,
          10.94030475616455,
          13.528392791748047,
          26.589054107666016,
          30.75558853149414,
          24.883188247680664,
          -37.30638885498047,
          13.998947143554688,
          17.511703491210938,
          24.08670425415039,
          4.837512493133545,
          -31.771421432495117,
          9.390755653381348,
          43.081966400146484,
          -1.3135058879852295,
          0.13409653306007385,
          -4.135495185852051,
          12.779518127441406,
          -54.494140625,
          -9.63425350189209,
          -45.829132080078125,
          34.92225646972656,
          -28.302095413208008,
          -25.49863624572754,
          16.658586502075195,
          35.93497848510742,
          3.341596841812134,
          -3.8242878913879395,
          -17.673303604125977,
          -35.27914810180664,
          -11.88925552368164,
          -31.667095184326172,
          -13.67110538482666,
          38.02750778198242,
          -38.84695816040039,
          -59.72074890136719,
          -57.27621841430664,
          13.013755798339844,
          54.10686492919922,
          -40.574562072753906,
          -36.948974609375,
          -42.053070068359375,
          52.99656295776367,
          52.996517181396484,
          -51.57159423828125,
          -56.532127380371094,
          -30.486942291259766,
          43.57625198364258,
          -7.736103057861328,
          -37.56281661987305,
          -54.048526763916016,
          8.57624340057373,
          -9.038552284240723,
          32.50518035888672,
          -50.265926361083984,
          -47.019996643066406,
          38.078163146972656,
          21.826017379760742,
          -7.525081157684326,
          37.133544921875,
          11.59030532836914,
          39.55245590209961,
          28.455036163330078,
          35.39354705810547,
          11.300065994262695,
          17.281679153442383,
          11.709113121032715,
          10.658361434936523,
          -6.719505310058594,
          -16.17087173461914,
          11.229389190673828,
          -20.328834533691406,
          -10.051063537597656,
          -36.950645446777344,
          41.74787139892578,
          11.105072975158691,
          36.748966217041016,
          15.140928268432617,
          -30.65233612060547,
          -47.18784713745117,
          3.5298807621002197,
          37.005287170410156,
          -29.340015411376953,
          32.29306411743164,
          -3.186475992202759,
          -34.2816047668457,
          25.655960083007812,
          -41.752010345458984,
          -2.7284157276153564,
          62.9688835144043,
          18.82306480407715,
          -14.68305778503418,
          30.921171188354492,
          17.797826766967773,
          20.331130981445312,
          30.17609214782715,
          61.40943908691406,
          61.93223571777344,
          28.461301803588867,
          42.16121292114258,
          7.798552513122559,
          33.19963455200195,
          -36.745018005371094,
          -8.570099830627441,
          -52.23818588256836,
          4.14308500289917,
          -14.620893478393555,
          -13.393380165100098,
          3.1357107162475586,
          -36.28755187988281,
          -33.75913619995117,
          41.66646194458008,
          -37.00318908691406,
          -53.209232330322266,
          -35.412479400634766,
          -9.007895469665527,
          24.48650360107422,
          -3.05690336227417,
          27.55223846435547,
          -31.10207176208496,
          -26.716753005981445,
          2.4837915897369385,
          -8.116679191589355,
          13.866790771484375,
          -31.487646102905273,
          24.117538452148438,
          5.4731669425964355,
          -1.8193508386611938,
          9.910873413085938,
          -7.347792148590088,
          -53.49380874633789,
          -53.58170700073242,
          18.394515991210938,
          28.737672805786133,
          32.269126892089844,
          -27.439157485961914,
          -19.238067626953125,
          30.8613338470459,
          19.247413635253906,
          44.353023529052734,
          -6.698727130889893,
          -19.241369247436523,
          -1.3416470289230347,
          -19.25690269470215,
          53.399200439453125,
          49.0300178527832,
          37.24980163574219,
          27.143796920776367,
          -3.151339530944824,
          22.379150390625,
          -31.41172218322754,
          -9.172724723815918,
          29.6911563873291,
          -4.215556621551514,
          38.106510162353516,
          -4.307084083557129,
          20.992965698242188,
          -3.436171293258667,
          -5.367752552032471,
          -30.128585815429688,
          5.305625915527344,
          38.92015075683594,
          50.488128662109375,
          34.31378936767578,
          -6.6240034103393555,
          3.5096869468688965,
          28.16853141784668,
          4.905328750610352,
          -13.804936408996582,
          14.461468696594238,
          18.50592803955078,
          -40.886775970458984,
          -12.846007347106934,
          -6.169942855834961,
          1.2088000774383545,
          -19.70754051208496,
          -29.46994972229004,
          -3.7863667011260986,
          -30.80060386657715,
          -55.20664978027344,
          -30.551782608032227,
          47.091365814208984,
          -35.2193717956543,
          35.918914794921875,
          -16.21864891052246,
          32.812400817871094,
          37.78205108642578,
          39.61339569091797,
          -9.215729713439941,
          49.725685119628906,
          -27.495718002319336,
          29.721431732177734,
          -23.074182510375977,
          -5.571622848510742,
          -5.7322845458984375,
          45.82915115356445,
          11.649130821228027,
          22.38776206970215,
          -6.371833801269531,
          58.459068298339844,
          25.342098236083984,
          15.989655494689941,
          1.4621526002883911,
          16.199155807495117,
          -28.681230545043945,
          44.344505310058594,
          -30.62356948852539,
          -31.648242950439453,
          -46.06692886352539,
          8.081067085266113,
          -43.519779205322266,
          -46.26205825805664,
          -51.34087371826172,
          -13.1984281539917,
          40.8419303894043,
          1.7012001276016235,
          -4.445530891418457,
          -9.370908737182617,
          -23.483753204345703,
          20.829143524169922,
          -23.483783721923828,
          50.192893981933594,
          18.908279418945312,
          -45.622188568115234,
          25.236431121826172,
          31.130550384521484,
          -4.064947128295898,
          -18.83148956298828,
          22.772769927978516,
          -12.972029685974121,
          -22.1957950592041,
          -29.33045768737793,
          -37.16490173339844,
          -27.788005828857422,
          -34.250213623046875,
          35.81310272216797,
          29.713167190551758,
          -32.714317321777344,
          -38.290504455566406,
          25.0683650970459,
          2.570499897003174,
          -1.0252492427825928,
          -39.371158599853516,
          31.286205291748047,
          14.236496925354004,
          14.165472030639648,
          45.45695495605469,
          -36.98688507080078,
          32.48222351074219,
          30.2745304107666,
          -49.54116439819336,
          -32.0858268737793,
          -15.872429847717285,
          -41.78605270385742,
          -53.02708053588867,
          -57.24260330200195,
          22.77652931213379,
          -25.37200927734375,
          -31.294532775878906,
          -5.766006946563721,
          -45.40675354003906,
          0.4540387988090515,
          19.176197052001953,
          16.04779624938965,
          47.51985168457031,
          50.937469482421875,
          7.117136478424072,
          -6.8368120193481445,
          4.118250370025635,
          35.093650817871094,
          50.08405303955078,
          0.5282528400421143,
          18.278825759887695,
          -51.17544174194336,
          28.810970306396484,
          29.1966609954834,
          24.908143997192383,
          20.9796142578125,
          -30.76219940185547,
          29.174072265625,
          -19.011550903320312,
          32.04169845581055,
          21.36154556274414,
          23.592044830322266,
          5.280385971069336,
          -30.762407302856445,
          44.895206451416016,
          3.8796775341033936,
          25.677719116210938,
          49.989341735839844,
          -37.916526794433594,
          -43.715354919433594,
          14.413318634033203,
          22.316429138183594,
          -7.922074794769287,
          49.13960647583008,
          23.592044830322266,
          -10.431832313537598,
          50.937503814697266,
          22.36779022216797,
          45.00979232788086,
          -0.6410713195800781,
          1.7946914434432983,
          -9.408040046691895,
          -40.0456428527832,
          25.723907470703125,
          13.645753860473633,
          -16.653236389160156,
          -27.498186111450195,
          -20.752485275268555,
          -13.55693531036377,
          -4.242583274841309,
          -51.673004150390625,
          -41.78231430053711,
          -7.5252251625061035,
          34.66357421875,
          14.134553909301758,
          -45.16987609863281,
          -12.47171401977539,
          -6.398155689239502,
          -11.551200866699219,
          -8.54328441619873,
          21.31642723083496,
          17.81508445739746,
          10.058873176574707,
          -30.602027893066406,
          -25.259122848510742,
          5.918799877166748,
          -17.119102478027344,
          -9.087081909179688,
          -43.06966781616211,
          -17.076091766357422,
          2.2266314029693604,
          -1.8147236108779907,
          4.050602912902832,
          -23.21962547302246,
          29.873367309570312,
          38.330657958984375,
          41.518165588378906,
          29.44099235534668,
          -22.87284278869629,
          -11.309368133544922,
          -23.713451385498047,
          45.4295539855957,
          -27.296470642089844,
          -26.0091609954834,
          16.823110580444336,
          -4.05865478515625,
          15.795249938964844,
          16.445249557495117,
          -6.983235836029053,
          17.347793579101562,
          19.750858306884766,
          -4.828288555145264,
          -6.782320976257324,
          20.344396591186523,
          49.771480560302734,
          19.294038772583008,
          44.54561233520508,
          36.38031005859375,
          27.135847091674805,
          22.910917282104492,
          -6.427572250366211,
          22.612892150878906,
          36.09676742553711,
          31.00189971923828,
          18.267057418823242,
          7.502842903137207,
          6.3462605476379395,
          -29.0899600982666,
          -9.187682151794434,
          6.665028095245361,
          41.33123016357422,
          -33.55455780029297,
          -49.14591979980469,
          26.31260871887207,
          17.44220733642578,
          14.536559104919434,
          -33.5029296875,
          -34.295310974121094,
          11.866025924682617,
          -30.359777450561523,
          -52.10822677612305,
          -34.05390548706055,
          -0.6846962571144104,
          -23.148221969604492,
          -20.09357452392578,
          -19.32231903076172,
          -10.961694717407227,
          -16.511947631835938,
          -16.887487411499023,
          -13.370009422302246,
          -17.503501892089844,
          -12.566697120666504,
          31.18914222717285,
          3.279998540878296,
          -13.256348609924316,
          -11.059738159179688,
          37.32585906982422,
          17.773122787475586,
          58.19131088256836,
          39.20293045043945,
          57.78831100463867,
          9.950905799865723,
          53.717796325683594,
          40.513248443603516,
          60.42790222167969,
          55.13787841796875,
          33.16926956176758,
          49.136653900146484,
          -20.562694549560547,
          30.733625411987305,
          17.35188102722168,
          24.44257926940918,
          4.739136219024658,
          -44.46666717529297,
          -5.6976399421691895,
          39.44508361816406,
          26.008119583129883,
          28.044580459594727,
          -4.816908359527588,
          -7.940031051635742,
          -14.715726852416992,
          -8.69742202758789,
          -21.34402847290039,
          19.575761795043945,
          -24.8583927154541,
          11.137810707092285,
          36.1025276184082,
          -36.501426696777344,
          -44.035919189453125,
          -57.8406867980957,
          -21.246919631958008,
          -14.829524993896484,
          -11.414719581604004,
          -26.09495735168457,
          -41.87583541870117,
          -37.88317108154297,
          -12.123044967651367,
          -18.476234436035156,
          -13.10279655456543,
          60.04529571533203,
          15.25866413116455,
          -34.53105163574219,
          -48.323089599609375,
          -7.707528591156006,
          -32.142086029052734,
          39.05852127075195,
          49.68177032470703,
          3.671485662460327,
          -7.52799654006958,
          35.935707092285156,
          33.42805480957031,
          -22.776151657104492,
          4.312802314758301,
          22.64113426208496,
          22.28902816772461,
          -26.118328094482422,
          -9.687085151672363,
          35.24366760253906,
          -24.559106826782227,
          36.47572708129883,
          17.356548309326172,
          -8.364532470703125,
          -21.036569595336914,
          32.21819305419922,
          31.03091812133789,
          51.701393127441406,
          15.158564567565918,
          34.4886474609375,
          32.187744140625,
          10.891501426696777,
          6.610235691070557,
          30.093326568603516,
          -50.81216812133789,
          -50.740631103515625,
          -57.35078811645508,
          -2.0631487369537354,
          36.56977081298828,
          -34.66899490356445,
          13.721437454223633,
          58.44834899902344,
          44.27644348144531,
          38.62641906738281,
          -51.97952651977539,
          -17.263856887817383,
          -10.38137435913086,
          51.746551513671875,
          48.75458526611328,
          48.05236053466797,
          0.2030089795589447,
          -23.21962547302246,
          -34.47653579711914,
          -35.82710647583008,
          20.24321174621582,
          28.271808624267578,
          -1.8756691217422485,
          17.495819091796875,
          20.088090896606445,
          18.32963752746582,
          31.989887237548828,
          59.74805450439453,
          46.98046112060547,
          -17.434329986572266,
          1.0713305473327637,
          -21.08391761779785,
          0.32484906911849976,
          -31.932029724121094,
          23.123512268066406,
          37.701446533203125,
          -14.720426559448242,
          34.07118225097656,
          26.67387580871582,
          22.54030990600586,
          50.96116638183594,
          36.18468475341797,
          -44.39980697631836,
          7.036967754364014,
          2.9418134689331055,
          -55.87893295288086,
          -10.954133033752441,
          -28.01677894592285,
          -35.82722091674805,
          -35.82697677612305,
          18.278825759887695,
          -30.337398529052734,
          19.777870178222656,
          13.755274772644043,
          -31.425031661987305,
          -10.53880500793457,
          -47.75754928588867,
          -30.645292282104492,
          -21.53555679321289,
          14.144294738769531,
          -35.44450759887695,
          -33.3212890625,
          -33.42752456665039,
          -41.898189544677734,
          -22.232641220092773,
          -32.33891296386719,
          -39.16180419921875,
          -32.680484771728516,
          -20.839250564575195,
          -33.89688491821289,
          -21.467021942138672,
          -31.18265724182129,
          -56.30217742919922,
          -41.5810546875,
          -18.24503517150879,
          -56.355777740478516,
          19.418729782104492,
          60.51520919799805,
          61.072017669677734,
          54.03789520263672,
          36.79875564575195,
          49.7911491394043,
          43.75096893310547,
          -42.38203811645508,
          36.0698127746582,
          -46.15156173706055,
          -14.831942558288574,
          23.88618278503418,
          -19.69055938720703,
          -17.91590690612793,
          -15.38569164276123,
          34.584232330322266,
          -28.06243133544922,
          -43.75565719604492,
          -18.14665412902832,
          21.990697860717773,
          7.0645222663879395,
          -30.364416122436523,
          -26.88404083251953,
          -47.49150085449219,
          52.77452850341797,
          51.59897232055664,
          51.16796875,
          -36.8900146484375,
          -19.95283317565918,
          59.529170989990234,
          -30.92790985107422,
          60.46882629394531,
          -10.060877799987793,
          -24.932937622070312,
          -5.18023681640625,
          24.069364547729492,
          -21.344038009643555,
          -13.101738929748535,
          -60.34650802612305,
          -40.9286003112793,
          -51.481475830078125,
          -32.159725189208984,
          25.179746627807617,
          38.949161529541016,
          -7.743628978729248,
          23.759719848632812,
          36.42312240600586,
          -8.610595703125,
          -32.47821044921875,
          -50.74134063720703,
          8.875958442687988,
          8.721721649169922,
          36.29167556762695,
          44.46943283081055,
          32.247581481933594,
          11.5806884765625,
          -0.9894448518753052,
          32.968963623046875,
          6.744077205657959,
          -8.322897911071777,
          -35.213741302490234,
          -16.684246063232422,
          -58.26439666748047,
          -48.94222640991211,
          3.3176498413085938,
          -1.5802336931228638,
          19.441253662109375,
          23.530197143554688,
          -42.268096923828125,
          -0.5786377191543579,
          11.664587020874023,
          -21.48724365234375,
          14.763197898864746,
          -28.096033096313477,
          30.09979248046875,
          -28.22391700744629,
          -1.3387998342514038
         ],
         "xaxis": "x",
         "y": [
          -7.373502254486084,
          10.057419776916504,
          22.547080993652344,
          -29.957998275756836,
          -10.63537883758545,
          20.05860137939453,
          -17.867576599121094,
          -21.947389602661133,
          39.409019470214844,
          -25.489519119262695,
          53.085044860839844,
          11.977728843688965,
          21.704877853393555,
          -14.35425090789795,
          -35.34476089477539,
          -7.847241401672363,
          -36.158599853515625,
          -0.7046626210212708,
          63.14863586425781,
          0.5799139738082886,
          -21.647851943969727,
          -28.958473205566406,
          -34.5872917175293,
          -36.43392562866211,
          43.58256912231445,
          -37.574676513671875,
          -27.02730369567871,
          -6.720009803771973,
          61.25814437866211,
          -37.2210807800293,
          -30.870439529418945,
          58.92353439331055,
          -43.9154167175293,
          17.130796432495117,
          -15.876270294189453,
          58.439903259277344,
          -32.11143112182617,
          61.064693450927734,
          1.6769518852233887,
          -10.50273609161377,
          14.506528854370117,
          -15.356851577758789,
          -43.97551727294922,
          55.27301788330078,
          33.415138244628906,
          -7.570971488952637,
          59.707916259765625,
          8.96095085144043,
          -16.602537155151367,
          12.521750450134277,
          -44.1291618347168,
          2.468440532684326,
          -6.305156707763672,
          1.8681843280792236,
          10.787980079650879,
          -22.438634872436523,
          11.586517333984375,
          13.611520767211914,
          -22.949705123901367,
          -14.886247634887695,
          12.982364654541016,
          -3.702100992202759,
          49.64995574951172,
          2.8665010929107666,
          32.763614654541016,
          -6.7220001220703125,
          52.92995071411133,
          4.389060974121094,
          25.668161392211914,
          2.689333915710449,
          47.47873306274414,
          15.335567474365234,
          5.431046009063721,
          -25.109811782836914,
          -3.0481200218200684,
          -4.676314353942871,
          -6.0219407081604,
          -24.099706649780273,
          55.55135726928711,
          -13.271932601928711,
          37.242923736572266,
          -2.7204976081848145,
          18.92630386352539,
          2.8278632164001465,
          -17.394309997558594,
          35.303707122802734,
          43.28591537475586,
          23.095142364501953,
          -17.920074462890625,
          -41.5947380065918,
          7.400264739990234,
          7.848855495452881,
          13.27486801147461,
          3.610509157180786,
          -16.31301498413086,
          10.818039894104004,
          0.29780271649360657,
          1.9947148561477661,
          -42.038307189941406,
          -10.115377426147461,
          -33.67082595825195,
          -11.74484634399414,
          37.620460510253906,
          43.475337982177734,
          -0.6404692530632019,
          7.377669334411621,
          22.681108474731445,
          37.877281188964844,
          -1.3225584030151367,
          4.746945381164551,
          -15.216426849365234,
          -11.519745826721191,
          -3.2527706623077393,
          -1.1186107397079468,
          -44.27214431762695,
          -11.739764213562012,
          -19.74831199645996,
          13.514360427856445,
          -37.580322265625,
          54.33085250854492,
          -15.629865646362305,
          -0.1437927633523941,
          3.144365072250366,
          11.750900268554688,
          8.563859939575195,
          -25.693452835083008,
          -2.7431657314300537,
          10.699928283691406,
          -14.183470726013184,
          19.120031356811523,
          14.280844688415527,
          -16.583091735839844,
          -15.749082565307617,
          7.066004276275635,
          11.678335189819336,
          26.44670867919922,
          2.559591293334961,
          32.76227569580078,
          -41.10231399536133,
          17.04707145690918,
          44.78778839111328,
          17.04707145690918,
          -4.206005096435547,
          -18.919435501098633,
          44.45595169067383,
          -13.298226356506348,
          3.2214972972869873,
          -19.263757705688477,
          -10.049811363220215,
          5.664365291595459,
          4.857693195343018,
          -46.025001525878906,
          -25.443771362304688,
          -3.5356132984161377,
          1.1935540437698364,
          -20.579816818237305,
          52.65253448486328,
          51.74779510498047,
          -8.162888526916504,
          -11.94770622253418,
          0.8974555730819702,
          -6.32188081741333,
          -4.349117755889893,
          -1.044419765472412,
          7.607833385467529,
          29.658710479736328,
          16.905010223388672,
          -6.590205669403076,
          -12.797037124633789,
          11.223752975463867,
          2.483023166656494,
          -13.868693351745605,
          43.54393005371094,
          8.367792129516602,
          -15.261286735534668,
          55.528018951416016,
          -17.233078002929688,
          -13.817763328552246,
          -23.494873046875,
          -19.74473762512207,
          -4.806676387786865,
          -9.619956016540527,
          40.5843620300293,
          -14.499143600463867,
          57.349483489990234,
          7.1126227378845215,
          31.203187942504883,
          -5.1638031005859375,
          -10.357237815856934,
          26.904743194580078,
          -33.88917541503906,
          42.779109954833984,
          62.058956146240234,
          -29.02322006225586,
          -41.628379821777344,
          -40.649139404296875,
          0.36957067251205444,
          -0.3458073139190674,
          -27.471342086791992,
          -1.772403597831726,
          -40.6222038269043,
          57.9208984375,
          -39.00235366821289,
          -4.0843048095703125,
          -38.23155212402344,
          29.73077392578125,
          -18.564090728759766,
          17.004169464111328,
          -6.8163886070251465,
          -19.554344177246094,
          6.638549327850342,
          -17.067617416381836,
          20.389951705932617,
          -42.95659255981445,
          -43.88031005859375,
          -44.70265197753906,
          -44.818912506103516,
          -39.344581604003906,
          -34.49069595336914,
          -30.006328582763672,
          -34.50739669799805,
          1.448378324508667,
          -36.89038848876953,
          -29.84259033203125,
          -22.746028900146484,
          5.802820682525635,
          -7.713296890258789,
          -15.711335182189941,
          -1.087443232536316,
          -7.3787407875061035,
          -15.711407661437988,
          -6.698352336883545,
          -7.041943073272705,
          45.526187896728516,
          -7.299420356750488,
          4.373798370361328,
          -7.017374038696289,
          -17.21933364868164,
          55.19667053222656,
          2.3221957683563232,
          -22.24319839477539,
          -17.105472564697266,
          -22.935523986816406,
          63.64643478393555,
          -5.090953826904297,
          -32.25288772583008,
          49.80473709106445,
          -33.00107955932617,
          9.738667488098145,
          -26.14528465270996,
          -29.467113494873047,
          8.138011932373047,
          -12.093267440795898,
          -18.096384048461914,
          -18.426403045654297,
          10.525350570678711,
          60.5511474609375,
          60.55044174194336,
          -3.417665958404541,
          4.8122172355651855,
          55.59560012817383,
          55.233741760253906,
          19.804529190063477,
          16.001174926757812,
          47.63833236694336,
          -17.513221740722656,
          25.149578094482422,
          50.2866325378418,
          39.95106887817383,
          40.16670227050781,
          40.22481155395508,
          -31.4626522064209,
          -31.553302764892578,
          -23.817094802856445,
          -42.77789306640625,
          30.00201988220215,
          20.400358200073242,
          -29.366580963134766,
          -46.401546478271484,
          17.834564208984375,
          -31.65644073486328,
          17.729232788085938,
          54.86241149902344,
          3.3288919925689697,
          16.389636993408203,
          57.0998420715332,
          -4.30476713180542,
          28.319564819335938,
          55.30735778808594,
          53.338645935058594,
          -22.243818283081055,
          31.463130950927734,
          18.451847076416016,
          31.218353271484375,
          53.33859634399414,
          21.006559371948242,
          51.84614562988281,
          -33.7425651550293,
          -32.944461822509766,
          -34.62957763671875,
          -23.987106323242188,
          56.352657318115234,
          26.504520416259766,
          8.124408721923828,
          -2.694681406021118,
          -29.294939041137695,
          -36.94190979003906,
          -24.60267448425293,
          55.94090270996094,
          -31.123830795288086,
          63.00492858886719,
          64.54579162597656,
          -30.028911590576172,
          42.94417953491211,
          -5.777621746063232,
          11.935685157775879,
          -26.350479125976562,
          2.1747655868530273,
          26.400924682617188,
          19.2542667388916,
          6.599392890930176,
          -30.00836944580078,
          22.830747604370117,
          -38.10915756225586,
          16.405963897705078,
          -6.111302852630615,
          3.5928525924682617,
          -5.19905948638916,
          3.3288564682006836,
          37.788875579833984,
          -11.276847839355469,
          -13.793017387390137,
          -2.5590009689331055,
          -28.16985511779785,
          -9.814810752868652,
          -1.7741539478302002,
          2.4360570907592773,
          3.5399646759033203,
          31.516782760620117,
          -30.442317962646484,
          -38.23773956298828,
          -15.478747367858887,
          31.516586303710938,
          -9.526005744934082,
          -44.5234489440918,
          -23.854015350341797,
          -30.14120101928711,
          -19.921510696411133,
          47.084476470947266,
          49.268436431884766,
          31.516748428344727,
          6.526447296142578,
          5.765624523162842,
          -31.591028213500977,
          25.051633834838867,
          4.2747650146484375,
          -35.331424713134766,
          -1.7349261045455933,
          38.9036750793457,
          17.786605834960938,
          -25.82662010192871,
          3.565305233001709,
          39.37172317504883,
          7.127832412719727,
          -46.94175338745117,
          -4.917574405670166,
          4.060357570648193,
          -42.466773986816406,
          -5.133786201477051,
          -33.559051513671875,
          35.921749114990234,
          20.807558059692383,
          -21.761503219604492,
          32.307586669921875,
          2.277052402496338,
          20.8623046875,
          -35.70014190673828,
          14.934318542480469,
          -18.136951446533203,
          -3.796562433242798,
          3.726391315460205,
          9.817421913146973,
          -13.263374328613281,
          -14.836485862731934,
          2.606111526489258,
          9.701730728149414,
          -13.250672340393066,
          -29.929109573364258,
          -22.516075134277344,
          -26.621070861816406,
          7.719685077667236,
          3.394768238067627,
          37.99913787841797,
          5.788981914520264,
          21.176074981689453,
          -5.808530807495117,
          -18.223379135131836,
          -34.89967346191406,
          63.66082000732422,
          52.658294677734375,
          38.332008361816406,
          11.627750396728516,
          -18.853782653808594,
          -17.018524169921875,
          -9.912338256835938,
          15.94202995300293,
          -37.852333068847656,
          -30.666778564453125,
          58.476585388183594,
          -19.61341667175293,
          0.6087514162063599,
          -40.971981048583984,
          7.448433876037598,
          -5.198474407196045,
          42.17704391479492,
          -50.21310806274414,
          -4.639128684997559,
          -22.376270294189453,
          -0.18929730355739594,
          -31.430431365966797,
          -36.81736755371094,
          -6.322014808654785,
          21.474727630615234,
          3.7946841716766357,
          -14.836725234985352,
          -9.414957046508789,
          -12.710348129272461,
          -20.28877067565918,
          2.906768798828125,
          50.2823600769043,
          -2.0240590572357178,
          -5.8090925216674805,
          33.659423828125,
          -15.180841445922852,
          10.34058952331543,
          -16.100133895874023,
          -2.617074728012085,
          -21.23030662536621,
          51.313453674316406,
          -25.09381866455078,
          13.226875305175781,
          28.720529556274414,
          50.29107666015625,
          -6.509970188140869,
          20.658784866333008,
          13.253612518310547,
          7.894628524780273,
          3.180833578109741,
          11.563058853149414,
          14.31246280670166,
          50.69334030151367,
          -8.603063583374023,
          0.9534104466438293,
          -8.37964916229248,
          -0.5035302042961121,
          -13.171401023864746,
          -36.90557098388672,
          9.994926452636719,
          -6.9157304763793945,
          -9.113018989562988,
          -7.21206521987915,
          -31.24553108215332,
          -23.87652587890625,
          18.55136489868164,
          -18.223115921020508,
          -52.170406341552734,
          -41.4681282043457,
          -26.17194175720215,
          -36.09748077392578,
          -26.142608642578125,
          -46.83074188232422,
          -5.937353134155273,
          -14.258566856384277,
          5.557352542877197,
          0.3671211302280426,
          5.331730842590332,
          -2.4117400646209717,
          -11.25389575958252,
          17.684602737426758,
          54.661773681640625,
          -37.724342346191406,
          -13.261209487915039,
          -37.42010498046875,
          15.752143859863281,
          -9.807421684265137,
          -4.33300256729126,
          0.6611719727516174,
          -5.261977195739746,
          -2.8256375789642334,
          -2.597811222076416,
          4.674225330352783,
          6.468939304351807,
          -26.94274139404297,
          -3.717297315597534,
          -11.217082977294922,
          49.83854293823242,
          14.8369722366333,
          -43.94573211669922,
          58.122955322265625,
          -13.349249839782715,
          -4.314239501953125,
          -19.279193878173828,
          -24.123144149780273,
          -14.452485084533691,
          53.47770309448242,
          47.211666107177734,
          4.866115093231201,
          17.820934295654297,
          18.577465057373047,
          -16.087385177612305,
          -36.25372314453125,
          17.671611785888672,
          -21.124109268188477,
          49.61724090576172,
          -28.369199752807617,
          -18.767093658447266,
          -27.124610900878906,
          -27.001615524291992,
          -26.236133575439453,
          3.344229221343994,
          52.90961837768555,
          52.91512680053711,
          -45.15388870239258,
          19.95974349975586,
          2.1374213695526123,
          -40.85399627685547,
          26.900959014892578,
          -44.796836853027344,
          -14.086105346679688,
          -21.20195960998535,
          26.996055603027344,
          15.747931480407715,
          -2.662559986114502,
          -14.190757751464844,
          -0.04258603975176811,
          4.0138959884643555,
          47.298465728759766,
          -16.277372360229492,
          50.08185958862305,
          -3.0789906978607178,
          27.049211502075195,
          -1.0277920961380005,
          -24.071496963500977,
          -3.374048948287964,
          -14.190733909606934,
          -6.29732608795166,
          1.8280836343765259,
          -25.925508499145508,
          -5.487688064575195,
          -37.42737579345703,
          10.609314918518066,
          -27.550376892089844,
          -5.045928955078125,
          9.734527587890625,
          51.61994934082031,
          13.997055053710938,
          -1.377076506614685,
          -16.595291137695312,
          -9.743877410888672,
          17.13779640197754,
          25.091943740844727,
          -8.959649085998535,
          -0.7705256342887878,
          15.127273559570312,
          3.89546275138855,
          -1.4268659353256226,
          13.244318962097168,
          -17.85288429260254,
          -8.714524269104004,
          -1.6699950695037842,
          -1.3718656301498413,
          -31.366588592529297,
          -39.7398567199707,
          -9.048248291015625,
          23.72681999206543,
          -0.5940044522285461,
          44.25904846191406,
          -46.82658767700195,
          -14.435432434082031,
          -20.483388900756836,
          -14.542730331420898,
          49.883209228515625,
          -30.865373611450195,
          12.543526649475098,
          -10.057219505310059,
          43.22209548950195,
          -34.04005813598633,
          -29.152666091918945,
          -34.81678771972656,
          26.99141502380371,
          -28.91472625732422,
          53.19441604614258,
          58.22174835205078,
          -35.27254104614258,
          -37.30115509033203,
          41.62966537475586,
          46.93057632446289,
          10.102622985839844,
          3.6249711513519287,
          49.1932258605957,
          -10.930229187011719,
          -29.01004981994629,
          -9.783905982971191,
          17.73535919189453,
          -7.538710594177246,
          -9.761268615722656,
          -26.29298973083496,
          -10.535670280456543,
          -7.0009236335754395,
          -11.231124877929688,
          -30.764013290405273,
          40.85264205932617,
          -38.75248336791992,
          45.25968933105469,
          -12.060583114624023,
          3.2428886890411377,
          -39.11749267578125,
          8.387742042541504,
          44.78752899169922,
          17.86823081970215,
          -20.189010620117188,
          -32.49472427368164,
          -12.95431900024414,
          -22.75946617126465,
          -27.099681854248047,
          -44.71128463745117,
          39.70371627807617,
          -31.976842880249023,
          -41.30988311767578,
          -10.688870429992676,
          -6.824716567993164,
          -21.972131729125977,
          -21.094430923461914,
          -2.2339158058166504,
          -1.346129298210144,
          -12.851631164550781,
          17.469266891479492,
          -11.689065933227539,
          -0.28083011507987976,
          -1.6596633195877075,
          -0.14828209578990936,
          2.9141204357147217,
          -6.957431316375732,
          -21.534025192260742,
          -1.9758708477020264,
          -4.232669830322266,
          -1.631899118423462,
          3.3148653507232666,
          2.33075213432312,
          18.34084129333496,
          4.4130353927612305,
          -21.936424255371094,
          -21.90215492248535,
          -11.460212707519531,
          -6.596399307250977,
          -34.73305892944336,
          -21.946016311645508,
          32.15591049194336,
          -44.08219909667969,
          2.4412922859191895,
          61.80647277832031,
          -33.87295150756836,
          -24.563274383544922,
          -41.79997253417969,
          6.103736400604248,
          -22.142284393310547,
          -32.7287483215332,
          -20.975133895874023,
          -23.732824325561523,
          11.010863304138184,
          -37.86025619506836,
          5.913022994995117,
          1.0137075185775757,
          54.491634368896484,
          17.792945861816406,
          19.304824829101562,
          -5.980810165405273,
          -22.081424713134766,
          5.430882930755615,
          -4.398800849914551,
          18.046525955200195,
          -8.757026672363281,
          -21.97587776184082,
          8.171862602233887,
          -4.368175983428955,
          -10.958869934082031,
          -8.763638496398926,
          2.4517388343811035,
          -12.183943748474121,
          -23.543922424316406,
          -3.3509724140167236,
          58.542823791503906,
          -41.98047637939453,
          -30.17742347717285,
          55.679386138916016,
          18.99988555908203,
          -31.975765228271484,
          19.031126022338867,
          -10.681270599365234,
          -24.983078002929688,
          -40.153602600097656,
          -9.568986892700195,
          -25.659589767456055,
          -8.99896240234375,
          -24.38759994506836,
          -8.865141868591309,
          -31.7247314453125,
          -40.22410583496094,
          -32.17378616333008,
          6.784001350402832,
          5.271284103393555,
          -18.47077751159668,
          -11.113126754760742,
          -11.11313533782959,
          37.37108612060547,
          -18.569780349731445,
          22.23889923095703,
          -25.340511322021484,
          -41.384769439697266,
          64.62821197509766,
          -39.405433654785156,
          -35.261268615722656,
          -39.69544982910156,
          -42.658546447753906,
          -38.502201080322266,
          -29.333871841430664,
          50.553287506103516,
          47.47068786621094,
          -38.777801513671875,
          -38.09546661376953,
          -18.614255905151367,
          -20.336658477783203,
          -41.15607833862305,
          -38.287723541259766,
          58.24013137817383,
          -40.974735260009766,
          -37.86903381347656,
          31.639623641967773,
          -0.919183611869812,
          -35.990745544433594,
          -12.487037658691406,
          -11.945771217346191,
          -19.944725036621094,
          21.44619369506836,
          -17.77667808532715,
          56.42427062988281,
          6.155873775482178,
          -10.917960166931152,
          -24.346691131591797,
          10.790237426757812,
          -19.45509910583496,
          3.6249687671661377,
          21.9833984375,
          -15.067256927490234,
          21.899473190307617,
          21.556745529174805,
          58.850650787353516,
          -7.8543701171875,
          28.204267501831055,
          57.08338165283203,
          8.382628440856934,
          27.543161392211914,
          -0.14063917100429535,
          10.881911277770996,
          27.54294204711914,
          -43.301265716552734,
          -7.964581489562988,
          -33.08846664428711,
          -20.02952766418457,
          9.8261079788208,
          19.47390365600586,
          54.12618637084961,
          46.406978607177734,
          3.0390360355377197,
          30.508981704711914,
          16.639469146728516,
          32.792415618896484,
          -13.500645637512207,
          21.28035545349121,
          22.120317459106445,
          14.357364654541016,
          22.662220001220703,
          41.39452362060547,
          31.404436111450195,
          30.969255447387695,
          27.551008224487305,
          3.8837661743164062,
          35.912452697753906,
          37.25640106201172,
          19.272363662719727,
          53.695430755615234,
          11.573230743408203,
          -25.30636978149414,
          54.819618225097656,
          -0.5529142022132874,
          -14.192468643188477,
          -50.05792236328125,
          -21.963603973388672,
          -34.71632385253906,
          -8.825963020324707,
          -28.903377532958984,
          57.26932907104492,
          14.704509735107422,
          28.89334487915039,
          63.90213394165039,
          -12.86048698425293,
          -44.6566162109375,
          -13.651442527770996,
          -33.653648376464844,
          30.586013793945312,
          -43.824520111083984,
          56.2942008972168,
          37.07373046875,
          -7.575578212738037,
          -31.476266860961914,
          23.448177337646484,
          -34.407535552978516,
          55.6631965637207,
          -24.591514587402344,
          43.10551834106445,
          15.933408737182617,
          30.0496883392334,
          -38.97589874267578,
          -7.065561771392822,
          -34.458099365234375,
          -39.62090301513672,
          -0.6148356199264526,
          -5.135219097137451,
          32.92033767700195,
          31.69756507873535,
          7.711142063140869,
          23.813379287719727,
          -32.85285949707031,
          -42.92605209350586,
          37.39537811279297,
          -36.83642578125,
          34.29449462890625,
          1.972069263458252,
          -44.13359832763672,
          -28.213470458984375,
          32.72685241699219,
          -10.087179183959961,
          37.839256286621094,
          40.22457504272461,
          48.252540588378906,
          -14.799739837646484,
          43.251441955566406,
          -33.535247802734375,
          -18.60811996459961,
          -18.8619327545166,
          -2.0392916202545166,
          8.844618797302246,
          31.15526008605957,
          44.2723503112793,
          3.426943063735962,
          55.47040939331055,
          -32.90985870361328,
          -5.957175254821777,
          -22.69474220275879,
          17.364686965942383,
          24.560195922851562,
          61.558380126953125,
          -0.5857738852500916,
          45.06535339355469,
          -16.411266326904297,
          -15.003585815429688,
          -33.967689514160156,
          50.7083740234375,
          20.31766700744629,
          -18.471080780029297,
          -19.067604064941406,
          -32.1743278503418,
          55.67462158203125,
          -19.413591384887695,
          -32.564876556396484,
          -36.620323181152344,
          18.88838005065918,
          13.098257064819336,
          49.153846740722656,
          -40.31001663208008,
          -15.847084045410156,
          -35.15572738647461,
          30.102294921875,
          17.688989639282227,
          14.219461441040039,
          -26.50075340270996,
          6.366179466247559,
          19.22508430480957,
          33.994293212890625,
          14.725446701049805,
          3.176433563232422,
          -14.818992614746094,
          15.405662536621094,
          0.9104871153831482,
          -3.0071194171905518,
          33.01529312133789,
          13.067704200744629,
          -33.73292922973633,
          30.01588249206543,
          65.16197204589844,
          1.3942790031433105,
          5.550520420074463,
          31.091257095336914,
          -0.14387691020965576,
          -18.9891300201416,
          -18.61680793762207,
          -27.961193084716797,
          32.76361083984375,
          -43.74843215942383,
          22.929794311523438,
          60.065975189208984,
          -23.490480422973633,
          -4.479471683502197,
          40.85687255859375,
          27.803293228149414,
          3.9837331771850586,
          -40.84529495239258,
          -26.706504821777344,
          2.4447708129882812,
          -11.39299201965332,
          14.947181701660156,
          31.099679946899414,
          51.32810974121094,
          52.30988311767578,
          58.92708969116211,
          -40.46519470214844,
          50.123470306396484,
          6.101512908935547,
          -36.93079376220703,
          -26.106319427490234,
          -11.780961036682129,
          -10.014962196350098,
          -6.878645896911621,
          -5.554128646850586,
          -44.384727478027344,
          -13.439144134521484,
          13.060561180114746,
          19.380443572998047,
          -22.329200744628906,
          -24.913225173950195,
          17.766178131103516,
          -20.114364624023438,
          14.570571899414062,
          -0.8937779068946838,
          24.12765884399414,
          0.04224462807178497,
          -5.778290748596191,
          -27.551652908325195,
          4.576961994171143,
          -10.886876106262207,
          54.737396240234375,
          -17.056640625,
          54.057151794433594,
          -5.634616374969482,
          -11.122779846191406,
          7.804961681365967,
          -31.116178512573242,
          4.443975925445557,
          15.651155471801758,
          -18.743093490600586,
          -32.552818298339844,
          24.395803451538086,
          -12.399598121643066,
          6.579375267028809,
          -40.04426956176758,
          21.213579177856445,
          53.94226837158203,
          3.458334445953369,
          16.34419822692871,
          53.601749420166016,
          -8.935539245605469,
          12.744314193725586,
          16.666305541992188,
          22.810375213623047,
          19.943462371826172,
          -12.633358001708984,
          24.054298400878906,
          -16.69242286682129,
          58.97005081176758,
          -16.731908798217773,
          39.55451202392578,
          -32.1556510925293,
          14.696331024169922,
          39.49678039550781,
          39.66391372680664,
          -17.439573287963867,
          -14.503414154052734,
          -13.874931335449219,
          37.073936462402344,
          -19.32259178161621,
          8.56479263305664,
          6.53924560546875,
          48.44544982910156,
          16.90297508239746,
          3.622621536254883,
          -38.52928161621094,
          36.03678512573242,
          0.10869503021240234,
          47.25355911254883,
          6.435159206390381,
          55.993621826171875,
          -17.256959915161133,
          24.651121139526367,
          48.66474151611328,
          -19.44266700744629,
          14.016118049621582,
          0.05618545413017273,
          24.519481658935547,
          65.1707992553711,
          9.465519905090332,
          1.9902859926223755,
          -18.534250259399414,
          51.74128341674805,
          32.06501007080078,
          4.154834270477295,
          3.6022064685821533,
          6.580442905426025,
          -4.706248760223389,
          -28.84534454345703,
          -14.556014060974121,
          -7.839682102203369,
          60.68238830566406,
          56.36971664428711,
          -34.55647659301758,
          0.029763827100396156,
          13.181526184082031,
          20.591943740844727,
          -1.9308114051818848,
          45.75260543823242,
          -17.499385833740234,
          -16.537399291992188,
          30.601701736450195,
          46.03026580810547,
          2.356036901473999,
          1.2640031576156616,
          12.492252349853516,
          50.331764221191406,
          -41.82304000854492,
          -36.10926055908203,
          36.36005783081055,
          -19.341236114501953,
          -23.92691421508789,
          16.624746322631836,
          31.04214096069336,
          -25.794206619262695,
          3.9440410137176514,
          39.543216705322266,
          -0.030483802780508995,
          -49.13333511352539,
          30.333154678344727,
          51.44396209716797,
          -44.81382369995117,
          -41.64968490600586,
          43.00346374511719,
          -29.556350708007812,
          -23.843103408813477,
          6.702723026275635,
          -9.378076553344727,
          25.887500762939453,
          7.2202558517456055,
          -32.01333236694336,
          -6.648197174072266,
          -12.08300495147705,
          -16.36541175842285,
          58.122764587402344,
          -30.729698181152344,
          40.750816345214844,
          -47.537776947021484,
          -40.8818244934082,
          -43.76513671875,
          -9.265523910522461,
          4.479865550994873,
          -1.5010695457458496,
          -44.076148986816406,
          -44.06648254394531,
          9.619461059570312,
          0.6246323585510254,
          -11.059372901916504,
          3.39314341545105,
          -35.21376419067383,
          18.641748428344727,
          -9.925436019897461,
          -10.495282173156738,
          -33.43358612060547,
          -16.2105770111084,
          -0.2728866934776306,
          -4.057427883148193,
          40.345821380615234,
          32.568115234375,
          -22.383167266845703,
          16.933290481567383,
          -13.097352027893066,
          14.49591064453125,
          -18.77922248840332,
          40.34528732299805,
          40.307106018066406,
          -18.858278274536133,
          -3.1147329807281494,
          -7.820423126220703,
          58.797855377197266,
          1.5705716609954834,
          -38.504276275634766,
          -20.060884475708008,
          -19.041364669799805,
          15.677285194396973,
          -20.6330509185791,
          -32.5009765625,
          48.133628845214844,
          34.12266540527344,
          42.29278564453125,
          59.98678970336914,
          31.597015380859375,
          -32.06539535522461,
          25.828027725219727,
          54.688655853271484,
          68.7904281616211,
          13.839142799377441,
          -0.13364215195178986,
          42.776153564453125,
          -16.742176055908203,
          68.77837371826172,
          8.489297866821289,
          57.619258880615234,
          33.175079345703125,
          -4.748192310333252,
          2.2849080562591553,
          43.24430465698242,
          -18.940643310546875,
          12.411625862121582,
          -25.47646713256836,
          -21.827531814575195,
          34.33950424194336,
          25.164793014526367,
          36.21870040893555,
          -5.75361442565918,
          -44.19327926635742,
          -19.90302085876465,
          -13.458271980285645,
          -8.943743705749512,
          51.67512512207031,
          -20.70960807800293,
          -33.636451721191406,
          17.427343368530273,
          13.380666732788086,
          17.53980255126953,
          22.7792911529541,
          15.80649185180664,
          8.049470901489258,
          48.077919006347656,
          13.333576202392578,
          -7.913154125213623,
          -39.50444412231445,
          9.69649887084961,
          15.64115047454834,
          -16.04730987548828,
          -24.287565231323242,
          3.383740186691284,
          -4.961638450622559,
          54.53105926513672,
          53.1796989440918,
          15.15438175201416,
          52.49840545654297,
          -40.847782135009766,
          0.7966952919960022,
          -23.992345809936523,
          51.90503692626953,
          19.749866485595703,
          -20.443679809570312,
          -12.815290451049805,
          -18.46720314025879,
          -8.759054183959961,
          -23.20368003845215,
          54.576534271240234,
          2.0810511112213135,
          -0.33752885460853577,
          8.837563514709473,
          -13.568522453308105,
          -22.860403060913086,
          0.31722691655158997,
          5.643650054931641,
          38.43801498413086,
          21.684633255004883,
          -20.055879592895508,
          55.90254211425781,
          -25.656068801879883,
          -30.944368362426758,
          47.638282775878906,
          -16.53023910522461,
          15.053281784057617,
          19.021385192871094,
          8.839009284973145,
          -7.268568515777588,
          13.02146053314209,
          22.405197143554688,
          19.648086547851562,
          -11.975850105285645,
          57.257225036621094,
          32.022735595703125,
          8.132552146911621,
          -29.547712326049805,
          -31.440744400024414,
          -24.463159561157227,
          7.537599086761475,
          12.70583724975586,
          -34.54021453857422,
          -32.07572555541992,
          19.984670639038086,
          -9.53604507446289,
          25.913063049316406,
          56.242801666259766,
          -22.517148971557617,
          50.6952018737793,
          53.974281311035156,
          52.10270309448242,
          15.12038516998291,
          58.405517578125,
          -22.564645767211914,
          10.118087768554688,
          17.802505493164062,
          -36.58812713623047,
          -17.163238525390625,
          -39.96858596801758,
          -17.53447151184082,
          33.69682693481445,
          -14.723830223083496,
          41.999210357666016,
          41.19089126586914,
          -22.0332088470459,
          -18.944286346435547,
          37.33816146850586,
          39.8236083984375,
          26.12932586669922,
          -27.66148567199707,
          14.17287826538086,
          17.620737075805664,
          -40.02922058105469,
          -40.0058708190918,
          55.62701416015625,
          51.76626968383789,
          -0.5940044522285461,
          -4.488339424133301,
          -22.921733856201172,
          42.40956497192383,
          -17.162046432495117,
          18.24691390991211,
          41.24384307861328,
          9.238688468933105,
          -17.15436363220215,
          15.207025527954102,
          8.82741928100586,
          -35.93802261352539,
          -35.686187744140625,
          -16.98782730102539,
          -35.96648406982422,
          24.3118953704834,
          -23.74994468688965,
          53.645503997802734,
          -4.949855804443359,
          18.02853775024414,
          5.406628608703613,
          6.503877639770508,
          34.5631217956543,
          16.288694381713867,
          -12.033693313598633,
          32.29008865356445,
          15.038832664489746,
          -34.04167175292969,
          17.853132247924805,
          -22.88099479675293,
          17.997909545898438,
          23.260408401489258,
          46.61903762817383,
          -26.50464630126953,
          -38.30765151977539,
          -34.73479080200195,
          -17.513290405273438,
          -3.9639222621917725,
          -11.739228248596191,
          -31.710546493530273,
          2.672715663909912,
          -30.78872299194336,
          -27.142364501953125,
          -41.487464904785156,
          3.371652603149414,
          8.351938247680664,
          -32.29285430908203,
          -32.561859130859375,
          17.40282440185547,
          56.70002365112305,
          -12.600069046020508,
          -8.718867301940918,
          -34.12191390991211,
          -20.920827865600586,
          -25.870515823364258,
          -26.89124298095703,
          -17.822397232055664,
          42.908023834228516,
          11.209403991699219,
          -13.556465148925781,
          -18.339794158935547,
          -10.974624633789062,
          -11.420170783996582,
          -6.423710346221924,
          -7.600547790527344,
          -23.84406280517578,
          6.394985675811768,
          -12.79027271270752,
          59.4503288269043,
          -21.389549255371094,
          -21.389524459838867,
          -38.39572525024414,
          -18.573719024658203,
          -9.218496322631836,
          16.657926559448242,
          3.1349542140960693,
          61.544525146484375,
          4.183986663818359,
          -18.937673568725586,
          -41.52445983886719,
          -47.719146728515625,
          -13.336746215820312,
          53.193756103515625,
          -1.816727638244629,
          -2.794463634490967,
          3.1905689239501953,
          3.1963727474212646,
          39.574424743652344,
          -23.077848434448242,
          -41.93916702270508,
          -41.93912887573242,
          39.574459075927734,
          11.335658073425293,
          -11.967612266540527,
          -21.46344757080078,
          -0.40115851163864136,
          34.34844970703125,
          -0.1831205189228058,
          -11.516590118408203,
          -8.099967002868652,
          25.310686111450195,
          -11.97507095336914,
          15.786886215209961,
          10.835615158081055,
          -5.46843147277832,
          21.74234390258789,
          39.20081329345703,
          -35.662742614746094,
          -17.17583465576172,
          -13.260632514953613,
          54.64065933227539,
          -8.658631324768066,
          1.822395920753479,
          -20.2412166595459,
          -32.57715606689453,
          37.47719955444336,
          -15.952290534973145,
          -10.009196281433105,
          -12.331398010253906,
          44.59737777709961,
          18.7808780670166,
          1.433315634727478,
          -7.97361946105957,
          -7.907838344573975,
          19.78960418701172,
          -5.3052802085876465,
          -28.829439163208008,
          0.8880816102027893,
          -7.078526973724365,
          -15.354527473449707,
          -8.693071365356445,
          -14.688272476196289,
          6.343354225158691,
          -13.44654655456543,
          -14.692587852478027,
          -5.53343391418457,
          24.595531463623047,
          -10.527907371520996,
          35.47602081298828,
          8.875021934509277,
          -15.18389892578125,
          5.036689281463623,
          -16.48261260986328,
          -7.083356857299805,
          0.6301106214523315,
          -13.357559204101562,
          3.624974489212036,
          40.947784423828125,
          -16.9437313079834,
          -20.023420333862305,
          21.64453125,
          41.48462677001953,
          -25.520841598510742,
          10.671262741088867,
          10.712892532348633,
          -3.949213981628418,
          -12.274002075195312,
          -33.16426086425781,
          17.349220275878906,
          59.0566291809082,
          57.65517807006836,
          19.822383880615234,
          7.749897003173828,
          19.1524600982666,
          -7.385368347167969,
          36.70693588256836,
          17.019960403442383,
          19.278121948242188,
          -21.95768165588379,
          -49.36848831176758,
          -28.789508819580078,
          9.637582778930664,
          -23.04153060913086,
          -18.77730941772461,
          17.388347625732422,
          -39.08492660522461,
          -35.04291915893555,
          -16.893829345703125,
          -2.476736545562744,
          49.54018020629883,
          -2.736884355545044,
          7.996156692504883,
          -8.328523635864258,
          -12.453153610229492,
          53.19422912597656,
          -29.046775817871094,
          -8.947718620300293,
          25.979372024536133,
          4.23315954208374,
          -26.071674346923828,
          -23.173439025878906,
          27.27608871459961,
          -9.19653606414795,
          -21.16741371154785,
          -22.860334396362305,
          29.11737632751465,
          -6.789295673370361,
          -23.321224212646484,
          -10.283870697021484,
          -0.8558173179626465,
          -23.076995849609375,
          18.775558471679688,
          5.489930629730225,
          4.00597620010376,
          -6.825077056884766,
          57.38216781616211,
          54.610897064208984,
          54.61089324951172,
          -7.052765369415283,
          1.0467121601104736,
          38.64871597290039,
          33.26403045654297,
          54.610897064208984,
          -22.866291046142578,
          39.822086334228516,
          -22.950517654418945,
          -23.903051376342773,
          -20.250408172607422,
          45.398136138916016,
          0.3015874922275543,
          12.191018104553223,
          -9.007315635681152,
          -22.417634963989258,
          -22.719863891601562,
          -0.2557857632637024,
          30.566648483276367,
          -23.632328033447266,
          -8.179183006286621,
          -19.056638717651367,
          56.9479866027832,
          49.13175582885742,
          3.8456430435180664,
          -16.099002838134766,
          15.954914093017578,
          -9.097712516784668,
          21.486494064331055,
          20.429645538330078,
          13.012086868286133,
          -27.63878059387207,
          7.549686431884766,
          20.170011520385742,
          53.249752044677734,
          12.373035430908203,
          9.11591911315918,
          -26.20684814453125,
          -26.26378059387207,
          61.256534576416016,
          11.017226219177246,
          -3.671637535095215,
          -21.472021102905273,
          -26.087080001831055,
          -3.540043592453003,
          -9.689286231994629,
          -2.028871536254883,
          5.10280179977417,
          16.73907470703125,
          3.9676551818847656,
          -17.794443130493164,
          14.903630256652832,
          19.16282844543457,
          10.308133125305176,
          11.217339515686035,
          8.629603385925293,
          52.67319869995117,
          3.9675793647766113,
          -15.3768949508667,
          20.691240310668945,
          -2.3350017070770264,
          -7.968748092651367,
          19.481517791748047,
          20.929109573364258,
          23.012767791748047,
          53.29210662841797,
          24.97241973876953,
          8.547109603881836,
          22.97184944152832,
          22.962966918945312,
          4.905935764312744,
          23.41876792907715,
          8.59764575958252,
          53.25072479248047,
          26.381879806518555,
          1.2907884120941162,
          38.89163589477539,
          -7.552852153778076,
          2.0374348163604736,
          24.425661087036133,
          -35.639381408691406,
          -11.861185073852539,
          -13.125253677368164,
          -34.56451416015625,
          -28.005661010742188,
          -13.066368103027344,
          -40.500816345214844,
          -14.93927001953125,
          47.7276611328125,
          -38.46585464477539,
          22.150386810302734,
          -11.127532005310059,
          -8.978683471679688,
          -10.9213285446167,
          -10.345013618469238,
          -8.010071754455566,
          -9.994266510009766,
          20.27854347229004,
          -5.006603240966797,
          -15.206791877746582,
          -10.702826499938965,
          -11.926300048828125,
          -12.154657363891602,
          -12.935601234436035,
          -30.14695167541504,
          9.96066951751709,
          -12.434554100036621,
          -10.186788558959961,
          -38.59305191040039,
          -13.929367065429688,
          -31.16676139831543,
          -37.98677444458008,
          -13.365263938903809,
          -34.62435531616211,
          16.36802101135254,
          25.3765811920166,
          63.6339225769043,
          4.133266448974609,
          53.34132385253906,
          -39.239139556884766,
          2.176539897918701,
          -32.99957275390625,
          56.00335693359375,
          -37.07242965698242,
          32.56804656982422,
          -13.97369384765625,
          -23.092519760131836,
          54.212100982666016,
          54.77793884277344,
          -14.615105628967285,
          40.02683639526367,
          43.79664993286133,
          -36.85264205932617,
          -35.122432708740234,
          -17.499116897583008,
          -40.04364776611328,
          1.89005708694458,
          12.521732330322266,
          -18.752960205078125,
          -1.1237478256225586,
          -8.126370429992676,
          -22.345956802368164,
          -9.027752876281738,
          67.42796325683594,
          -31.901504516601562,
          67.3591537475586,
          -17.56800079345703,
          -25.50957489013672,
          8.973259925842285,
          7.4837141036987305,
          -34.05549240112305,
          -26.862829208374023,
          -36.95349884033203,
          5.615328788757324,
          3.6028339862823486,
          25.164798736572266,
          -23.456403732299805,
          -25.95376968383789,
          5.9835968017578125,
          -8.879613876342773,
          -24.006338119506836,
          -25.077707290649414,
          51.930328369140625,
          -9.006562232971191,
          18.68190574645996,
          2.478978157043457,
          49.16268539428711,
          -13.330008506774902,
          -19.4971981048584,
          -14.418054580688477,
          -12.249785423278809,
          23.25523567199707,
          20.354999542236328,
          -25.031591415405273,
          -8.245976448059082,
          -7.905140399932861,
          -9.913477897644043,
          59.700233459472656,
          42.032711029052734,
          38.74769592285156,
          -7.185532569885254,
          -12.413087844848633,
          -23.932802200317383,
          -34.193660736083984,
          -22.708236694335938,
          -3.4107184410095215,
          -7.013663291931152,
          0.6914231777191162,
          -19.28053855895996,
          -37.76728057861328,
          -17.627639770507812,
          -37.89678955078125,
          -38.11638259887695,
          11.358634948730469,
          -7.221479892730713,
          -12.791022300720215,
          -27.32981300354004,
          39.59762954711914,
          -9.281370162963867,
          35.822509765625,
          -10.130197525024414,
          1.078650951385498,
          -3.4950270652770996,
          -22.086606979370117,
          -33.17667770385742,
          -32.810543060302734,
          -26.292251586914062,
          -8.69572639465332,
          -9.475306510925293,
          42.35618591308594,
          12.362608909606934,
          -16.96134376525879,
          -20.91010284423828,
          -18.3509578704834,
          6.184508800506592,
          -13.80457878112793,
          -6.05566930770874,
          20.39548683166504,
          -1.482574462890625,
          12.361878395080566,
          14.537538528442383,
          -16.19590950012207,
          4.066830635070801,
          5.25947904586792,
          -21.137760162353516,
          -49.13346481323242,
          -20.862096786499023,
          38.382816314697266,
          4.799306869506836,
          1.0713292360305786,
          16.96574592590332,
          41.04624557495117,
          -26.221755981445312,
          -36.00928497314453,
          28.973573684692383,
          1.7677538394927979,
          34.16208267211914,
          -20.09521484375,
          -4.037518501281738,
          -33.493316650390625,
          -1.2474392652511597,
          -1.209088683128357,
          -15.545327186584473,
          -39.16461181640625,
          9.120818138122559,
          -21.708820343017578,
          -23.077856063842773,
          13.791840553283691,
          -10.273212432861328,
          -4.878724098205566,
          -30.109676361083984,
          -9.524025917053223,
          56.77489471435547,
          -0.044294267892837524,
          24.225601196289062,
          19.84264373779297,
          -38.554141998291016,
          -14.132245063781738,
          18.420101165771484,
          -0.4704568088054657,
          -32.29047775268555,
          -10.68398380279541,
          -41.019161224365234,
          -24.72688102722168,
          -2.4481520652770996,
          -28.110095977783203,
          -46.272926330566406,
          -35.531063079833984,
          -20.51215934753418,
          -22.97598648071289,
          -9.387284278869629,
          26.086214065551758,
          38.47747802734375,
          -4.199912071228027,
          5.946761608123779,
          55.28119659423828,
          39.848472595214844,
          -11.274828910827637,
          1.3798613548278809,
          17.030561447143555,
          2.3605117797851562,
          -2.0635383129119873,
          -9.547465324401855,
          3.803439140319824,
          1.0758270025253296,
          -31.3612003326416,
          26.4456844329834,
          28.024673461914062,
          19.510234832763672,
          27.21417236328125,
          17.36844253540039,
          16.117849349975586,
          51.06958770751953,
          26.382450103759766,
          27.358327865600586,
          -13.314962387084961,
          26.94757652282715,
          -13.933709144592285,
          -9.244328498840332,
          -36.45493698120117,
          49.39545822143555,
          63.14888000488281,
          -23.889080047607422,
          -42.18476867675781,
          -42.44707489013672,
          -43.42733383178711,
          -35.051395416259766,
          -11.98978042602539,
          28.087486267089844,
          34.616455078125,
          31.51604461669922,
          14.097373008728027,
          -5.529648780822754,
          -33.3870964050293,
          -11.521207809448242,
          -26.631818771362305,
          -5.139348030090332,
          -12.448884963989258,
          12.68541431427002,
          8.12740421295166,
          -34.607086181640625,
          9.979079246520996,
          -44.74936294555664,
          -30.92571449279785,
          -16.72339630126953,
          -49.48917770385742,
          54.843387603759766,
          -3.852200984954834,
          -0.14617271721363068,
          10.170354843139648,
          -5.741695880889893,
          7.377669811248779,
          8.97325611114502,
          44.9869499206543,
          13.871079444885254,
          -13.926375389099121,
          -18.460559844970703,
          -18.657596588134766,
          16.148441314697266,
          -17.909984588623047,
          41.03636169433594,
          -4.3212199211120605,
          17.062442779541016,
          19.84833526611328,
          -0.36779260635375977,
          10.312222480773926,
          25.177101135253906,
          23.807897567749023,
          -25.785974502563477,
          -25.07961654663086,
          -19.06781578063965,
          -19.46747589111328,
          20.63170623779297,
          21.45252799987793,
          49.88886260986328,
          3.8569440841674805,
          7.900067329406738,
          7.561384677886963,
          -5.91676139831543,
          -32.96979904174805,
          -8.645610809326172,
          19.94612693786621,
          -12.539043426513672,
          17.26528549194336,
          8.728565216064453,
          -10.714159965515137,
          2.2520406246185303,
          -2.046961784362793,
          -31.425661087036133,
          -8.582392692565918,
          11.835578918457031,
          58.06557846069336,
          62.72406768798828,
          -7.046140193939209,
          50.63288116455078,
          15.883543014526367,
          8.448579788208008,
          2.462028741836548,
          35.04204177856445,
          21.154865264892578,
          15.227468490600586,
          -2.6018893718719482,
          -32.94933319091797,
          28.77706527709961,
          28.77706527709961,
          42.48301315307617,
          -13.215116500854492,
          -5.757619380950928,
          1.8773972988128662,
          -18.22311019897461,
          -22.921733856201172,
          -23.36861228942871,
          -26.363174438476562,
          -19.460500717163086,
          -21.589820861816406,
          -12.21959114074707,
          -40.354164123535156,
          53.08439636230469,
          -33.966087341308594,
          42.72904586791992,
          -44.81305694580078,
          -12.318596839904785,
          55.457393646240234,
          -47.717281341552734,
          -37.317447662353516,
          -9.617731094360352,
          -44.658512115478516,
          -18.731426239013672,
          5.751596927642822,
          -44.818912506103516,
          -41.865909576416016,
          -26.5975284576416,
          -43.874820709228516,
          -36.45023727416992,
          -41.267433166503906,
          42.11902618408203,
          -25.571401596069336,
          -19.95894432067871,
          6.6705498695373535,
          -33.84811019897461,
          -41.62894821166992,
          45.00667953491211,
          -26.80500030517578,
          -41.214210510253906,
          -36.39707565307617,
          43.771514892578125,
          -37.271793365478516,
          30.302946090698242,
          -14.80799388885498,
          -27.12921714782715,
          32.74302673339844,
          58.055145263671875,
          -46.35017776489258,
          11.209367752075195,
          -7.248887538909912,
          -30.64217758178711,
          -28.213661193847656,
          3.7992680072784424,
          5.449028968811035,
          46.32843780517578,
          -12.737058639526367,
          -26.89589500427246,
          -6.321903228759766,
          -5.742902755737305,
          -32.10497283935547,
          20.346698760986328,
          -36.58244323730469,
          19.580110549926758,
          -29.97867774963379,
          14.835196495056152,
          39.85232162475586,
          46.04586410522461,
          -11.43727970123291,
          27.15094757080078,
          33.95196533203125,
          -11.0330228805542,
          62.511016845703125,
          -22.566417694091797,
          -1.2593586444854736,
          32.726768493652344,
          -9.755568504333496,
          12.001788139343262,
          15.790958404541016,
          10.843684196472168,
          -4.357760906219482,
          -6.137274742126465,
          15.954767227172852,
          -29.24449920654297,
          8.461917877197266,
          0.15702703595161438,
          -17.500635147094727,
          38.477603912353516,
          6.519559383392334,
          45.840084075927734,
          41.882896423339844,
          41.88299560546875,
          8.64941120147705,
          10.478659629821777,
          53.11675262451172,
          -25.09112548828125,
          28.893632888793945,
          1.2865056991577148,
          1.9654276371002197,
          -7.427619457244873,
          55.1072998046875,
          -21.69857406616211,
          -16.91874122619629,
          -0.5289259552955627,
          -6.07501745223999,
          -5.101464748382568,
          -24.055397033691406,
          24.336217880249023,
          -4.99556827545166,
          24.542503356933594,
          -28.039506912231445,
          -36.594425201416016,
          -24.98040008544922,
          -28.278602600097656,
          -26.353187561035156,
          -37.07722854614258,
          -29.62681007385254,
          5.077187538146973,
          -24.867338180541992,
          20.201486587524414,
          -24.514265060424805,
          29.861892700195312,
          -24.376667022705078,
          -8.661489486694336,
          37.430076599121094,
          -24.061681747436523,
          14.664148330688477,
          24.27524757385254,
          -10.722198486328125,
          61.030887603759766,
          -23.82247543334961,
          -0.1748455911874771,
          46.28425979614258,
          19.61724281311035,
          52.849273681640625,
          37.54441833496094,
          -40.479644775390625,
          13.082727432250977,
          13.30579662322998,
          23.661115646362305,
          21.809019088745117,
          0.48482954502105713,
          10.177810668945312,
          35.95029830932617,
          50.038848876953125,
          1.6082119941711426,
          23.710933685302734,
          -0.10860244184732437,
          -33.809200286865234,
          19.9847354888916,
          -41.642581939697266,
          -41.30375671386719,
          15.993308067321777,
          -27.150053024291992,
          -4.633585453033447,
          13.833823204040527,
          -9.191356658935547,
          25.402957916259766,
          5.927515029907227,
          21.13738250732422,
          -23.9512996673584,
          32.864463806152344,
          25.95201873779297,
          -0.019164565950632095,
          -10.22559928894043,
          53.33795928955078,
          17.014781951904297,
          52.0488395690918,
          -7.670588493347168,
          0.22086158394813538,
          53.34418487548828,
          49.94487380981445,
          58.781280517578125,
          24.24846649169922,
          27.07020378112793,
          48.39469528198242,
          30.34258460998535,
          39.65415954589844,
          -35.978816986083984,
          -8.764241218566895,
          -20.886234283447266,
          -26.245832443237305,
          -40.49966812133789,
          3.6686854362487793,
          -0.35998350381851196,
          16.6895809173584,
          15.159878730773926,
          11.332816123962402,
          22.808013916015625,
          -45.89299774169922,
          15.866410255432129,
          -17.056888580322266,
          -8.24390697479248,
          -22.81606674194336,
          -32.184288024902344,
          -35.776405334472656,
          -3.04443621635437,
          -42.179771423339844,
          33.94762420654297,
          -19.73459243774414,
          27.831256866455078,
          16.21375846862793,
          -44.51860046386719,
          -13.643019676208496,
          -16.540637969970703,
          23.91114044189453,
          -10.913529396057129,
          -16.32181167602539,
          18.06443214416504,
          12.612789154052734,
          -7.365816116333008,
          18.064355850219727,
          -3.000241756439209,
          -16.246721267700195,
          -26.81917381286621,
          -14.07662296295166,
          11.48267936706543,
          -19.026123046875,
          -3.5621256828308105,
          -16.90814781188965,
          3.943330764770508,
          20.180448532104492,
          46.909942626953125,
          40.41335678100586,
          13.946976661682129,
          -33.780128479003906,
          -32.99834060668945,
          -30.786453247070312,
          -22.38315773010254,
          30.700132369995117,
          3.166862964630127,
          37.4474983215332,
          -34.07786560058594,
          -21.71483612060547,
          -9.393033981323242,
          22.564905166625977,
          4.5062432289123535,
          -11.267706871032715,
          -22.118206024169922,
          -24.80657196044922,
          39.32389450073242,
          -8.699015617370605,
          -23.276687622070312,
          -9.00070858001709,
          -22.59258460998535,
          -10.421236038208008,
          -2.246739625930786,
          36.60502624511719,
          -4.6906962394714355,
          33.69679641723633,
          30.86766815185547,
          19.952041625976562,
          25.789470672607422,
          -22.969898223876953,
          45.094669342041016,
          -36.57536697387695,
          3.4411303997039795,
          0.016871025785803795,
          4.433664798736572,
          20.28726577758789,
          47.82213592529297,
          -10.200739860534668,
          -15.006548881530762,
          45.00724792480469,
          -32.83213424682617,
          -23.67797088623047,
          23.671934127807617,
          18.44523048400879,
          11.56674575805664,
          -29.41120147705078,
          31.203189849853516,
          -41.03996276855469,
          53.33565902709961,
          13.861892700195312,
          -30.87680435180664,
          52.84599685668945,
          -15.010668754577637,
          7.377811908721924,
          20.14706802368164,
          -24.766572952270508,
          25.29935073852539,
          4.175806045532227,
          -11.63912582397461,
          -29.306154251098633,
          -48.6401252746582,
          -2.775073766708374,
          -7.369960784912109,
          9.492855072021484,
          -16.605836868286133,
          -26.495887756347656,
          42.983375549316406,
          56.67021179199219,
          -24.354385375976562,
          -28.093677520751953,
          33.43044662475586,
          4.681375503540039,
          -28.685821533203125,
          -23.1392822265625,
          -35.15631103515625,
          -13.836731910705566,
          -49.52684783935547,
          -31.2146053314209,
          1.638712763786316,
          44.552703857421875,
          0.7745366096496582,
          -5.01318883895874,
          -28.365949630737305,
          -41.52077102661133,
          -5.092939853668213,
          -1.1587152481079102,
          -1.6508713960647583,
          41.63679504394531,
          -3.6648905277252197,
          -2.692760705947876,
          36.1737174987793,
          -42.51182174682617,
          1.3146013021469116,
          -22.749032974243164,
          -11.917562484741211,
          -3.119436502456665,
          13.394254684448242,
          4.790732383728027,
          -24.426666259765625,
          22.26255989074707,
          54.76390838623047,
          -11.995038986206055,
          -16.775348663330078,
          15.345787048339844,
          31.978281021118164,
          1.258522629737854,
          44.856571197509766,
          18.237102508544922,
          -30.461902618408203,
          54.76422882080078,
          -22.2335205078125,
          -36.30664825439453,
          53.64878845214844,
          -27.12116050720215,
          -6.646920204162598,
          51.33389663696289,
          -7.741520881652832,
          -9.069812774658203,
          -9.077422142028809,
          -9.757641792297363,
          -7.010622501373291,
          54.15089416503906,
          12.97719669342041,
          -1.5116300582885742,
          -12.977429389953613,
          44.47239303588867,
          54.50962829589844,
          -14.544647216796875,
          -43.89457702636719,
          7.039676666259766,
          -12.085668563842773,
          -14.686029434204102,
          -15.670926094055176,
          -27.547605514526367,
          -7.9316840171813965,
          -1.5563732385635376,
          -19.892711639404297,
          -7.795114040374756,
          -7.186565399169922,
          8.790332794189453,
          -28.152915954589844,
          -26.43783950805664,
          -8.793944358825684,
          -0.30384939908981323,
          -9.332696914672852,
          50.38669204711914,
          -21.011138916015625,
          -20.698020935058594,
          29.787609100341797,
          -4.827441215515137,
          -21.18828010559082,
          -32.85630416870117,
          -33.183868408203125,
          32.09779357910156,
          14.899986267089844,
          20.172563552856445,
          32.615413665771484,
          -1.355280876159668,
          18.146677017211914,
          12.558100700378418,
          -11.650850296020508,
          19.17269515991211,
          -11.845638275146484,
          14.928318977355957,
          -10.264982223510742,
          26.002655029296875,
          4.13619327545166,
          31.374738693237305,
          19.64694595336914,
          8.336508750915527,
          -12.304997444152832,
          -46.437400817871094,
          2.337857961654663,
          -16.775672912597656,
          -32.94914245605469,
          56.805389404296875,
          4.901610374450684,
          39.683048248291016,
          49.61085510253906,
          17.55602264404297,
          27.359519958496094,
          13.262410163879395,
          18.86861228942871,
          52.819915771484375,
          31.315000534057617,
          12.418106079101562,
          27.931758880615234,
          43.521095275878906,
          33.32048034667969,
          42.92763137817383,
          63.225765228271484,
          22.55322265625,
          11.019800186157227,
          -27.550193786621094,
          -13.721342086791992,
          29.539838790893555,
          10.157025337219238,
          36.408573150634766,
          -13.904687881469727,
          -30.517080307006836,
          -21.34500503540039,
          4.22097110748291,
          26.150684356689453,
          11.69935131072998,
          10.82547664642334,
          31.3133487701416,
          14.003584861755371,
          17.597440719604492,
          10.612411499023438,
          -41.174041748046875,
          -15.38646125793457,
          11.187193870544434,
          -37.376869201660156,
          53.8873176574707,
          49.48017120361328,
          18.202911376953125,
          18.738290786743164,
          16.850366592407227,
          23.494749069213867,
          22.810319900512695,
          -41.866455078125,
          -6.155125617980957,
          -5.859684944152832,
          -13.536543846130371,
          2.7469661235809326,
          32.98760986328125,
          -17.064273834228516,
          -23.025802612304688,
          -9.318855285644531,
          -12.392990112304688,
          -24.306446075439453,
          -29.046688079833984,
          -6.411224842071533,
          -22.656919479370117,
          -29.818899154663086,
          -2.244873285293579,
          -37.80696105957031,
          -6.154387950897217,
          -22.807985305786133,
          -17.71690559387207,
          -50.49345779418945,
          -20.546030044555664,
          -23.05441665649414,
          -10.4713134765625,
          -36.998443603515625,
          -16.299781799316406,
          -15.581296920776367,
          12.832892417907715,
          64.54605865478516,
          -25.763689041137695,
          9.8558988571167,
          -28.93600082397461,
          -28.993772506713867,
          6.458324909210205,
          19.27983283996582,
          -23.606571197509766,
          34.626529693603516,
          45.730079650878906,
          -37.126853942871094,
          -19.771751403808594,
          -7.697633743286133,
          -11.30080795288086,
          -33.708984375,
          -17.951194763183594,
          -17.781211853027344,
          -35.91813278198242,
          -16.57051658630371,
          -23.534379959106445,
          6.400959014892578,
          49.75352096557617,
          -4.424002170562744,
          -41.8687858581543,
          -7.621670246124268,
          -16.64101219177246,
          -29.0956974029541,
          35.1728630065918,
          -12.739664077758789,
          -29.745790481567383,
          49.02897262573242,
          -35.45399856567383,
          -23.808012008666992,
          40.56454849243164,
          18.141511917114258,
          51.90778350830078,
          -4.645384311676025,
          55.916603088378906,
          9.899497032165527,
          50.49561309814453,
          -34.04182434082031,
          -37.36600112915039,
          -31.130041122436523,
          -9.906002044677734,
          -4.488436698913574,
          1.3486536741256714,
          10.057748794555664,
          -12.787918090820312,
          -1.5563737154006958,
          9.646350860595703,
          48.31119918823242,
          10.18412971496582,
          -11.770498275756836,
          -13.692535400390625,
          -45.26253128051758,
          38.29413604736328,
          -44.42426300048828,
          0.6162269115447998,
          -35.53305435180664,
          -36.37520217895508,
          -42.74831008911133,
          -42.80455780029297,
          -8.514643669128418,
          39.515289306640625,
          4.175806045532227,
          -38.864192962646484,
          -29.279300689697266,
          -13.041044235229492,
          -16.092336654663086,
          -33.428104400634766,
          -31.06681251525879,
          -3.8438167572021484,
          -12.026939392089844,
          36.55470275878906,
          9.746768951416016,
          0.05653856322169304,
          56.61393737792969,
          3.865877151489258,
          43.322479248046875,
          -3.2218496799468994,
          3.912801504135132,
          26.986324310302734,
          10.963305473327637,
          41.732521057128906,
          44.805519104003906,
          44.99750900268555,
          11.55501651763916,
          11.554938316345215,
          -17.706140518188477,
          -3.5426931381225586,
          51.647117614746094,
          10.691463470458984,
          -14.052064895629883,
          43.77988052368164,
          -10.968291282653809,
          14.32600212097168,
          41.255027770996094,
          -45.29772186279297,
          -9.974859237670898,
          41.56489562988281,
          -27.509033203125,
          11.553078651428223,
          6.687667369842529,
          -16.37370491027832,
          -38.186241149902344,
          -33.222190856933594,
          -45.31666564941406,
          -45.34831619262695,
          -38.338008880615234,
          -34.69191360473633,
          -38.096168518066406,
          -36.36415481567383,
          -35.54695129394531,
          -18.742103576660156,
          -42.93568801879883,
          10.265092849731445,
          -30.574594497680664,
          49.42487716674805,
          -21.833656311035156,
          18.59947967529297,
          -23.51390838623047,
          -15.723867416381836,
          -33.84865188598633,
          -1.593152403831482,
          -18.19735336303711,
          -6.188600063323975,
          49.14811325073242,
          -12.859119415283203,
          -19.196561813354492,
          1.039324164390564,
          -4.076138973236084,
          -5.668814182281494,
          1.3554822206497192,
          -6.155134201049805,
          12.950008392333984,
          -15.38448715209961,
          14.635367393493652,
          -24.15572166442871,
          8.967926025390625,
          -14.151681900024414,
          -22.59576416015625,
          -16.088224411010742,
          24.090496063232422,
          -26.663711547851562,
          -10.516168594360352,
          -32.94453811645508,
          51.11475372314453,
          38.90011215209961,
          -10.604216575622559,
          -33.71509552001953,
          4.109102725982666,
          -35.31128692626953,
          -38.14311218261719,
          45.63607406616211,
          46.52361297607422,
          -12.12175178527832,
          -31.5135440826416,
          -3.9497361183166504,
          -3.960376501083374,
          -37.65946578979492,
          14.969624519348145,
          17.272964477539062,
          -7.435352802276611,
          44.307403564453125,
          47.554195404052734,
          6.991462230682373,
          -13.216903686523438,
          19.416810989379883,
          15.144813537597656,
          -42.318424224853516,
          -10.961690902709961,
          -4.605249881744385,
          -2.912210464477539,
          -8.84094524383545,
          5.500580310821533,
          -6.730221748352051,
          -38.41366195678711,
          -22.902435302734375,
          3.3442232608795166,
          65.80254364013672,
          57.29319381713867,
          15.822340965270996,
          -39.03327560424805,
          16.065757751464844,
          -18.262989044189453,
          -1.9080538749694824,
          33.38343811035156,
          -14.193131446838379,
          4.474757671356201,
          13.997896194458008,
          23.701505661010742,
          17.30734634399414,
          4.509398460388184,
          16.553564071655273,
          14.957328796386719,
          39.05434036254883,
          -35.11829376220703,
          56.80537033081055,
          -11.68193244934082,
          1.628702998161316,
          29.77749252319336,
          -1.7316181659698486,
          16.25397300720215,
          45.650760650634766,
          -31.56725311279297,
          -33.339744567871094,
          7.596802234649658,
          -13.146674156188965,
          -43.832679748535156,
          -31.34092903137207,
          2.23395037651062,
          -37.65509033203125,
          -39.08601760864258,
          -39.747703552246094,
          -25.614639282226562,
          53.194400787353516,
          11.3532075881958,
          -22.989578247070312,
          -31.01508140563965,
          62.2489128112793,
          -11.277715682983398,
          -35.692081451416016,
          14.923081398010254,
          1.5813802480697632,
          15.221994400024414,
          5.7699689865112305,
          0.5902931094169617,
          -17.176645278930664,
          -17.204023361206055,
          -43.917457580566406,
          -24.40471839904785,
          -43.53546905517578,
          -33.01609802246094,
          -11.105238914489746,
          58.822391510009766,
          -2.6316416263580322,
          50.27063751220703,
          -3.3504374027252197,
          50.15699768066406,
          1.2847497463226318,
          0.42125606536865234,
          -37.98944854736328,
          -9.544557571411133,
          -17.847782135009766,
          26.307096481323242,
          7.618069171905518,
          -32.81785583496094,
          -32.756675720214844,
          54.334651947021484,
          10.525399208068848,
          15.89276123046875,
          -19.59136390686035,
          3.9728646278381348,
          11.790792465209961,
          32.95559310913086,
          -23.875459671020508,
          4.229991436004639,
          55.61365509033203,
          -24.340940475463867,
          -6.214949131011963,
          -24.124876022338867,
          51.58292770385742,
          40.49833297729492,
          1.0569186210632324,
          40.49833679199219,
          -7.648083686828613,
          -19.225614547729492,
          -14.963201522827148,
          -12.374197006225586,
          -1.0642601251602173,
          30.604869842529297,
          10.855186462402344,
          30.262014389038086,
          41.48477554321289,
          63.4959831237793,
          -10.056674003601074,
          -27.4296875,
          44.45968246459961,
          -17.847097396850586,
          -18.842763900756836,
          9.946695327758789,
          -18.5559139251709,
          46.15860366821289,
          -10.4631929397583,
          -13.226153373718262,
          -6.927186489105225,
          54.023189544677734,
          -9.443438529968262,
          34.962337493896484,
          34.92021179199219,
          18.363306045532227,
          -4.738119125366211,
          -32.681392669677734,
          20.389671325683594,
          -0.1511431187391281,
          -13.68981647491455,
          -33.70546340942383,
          -7.136879920959473,
          -0.07677740603685379,
          -9.073912620544434,
          -31.654342651367188,
          39.30048370361328,
          35.31473922729492,
          -22.102514266967773,
          39.201210021972656,
          -35.478858947753906,
          11.458301544189453,
          16.709392547607422,
          12.946699142456055,
          17.939308166503906,
          -40.85198211669922,
          -24.392297744750977,
          -32.03997039794922,
          15.300543785095215,
          6.204511642456055,
          -13.34939956665039,
          31.609508514404297,
          19.058609008789062,
          -9.526453018188477,
          -37.869842529296875,
          26.78190803527832,
          39.49605941772461,
          43.27922821044922,
          -7.162224292755127,
          49.6467170715332,
          16.745433807373047,
          17.801361083984375,
          -1.0202220678329468,
          5.427494049072266,
          43.279205322265625,
          -0.2253255993127823,
          -13.898926734924316,
          0.2823609709739685,
          7.6780476570129395,
          -4.779662132263184,
          32.74063491821289,
          23.207998275756836,
          29.828813552856445,
          52.17379379272461,
          -8.06202507019043,
          -1.0202220678329468,
          53.22870635986328,
          17.939167022705078,
          35.279850006103516,
          5.971117973327637,
          -10.759377479553223,
          -5.282957077026367,
          14.04824161529541,
          2.430544853210449,
          -4.4248456954956055,
          -5.456323623657227,
          50.99992752075195,
          -31.678058624267578,
          -34.2125358581543,
          49.755863189697266,
          56.41755676269531,
          -11.254016876220703,
          -2.790565013885498,
          51.793121337890625,
          -6.7023773193359375,
          12.099152565002441,
          -8.438651084899902,
          -6.635899066925049,
          50.695228576660156,
          54.14961242675781,
          12.4548921585083,
          -27.038774490356445,
          -25.136215209960938,
          17.237991333007812,
          -26.914791107177734,
          -36.06163787841797,
          -42.51181411743164,
          7.497621059417725,
          -9.000584602355957,
          5.605744361877441,
          -12.297380447387695,
          -3.574932336807251,
          -8.73730182647705,
          -11.23180866241455,
          -43.11463165283203,
          -10.198318481445312,
          -3.495089054107666,
          -24.71294403076172,
          -44.100955963134766,
          -35.932254791259766,
          -34.23388671875,
          -40.77278137207031,
          13.865004539489746,
          -34.12297058105469,
          -34.48106002807617,
          16.059677124023438,
          24.2887020111084,
          38.1259651184082,
          4.400358200073242,
          54.14278030395508,
          33.45676040649414,
          32.25630569458008,
          23.23163604736328,
          8.210122108459473,
          -43.03840637207031,
          -8.656343460083008,
          -40.2552375793457,
          3.909346103668213,
          -24.99170684814453,
          30.559572219848633,
          -39.93046188354492,
          -23.310529708862305,
          -8.282699584960938,
          -30.482986450195312,
          13.603389739990234,
          5.487264633178711,
          -27.765132904052734,
          -27.517343521118164,
          -29.144428253173828,
          -41.654327392578125,
          -27.65174674987793,
          7.749896049499512,
          -19.8568172454834,
          -16.472061157226562,
          22.1102352142334,
          37.54051971435547,
          -50.457313537597656,
          -32.32831573486328,
          53.36874008178711,
          34.605892181396484,
          -32.60836410522461,
          5.750807762145996,
          -28.92604637145996,
          -11.33985424041748,
          49.490997314453125,
          -41.1933479309082,
          -38.4965705871582,
          -24.961740493774414,
          -1.8916159868240356,
          -34.58137893676758,
          -31.058956146240234,
          -1.1772786378860474,
          -42.034854888916016,
          -44.74266815185547,
          -35.83234786987305,
          48.58149719238281,
          33.64579391479492,
          15.347075462341309,
          -37.59476852416992,
          -16.227313995361328,
          -21.521512985229492,
          -1.2583625316619873,
          4.022024154663086,
          -16.145606994628906,
          -32.33359146118164,
          -14.343292236328125,
          -12.470081329345703,
          -22.221994400024414,
          -18.20035171508789,
          51.50267791748047,
          22.091922760009766,
          14.248355865478516,
          -32.48066329956055,
          -45.20450973510742,
          43.40274429321289,
          18.80048370361328,
          -30.706371307373047,
          -34.89778137207031,
          3.166127920150757,
          -21.66239356994629,
          -6.710723400115967,
          -2.5754764080047607,
          -36.63512420654297,
          -7.248887538909912,
          -35.93952178955078,
          26.39471435546875,
          -43.44935989379883,
          -44.711666107177734,
          46.526939392089844,
          37.29080581665039,
          -3.1234567165374756,
          47.32930374145508,
          32.74302673339844,
          -13.028660774230957,
          -17.683834075927734,
          30.919742584228516,
          43.31858825683594,
          -18.81981086730957,
          10.951031684875488,
          46.07831954956055,
          -22.08780860900879,
          14.822710990905762,
          53.65687942504883,
          17.304189682006836,
          25.164844512939453,
          -16.958627700805664,
          -22.263429641723633,
          -5.249487400054932,
          -11.509196281433105,
          -0.8390222787857056,
          -11.262481689453125,
          -10.14296817779541,
          58.42959213256836,
          49.26313781738281,
          20.50777816772461,
          33.56702423095703,
          64.60226440429688,
          20.382795333862305,
          -9.985123634338379,
          49.770538330078125,
          -20.093536376953125,
          -9.067598342895508,
          51.97505569458008,
          64.50695037841797,
          -12.937535285949707,
          10.573918342590332,
          14.312152862548828,
          12.745450019836426,
          -34.15726089477539,
          23.03472137451172,
          36.86930847167969,
          -8.452590942382812,
          20.36522674560547,
          6.512403964996338,
          -8.120304107666016,
          -1.5502064228057861,
          32.05231857299805,
          -41.562171936035156,
          -18.167173385620117,
          -41.84783172607422,
          -14.414271354675293,
          4.126224517822266,
          -27.03382110595703,
          18.445419311523438,
          43.47212219238281,
          46.37356948852539,
          -6.29989767074585,
          -17.2447509765625,
          15.679215431213379,
          -10.32452392578125,
          -43.11463165283203,
          -26.978357315063477,
          56.58112716674805,
          -42.10155487060547,
          -45.88456344604492,
          -10.886667251586914,
          26.81826400756836,
          12.415982246398926,
          -7.2596001625061035,
          -14.135805130004883,
          -13.730664253234863,
          -6.789641857147217,
          51.8548583984375,
          -5.166313171386719,
          6.828856945037842,
          10.31407642364502,
          -36.504886627197266,
          12.006131172180176,
          21.257667541503906,
          -36.599021911621094,
          -23.12230682373047,
          -37.731632232666016,
          -40.287071228027344,
          -7.821262836456299,
          -15.632623672485352,
          20.053817749023438,
          22.107526779174805,
          -24.148056030273438,
          -11.759153366088867,
          17.03862762451172,
          39.51614761352539,
          56.581382751464844,
          56.5810661315918,
          31.609508514404297,
          35.95026779174805,
          23.325477600097656,
          -44.20990753173828,
          -31.888032913208008,
          -12.555400848388672,
          -21.818679809570312,
          -38.145668029785156,
          -23.412086486816406,
          13.613106727600098,
          -28.334545135498047,
          -29.07717514038086,
          -37.5580940246582,
          -10.549560546875,
          -36.391456604003906,
          -31.08456802368164,
          50.37285614013672,
          -29.29705047607422,
          -41.713348388671875,
          -28.498958587646484,
          -35.518245697021484,
          -37.693565368652344,
          -9.631450653076172,
          40.78337860107422,
          -17.087614059448242,
          -7.981346607208252,
          -7.4262261390686035,
          -13.641826629638672,
          -9.013726234436035,
          -11.78859806060791,
          -24.80069923400879,
          14.63483715057373,
          16.349653244018555,
          -17.1890811920166,
          21.71365737915039,
          -6.915189743041992,
          -31.197877883911133,
          -32.126502990722656,
          -14.90597152709961,
          43.603485107421875,
          58.03689193725586,
          -42.5524787902832,
          -33.910587310791016,
          17.321664810180664,
          -37.66963195800781,
          -8.65204906463623,
          -39.67644119262695,
          14.603163719177246,
          61.694488525390625,
          22.020540237426758,
          8.932337760925293,
          9.833176612854004,
          10.476263046264648,
          40.49391555786133,
          13.55095386505127,
          -21.33983612060547,
          56.03825759887695,
          -21.095977783203125,
          -13.163509368896484,
          46.73093032836914,
          -4.421310901641846,
          -33.141849517822266,
          -7.248887538909912,
          -38.66266632080078,
          6.138038158416748,
          -0.8863879442214966,
          21.028526306152344,
          -1.8622877597808838,
          -18.76409339904785,
          26.163244247436523,
          -7.139289855957031,
          -16.786624908447266,
          8.870580673217773,
          -0.06000408157706261,
          -3.8854315280914307,
          3.99847412109375,
          -0.9087561964988708,
          -1.0990957021713257,
          12.533510208129883,
          -26.127601623535156,
          16.972488403320312,
          -14.636582374572754,
          -40.398311614990234,
          32.94046401977539,
          -35.003379821777344,
          -11.63645076751709,
          31.7651424407959,
          -34.27458190917969,
          7.414970397949219,
          25.951826095581055,
          -18.55613899230957,
          2.392409324645996,
          -36.51982879638672,
          -11.42264461517334,
          52.895896911621094,
          4.771204948425293,
          -5.367980480194092,
          59.951290130615234,
          9.057832717895508,
          57.10572052001953,
          -41.104469299316406,
          -39.15068817138672,
          -37.85909652709961
         ],
         "yaxis": "y"
        }
       ],
       "layout": {
        "coloraxis": {
         "colorbar": {
          "title": {
           "text": "cluster"
          }
         },
         "colorscale": [
          [
           0,
           "#0d0887"
          ],
          [
           0.1111111111111111,
           "#46039f"
          ],
          [
           0.2222222222222222,
           "#7201a8"
          ],
          [
           0.3333333333333333,
           "#9c179e"
          ],
          [
           0.4444444444444444,
           "#bd3786"
          ],
          [
           0.5555555555555556,
           "#d8576b"
          ],
          [
           0.6666666666666666,
           "#ed7953"
          ],
          [
           0.7777777777777778,
           "#fb9f3a"
          ],
          [
           0.8888888888888888,
           "#fdca26"
          ],
          [
           1,
           "#f0f921"
          ]
         ]
        },
        "legend": {
         "tracegroupgap": 0
        },
        "margin": {
         "t": 60
        },
        "template": {
         "data": {
          "bar": [
           {
            "error_x": {
             "color": "#2a3f5f"
            },
            "error_y": {
             "color": "#2a3f5f"
            },
            "marker": {
             "line": {
              "color": "#E5ECF6",
              "width": 0.5
             },
             "pattern": {
              "fillmode": "overlay",
              "size": 10,
              "solidity": 0.2
             }
            },
            "type": "bar"
           }
          ],
          "barpolar": [
           {
            "marker": {
             "line": {
              "color": "#E5ECF6",
              "width": 0.5
             },
             "pattern": {
              "fillmode": "overlay",
              "size": 10,
              "solidity": 0.2
             }
            },
            "type": "barpolar"
           }
          ],
          "carpet": [
           {
            "aaxis": {
             "endlinecolor": "#2a3f5f",
             "gridcolor": "white",
             "linecolor": "white",
             "minorgridcolor": "white",
             "startlinecolor": "#2a3f5f"
            },
            "baxis": {
             "endlinecolor": "#2a3f5f",
             "gridcolor": "white",
             "linecolor": "white",
             "minorgridcolor": "white",
             "startlinecolor": "#2a3f5f"
            },
            "type": "carpet"
           }
          ],
          "choropleth": [
           {
            "colorbar": {
             "outlinewidth": 0,
             "ticks": ""
            },
            "type": "choropleth"
           }
          ],
          "contour": [
           {
            "colorbar": {
             "outlinewidth": 0,
             "ticks": ""
            },
            "colorscale": [
             [
              0,
              "#0d0887"
             ],
             [
              0.1111111111111111,
              "#46039f"
             ],
             [
              0.2222222222222222,
              "#7201a8"
             ],
             [
              0.3333333333333333,
              "#9c179e"
             ],
             [
              0.4444444444444444,
              "#bd3786"
             ],
             [
              0.5555555555555556,
              "#d8576b"
             ],
             [
              0.6666666666666666,
              "#ed7953"
             ],
             [
              0.7777777777777778,
              "#fb9f3a"
             ],
             [
              0.8888888888888888,
              "#fdca26"
             ],
             [
              1,
              "#f0f921"
             ]
            ],
            "type": "contour"
           }
          ],
          "contourcarpet": [
           {
            "colorbar": {
             "outlinewidth": 0,
             "ticks": ""
            },
            "type": "contourcarpet"
           }
          ],
          "heatmap": [
           {
            "colorbar": {
             "outlinewidth": 0,
             "ticks": ""
            },
            "colorscale": [
             [
              0,
              "#0d0887"
             ],
             [
              0.1111111111111111,
              "#46039f"
             ],
             [
              0.2222222222222222,
              "#7201a8"
             ],
             [
              0.3333333333333333,
              "#9c179e"
             ],
             [
              0.4444444444444444,
              "#bd3786"
             ],
             [
              0.5555555555555556,
              "#d8576b"
             ],
             [
              0.6666666666666666,
              "#ed7953"
             ],
             [
              0.7777777777777778,
              "#fb9f3a"
             ],
             [
              0.8888888888888888,
              "#fdca26"
             ],
             [
              1,
              "#f0f921"
             ]
            ],
            "type": "heatmap"
           }
          ],
          "heatmapgl": [
           {
            "colorbar": {
             "outlinewidth": 0,
             "ticks": ""
            },
            "colorscale": [
             [
              0,
              "#0d0887"
             ],
             [
              0.1111111111111111,
              "#46039f"
             ],
             [
              0.2222222222222222,
              "#7201a8"
             ],
             [
              0.3333333333333333,
              "#9c179e"
             ],
             [
              0.4444444444444444,
              "#bd3786"
             ],
             [
              0.5555555555555556,
              "#d8576b"
             ],
             [
              0.6666666666666666,
              "#ed7953"
             ],
             [
              0.7777777777777778,
              "#fb9f3a"
             ],
             [
              0.8888888888888888,
              "#fdca26"
             ],
             [
              1,
              "#f0f921"
             ]
            ],
            "type": "heatmapgl"
           }
          ],
          "histogram": [
           {
            "marker": {
             "pattern": {
              "fillmode": "overlay",
              "size": 10,
              "solidity": 0.2
             }
            },
            "type": "histogram"
           }
          ],
          "histogram2d": [
           {
            "colorbar": {
             "outlinewidth": 0,
             "ticks": ""
            },
            "colorscale": [
             [
              0,
              "#0d0887"
             ],
             [
              0.1111111111111111,
              "#46039f"
             ],
             [
              0.2222222222222222,
              "#7201a8"
             ],
             [
              0.3333333333333333,
              "#9c179e"
             ],
             [
              0.4444444444444444,
              "#bd3786"
             ],
             [
              0.5555555555555556,
              "#d8576b"
             ],
             [
              0.6666666666666666,
              "#ed7953"
             ],
             [
              0.7777777777777778,
              "#fb9f3a"
             ],
             [
              0.8888888888888888,
              "#fdca26"
             ],
             [
              1,
              "#f0f921"
             ]
            ],
            "type": "histogram2d"
           }
          ],
          "histogram2dcontour": [
           {
            "colorbar": {
             "outlinewidth": 0,
             "ticks": ""
            },
            "colorscale": [
             [
              0,
              "#0d0887"
             ],
             [
              0.1111111111111111,
              "#46039f"
             ],
             [
              0.2222222222222222,
              "#7201a8"
             ],
             [
              0.3333333333333333,
              "#9c179e"
             ],
             [
              0.4444444444444444,
              "#bd3786"
             ],
             [
              0.5555555555555556,
              "#d8576b"
             ],
             [
              0.6666666666666666,
              "#ed7953"
             ],
             [
              0.7777777777777778,
              "#fb9f3a"
             ],
             [
              0.8888888888888888,
              "#fdca26"
             ],
             [
              1,
              "#f0f921"
             ]
            ],
            "type": "histogram2dcontour"
           }
          ],
          "mesh3d": [
           {
            "colorbar": {
             "outlinewidth": 0,
             "ticks": ""
            },
            "type": "mesh3d"
           }
          ],
          "parcoords": [
           {
            "line": {
             "colorbar": {
              "outlinewidth": 0,
              "ticks": ""
             }
            },
            "type": "parcoords"
           }
          ],
          "pie": [
           {
            "automargin": true,
            "type": "pie"
           }
          ],
          "scatter": [
           {
            "marker": {
             "colorbar": {
              "outlinewidth": 0,
              "ticks": ""
             }
            },
            "type": "scatter"
           }
          ],
          "scatter3d": [
           {
            "line": {
             "colorbar": {
              "outlinewidth": 0,
              "ticks": ""
             }
            },
            "marker": {
             "colorbar": {
              "outlinewidth": 0,
              "ticks": ""
             }
            },
            "type": "scatter3d"
           }
          ],
          "scattercarpet": [
           {
            "marker": {
             "colorbar": {
              "outlinewidth": 0,
              "ticks": ""
             }
            },
            "type": "scattercarpet"
           }
          ],
          "scattergeo": [
           {
            "marker": {
             "colorbar": {
              "outlinewidth": 0,
              "ticks": ""
             }
            },
            "type": "scattergeo"
           }
          ],
          "scattergl": [
           {
            "marker": {
             "colorbar": {
              "outlinewidth": 0,
              "ticks": ""
             }
            },
            "type": "scattergl"
           }
          ],
          "scattermapbox": [
           {
            "marker": {
             "colorbar": {
              "outlinewidth": 0,
              "ticks": ""
             }
            },
            "type": "scattermapbox"
           }
          ],
          "scatterpolar": [
           {
            "marker": {
             "colorbar": {
              "outlinewidth": 0,
              "ticks": ""
             }
            },
            "type": "scatterpolar"
           }
          ],
          "scatterpolargl": [
           {
            "marker": {
             "colorbar": {
              "outlinewidth": 0,
              "ticks": ""
             }
            },
            "type": "scatterpolargl"
           }
          ],
          "scatterternary": [
           {
            "marker": {
             "colorbar": {
              "outlinewidth": 0,
              "ticks": ""
             }
            },
            "type": "scatterternary"
           }
          ],
          "surface": [
           {
            "colorbar": {
             "outlinewidth": 0,
             "ticks": ""
            },
            "colorscale": [
             [
              0,
              "#0d0887"
             ],
             [
              0.1111111111111111,
              "#46039f"
             ],
             [
              0.2222222222222222,
              "#7201a8"
             ],
             [
              0.3333333333333333,
              "#9c179e"
             ],
             [
              0.4444444444444444,
              "#bd3786"
             ],
             [
              0.5555555555555556,
              "#d8576b"
             ],
             [
              0.6666666666666666,
              "#ed7953"
             ],
             [
              0.7777777777777778,
              "#fb9f3a"
             ],
             [
              0.8888888888888888,
              "#fdca26"
             ],
             [
              1,
              "#f0f921"
             ]
            ],
            "type": "surface"
           }
          ],
          "table": [
           {
            "cells": {
             "fill": {
              "color": "#EBF0F8"
             },
             "line": {
              "color": "white"
             }
            },
            "header": {
             "fill": {
              "color": "#C8D4E3"
             },
             "line": {
              "color": "white"
             }
            },
            "type": "table"
           }
          ]
         },
         "layout": {
          "annotationdefaults": {
           "arrowcolor": "#2a3f5f",
           "arrowhead": 0,
           "arrowwidth": 1
          },
          "autotypenumbers": "strict",
          "coloraxis": {
           "colorbar": {
            "outlinewidth": 0,
            "ticks": ""
           }
          },
          "colorscale": {
           "diverging": [
            [
             0,
             "#8e0152"
            ],
            [
             0.1,
             "#c51b7d"
            ],
            [
             0.2,
             "#de77ae"
            ],
            [
             0.3,
             "#f1b6da"
            ],
            [
             0.4,
             "#fde0ef"
            ],
            [
             0.5,
             "#f7f7f7"
            ],
            [
             0.6,
             "#e6f5d0"
            ],
            [
             0.7,
             "#b8e186"
            ],
            [
             0.8,
             "#7fbc41"
            ],
            [
             0.9,
             "#4d9221"
            ],
            [
             1,
             "#276419"
            ]
           ],
           "sequential": [
            [
             0,
             "#0d0887"
            ],
            [
             0.1111111111111111,
             "#46039f"
            ],
            [
             0.2222222222222222,
             "#7201a8"
            ],
            [
             0.3333333333333333,
             "#9c179e"
            ],
            [
             0.4444444444444444,
             "#bd3786"
            ],
            [
             0.5555555555555556,
             "#d8576b"
            ],
            [
             0.6666666666666666,
             "#ed7953"
            ],
            [
             0.7777777777777778,
             "#fb9f3a"
            ],
            [
             0.8888888888888888,
             "#fdca26"
            ],
            [
             1,
             "#f0f921"
            ]
           ],
           "sequentialminus": [
            [
             0,
             "#0d0887"
            ],
            [
             0.1111111111111111,
             "#46039f"
            ],
            [
             0.2222222222222222,
             "#7201a8"
            ],
            [
             0.3333333333333333,
             "#9c179e"
            ],
            [
             0.4444444444444444,
             "#bd3786"
            ],
            [
             0.5555555555555556,
             "#d8576b"
            ],
            [
             0.6666666666666666,
             "#ed7953"
            ],
            [
             0.7777777777777778,
             "#fb9f3a"
            ],
            [
             0.8888888888888888,
             "#fdca26"
            ],
            [
             1,
             "#f0f921"
            ]
           ]
          },
          "colorway": [
           "#636efa",
           "#EF553B",
           "#00cc96",
           "#ab63fa",
           "#FFA15A",
           "#19d3f3",
           "#FF6692",
           "#B6E880",
           "#FF97FF",
           "#FECB52"
          ],
          "font": {
           "color": "#2a3f5f"
          },
          "geo": {
           "bgcolor": "white",
           "lakecolor": "white",
           "landcolor": "#E5ECF6",
           "showlakes": true,
           "showland": true,
           "subunitcolor": "white"
          },
          "hoverlabel": {
           "align": "left"
          },
          "hovermode": "closest",
          "mapbox": {
           "style": "light"
          },
          "paper_bgcolor": "white",
          "plot_bgcolor": "#E5ECF6",
          "polar": {
           "angularaxis": {
            "gridcolor": "white",
            "linecolor": "white",
            "ticks": ""
           },
           "bgcolor": "#E5ECF6",
           "radialaxis": {
            "gridcolor": "white",
            "linecolor": "white",
            "ticks": ""
           }
          },
          "scene": {
           "xaxis": {
            "backgroundcolor": "#E5ECF6",
            "gridcolor": "white",
            "gridwidth": 2,
            "linecolor": "white",
            "showbackground": true,
            "ticks": "",
            "zerolinecolor": "white"
           },
           "yaxis": {
            "backgroundcolor": "#E5ECF6",
            "gridcolor": "white",
            "gridwidth": 2,
            "linecolor": "white",
            "showbackground": true,
            "ticks": "",
            "zerolinecolor": "white"
           },
           "zaxis": {
            "backgroundcolor": "#E5ECF6",
            "gridcolor": "white",
            "gridwidth": 2,
            "linecolor": "white",
            "showbackground": true,
            "ticks": "",
            "zerolinecolor": "white"
           }
          },
          "shapedefaults": {
           "line": {
            "color": "#2a3f5f"
           }
          },
          "ternary": {
           "aaxis": {
            "gridcolor": "white",
            "linecolor": "white",
            "ticks": ""
           },
           "baxis": {
            "gridcolor": "white",
            "linecolor": "white",
            "ticks": ""
           },
           "bgcolor": "#E5ECF6",
           "caxis": {
            "gridcolor": "white",
            "linecolor": "white",
            "ticks": ""
           }
          },
          "title": {
           "x": 0.05
          },
          "xaxis": {
           "automargin": true,
           "gridcolor": "white",
           "linecolor": "white",
           "ticks": "",
           "title": {
            "standoff": 15
           },
           "zerolinecolor": "white",
           "zerolinewidth": 2
          },
          "yaxis": {
           "automargin": true,
           "gridcolor": "white",
           "linecolor": "white",
           "ticks": "",
           "title": {
            "standoff": 15
           },
           "zerolinecolor": "white",
           "zerolinewidth": 2
          }
         }
        },
        "xaxis": {
         "anchor": "y",
         "domain": [
          0,
          1
         ],
         "title": {
          "text": "x"
         }
        },
        "yaxis": {
         "anchor": "x",
         "domain": [
          0,
          1
         ],
         "title": {
          "text": "y"
         }
        }
       }
      },
      "text/html": [
       "<div>                            <div id=\"2fe3470d-a8d4-435a-875b-11d898a23169\" class=\"plotly-graph-div\" style=\"height:525px; width:100%;\"></div>            <script type=\"text/javascript\">                require([\"plotly\"], function(Plotly) {                    window.PLOTLYENV=window.PLOTLYENV || {};                                    if (document.getElementById(\"2fe3470d-a8d4-435a-875b-11d898a23169\")) {                    Plotly.newPlot(                        \"2fe3470d-a8d4-435a-875b-11d898a23169\",                        [{\"customdata\":[[\"21st century classical\"],[\"432hz\"],[\"8-bit\"],[\"[]\"],[\"a cappella\"],[\"abstract\"],[\"abstract beats\"],[\"abstract hip hop\"],[\"accordeon\"],[\"accordion\"],[\"acid house\"],[\"acid rock\"],[\"acid trance\"],[\"acousmatic\"],[\"acoustic blues\"],[\"acoustic pop\"],[\"acoustic punk\"],[\"acoustic rock\"],[\"action rock\"],[\"adoracion\"],[\"adult standards\"],[\"adventista\"],[\"afghan pop\"],[\"afghan traditional\"],[\"african percussion\"],[\"african reggae\"],[\"african rock\"],[\"african-american classical\"],[\"afro dancehall\"],[\"afro house\"],[\"afro psych\"],[\"afro soul\"],[\"afro-funk\"],[\"afrobeat\"],[\"afrofuturism\"],[\"afrofuturismo brasileiro\"],[\"afropop\"],[\"afroswing\"],[\"aggrotech\"],[\"alabama indie\"],[\"alabama metal\"],[\"alabama rap\"],[\"alaska indie\"],[\"albanian pop\"],[\"albany ny indie\"],[\"alberta country\"],[\"alberta hip hop\"],[\"album rock\"],[\"albuquerque indie\"],[\"alt-idol\"],[\"alte\"],[\"alternative americana\"],[\"alternative country\"],[\"alternative dance\"],[\"alternative emo\"],[\"alternative hip hop\"],[\"alternative metal\"],[\"alternative pop\"],[\"alternative pop rock\"],[\"alternative r&b\"],[\"alternative rock\"],[\"alternative roots rock\"],[\"ambeat\"],[\"ambient\"],[\"ambient black metal\"],[\"ambient folk\"],[\"ambient house\"],[\"ambient idm\"],[\"ambient industrial\"],[\"ambient pop\"],[\"ambient techno\"],[\"ambient worship\"],[\"american 21st century classical\"],[\"american choir\"],[\"american classical piano\"],[\"american contemporary classical\"],[\"american early music\"],[\"american folk revival\"],[\"american metalcore\"],[\"american modern classical\"],[\"american oi\"],[\"american orchestra\"],[\"american post-rock\"],[\"american primitive\"],[\"american romanticism\"],[\"american shoegaze\"],[\"anadolu rock\"],[\"anarcho-punk\"],[\"anglican liturgy\"],[\"animal singing\"],[\"anime\"],[\"anime latino\"],[\"anime rock\"],[\"anime score\"],[\"ann arbor indie\"],[\"anthem emo\"],[\"anthem worship\"],[\"anti-folk\"],[\"antilliaanse folklore\"],[\"antiviral pop\"],[\"appalachian folk\"],[\"arab folk\"],[\"arab groove\"],[\"arab pop\"],[\"arabesk\"],[\"arabic hip hop\"],[\"arabic jazz\"],[\"argentine ambient\"],[\"argentine hardcore\"],[\"argentine heavy metal\"],[\"argentine hip hop\"],[\"argentine indie\"],[\"argentine metal\"],[\"argentine punk\"],[\"argentine reggae\"],[\"argentine rock\"],[\"argentine telepop\"],[\"arizona punk\"],[\"arkansas country\"],[\"arkansas hip hop\"],[\"arkansas indie\"],[\"armenian folk\"],[\"art pop\"],[\"art punk\"],[\"art rock\"],[\"art song\"],[\"asbury park indie\"],[\"asheville indie\"],[\"asian american hip hop\"],[\"asmr\"],[\"athens indie\"],[\"atl hip hop\"],[\"atl trap\"],[\"atlanta indie\"],[\"atlanta metal\"],[\"atlanta punk\"],[\"atmosphere\"],[\"atmospheric black metal\"],[\"atmospheric dnb\"],[\"atmospheric post-metal\"],[\"atmospheric post-rock\"],[\"atmospheric sludge\"],[\"auckland indie\"],[\"audiophile vocal\"],[\"aussietronica\"],[\"austin americana\"],[\"austin singer-songwriter\"],[\"austindie\"],[\"australian alternative pop\"],[\"australian alternative rock\"],[\"australian ambient\"],[\"australian children's music\"],[\"australian choir\"],[\"australian classical\"],[\"australian classical piano\"],[\"australian country\"],[\"australian dance\"],[\"australian electropop\"],[\"australian garage punk\"],[\"australian hip hop\"],[\"australian house\"],[\"australian indie\"],[\"australian indie folk\"],[\"australian indie rock\"],[\"australian indigenous\"],[\"australian metal\"],[\"australian metalcore\"],[\"australian pop\"],[\"australian post-hardcore\"],[\"australian post-punk\"],[\"australian psych\"],[\"australian r&b\"],[\"australian reggae fusion\"],[\"australian rock\"],[\"australian singer-songwriter\"],[\"australian ska\"],[\"australian talent show\"],[\"australian trap\"],[\"australian underground hip hop\"],[\"austrian choir\"],[\"austrian classical piano\"],[\"austrian orchestra\"],[\"austrian pop\"],[\"austro-german modernism\"],[\"austropop\"],[\"autoharp\"],[\"autonomous black metal\"],[\"avant-garde\"],[\"avant-garde jazz\"],[\"avant-garde metal\"],[\"axe\"],[\"azeri traditional\"],[\"azonto\"],[\"azontobeats\"],[\"bachata\"],[\"bachata dominicana\"],[\"background music\"],[\"background piano\"],[\"baglama\"],[\"bahai\"],[\"bahamian folk\"],[\"bahamian pop\"],[\"baiao\"],[\"bajki\"],[\"bakersfield sound\"],[\"balearic\"],[\"balkan brass\"],[\"balkan classical piano\"],[\"ballet class\"],[\"ballroom\"],[\"baltic classical\"],[\"baltimore hip hop\"],[\"baltimore indie\"],[\"banda\"],[\"banda caliente\"],[\"banda carnavalera\"],[\"bandinhas\"],[\"bandolim\"],[\"bandoneon\"],[\"bangla\"],[\"banjo\"],[\"bansuri\"],[\"barbadian pop\"],[\"barbershop\"],[\"bard\"],[\"barnmusik\"],[\"barockinterpreten\"],[\"baroque\"],[\"baroque brass\"],[\"baroque ensemble\"],[\"baroque pop\"],[\"baroque singing\"],[\"baroque violin\"],[\"baroque woodwind\"],[\"bass house\"],[\"bass music\"],[\"bass trap\"],[\"basshall\"],[\"bassline\"],[\"bath indie\"],[\"baton rouge indie\"],[\"baton rouge rap\"],[\"battle rap\"],[\"bay area hip hop\"],[\"bay area indie\"],[\"bboy\"],[\"bc underground hip hop\"],[\"beach music\"],[\"beat italiano\"],[\"beat poetry\"],[\"beatboxing\"],[\"beatlesque\"],[\"bebop\"],[\"bedroom pop\"],[\"bedroom soul\"],[\"belarusian indie\"],[\"belarusian pop\"],[\"belarusian rock\"],[\"belgian classical piano\"],[\"belgian contemporary classical\"],[\"belgian dance\"],[\"belgian edm\"],[\"belgian hardcore\"],[\"belgian indie\"],[\"belgian indie rock\"],[\"belgian jazz\"],[\"belgian new wave\"],[\"belgian pop\"],[\"belgian rock\"],[\"belgian singer-songwriter\"],[\"belgian techno\"],[\"belly dance\"],[\"bengali folk\"],[\"beninese pop\"],[\"bergen indie\"],[\"berlin minimal techno\"],[\"berlin school\"],[\"bhajan\"],[\"bhangra\"],[\"bible\"],[\"big band\"],[\"big beat\"],[\"big room\"],[\"binaural\"],[\"birdsong\"],[\"birmingham grime\"],[\"birmingham hip hop\"],[\"birmingham metal\"],[\"bitpop\"],[\"black 'n' roll\"],[\"black comedy\"],[\"black metal\"],[\"black punk\"],[\"black thrash\"],[\"blackened crust\"],[\"blackgaze\"],[\"bleep techno\"],[\"bluegrass\"],[\"bluegrass fiddle\"],[\"bluegrass gospel\"],[\"blues\"],[\"blues latinoamericano\"],[\"blues mexicano\"],[\"blues rock\"],[\"bmore\"],[\"bolero\"],[\"bolero cubano\"],[\"boogaloo\"],[\"boogie\"],[\"boogie-woogie\"],[\"boom bap\"],[\"boom bap brasileiro\"],[\"bossa nova\"],[\"bossa nova jazz\"],[\"boston folk\"],[\"boston hardcore\"],[\"boston hip hop\"],[\"boston indie\"],[\"boston metal\"],[\"boston punk\"],[\"boston rock\"],[\"bounce\"],[\"bouncy house\"],[\"bouzouki\"],[\"bow pop\"],[\"boy band\"],[\"boy pop\"],[\"boy soprano\"],[\"brain waves\"],[\"braindance\"],[\"brass band\"],[\"brass ensemble\"],[\"brass quintet\"],[\"brazilian boogie\"],[\"brazilian classical\"],[\"brazilian classical piano\"],[\"brazilian contemporary classical\"],[\"brazilian edm\"],[\"brazilian groove metal\"],[\"brazilian hip hop\"],[\"brazilian indie\"],[\"brazilian jazz\"],[\"brazilian metal\"],[\"brazilian modern jazz\"],[\"brazilian percussion\"],[\"brazilian punk\"],[\"brazilian reggae\"],[\"brazilian rock\"],[\"brazilian ska\"],[\"brazilian soul\"],[\"brazilian thrash metal\"],[\"breakbeat\"],[\"breakcore\"],[\"brega\"],[\"breton folk\"],[\"brighton indie\"],[\"brill building pop\"],[\"brisbane indie\"],[\"bristol electronic\"],[\"bristol indie\"],[\"brit funk\"],[\"british alternative rock\"],[\"british black metal\"],[\"british blues\"],[\"british children's music\"],[\"british choir\"],[\"british classical piano\"],[\"british comedy\"],[\"british contemporary classical\"],[\"british dance band\"],[\"british death metal\"],[\"british experimental\"],[\"british folk\"],[\"british grindcore\"],[\"british indie rock\"],[\"british industrial\"],[\"british invasion\"],[\"british jazz\"],[\"british modern classical\"],[\"british orchestra\"],[\"british post-rock\"],[\"british power metal\"],[\"british singer-songwriter\"],[\"british soul\"],[\"british soundtrack\"],[\"britpop\"],[\"broadway\"],[\"broken beat\"],[\"bronx hip hop\"],[\"brooklyn drill\"],[\"brooklyn indie\"],[\"brostep\"],[\"brutal death metal\"],[\"brutal deathcore\"],[\"bubble trance\"],[\"bubblegrunge\"],[\"bubblegum dance\"],[\"bubblegum pop\"],[\"buffalo hip hop\"],[\"buffalo ny indie\"],[\"buffalo ny metal\"],[\"bulgarian experimental\"],[\"burmese traditional\"],[\"bush ballad\"],[\"c-pop\"],[\"c86\"],[\"cabaret\"],[\"cajun\"],[\"calgary indie\"],[\"cali rap\"],[\"calming instrumental\"],[\"calypso\"],[\"cambodian rock\"],[\"cambridge choir\"],[\"cambridgeshire indie\"],[\"cameroonian pop\"],[\"canadian americana\"],[\"canadian blues\"],[\"canadian ccm\"],[\"canadian celtic\"],[\"canadian children's music\"],[\"canadian choir\"],[\"canadian classical\"],[\"canadian classical piano\"],[\"canadian comedy\"],[\"canadian contemporary country\"],[\"canadian contemporary r&b\"],[\"canadian country\"],[\"canadian electronic\"],[\"canadian electropop\"],[\"canadian experimental\"],[\"canadian folk\"],[\"canadian hardcore\"],[\"canadian hip hop\"],[\"canadian house\"],[\"canadian indie\"],[\"canadian indie folk\"],[\"canadian indigenous\"],[\"canadian indigenous hip hop\"],[\"canadian latin\"],[\"canadian metal\"],[\"canadian metalcore\"],[\"canadian modern jazz\"],[\"canadian pop\"],[\"canadian pop punk\"],[\"canadian post-hardcore\"],[\"canadian post-rock\"],[\"canadian psychedelic\"],[\"canadian punk\"],[\"canadian rock\"],[\"canadian rockabilly\"],[\"canadian singer-songwriter\"],[\"canadian soundtrack\"],[\"cancion melodica\"],[\"candy pop\"],[\"cantautor\"],[\"cante flamenco\"],[\"canterbury scene\"],[\"canto popular uruguayo\"],[\"cantopop\"],[\"canzone d'autore\"],[\"canzone genovese\"],[\"canzone napoletana\"],[\"cape town indie\"],[\"cape verdean folk\"],[\"capoeira\"],[\"caracas indie\"],[\"carnatic\"],[\"carnatic instrumental\"],[\"carnatic vocal\"],[\"cartoon\"],[\"cathedral choir\"],[\"caucasian classical\"],[\"caucasian classical piano\"],[\"ccm\"],[\"cedm\"],[\"cello\"],[\"celtic\"],[\"celtic harp\"],[\"celtic metal\"],[\"celtic punk\"],[\"celtic rock\"],[\"cha-cha-cha\"],[\"chakra\"],[\"chamame\"],[\"chamber choir\"],[\"chamber ensemble\"],[\"chamber folk\"],[\"chamber orchestra\"],[\"chamber pop\"],[\"chamber psych\"],[\"champeta\"],[\"channel islands indie\"],[\"channel pop\"],[\"chanson\"],[\"chanson paillarde\"],[\"chaotic hardcore\"],[\"charanga\"],[\"charango\"],[\"charlotte nc indie\"],[\"charlottesville indie\"],[\"chattanooga indie\"],[\"chicago blues\"],[\"chicago drill\"],[\"chicago hardcore\"],[\"chicago house\"],[\"chicago indie\"],[\"chicago pop punk\"],[\"chicago punk\"],[\"chicago rap\"],[\"chicago soul\"],[\"chicano punk\"],[\"chicano rap\"],[\"chicha\"],[\"chihuahua indie\"],[\"children's choir\"],[\"children's folk\"],[\"children's music\"],[\"children's story\"],[\"chilean hardcore\"],[\"chilean indie\"],[\"chilean rock\"],[\"chilena\"],[\"chill beats\"],[\"chill guitar\"],[\"chill lounge\"],[\"chill out\"],[\"chill pop\"],[\"chill r&b\"],[\"chillhop\"],[\"chillstep\"],[\"chillwave\"],[\"chinese audiophile\"],[\"chinese classical\"],[\"chinese classical performance\"],[\"chinese classical piano\"],[\"chinese electropop\"],[\"chinese hip hop\"],[\"chinese idol pop\"],[\"chinese indie\"],[\"chinese indie rock\"],[\"chinese instrumental\"],[\"chinese jazz\"],[\"chinese r&b\"],[\"chinese soundtrack\"],[\"chinese traditional\"],[\"chiptune\"],[\"chopped and screwed\"],[\"choral\"],[\"choro\"],[\"christchurch indie\"],[\"christelijk\"],[\"christian a cappella\"],[\"christian alternative rock\"],[\"christian dance\"],[\"christian hard rock\"],[\"christian hardcore\"],[\"christian hip hop\"],[\"christian indie\"],[\"christian metal\"],[\"christian metalcore\"],[\"christian music\"],[\"christian pop\"],[\"christian power metal\"],[\"christian punk\"],[\"christian relaxative\"],[\"christian rock\"],[\"christian trap\"],[\"christian uplift\"],[\"christmas instrumental\"],[\"christmas product\"],[\"chunchaca\"],[\"chutney\"],[\"cincinnati rap\"],[\"cinematic post-rock\"],[\"circuit\"],[\"circus\"],[\"classic afrobeat\"],[\"classic arab pop\"],[\"classic australian country\"],[\"classic belgian pop\"],[\"classic bhangra\"],[\"classic bollywood\"],[\"classic canadian rock\"],[\"classic cantopop\"],[\"classic colombian pop\"],[\"classic country pop\"],[\"classic czech pop\"],[\"classic danish pop\"],[\"classic dubstep\"],[\"classic eurovision\"],[\"classic finnish pop\"],[\"classic french pop\"],[\"classic garage rock\"],[\"classic girl group\"],[\"classic greek pop\"],[\"classic hardstyle\"],[\"classic icelandic pop\"],[\"classic indo pop\"],[\"classic iskelma\"],[\"classic israeli pop\"],[\"classic italian folk pop\"],[\"classic italian pop\"],[\"classic j-rock\"],[\"classic japanese jazz\"],[\"classic korean pop\"],[\"classic latvian pop\"],[\"classic mandopop\"],[\"classic norwegian pop\"],[\"classic opm\"],[\"classic pakistani pop\"],[\"classic persian pop\"],[\"classic peruvian pop\"],[\"classic polish pop\"],[\"classic praise\"],[\"classic psychedelic rock\"],[\"classic punjabi pop\"],[\"classic rock\"],[\"classic russian pop\"],[\"classic russian rock\"],[\"classic schlager\"],[\"classic soul\"],[\"classic soundtrack\"],[\"classic swedish pop\"],[\"classic thai pop\"],[\"classic tunisian pop\"],[\"classic turkish pop\"],[\"classic uk pop\"],[\"classic venezuelan pop\"],[\"classical\"],[\"classical accordion\"],[\"classical baritone\"],[\"classical bass\"],[\"classical cello\"],[\"classical clarinet\"],[\"classical contralto\"],[\"classical countertenor\"],[\"classical era\"],[\"classical flute\"],[\"classical guitar\"],[\"classical harp\"],[\"classical horn\"],[\"classical mandolin\"],[\"classical mezzo-soprano\"],[\"classical oboe\"],[\"classical organ\"],[\"classical performance\"],[\"classical piano\"],[\"classical piano duo\"],[\"classical piano trio\"],[\"classical saxophone\"],[\"classical soprano\"],[\"classical tenor\"],[\"classical trumpet\"],[\"classify\"],[\"clawhammer banjo\"],[\"clean comedy\"],[\"cleveland metal\"],[\"coco\"],[\"collage pop\"],[\"college a cappella\"],[\"colombian hip hop\"],[\"colombian pop\"],[\"colombian rock\"],[\"columbus ohio indie\"],[\"comedy\"],[\"comedy rap\"],[\"comedy rock\"],[\"comic\"],[\"comic metal\"],[\"commons\"],[\"complextro\"],[\"compositional ambient\"],[\"concepcion indie\"],[\"concert band\"],[\"connecticut hardcore\"],[\"connecticut indie\"],[\"conscious hip hop\"],[\"contemporary choir\"],[\"contemporary classical\"],[\"contemporary classical piano\"],[\"contemporary country\"],[\"contemporary folk\"],[\"contemporary gospel\"],[\"contemporary jazz\"],[\"contemporary post-bop\"],[\"contemporary vocal jazz\"],[\"contrabass\"],[\"cool jazz\"],[\"copla\"],[\"cornish folk\"],[\"cornwall indie\"],[\"corrido\"],[\"corridos cristianos\"],[\"corridos tumbados\"],[\"corrosion\"],[\"cosmic american\"],[\"cosmic post-rock\"],[\"country\"],[\"country blues\"],[\"country boogie\"],[\"country dawn\"],[\"country gospel\"],[\"country pop\"],[\"country rap\"],[\"country road\"],[\"country rock\"],[\"coverchill\"],[\"cowboy western\"],[\"cowpunk\"],[\"crack rock steady\"],[\"croatian folk\"],[\"croatian pop\"],[\"croatian rock\"],[\"crossover thrash\"],[\"crunk\"],[\"crust punk\"],[\"cuarteto\"],[\"cuatro venezolano\"],[\"cuban alternative\"],[\"cuban rumba\"],[\"cubaton\"],[\"cumbia\"],[\"cumbia andina mexicana\"],[\"cumbia chilena\"],[\"cumbia colombiana regia\"],[\"cumbia ecuatoriana\"],[\"cumbia funk\"],[\"cumbia lagunera\"],[\"cumbia paraguaya\"],[\"cumbia peruana\"],[\"cumbia pop\"],[\"cumbia ranchera\"],[\"cumbia salvadorena\"],[\"cumbia santafesina\"],[\"cumbia sonidera\"],[\"cumbia villera\"],[\"cyberpunk\"],[\"cymraeg\"],[\"cypriot pop\"],[\"czech classical\"],[\"czech classical piano\"],[\"czech contemporary classical\"],[\"d-beat\"],[\"dabke\"],[\"dakke dak\"],[\"dallas indie\"],[\"dance pop\"],[\"dance rock\"],[\"dance-punk\"],[\"dancehall\"],[\"dangdut\"],[\"danish alternative rock\"],[\"danish classical\"],[\"danish electronic\"],[\"danish electropop\"],[\"danish hip hop\"],[\"danish jazz\"],[\"danish metal\"],[\"danish pop\"],[\"danish pop rock\"],[\"danish post-punk\"],[\"danish punk\"],[\"danish rock\"],[\"danish singer-songwriter\"],[\"dansband\"],[\"danseband\"],[\"dansktop\"],[\"danspunk\"],[\"dark cabaret\"],[\"dark clubbing\"],[\"dark disco\"],[\"dark hardcore\"],[\"dark jazz\"],[\"dark minimal techno\"],[\"dark post-punk\"],[\"dark techno\"],[\"dark trap\"],[\"dark wave\"],[\"darksynth\"],[\"dayton indie\"],[\"dc hardcore\"],[\"dc indie\"],[\"death 'n' roll\"],[\"death metal\"],[\"deathcore\"],[\"deathgrass\"],[\"deathgrind\"],[\"deathrash\"],[\"deathrock\"],[\"deathstep\"],[\"deep acoustic pop\"],[\"deep adult standards\"],[\"deep big room\"],[\"deep ccm\"],[\"deep christian rock\"],[\"deep classic garage rock\"],[\"deep comedy\"],[\"deep contemporary country\"],[\"deep dance pop\"],[\"deep delta blues\"],[\"deep disco\"],[\"deep disco house\"],[\"deep dnb\"],[\"deep east coast hip hop\"],[\"deep euro house\"],[\"deep flow\"],[\"deep free jazz\"],[\"deep freestyle\"],[\"deep full on\"],[\"deep funk\"],[\"deep g funk\"],[\"deep gothic post-punk\"],[\"deep groove house\"],[\"deep house\"],[\"deep idm\"],[\"deep indian pop\"],[\"deep indie singer-songwriter\"],[\"deep latin alternative\"],[\"deep latin christian\"],[\"deep melodic metalcore\"],[\"deep minimal techno\"],[\"deep motown\"],[\"deep new americana\"],[\"deep new wave\"],[\"deep norteno\"],[\"deep northern soul\"],[\"deep pop edm\"],[\"deep progressive house\"],[\"deep psychobilly\"],[\"deep punk rock\"],[\"deep r&b\"],[\"deep ragga\"],[\"deep regional mexican\"],[\"deep smooth jazz\"],[\"deep soft rock\"],[\"deep soul house\"],[\"deep soundtrack\"],[\"deep southern soul\"],[\"deep southern trap\"],[\"deep space rock\"],[\"deep talent show\"],[\"deep tech house\"],[\"deep techno\"],[\"deep tropical house\"],[\"deep underground hip hop\"],[\"deep uplifting trance\"],[\"delta blues\"],[\"dembow\"],[\"denpa-kei\"],[\"denton tx indie\"],[\"denver indie\"],[\"depressive black metal\"],[\"derby indie\"],[\"desert blues\"],[\"desi hip hop\"],[\"desi pop\"],[\"destroy techno\"],[\"detroit hip hop\"],[\"detroit house\"],[\"detroit techno\"],[\"detroit trap\"],[\"detske pisnicky\"],[\"detskie pesni\"],[\"devon indie\"],[\"dfw rap\"],[\"dhrupad\"],[\"digital hardcore\"],[\"dinner jazz\"],[\"dirty south rap\"],[\"dirty texas rap\"],[\"disco\"],[\"disco house\"],[\"disney\"],[\"diva house\"],[\"dixieland\"],[\"diy emo\"],[\"djent\"],[\"dmv rap\"],[\"dominican pop\"],[\"dong-yo\"],[\"doo-wop\"],[\"doom metal\"],[\"double drumming\"],[\"downtempo\"],[\"drama\"],[\"dream pop\"],[\"dream trance\"],[\"dreamgaze\"],[\"dreamo\"],[\"drift\"],[\"drill\"],[\"drill and bass\"],[\"drone\"],[\"drone folk\"],[\"drone metal\"],[\"drum and bass\"],[\"dub\"],[\"dub metal\"],[\"dub poetry\"],[\"dub techno\"],[\"dubstep\"],[\"dubsteppe\"],[\"duduk\"],[\"duluth indie\"],[\"dunedin indie\"],[\"dunedin sound\"],[\"dungeon synth\"],[\"duranguense\"],[\"dusseldorf electronic\"],[\"dutch blues\"],[\"dutch cabaret\"],[\"dutch classical piano\"],[\"dutch death metal\"],[\"dutch dnb\"],[\"dutch edm\"],[\"dutch folk\"],[\"dutch hip hop\"],[\"dutch house\"],[\"dutch indie\"],[\"dutch jazz\"],[\"dutch metal\"],[\"dutch pop\"],[\"dutch prog\"],[\"dutch rap pop\"],[\"dutch rock\"],[\"dutch trance\"],[\"e6fi\"],[\"early american folk\"],[\"early avant garde\"],[\"early modern classical\"],[\"early music\"],[\"early music choir\"],[\"early music ensemble\"],[\"early reggae\"],[\"early romantic era\"],[\"early synthpop\"],[\"early us punk\"],[\"east coast hip hop\"],[\"east coast reggae\"],[\"eastern bloc groove\"],[\"easy listening\"],[\"easycore\"],[\"eau claire indie\"],[\"ebm\"],[\"ecm-style jazz\"],[\"ectofolk\"],[\"ecuadorian pop\"],[\"edm\"],[\"edmonton indie\"],[\"egyptian pop\"],[\"egyptian traditional\"],[\"el paso indie\"],[\"electra\"],[\"electric bass\"],[\"electric blues\"],[\"electro\"],[\"electro house\"],[\"electro jazz\"],[\"electro latino\"],[\"electro swing\"],[\"electro-industrial\"],[\"electro-pop francais\"],[\"electroclash\"],[\"electrofox\"],[\"electronic djent\"],[\"electronic rock\"],[\"electronic trap\"],[\"electronica\"],[\"electronica argentina\"],[\"electropop\"],[\"electropowerpop\"],[\"emo\"],[\"emo mexicano\"],[\"emo punk\"],[\"emo rap\"],[\"emocore\"],[\"english baroque\"],[\"english indie rock\"],[\"english renaissance\"],[\"enka\"],[\"entehno\"],[\"environmental\"],[\"epic doom\"],[\"epicore\"],[\"erhu\"],[\"escape room\"],[\"esperanto\"],[\"essex indie\"],[\"estonian hip hop\"],[\"estonian pop\"],[\"ethereal wave\"],[\"etherpop\"],[\"ethio-jazz\"],[\"ethiopian pop\"],[\"ethnomusicology\"],[\"ethnotronica\"],[\"eugene indie\"],[\"euphoric hardstyle\"],[\"eurobeat\"],[\"eurodance\"],[\"europop\"],[\"euroska\"],[\"eurovision\"],[\"exotica\"],[\"experimental\"],[\"experimental ambient\"],[\"experimental big band\"],[\"experimental dub\"],[\"experimental folk\"],[\"experimental guitar\"],[\"experimental hip hop\"],[\"experimental house\"],[\"experimental indie\"],[\"experimental jazz\"],[\"experimental pop\"],[\"experimental rock\"],[\"experimental vocal\"],[\"fado\"],[\"family gospel\"],[\"faroese pop\"],[\"fast melodic punk\"],[\"fidget house\"],[\"filmi\"],[\"filter house\"],[\"filthstep\"],[\"final fantasy\"],[\"fingerstyle\"],[\"finnish alternative rock\"],[\"finnish classical\"],[\"finnish contemporary classical\"],[\"finnish death metal\"],[\"finnish edm\"],[\"finnish hard rock\"],[\"finnish heavy metal\"],[\"finnish metal\"],[\"finnish power metal\"],[\"finnish soul\"],[\"flamenco\"],[\"flamenco guitar\"],[\"flick hop\"],[\"flint hip hop\"],[\"float house\"],[\"florida death metal\"],[\"florida rap\"],[\"fluxwork\"],[\"fo jing\"],[\"focus\"],[\"focus beats\"],[\"focus trance\"],[\"folclor afrocolombiano\"],[\"folclor colombiano\"],[\"folclore extremeno\"],[\"folclore jujeno\"],[\"folclore navarra\"],[\"folclore salteno\"],[\"folclore tucumano\"],[\"folk\"],[\"folk metal\"],[\"folk punk\"],[\"folk rock\"],[\"folk rock italiano\"],[\"folk-pop\"],[\"folklore argentino\"],[\"folklore boliviano\"],[\"folklore chileno\"],[\"folklore ecuatoriano\"],[\"folklore peruano\"],[\"folklore venezolano\"],[\"folklore veracruzano\"],[\"folkmusik\"],[\"folktronica\"],[\"footwork\"],[\"forro\"],[\"forro tradicional\"],[\"fort worth indie\"],[\"fourth world\"],[\"francoton\"],[\"freak folk\"],[\"freakbeat\"],[\"free folk\"],[\"free improvisation\"],[\"free jazz\"],[\"freestyle\"],[\"french baroque\"],[\"french classical piano\"],[\"french contemporary classical\"],[\"french death metal\"],[\"french dnb\"],[\"french hip hop\"],[\"french indie folk\"],[\"french indie pop\"],[\"french indietronica\"],[\"french jazz\"],[\"french metal\"],[\"french movie tunes\"],[\"french opera\"],[\"french orchestra\"],[\"french pop\"],[\"french post-punk\"],[\"french psychedelic\"],[\"french reggae\"],[\"french rock\"],[\"french romanticism\"],[\"french shoegaze\"],[\"french soundtrack\"],[\"french synthpop\"],[\"french techno\"],[\"frenchcore\"],[\"full on\"],[\"funana\"],[\"funeral doom\"],[\"funk\"],[\"funk 150 bpm\"],[\"funk carioca\"],[\"funk das antigas\"],[\"funk metal\"],[\"funk mexicano\"],[\"funk ostentacao\"],[\"funk paulista\"],[\"funk pop\"],[\"funk rock\"],[\"funky breaks\"],[\"funky tech house\"],[\"future bass\"],[\"future funk\"],[\"future garage\"],[\"future house\"],[\"future rock\"],[\"futurepop\"],[\"g funk\"],[\"gabba\"],[\"gabonese pop\"],[\"gaian doom\"],[\"gainesville indie\"],[\"gaita zuliana\"],[\"galante era\"],[\"gamelan\"],[\"gaming dubstep\"],[\"gaming edm\"],[\"gangster rap\"],[\"garage house\"],[\"garage pop\"],[\"garage psych\"],[\"garage punk\"],[\"garage punk blues\"],[\"garage rock\"],[\"garage rock revival\"],[\"gauze pop\"],[\"gbvfi\"],[\"geek folk\"],[\"geek rock\"],[\"georgian folk\"],[\"german alternative rock\"],[\"german baroque\"],[\"german choir\"],[\"german classical piano\"],[\"german country\"],[\"german dance\"],[\"german hard rock\"],[\"german heavy metal\"],[\"german house\"],[\"german indie\"],[\"german jazz\"],[\"german literature\"],[\"german metal\"],[\"german oi\"],[\"german opera\"],[\"german orchestra\"],[\"german pop\"],[\"german pop rock\"],[\"german post-hardcore\"],[\"german power metal\"],[\"german punk\"],[\"german renaissance\"],[\"german rock\"],[\"german romanticism\"],[\"german show tunes\"],[\"german soundtrack\"],[\"german techno\"],[\"german thrash metal\"],[\"german trance\"],[\"german underground rap\"],[\"ghanaian hip hop\"],[\"ghanaian traditional\"],[\"ghazal\"],[\"ghent indie\"],[\"girl group\"],[\"glam metal\"],[\"glam punk\"],[\"glam rock\"],[\"glee club\"],[\"glitch\"],[\"glitch hop\"],[\"glitch pop\"],[\"glitchcore\"],[\"go-go\"],[\"goregrind\"],[\"gospel\"],[\"gospel antigas\"],[\"gospel blues\"],[\"gospel italiano\"],[\"gospel r&b\"],[\"gospel rap\"],[\"gospel singers\"],[\"gospel soul\"],[\"gothabilly\"],[\"gothenburg indie\"],[\"gothenburg metal\"],[\"gothic alternative\"],[\"gothic americana\"],[\"gothic black metal\"],[\"gothic metal\"],[\"gothic post-punk\"],[\"gothic rock\"],[\"gothic symphonic metal\"],[\"gqom\"],[\"grand rapids indie\"],[\"grave wave\"],[\"greek clarinet\"],[\"greek contemporary classical\"],[\"greek folk\"],[\"greek guitar\"],[\"greek house\"],[\"greek jazz\"],[\"greek pop\"],[\"greek swing\"],[\"gregorian chant\"],[\"grime\"],[\"grindcore\"],[\"griot\"],[\"groove metal\"],[\"groove room\"],[\"grunge\"],[\"grunge pop\"],[\"grupera\"],[\"gruperas inmortales\"],[\"guadalajara indie\"],[\"guam indie\"],[\"guaracha\"],[\"guatemalan pop\"],[\"guidance\"],[\"guinean pop\"],[\"guitarra argentina\"],[\"guitarra clasica\"],[\"guitarra portuguesa\"],[\"gujarati garba\"],[\"gujarati pop\"],[\"guzheng\"],[\"gymcore\"],[\"gypsy\"],[\"gypsy jazz\"],[\"gypsy punk\"],[\"haitian traditional\"],[\"halifax indie\"],[\"halloween\"],[\"hamburg electronic\"],[\"hammered dulcimer\"],[\"hammond organ\"],[\"hands up\"],[\"hangpan\"],[\"happy hardcore\"],[\"hard alternative\"],[\"hard bop\"],[\"hard minimal techno\"],[\"hard rock\"],[\"hard rock brasileiro\"],[\"hardcore\"],[\"hardcore hip hop\"],[\"hardcore punk\"],[\"hardcore techno\"],[\"hardstyle\"],[\"harlem hip hop\"],[\"harlem renaissance\"],[\"harmonica blues\"],[\"harmonica jazz\"],[\"harp\"],[\"harpsichord\"],[\"haryanvi pop\"],[\"hauntology\"],[\"hawaiian\"],[\"hawaiian hip hop\"],[\"hawaiian indie\"],[\"healing\"],[\"heartland rock\"],[\"hi-nrg\"],[\"highlife\"],[\"hindi hip hop\"],[\"hindi indie\"],[\"hindustani classical\"],[\"hindustani instrumental\"],[\"hindustani vocal\"],[\"hip hop\"],[\"hip hop cubano\"],[\"hip house\"],[\"hip pop\"],[\"hiplife\"],[\"histoire pour enfants\"],[\"historic classical performance\"],[\"historic orchestral performance\"],[\"historic piano performance\"],[\"historic string quartet\"],[\"historical keyboard\"],[\"historically informed performance\"],[\"hoerspiel\"],[\"hokkien pop\"],[\"hollywood\"],[\"hong kong hip hop\"],[\"hong kong indie\"],[\"hong kong rock\"],[\"honky tonk\"],[\"honky-tonk piano\"],[\"hopebeat\"],[\"horror punk\"],[\"horror synth\"],[\"horrorcore\"],[\"house\"],[\"houston rap\"],[\"huapango\"],[\"huayno\"],[\"hula\"],[\"humppa\"],[\"hungarian choir\"],[\"hungarian classical performance\"],[\"hungarian classical piano\"],[\"hungarian contemporary classical\"],[\"hungarian edm\"],[\"hungarian folk\"],[\"hungarian pop\"],[\"hungarian rock\"],[\"hungarian techno\"],[\"hurdy-gurdy\"],[\"hyperpop\"],[\"hyphy\"],[\"icelandic classical\"],[\"icelandic electronic\"],[\"icelandic experimental\"],[\"icelandic folk\"],[\"icelandic indie\"],[\"icelandic jazz\"],[\"icelandic pop\"],[\"icelandic rock\"],[\"idaho indie\"],[\"idol\"],[\"idol rock\"],[\"ilahiler\"],[\"ilocano pop\"],[\"impressionism\"],[\"indian classical\"],[\"indian edm\"],[\"indian folk\"],[\"indian fusion\"],[\"indian indie\"],[\"indian instrumental\"],[\"indian jazz\"],[\"indiana hip hop\"],[\"indie anthem-folk\"],[\"indie cafe pop\"],[\"indie deutschrap\"],[\"indie dream pop\"],[\"indie electronica\"],[\"indie electropop\"],[\"indie folk\"],[\"indie game soundtrack\"],[\"indie garage rock\"],[\"indie hip hop\"],[\"indie jazz\"],[\"indie pop\"],[\"indie pop rap\"],[\"indie poptimism\"],[\"indie psych-pop\"],[\"indie punk\"],[\"indie quebecois\"],[\"indie r&b\"],[\"indie rock\"],[\"indie rock mexicano\"],[\"indie rockism\"],[\"indie shoegaze\"],[\"indie singer-songwriter\"],[\"indie soul\"],[\"indie surf\"],[\"indie triste\"],[\"indiecoustica\"],[\"indietronica\"],[\"indonesian hip hop\"],[\"indonesian indie\"],[\"indonesian pop\"],[\"indonesian r&b\"],[\"indonesian worship\"],[\"industrial\"],[\"industrial hardcore\"],[\"industrial hip hop\"],[\"industrial metal\"],[\"industrial rock\"],[\"indy indie\"],[\"instrumental acoustic guitar\"],[\"instrumental bluegrass\"],[\"instrumental funk\"],[\"instrumental grime\"],[\"instrumental math rock\"],[\"instrumental post-rock\"],[\"instrumental progressive metal\"],[\"instrumental rock\"],[\"instrumental soul\"],[\"instrumental stoner rock\"],[\"instrumental surf\"],[\"intelligent dance music\"],[\"iowa hip hop\"],[\"irish accordion\"],[\"irish ballad\"],[\"irish banjo\"],[\"irish classical\"],[\"irish country\"],[\"irish dance\"],[\"irish fiddle\"],[\"irish folk\"],[\"irish hip hop\"],[\"irish indie\"],[\"irish metal\"],[\"irish pop\"],[\"irish pub song\"],[\"irish rock\"],[\"irish singer-songwriter\"],[\"iskelma\"],[\"islamic recitation\"],[\"isle of wight indie\"],[\"israeli classical\"],[\"israeli classical piano\"],[\"israeli folk\"],[\"israeli hip hop\"],[\"israeli mediterranean\"],[\"israeli pop\"],[\"israeli rock\"],[\"israeli singer-songwriter\"],[\"israeli techno\"],[\"italian adult pop\"],[\"italian baritone\"],[\"italian baroque\"],[\"italian baroque ensemble\"],[\"italian bass\"],[\"italian blues\"],[\"italian classical guitar\"],[\"italian classical piano\"],[\"italian contemporary jazz\"],[\"italian disco\"],[\"italian gothic\"],[\"italian gothic metal\"],[\"italian indie pop\"],[\"italian jazz\"],[\"italian library music\"],[\"italian mandolin\"],[\"italian metal\"],[\"italian mezzo-soprano\"],[\"italian modern prog\"],[\"italian opera\"],[\"italian orchestra\"],[\"italian pop rock\"],[\"italian power metal\"],[\"italian progressive metal\"],[\"italian progressive rock\"],[\"italian renaissance\"],[\"italian romanticism\"],[\"italian soprano\"],[\"italian soundtrack\"],[\"italian techno\"],[\"italian tenor\"],[\"italian violin\"],[\"italo dance\"],[\"italo house\"],[\"j-acoustic\"],[\"j-ambient\"],[\"j-dance\"],[\"j-division\"],[\"j-idol\"],[\"j-metal\"],[\"j-pixie\"],[\"j-pop\"],[\"j-pop girl group\"],[\"j-poprock\"],[\"j-punk\"],[\"j-reggae\"],[\"j-rock\"],[\"jacksonville indie\"],[\"jam band\"],[\"jamgrass\"],[\"jamtronica\"],[\"jangle pop\"],[\"japanese alternative rock\"],[\"japanese chillhop\"],[\"japanese city pop\"],[\"japanese classical\"],[\"japanese classical performance\"],[\"japanese classical piano\"],[\"japanese concert band\"],[\"japanese dream pop\"],[\"japanese electronic\"],[\"japanese electropop\"],[\"japanese emo\"],[\"japanese experimental\"],[\"japanese folk\"],[\"japanese garage rock\"],[\"japanese girl punk\"],[\"japanese heavy metal\"],[\"japanese idm\"],[\"japanese indie folk\"],[\"japanese indie rock\"],[\"japanese instrumental\"],[\"japanese jazz\"],[\"japanese jazz fusion\"],[\"japanese jazztronica\"],[\"japanese metalcore\"],[\"japanese new wave\"],[\"japanese piano\"],[\"japanese pop punk\"],[\"japanese post-hardcore\"],[\"japanese power metal\"],[\"japanese prog\"],[\"japanese psychedelic\"],[\"japanese punk rock\"],[\"japanese r&b\"],[\"japanese rockabilly\"],[\"japanese singer-songwriter\"],[\"japanese soundtrack\"],[\"japanese traditional\"],[\"japanese vgm\"],[\"japanese vocal jazz\"],[\"jawaiian\"],[\"jazz\"],[\"jazz accordion\"],[\"jazz blues\"],[\"jazz boom bap\"],[\"jazz brass\"],[\"jazz chileno\"],[\"jazz clarinet\"],[\"jazz colombiano\"],[\"jazz cubano\"],[\"jazz double bass\"],[\"jazz drums\"],[\"jazz flute\"],[\"jazz funk\"],[\"jazz fusion\"],[\"jazz guitar\"],[\"jazz harp\"],[\"jazz metal\"],[\"jazz mexicano\"],[\"jazz orchestra\"],[\"jazz organ\"],[\"jazz piano\"],[\"jazz pop\"],[\"jazz quartet\"],[\"jazz rap\"],[\"jazz rock\"],[\"jazz saxophone\"],[\"jazz trio\"],[\"jazz trombone\"],[\"jazz trumpet\"],[\"jazz tuba\"],[\"jazz venezolano\"],[\"jazz vibraphone\"],[\"jazz violin\"],[\"jazztronica\"],[\"jewish cantorial\"],[\"jewish hip hop\"],[\"jig and reel\"],[\"jordanian pop\"],[\"joropo\"],[\"jovem guarda\"],[\"jug band\"],[\"juju\"],[\"jump blues\"],[\"jump up\"],[\"k-indie\"],[\"k-pop\"],[\"k-pop boy group\"],[\"k-pop girl group\"],[\"k-rap\"],[\"kabarett\"],[\"kabyle\"],[\"kaneka\"],[\"kannada bhava geethe\"],[\"kansas city hip hop\"],[\"kashmiri pop\"],[\"kawaii future bass\"],[\"kawaii metal\"],[\"kayokyoku\"],[\"kc indie\"],[\"kent indie\"],[\"kentucky hip hop\"],[\"kentucky indie\"],[\"kentucky metal\"],[\"kentucky mountain folk\"],[\"kentucky punk\"],[\"kentucky roots\"],[\"keroncong\"],[\"khaleeji iraqi\"],[\"khmer\"],[\"kids dance party\"],[\"kindie rock\"],[\"kingston on indie\"],[\"kirtan\"],[\"kiwi rock\"],[\"kizomba antigas\"],[\"kleine hoerspiel\"],[\"klezmer\"],[\"knoxville indie\"],[\"kodomo no ongaku\"],[\"kolsche karneval\"],[\"komedi\"],[\"kompa\"],[\"kora\"],[\"korean classical performance\"],[\"korean classical piano\"],[\"korean indie rock\"],[\"korean mask singer\"],[\"korean pop\"],[\"korean r&b\"],[\"korean trap\"],[\"koto\"],[\"krautrock\"],[\"kundiman\"],[\"la indie\"],[\"la pop\"],[\"laboratorio\"],[\"lafayette indie\"],[\"laiko\"],[\"lancashire indie\"],[\"lancaster pa indie\"],[\"late romantic era\"],[\"latin\"],[\"latin afrobeat\"],[\"latin alternative\"],[\"latin american classical piano\"],[\"latin arena pop\"],[\"latin christian\"],[\"latin classical\"],[\"latin funk\"],[\"latin hip hop\"],[\"latin house\"],[\"latin jazz\"],[\"latin metal\"],[\"latin pop\"],[\"latin rock\"],[\"latin ska\"],[\"latin soundtrack\"],[\"latin talent show\"],[\"latin tech house\"],[\"latin viral pop\"],[\"latin worship\"],[\"latincore\"],[\"latino comedy\"],[\"latintronica\"],[\"latinx alternative\"],[\"latvian pop\"],[\"lds\"],[\"lds youth\"],[\"lebanese pop\"],[\"leicester indie\"],[\"lexington ky indie\"],[\"lgbtq+ hip hop\"],[\"library music\"],[\"liedermacher\"],[\"light music\"],[\"lilith\"],[\"liquid funk\"],[\"lithuanian electronic\"],[\"liverpool indie\"],[\"livetronica\"],[\"lldm\"],[\"lo star\"],[\"lo-fi\"],[\"lo-fi beats\"],[\"lo-fi brasileiro\"],[\"lo-fi chill\"],[\"lo-fi cover\"],[\"lo-fi emo\"],[\"lo-fi house\"],[\"lo-fi indie\"],[\"lo-fi vgm\"],[\"london rap\"],[\"louisiana blues\"],[\"louisiana metal\"],[\"louisville indie\"],[\"louisville underground\"],[\"lounge\"],[\"louvor\"],[\"lovers rock\"],[\"lullaby\"],[\"lund indie\"],[\"lute\"],[\"macedonian folk\"],[\"madchester\"],[\"madrigal\"],[\"magyar alternative\"],[\"maine hip hop\"],[\"maine indie\"],[\"mainland chinese pop\"],[\"makossa\"],[\"malaysian mandopop\"],[\"malaysian pop\"],[\"malian blues\"],[\"mallet\"],[\"malmo indie\"],[\"mambo\"],[\"manchester hip hop\"],[\"manchester indie\"],[\"mande pop\"],[\"mandolin\"],[\"mandopop\"],[\"manguebeat\"],[\"manila sound\"],[\"manitoba indie\"],[\"mantra\"],[\"marathi pop\"],[\"marathi traditional\"],[\"marching band\"],[\"mariachi\"],[\"mariachi cristiano\"],[\"marimba orquesta\"],[\"martial industrial\"],[\"mashup\"],[\"math rock\"],[\"mathcore\"],[\"mbalax\"],[\"medieval\"],[\"medieval folk\"],[\"medieval rock\"],[\"meditation\"],[\"melancholia\"],[\"melbourne bounce\"],[\"melbourne bounce international\"],[\"melbourne indie\"],[\"mellow gold\"],[\"melodic death metal\"],[\"melodic deathcore\"],[\"melodic dubstep\"],[\"melodic groove metal\"],[\"melodic hard rock\"],[\"melodic hardcore\"],[\"melodic metal\"],[\"melodic metalcore\"],[\"melodic power metal\"],[\"melodic rap\"],[\"melodic thrash\"],[\"meme rap\"],[\"memphis americana\"],[\"memphis blues\"],[\"memphis hip hop\"],[\"memphis indie\"],[\"memphis soul\"],[\"mento\"],[\"merengue\"],[\"merengue tipico\"],[\"merseybeat\"],[\"messianic praise\"],[\"metal\"],[\"metal guitar\"],[\"metal mineiro\"],[\"metalcore\"],[\"metropopolis\"],[\"mexican classic rock\"],[\"mexican classical\"],[\"mexican hip hop\"],[\"mexican indie\"],[\"mexican pop\"],[\"mexican pop punk\"],[\"mexican rock\"],[\"mexican rock-and-roll\"],[\"mexican son\"],[\"mexican traditional\"],[\"miami bass\"],[\"miami hip hop\"],[\"miami indie\"],[\"miami metal\"],[\"michigan indie\"],[\"microhouse\"],[\"microtonal\"],[\"middle earth\"],[\"middle east hip hop\"],[\"middle eastern traditional\"],[\"midwest americana\"],[\"midwest emo\"],[\"military cadence\"],[\"military rap\"],[\"milwaukee indie\"],[\"mindfulness\"],[\"minecraft\"],[\"minimal melodic techno\"],[\"minimal tech house\"],[\"minimal techno\"],[\"minimal wave\"],[\"minimalism\"],[\"minneapolis indie\"],[\"minneapolis metal\"],[\"minneapolis punk\"],[\"minneapolis sound\"],[\"minnesota hip hop\"],[\"mississippi hip hop\"],[\"mississippi indie\"],[\"mizrahi\"],[\"mod revival\"],[\"modern alternative pop\"],[\"modern alternative rock\"],[\"modern big band\"],[\"modern blues\"],[\"modern blues rock\"],[\"modern bollywood\"],[\"modern country rock\"],[\"modern dream pop\"],[\"modern folk rock\"],[\"modern funk\"],[\"modern hard rock\"],[\"modern indie pop\"],[\"modern jazz piano\"],[\"modern jazz trio\"],[\"modern old-time\"],[\"modern performance\"],[\"modern power pop\"],[\"modern psychedelic folk\"],[\"modern reggae\"],[\"modern rock\"],[\"modern salsa\"],[\"modern ska punk\"],[\"modern southern rock\"],[\"modern string quartet\"],[\"modern swing\"],[\"modern uplift\"],[\"modular synth\"],[\"moldovan pop\"],[\"mollywood\"],[\"mongolian hip hop\"],[\"mongolian pop\"],[\"monterrey indie\"],[\"montreal indie\"],[\"moog\"],[\"moombahton\"],[\"morna\"],[\"motivation\"],[\"motown\"],[\"mountain dulcimer\"],[\"movie tunes\"],[\"mpb\"],[\"music box\"],[\"music hall\"],[\"musica afroperuana\"],[\"musica alagoana\"],[\"musica andina\"],[\"musica andina colombiana\"],[\"musica antigua\"],[\"musica aragonesa\"],[\"musica ayacuchana\"],[\"musica canaria\"],[\"musica costarricense\"],[\"musica costena\"],[\"musica cristiana guatemalteca\"],[\"musica de fondo\"],[\"musica gaucha tradicionalista\"],[\"musica hondurena\"],[\"musica infantil\"],[\"musica jibara\"],[\"musica juiz-forana\"],[\"musica llanera\"],[\"musica nicaraguense\"],[\"musica para criancas\"],[\"musica para ninos\"],[\"musica paraibana\"],[\"musica piemonteisa\"],[\"musica popular colombiana\"],[\"musica popular mineira\"],[\"musica popular paraense\"],[\"musica potosina\"],[\"musica prehispanica\"],[\"musica sarda\"],[\"musica tradicional cubana\"],[\"musica tropical guatemalteca\"],[\"musical advocacy\"],[\"musikkorps\"],[\"musique concrete\"],[\"musique peule\"],[\"musique pour enfant quebecois\"],[\"musique pour enfants\"],[\"musique touareg\"],[\"muzica populara\"],[\"muzika l'yeladim\"],[\"naija worship\"],[\"nantes indie\"],[\"narodna muzika\"],[\"nashville americana\"],[\"nashville hip hop\"],[\"nashville indie\"],[\"nashville singer-songwriter\"],[\"nashville sound\"],[\"native american\"],[\"native american contemporary\"],[\"native american flute\"],[\"native american hip hop\"],[\"native american spiritual\"],[\"navajo\"],[\"nederlandse hardstyle\"],[\"nederpop\"],[\"neo classical metal\"],[\"neo kyma\"],[\"neo mellow\"],[\"neo r&b\"],[\"neo soul\"],[\"neo-classical\"],[\"neo-kraut\"],[\"neo-pagan\"],[\"neo-progressive\"],[\"neo-psychedelic\"],[\"neo-rockabilly\"],[\"neo-singer-songwriter\"],[\"neo-synthpop\"],[\"neo-trad metal\"],[\"neo-traditional bluegrass\"],[\"neo-traditional country\"],[\"neoclassical darkwave\"],[\"neoclassicism\"],[\"neofolk\"],[\"neon pop punk\"],[\"neotango\"],[\"nepali indie\"],[\"nepali pop\"],[\"nerdcore\"],[\"neue deutsche harte\"],[\"neue deutsche todeskunst\"],[\"neue deutsche welle\"],[\"neurofunk\"],[\"new age\"],[\"new age piano\"],[\"new americana\"],[\"new beat\"],[\"new comedy\"],[\"new england americana\"],[\"new england emo\"],[\"new french touch\"],[\"new isolationism\"],[\"new jack swing\"],[\"new jersey hardcore\"],[\"new jersey indie\"],[\"new jersey punk\"],[\"new jersey rap\"],[\"new mexico music\"],[\"new orleans blues\"],[\"new orleans funk\"],[\"new orleans indie\"],[\"new orleans jazz\"],[\"new orleans rap\"],[\"new rave\"],[\"new romantic\"],[\"new tribe\"],[\"new wave\"],[\"new wave of thrash metal\"],[\"new wave pop\"],[\"new weird america\"],[\"new york death metal\"],[\"new york drill\"],[\"new zealand classical\"],[\"newcastle indie\"],[\"newcastle nsw indie\"],[\"nigerian hip hop\"],[\"nigerian pop\"],[\"nightcore\"],[\"nightrun\"],[\"ninja\"],[\"nintendocore\"],[\"nisiotika\"],[\"nl folk\"],[\"no wave\"],[\"noise pop\"],[\"noise punk\"],[\"noise rock\"],[\"nordic classical piano\"],[\"nordic contemporary classical\"],[\"nordic folk\"],[\"nordic house\"],[\"nordic orchestra\"],[\"nordic post-rock\"],[\"nordic soundtrack\"],[\"norman ok indie\"],[\"norsk lovsang\"],[\"norteno\"],[\"norteno-sax\"],[\"north carolina emo\"],[\"north carolina hip hop\"],[\"north carolina indie\"],[\"north carolina metal\"],[\"north carolina roots\"],[\"north east england indie\"],[\"northern irish indie\"],[\"northern irish punk\"],[\"northern soul\"],[\"norwegian black metal\"],[\"norwegian choir\"],[\"norwegian classical\"],[\"norwegian contemporary jazz\"],[\"norwegian death metal\"],[\"norwegian experimental\"],[\"norwegian hip hop\"],[\"norwegian indie\"],[\"norwegian jazz\"],[\"norwegian metal\"],[\"norwegian pop\"],[\"norwegian pop rap\"],[\"norwegian punk rock\"],[\"norwegian rock\"],[\"norwegian singer-songwriter\"],[\"norwegian space disco\"],[\"nottingham indie\"],[\"nouvelle chanson francaise\"],[\"nova canco\"],[\"nova mpb\"],[\"nova musica pernambucana\"],[\"novelty\"],[\"nu age\"],[\"nu disco\"],[\"nu gaze\"],[\"nu jazz\"],[\"nu metal\"],[\"nu skool breaks\"],[\"nu-cumbia\"],[\"nu-metalcore\"],[\"nubian traditional\"],[\"nueva cancion\"],[\"nueva ola chilena\"],[\"nueva ola peruana\"],[\"nuevo flamenco\"],[\"nuevo folklore mexicano\"],[\"nuevo regional mexicano\"],[\"nuevo tango\"],[\"nursery\"],[\"nwobhm\"],[\"nwothm\"],[\"ny roots\"],[\"nyc pop\"],[\"nyc rap\"],[\"nyhc\"],[\"nz christian\"],[\"nz folk\"],[\"nz hardcore\"],[\"nz indie\"],[\"nz pop\"],[\"nz punk\"],[\"nz reggae\"],[\"nz singer-songwriter\"],[\"oakland hip hop\"],[\"oakland indie\"],[\"oc indie\"],[\"oc rap\"],[\"oceania soundtrack\"],[\"ohio hip hop\"],[\"ohio indie\"],[\"oi\"],[\"ok indie\"],[\"okc indie\"],[\"okinawan pop\"],[\"oklahoma country\"],[\"old school dancehall\"],[\"old school hip hop\"],[\"old school rap francais\"],[\"old school thrash\"],[\"old school uk hip hop\"],[\"old west\"],[\"old-time\"],[\"old-time fiddle\"],[\"olympia wa indie\"],[\"omaha indie\"],[\"one-person band\"],[\"ontario indie\"],[\"opera\"],[\"opera chorus\"],[\"opera metal\"],[\"operatic pop\"],[\"operetta\"],[\"opm\"],[\"oratory\"],[\"orchestra\"],[\"orchestral performance\"],[\"orebro indie\"],[\"organic ambient\"],[\"organic electronic\"],[\"organic house\"],[\"orgcore\"],[\"oriental classical\"],[\"orkney and shetland folk\"],[\"orlando indie\"],[\"orquesta tipica\"],[\"orthodox chant\"],[\"oshare kei\"],[\"otacore\"],[\"oth indie\"],[\"ottawa indie\"],[\"ottawa rap\"],[\"oud\"],[\"outer hip hop\"],[\"outlaw country\"],[\"outsider\"],[\"outsider house\"],[\"oxford choir\"],[\"oxford indie\"],[\"p funk\"],[\"pagan black metal\"],[\"pagode\"],[\"pagode baiano\"],[\"paisley underground\"],[\"pakistani folk\"],[\"pakistani hip hop\"],[\"pakistani pop\"],[\"palestinian pop\"],[\"palm desert scene\"],[\"panamanian pop\"],[\"panamanian rock\"],[\"panpipe\"],[\"papuri\"],[\"parody\"],[\"partido alto\"],[\"partyschlager\"],[\"pei indie\"],[\"permanent wave\"],[\"perreo\"],[\"persian pop\"],[\"persian traditional\"],[\"perth indie\"],[\"peruvian hip hop\"],[\"peruvian rock\"],[\"pet calming\"],[\"philly indie\"],[\"philly rap\"],[\"philly soul\"],[\"phoenix indie\"],[\"phonk\"],[\"pianissimo\"],[\"piano blues\"],[\"piano cover\"],[\"piano mpb\"],[\"piano rock\"],[\"pibroch\"],[\"piedmont blues\"],[\"pinoy hip hop\"],[\"pinoy indie\"],[\"pinoy pop punk\"],[\"pinoy praise\"],[\"pinoy r&b\"],[\"pinoy reggae\"],[\"pinoy rock\"],[\"pinoy traditional\"],[\"pinoy trap\"],[\"pirate\"],[\"pittsburgh indie\"],[\"pittsburgh rap\"],[\"pittsburgh rock\"],[\"pixie\"],[\"plunderphonics\"],[\"poetry\"],[\"polca paraguaya\"],[\"polish blues\"],[\"polish classical\"],[\"polish classical piano\"],[\"polish contemporary classical\"],[\"polish jazz\"],[\"polish modern jazz\"],[\"polish pop\"],[\"polish post-rock\"],[\"polish reggae\"],[\"polish rock\"],[\"political hip hop\"],[\"polka\"],[\"polynesian hip hop\"],[\"polynesian pop\"],[\"polyphony\"],[\"pony\"],[\"pop\"],[\"pop argentino\"],[\"pop chileno\"],[\"pop dance\"],[\"pop edm\"],[\"pop electronico\"],[\"pop emo\"],[\"pop flamenco\"],[\"pop folk\"],[\"pop house\"],[\"pop nacional\"],[\"pop nacional antigas\"],[\"pop peruano\"],[\"pop punk\"],[\"pop quebecois\"],[\"pop r&b\"],[\"pop rap\"],[\"pop reggaeton\"],[\"pop rock\"],[\"pop rock brasileiro\"],[\"pop romantico\"],[\"pop soul\"],[\"pop venezolano\"],[\"pop violin\"],[\"popgaze\"],[\"popping\"],[\"pops orchestra\"],[\"popwave\"],[\"pornogrind\"],[\"porro\"],[\"portland hip hop\"],[\"portland indie\"],[\"portland metal\"],[\"portland punk\"],[\"portuguese early music\"],[\"post-disco\"],[\"post-disco soul\"],[\"post-doom metal\"],[\"post-grunge\"],[\"post-hardcore\"],[\"post-metal\"],[\"post-minimalism\"],[\"post-post-hardcore\"],[\"post-punk\"],[\"post-punk argentina\"],[\"post-rock\"],[\"post-romantic era\"],[\"post-screamo\"],[\"post-teen pop\"],[\"power metal\"],[\"power pop\"],[\"power thrash\"],[\"power-pop punk\"],[\"praise\"],[\"prepared piano\"],[\"preschool children's music\"],[\"prog quebec\"],[\"progressive alternative\"],[\"progressive bluegrass\"],[\"progressive deathcore\"],[\"progressive electro house\"],[\"progressive groove metal\"],[\"progressive house\"],[\"progressive jazz fusion\"],[\"progressive metal\"],[\"progressive metalcore\"],[\"progressive post-hardcore\"],[\"progressive power metal\"],[\"progressive psytrance\"],[\"progressive rock\"],[\"progressive sludge\"],[\"progressive trance\"],[\"progressive trance house\"],[\"progressive uplifting trance\"],[\"proto-rap\"],[\"proto-techno\"],[\"protopunk\"],[\"psalmen\"],[\"psicodelia brasileira\"],[\"psybass\"],[\"psychedelic blues-rock\"],[\"psychedelic doom\"],[\"psychedelic folk\"],[\"psychedelic folk rock\"],[\"psychedelic hip hop\"],[\"psychedelic pop\"],[\"psychedelic punk\"],[\"psychedelic rock\"],[\"psychedelic soul\"],[\"psychedelic trance\"],[\"psychill\"],[\"psychobilly\"],[\"pub rock\"],[\"puerto rican folk\"],[\"puerto rican pop\"],[\"puerto rican rock\"],[\"punjabi folk\"],[\"punjabi hip hop\"],[\"punjabi pop\"],[\"punk\"],[\"punk 'n' roll\"],[\"punk blues\"],[\"punk rock italiano\"],[\"punk rock mexicano\"],[\"punta\"],[\"purple sound\"],[\"qawwali\"],[\"quartetto d'archi\"],[\"quatuor a cordes\"],[\"quebec death metal\"],[\"quebec indie\"],[\"queens hip hop\"],[\"queer country\"],[\"queercore\"],[\"quiet storm\"],[\"quran\"],[\"r&b\"],[\"r&b en espanol\"],[\"rabindra sangeet\"],[\"radio symphony\"],[\"ragtime\"],[\"rai\"],[\"ranchera\"],[\"rap\"],[\"rap chileno\"],[\"rap conciencia\"],[\"rap conscient\"],[\"rap cristiano\"],[\"rap dominicano\"],[\"rap kreyol\"],[\"rap latina\"],[\"rap metal\"],[\"rap nacional antigo\"],[\"rap napoletano\"],[\"rap rock\"],[\"rap underground mexicano\"],[\"rare groove\"],[\"rave\"],[\"rawstyle\"],[\"reading\"],[\"reading indie\"],[\"rebel blues\"],[\"rebetiko\"],[\"recorder\"],[\"red dirt\"],[\"redneck\"],[\"reggae\"],[\"reggae en espanol\"],[\"reggae fusion\"],[\"reggae rock\"],[\"reggaeton\"],[\"reggaeton colombiano\"],[\"reggaeton cristiano\"],[\"reggaeton flow\"],[\"reggaeton mexicano\"],[\"regional mexican\"],[\"relaxative\"],[\"renaissance\"],[\"rennes indie\"],[\"retro metal\"],[\"retro soul\"],[\"rhode island indie\"],[\"rhode island rap\"],[\"rhythm and blues\"],[\"riddim\"],[\"rif\"],[\"riot grrrl\"],[\"ritmo kombina\"],[\"rochester mn indie\"],[\"rochester ny indie\"],[\"rock\"],[\"rock alternatif francais\"],[\"rock alternativo brasileiro\"],[\"rock andaluz\"],[\"rock baiano\"],[\"rock brasiliense\"],[\"rock chapin\"],[\"rock cristiano\"],[\"rock drums\"],[\"rock en espanol\"],[\"rock gaucho\"],[\"rock independant francais\"],[\"rock kapak\"],[\"rock keyboard\"],[\"rock nacional\"],[\"rock nacional brasileiro\"],[\"rock pernambucano\"],[\"rock progressif francais\"],[\"rock steady\"],[\"rock urbano mexicano\"],[\"rock-and-roll\"],[\"rockabilly\"],[\"rockabilly en espanol\"],[\"roda de samba\"],[\"romanian classical piano\"],[\"romanian electronic\"],[\"romanian folk\"],[\"romanian pop\"],[\"romanian rock\"],[\"romantico\"],[\"roots americana\"],[\"roots reggae\"],[\"roots rock\"],[\"roots worship\"],[\"rosary\"],[\"rumba\"],[\"rumba congolaise\"],[\"rune folk\"],[\"russian alternative rock\"],[\"russian ccm\"],[\"russian chanson\"],[\"russian choir\"],[\"russian classical piano\"],[\"russian dance\"],[\"russian edm\"],[\"russian folk\"],[\"russian folk rock\"],[\"russian jazz\"],[\"russian metal\"],[\"russian metalcore\"],[\"russian modern classical\"],[\"russian orchestra\"],[\"russian pop\"],[\"russian post-punk\"],[\"russian punk\"],[\"russian rock\"],[\"russian romanticism\"],[\"russian shoegaze\"],[\"russian trance\"],[\"rva indie\"],[\"rwandan traditional\"],[\"ryukyu ongaku\"],[\"sacramento hip hop\"],[\"sacramento indie\"],[\"sacred steel\"],[\"sad rap\"],[\"salsa\"],[\"salsa choke\"],[\"salsa colombiana\"],[\"salsa cubana\"],[\"salsa international\"],[\"salsa peruana\"],[\"salsa puertorriquena\"],[\"salsa venezolana\"],[\"samba\"],[\"samba de roda\"],[\"samba moderno\"],[\"samba-enredo\"],[\"samba-jazz\"],[\"samba-rock\"],[\"san antonio rap\"],[\"san diego indie\"],[\"san diego rap\"],[\"san marcos tx indie\"],[\"sandalwood\"],[\"sarod\"],[\"saskatchewan indie\"],[\"scam rap\"],[\"scandinavian r&b\"],[\"scandipop\"],[\"schlager\"],[\"scorecore\"],[\"scottish electronic\"],[\"scottish fiddle\"],[\"scottish folk\"],[\"scottish hip hop\"],[\"scottish indie\"],[\"scottish jazz\"],[\"scottish metal\"],[\"scottish new wave\"],[\"scottish rock\"],[\"scottish singer-songwriter\"],[\"scratch\"],[\"scream rap\"],[\"screamo\"],[\"seattle hip hop\"],[\"seattle indie\"],[\"second line\"],[\"sefardi\"],[\"serbian electronic\"],[\"serialism\"],[\"sertanejo\"],[\"sertanejo pop\"],[\"sertanejo tradicional\"],[\"sertanejo universitario\"],[\"sevdah\"],[\"sevillanas\"],[\"shaabi\"],[\"shabad\"],[\"shakuhachi\"],[\"shamanic\"],[\"shanty\"],[\"sheffield indie\"],[\"shibuya-kei\"],[\"shimmer pop\"],[\"shimmer psych\"],[\"shiver pop\"],[\"shoegaze\"],[\"show tunes\"],[\"shred\"],[\"shush\"],[\"sierreno\"],[\"singaporean mandopop\"],[\"singaporean pop\"],[\"singaporean singer-songwriter\"],[\"singer-songwriter\"],[\"singing bowl\"],[\"sitar\"],[\"ska\"],[\"ska argentino\"],[\"ska chileno\"],[\"ska jazz\"],[\"ska mexicano\"],[\"ska punk\"],[\"ska revival\"],[\"skate punk\"],[\"skiffle\"],[\"skramz\"],[\"sky room\"],[\"slack-key guitar\"],[\"slam poetry\"],[\"slamming deathcore\"],[\"slavic folk metal\"],[\"slayer\"],[\"slc indie\"],[\"sleaze rock\"],[\"sleep\"],[\"slovak electronic\"],[\"slovenian electronic\"],[\"slovenian metal\"],[\"slow game\"],[\"slowcore\"],[\"sludge metal\"],[\"small room\"],[\"smooth jazz\"],[\"smooth saxophone\"],[\"smooth soul\"],[\"soca\"],[\"socal pop punk\"],[\"social media pop\"],[\"soda pop\"],[\"soft rock\"],[\"solipsynthm\"],[\"son cubano\"],[\"son cubano clasico\"],[\"son jarocho\"],[\"sophisti-pop\"],[\"sotalaulut\"],[\"soukous\"],[\"soul\"],[\"soul blues\"],[\"soul flow\"],[\"soul jazz\"],[\"souldies\"],[\"sound\"],[\"sound art\"],[\"sound effects\"],[\"sound team\"],[\"soundtrack\"],[\"south african alternative\"],[\"south african choral\"],[\"south african country\"],[\"south african hip hop\"],[\"south african house\"],[\"south african jazz\"],[\"south african pop\"],[\"south african pop dance\"],[\"south african rock\"],[\"south carolina hip hop\"],[\"south carolina indie\"],[\"south carolina metal\"],[\"south dakota indie\"],[\"southampton indie\"],[\"southern americana\"],[\"southern gospel\"],[\"southern hip hop\"],[\"southern metal\"],[\"southern rock\"],[\"southern soul\"],[\"southern soul blues\"],[\"soviet synthpop\"],[\"sovietwave\"],[\"spa\"],[\"space age pop\"],[\"space ambient\"],[\"space rock\"],[\"spanish baroque\"],[\"spanish classical\"],[\"spanish classical piano\"],[\"spanish folk metal\"],[\"spanish hip hop\"],[\"spanish indie pop\"],[\"spanish invasion\"],[\"spanish metal\"],[\"spanish modern rock\"],[\"spanish new wave\"],[\"spanish noise pop\"],[\"spanish pop\"],[\"spanish pop rock\"],[\"spanish renaissance\"],[\"spanish rock\"],[\"spanish synthpop\"],[\"spanish techno\"],[\"speed garage\"],[\"speed metal\"],[\"speedcore\"],[\"spiritual hip hop\"],[\"spiritual jazz\"],[\"spirituals\"],[\"springfield mo indie\"],[\"spytrack\"],[\"st louis rap\"],[\"steampunk\"],[\"steel guitar\"],[\"steelpan\"],[\"stl indie\"],[\"stomp and flutter\"],[\"stomp and holler\"],[\"stomp and whittle\"],[\"stomp pop\"],[\"stoner metal\"],[\"stoner rock\"],[\"straight edge\"],[\"straight-ahead jazz\"],[\"street band\"],[\"street punk\"],[\"streichquartett\"],[\"stride\"],[\"string band\"],[\"string folk\"],[\"string orchestra\"],[\"string quartet\"],[\"strut\"],[\"substep\"],[\"sudanese pop\"],[\"sufi\"],[\"sufi chant\"],[\"sunshine pop\"],[\"supergroup\"],[\"surf music\"],[\"surf punk\"],[\"svensk progg\"],[\"swamp blues\"],[\"swamp pop\"],[\"swamp rock\"],[\"swancore\"],[\"swedish alternative rock\"],[\"swedish americana\"],[\"swedish black metal\"],[\"swedish choir\"],[\"swedish country\"],[\"swedish dancehall\"],[\"swedish death metal\"],[\"swedish doom metal\"],[\"swedish electronic\"],[\"swedish electropop\"],[\"swedish eurodance\"],[\"swedish garage rock\"],[\"swedish hard rock\"],[\"swedish hardcore\"],[\"swedish heavy metal\"],[\"swedish house\"],[\"swedish idol pop\"],[\"swedish indie folk\"],[\"swedish indie pop\"],[\"swedish indie rock\"],[\"swedish jazz\"],[\"swedish jazz orkester\"],[\"swedish melodic rock\"],[\"swedish metal\"],[\"swedish metalcore\"],[\"swedish pop\"],[\"swedish post-hardcore\"],[\"swedish power metal\"],[\"swedish prog\"],[\"swedish progressive metal\"],[\"swedish rock-and-roll\"],[\"swedish singer-songwriter\"],[\"swedish soul\"],[\"swedish stoner rock\"],[\"swedish synth\"],[\"swedish synthpop\"],[\"swedish tropical house\"],[\"swedish underground rap\"],[\"swing\"],[\"swing italiano\"],[\"swing revival\"],[\"swiss black metal\"],[\"swiss classical piano\"],[\"swiss country\"],[\"swiss metal\"],[\"swiss pop\"],[\"swiss rock\"],[\"swiss worship\"],[\"sydney indie\"],[\"symphonic black metal\"],[\"symphonic metal\"],[\"symphonic rock\"],[\"synth funk\"],[\"synthpop\"],[\"synthwave\"],[\"syrian pop\"],[\"tabla\"],[\"tagalog rap\"],[\"tagalog worship\"],[\"taiwan campus folk\"],[\"taiwan classical performance\"],[\"taiwan hip hop\"],[\"taiwan indie\"],[\"taiwan pop\"],[\"taiwan singer-songwriter\"],[\"tajik pop\"],[\"talent show\"],[\"tamaulipas indie\"],[\"tamaulipas rap\"],[\"tamborazo\"],[\"tamil hip hop\"],[\"tamil pop\"],[\"tamil worship\"],[\"tampa indie\"],[\"tango\"],[\"tango cancion\"],[\"tape club\"],[\"tech house\"],[\"technical death metal\"],[\"technical deathcore\"],[\"technical groove metal\"],[\"technical melodic death metal\"],[\"technical thrash\"],[\"techno\"],[\"techno kayo\"],[\"tecnobanda\"],[\"teen pop\"],[\"tejano\"],[\"tempe indie\"],[\"tennessee hip hop\"],[\"tennessee metal\"],[\"tex-mex\"],[\"texas blues\"],[\"texas country\"],[\"texas latin rap\"],[\"texas pop punk\"],[\"texas punk\"],[\"thai folk\"],[\"thai folk rock\"],[\"thai idol\"],[\"thai indie rock\"],[\"thai pop\"],[\"thall\"],[\"theme\"],[\"theremin\"],[\"thrash core\"],[\"thrash metal\"],[\"timba\"],[\"tin pan alley\"],[\"tipico\"],[\"tolkien metal\"],[\"tollywood\"],[\"tone\"],[\"torch song\"],[\"toronto indie\"],[\"toronto rap\"],[\"trad jazz catala\"],[\"traditional bluegrass\"],[\"traditional blues\"],[\"traditional british folk\"],[\"traditional country\"],[\"traditional folk\"],[\"traditional funk\"],[\"traditional rockabilly\"],[\"traditional ska\"],[\"traditional soul\"],[\"trance\"],[\"trance mexicano\"],[\"trancecore\"],[\"transpop\"],[\"trap\"],[\"trap argentino\"],[\"trap chileno\"],[\"trap dominicano\"],[\"trap latino\"],[\"trap mexicano\"],[\"trap queen\"],[\"trap soul\"],[\"trap triste\"],[\"trap venezolano\"],[\"traprun\"],[\"trash rock\"],[\"triangle indie\"],[\"tribal house\"],[\"trinidadian reggae\"],[\"trio cubano\"],[\"trip hop\"],[\"trival\"],[\"tropical\"],[\"tropical house\"],[\"tropicalia\"],[\"trova\"],[\"trova mexicana\"],[\"truck-driving country\"],[\"tuareg guitar\"],[\"tucson indie\"],[\"tulsa indie\"],[\"tuna estudiantil\"],[\"tunisian pop\"],[\"turbo folk\"],[\"turkish classical\"],[\"turkish classical performance\"],[\"turkish edm\"],[\"turkish experimental\"],[\"turkish folk\"],[\"turkish jazz\"],[\"turkish modern jazz\"],[\"turkish pop\"],[\"turkish psych\"],[\"turkish trap\"],[\"turkish trap pop\"],[\"turntablism\"],[\"twee pop\"],[\"twoubadou\"],[\"tzadik\"],[\"ugandan pop\"],[\"uilleann pipes\"],[\"uk alternative hip hop\"],[\"uk alternative pop\"],[\"uk americana\"],[\"uk contemporary jazz\"],[\"uk contemporary r&b\"],[\"uk dance\"],[\"uk dancehall\"],[\"uk diy punk\"],[\"uk dnb\"],[\"uk doom metal\"],[\"uk dub\"],[\"uk experimental electronic\"],[\"uk funky\"],[\"uk garage\"],[\"uk hip hop\"],[\"uk house\"],[\"uk metalcore\"],[\"uk noise rock\"],[\"uk pop\"],[\"uk pop punk\"],[\"uk post-hardcore\"],[\"uk post-punk\"],[\"uk reggae\"],[\"uk rockabilly\"],[\"uk stoner rock\"],[\"uk worship\"],[\"uk82\"],[\"ukrainian choir\"],[\"ukrainian classical\"],[\"ukrainian classical piano\"],[\"ukrainian electronic\"],[\"ukrainian pop\"],[\"ukulele\"],[\"umbanda\"],[\"underground hip hop\"],[\"underground power pop\"],[\"underground rap\"],[\"university choir\"],[\"uplifting trance\"],[\"uptempo hardcore\"],[\"urban contemporary\"],[\"urbano espanol\"],[\"us power metal\"],[\"utah indie\"],[\"uzbek pop\"],[\"uzbek traditional\"],[\"v-pop\"],[\"vallenato\"],[\"vallenato moderno\"],[\"vancouver indie\"],[\"vancouver metal\"],[\"vancouver punk\"],[\"vapor pop\"],[\"vapor soul\"],[\"vapor trap\"],[\"vapor twitch\"],[\"vaporwave\"],[\"variete francaise\"],[\"vaudeville\"],[\"vbs\"],[\"veena\"],[\"vegan straight edge\"],[\"vegas indie\"],[\"velha guarda\"],[\"venezuelan hip hop\"],[\"venezuelan indie\"],[\"venezuelan rock\"],[\"veracruz indie\"],[\"vermont indie\"],[\"vgm instrumental\"],[\"vgm remix\"],[\"victoria bc indie\"],[\"victorian britain\"],[\"video game music\"],[\"vienna indie\"],[\"vietnamese bolero\"],[\"vietnamese pop\"],[\"viking black metal\"],[\"viking folk\"],[\"viking metal\"],[\"villancicos\"],[\"vintage chanson\"],[\"vintage chinese pop\"],[\"vintage classical singing\"],[\"vintage country folk\"],[\"vintage dutch pop\"],[\"vintage french electronic\"],[\"vintage gospel\"],[\"vintage hollywood\"],[\"vintage italian pop\"],[\"vintage italian soundtrack\"],[\"vintage jazz\"],[\"vintage old-time\"],[\"vintage rockabilly\"],[\"vintage schlager\"],[\"vintage spanish pop\"],[\"vintage swedish pop\"],[\"vintage swing\"],[\"vintage tango\"],[\"viola\"],[\"violao\"],[\"violao classico\"],[\"violin\"],[\"viral pop\"],[\"viral rap\"],[\"viral trap\"],[\"virgin islands reggae\"],[\"virginia hip hop\"],[\"virginia metal\"],[\"virginia punk\"],[\"visor\"],[\"visual kei\"],[\"vocal ensemble\"],[\"vocal harmony group\"],[\"vocal house\"],[\"vocal jazz\"],[\"vocal trance\"],[\"vocaloid\"],[\"vogue\"],[\"volksmusik\"],[\"warm drone\"],[\"washboard\"],[\"washington indie\"],[\"wassoulou\"],[\"water\"],[\"wave\"],[\"welsh folk\"],[\"welsh indie\"],[\"welsh metal\"],[\"welsh rock\"],[\"west african jazz\"],[\"west australian hip hop\"],[\"west coast rap\"],[\"west coast reggae\"],[\"west coast trap\"],[\"west end\"],[\"west virginia indie\"],[\"western americana\"],[\"western mass indie\"],[\"western saharan folk\"],[\"western swing\"],[\"white noise\"],[\"wind ensemble\"],[\"wind quintet\"],[\"wisconsin indie\"],[\"witch house\"],[\"women's choir\"],[\"women's music\"],[\"wonky\"],[\"worcester ma indie\"],[\"world\"],[\"world fusion\"],[\"world meditation\"],[\"world worship\"],[\"worship\"],[\"wrestling\"],[\"wu fam\"],[\"wyoming indie\"],[\"wyoming roots\"],[\"xhosa\"],[\"xtra raw\"],[\"yacht rock\"],[\"ye ye\"],[\"yiddish folk\"],[\"yodeling\"],[\"yoga\"],[\"yoik\"],[\"york indie\"],[\"yorkshire folk\"],[\"yugoslav new wave\"],[\"yugoslav rock\"],[\"zambian pop\"],[\"zeuhl\"],[\"zhongguo feng\"],[\"zimdancehall\"],[\"zolo\"],[\"zouglou\"],[\"zouk\"],[\"zurich indie\"],[\"zydeco\"]],\"hovertemplate\":\"x=%{x}<br>y=%{y}<br>genres=%{customdata[0]}<br>cluster=%{marker.color}<extra></extra>\",\"legendgroup\":\"\",\"marker\":{\"color\":[5,3,2,0,7,5,2,1,4,0,4,1,2,5,0,7,2,7,4,7,7,0,2,0,4,2,2,5,4,2,2,4,1,1,2,4,2,4,1,2,8,1,2,4,0,1,4,2,2,8,1,7,7,1,8,1,1,8,2,2,8,2,4,5,8,7,4,8,1,5,4,7,5,5,5,5,5,0,8,0,4,5,7,5,5,8,4,8,5,0,1,1,8,7,7,8,8,7,0,1,0,0,4,4,7,6,5,4,2,2,1,7,1,2,2,2,2,8,2,4,7,5,7,2,7,5,1,1,1,5,2,1,1,2,1,2,5,8,1,6,4,6,1,0,4,2,2,2,7,1,5,2,5,5,5,1,4,4,2,2,1,2,7,1,1,8,8,1,2,8,1,7,4,2,2,8,2,1,1,5,5,5,4,0,4,6,8,5,0,8,2,7,4,2,2,2,5,7,0,7,0,4,0,7,0,1,7,5,5,0,5,1,8,2,2,1,0,0,0,0,0,5,2,0,7,6,5,5,5,5,2,5,5,4,1,7,2,1,4,1,2,1,1,4,2,2,4,0,1,0,2,2,0,2,2,1,8,8,5,5,4,4,1,2,4,0,8,4,4,4,4,2,0,2,2,1,5,0,1,5,0,2,4,5,6,4,2,8,4,8,9,8,8,8,8,7,4,7,0,2,1,4,8,2,1,7,0,1,4,0,4,4,7,4,7,2,2,2,8,8,1,2,8,0,7,1,1,5,5,5,7,5,5,2,5,5,5,2,8,2,2,0,8,7,0,1,2,2,8,4,8,8,2,7,5,2,7,1,4,8,2,2,8,2,2,5,5,2,5,0,8,1,7,8,1,1,2,7,5,5,7,8,7,2,5,2,7,2,1,1,2,1,8,2,8,1,2,2,4,4,8,3,0,7,7,8,0,2,4,1,5,0,1,5,4,2,7,2,1,2,0,5,5,5,7,2,7,7,1,4,5,7,8,1,6,2,7,7,4,2,8,8,4,1,8,8,5,7,8,2,4,7,5,7,2,2,2,7,7,7,7,0,0,8,7,2,1,0,0,0,2,5,5,5,2,1,7,7,5,4,2,2,0,5,7,5,5,7,5,7,7,2,2,7,7,4,8,0,4,1,2,7,0,1,4,4,1,8,8,1,2,8,1,4,2,7,1,1,9,2,4,4,1,8,5,0,8,2,2,2,8,2,7,5,5,5,4,7,4,7,8,5,7,7,5,5,7,2,5,0,7,0,7,2,4,8,1,1,1,8,8,1,1,8,1,5,8,1,7,5,7,2,2,1,8,2,4,1,0,7,2,4,0,1,7,4,7,0,0,8,0,4,4,2,2,4,4,6,8,4,7,0,7,8,7,7,0,7,2,7,0,4,2,4,7,8,2,2,0,8,7,2,5,1,8,1,4,2,2,5,7,5,5,5,5,5,5,5,5,5,5,5,7,5,5,5,5,5,5,5,7,5,5,5,7,0,9,8,2,2,4,1,2,1,2,9,2,1,2,1,6,8,5,4,6,8,2,1,5,5,5,2,7,1,5,0,7,5,0,0,0,8,2,2,4,8,7,5,2,0,0,2,0,2,2,2,2,0,0,2,2,0,2,2,8,1,8,2,2,4,0,2,2,2,2,2,4,4,2,2,7,2,0,2,4,2,2,8,1,0,5,5,0,8,0,4,1,2,2,2,1,8,8,5,8,5,4,5,8,4,6,8,2,1,8,0,8,0,2,2,1,4,8,5,8,8,8,1,1,8,8,8,4,8,8,8,2,8,8,8,4,2,0,4,8,7,1,9,2,1,0,4,1,8,4,2,1,7,2,8,1,4,8,2,2,5,0,8,7,4,8,1,0,7,1,2,0,7,6,8,1,8,2,2,4,2,4,5,2,2,0,2,4,4,4,1,8,0,1,2,1,1,1,4,7,4,2,2,1,1,6,4,0,4,7,1,0,4,5,1,1,2,4,7,2,0,8,8,4,2,1,7,8,8,7,0,7,8,8,8,5,1,7,5,5,8,8,2,8,4,5,8,8,5,2,7,1,8,2,1,4,9,5,8,8,2,0,2,1,7,6,8,4,4,4,2,4,2,0,9,5,5,5,5,2,5,1,8,1,2,1,0,2,7,8,5,7,2,2,1,4,0,4,2,7,2,2,2,2,2,2,8,7,2,2,8,4,1,2,4,2,2,8,8,8,1,8,5,4,5,4,0,6,8,4,0,1,5,8,0,2,7,4,7,5,0,6,1,4,1,4,2,2,4,0,7,5,5,4,6,5,2,4,8,7,7,7,7,0,7,7,8,4,0,1,1,1,5,4,5,5,8,4,1,1,8,4,1,2,4,5,1,7,8,2,7,7,5,2,8,4,1,0,4,0,0,1,7,8,1,7,7,1,7,4,0,0,2,2,2,5,7,1,2,2,8,5,2,7,2,2,5,0,2,0,5,7,8,8,1,7,2,1,0,8,4,5,5,7,4,8,2,2,5,8,0,2,4,8,8,4,8,2,0,4,4,8,1,4,1,4,2,4,8,1,2,4,1,8,2,1,8,1,8,1,2,0,5,8,4,1,2,8,8,8,8,8,2,4,2,7,2,1,8,5,5,5,7,4,4,8,4,1,5,9,4,8,5,5,2,1,2,8,2,5,1,5,5,5,2,8,2,1,4,9,0,4,2,8,8,2,2,8,8,1,2,4,8,1,0,0,9,1,6,0,2,8,1,8,4,2,8,4,4,8,4,2,1,8,0,5,0,0,6,0,4,0,0,2,8,4,8,2,8,8,2,2,4,4,2,7,9,4,0,5,0,6,7,5,1,0,0,2,0,8,2,4,5,1,2,5,8,8,0,8,8,2,8,1,8,8,8,2,0,0,0,5,5,0,5,0,1,1,5,2,2,2,2,4,0,5,0,1,2,2,1,4,3,5,5,5,5,5,5,9,6,7,4,7,7,0,0,2,8,7,4,2,1,2,2,0,4,5,5,5,5,4,9,0,0,4,7,2,1,5,4,5,7,7,1,7,7,7,7,8,0,0,5,0,4,1,5,2,0,4,1,7,1,4,7,7,2,7,2,1,2,7,2,1,2,7,1,7,2,2,8,2,8,1,2,1,7,7,2,1,8,4,2,5,1,4,2,1,1,7,7,0,1,4,8,8,8,8,7,8,8,7,6,1,0,6,0,7,7,0,0,2,5,4,2,0,1,7,4,0,7,0,5,0,2,8,1,7,7,1,2,0,5,5,0,8,5,5,7,4,4,4,1,5,4,0,4,0,8,5,5,7,4,0,8,5,0,5,5,8,0,7,2,4,6,5,2,8,1,8,8,2,2,1,8,4,8,8,2,2,4,2,2,2,2,5,5,5,5,2,5,2,8,7,1,6,8,4,5,7,2,7,7,2,8,8,4,8,8,8,8,8,8,1,4,6,2,4,5,7,1,2,0,0,0,2,0,0,0,4,0,5,0,7,7,7,0,0,8,5,0,0,0,7,0,2,8,0,5,0,0,0,0,0,0,2,5,4,6,4,2,2,0,4,0,8,1,2,4,4,1,0,7,2,0,1,0,1,8,7,7,7,2,7,4,0,4,2,0,6,1,2,1,2,5,2,1,9,0,1,5,0,5,4,5,5,5,4,1,2,1,1,5,5,1,2,2,5,4,4,4,7,5,2,2,2,5,1,7,0,2,1,2,2,8,1,2,2,5,2,6,1,7,2,9,2,1,0,5,7,4,8,2,2,0,6,5,7,8,1,7,2,7,1,7,7,2,7,7,7,7,7,4,2,0,8,1,8,0,7,2,5,7,5,0,2,5,9,6,7,7,2,7,4,7,5,8,0,2,8,7,7,7,2,7,7,0,1,0,0,1,7,2,4,2,7,4,4,5,7,8,5,7,1,2,1,2,8,8,8,8,8,8,4,8,8,1,8,1,7,0,4,4,1,0,2,2,2,7,8,8,8,8,1,2,5,2,1,2,2,2,7,6,2,2,1,2,4,1,7,3,5,6,6,4,8,0,2,7,6,7,8,2,7,8,5,2,8,8,2,2,1,2,5,8,4,1,8,2,2,2,2,1,2,1,2,1,5,5,2,5,8,4,4,2,4,2,2,5,8,2,6,1,0,6,6,4,2,5,1,7,9,1,0,7,7,0,0,4,2,4,1,5,4,2,2,7,1,7,5,0,1,1,2,2,2,4,1,7,6,0,2,4,1,2,0,4,0,6,7,0,4,4,2,3,7,0,0,6,6,4,7,2,2,7,0,5,2,5,2,5,0,8,2,8,0,1,4,2,5,0,7,7,2,2,7,2,8,7,6,7,5,4,1,4,0,0,1,1,4,2,8,5,5,7,4,9,7,1,1,5,2,8,2,8,2,2,0,2,2,0,2,2,2,7,2,8,2,7,8,2,5,8,2,4,2,8,4,1,4,0,2,2,8,6,8,5,6,4,4,5,8,5,0,8,2,2,8,2,7,8,7,8,1,8,1,8,5,5,5,8,5,4,2,5,8,4,4,8,8,4,6,4,1,7,7,2,2,5,1,8,2,1,8,1,8,0,7,7,2,7,0,2,0,7,8,8,1,2,1,8,5,7,8,7,1,8,1,7,2,2,8,2,5,1,2,8,4,4,2,7,2,2,1,8,2,4,0,0,1,8,2,2,5,0,8,7,0,7,3,5,5,8,5,6,6,8,0,0,4,0,5,2,1,2,4,1,0,4,2,7,5,5,8,2,8,2,4,2,0,4,0,6,1,2,2,5,7,2,1,1,7,2,1,7,4,4,2,2,6,1,2,1,2,1,1,0,5,4,2,5,0,2,2,1,8,0,7,7,4,2,2,2,1,1,8,8,9,5,4,5,5,5,6,5,4,8,7,4,1,0,4,2,5,4,1,2,7,2,2,4,8,1,7,4,4,7,1,1,1,2,1,2,2,2,7,1,1,7,2,2,5,2,7,4,2,2,8,7,5,2,2,8,8,8,8,5,8,2,2,5,5,8,2,8,1,8,8,1,5,2,7,1,7,8,8,8,4,8,8,1,8,8,8,7,8,4,8,8,4,1,2,0,7,6,8,8,7,7,1,2,8,1,1,8,8,8,2,1,2,6,0,4,4,8,8,8,8,8,1,2,7,0,5,8,7,1,2,2,2,0,1,2,0,5,0,7,1,1,2,1,2,1,2,1,1,8,4,0,1,2,2,8,8,9,8,4,0,7,2,2,2,1,1,2,1,2,8,4,1,2,7,5,2,8,2,7,4,0,1,4,8,4,2,4,2,4,2,2,2,2,7,8,2,2,2,8,4,8,2,2,2,4,2,1,2,2,2,2,5,4,5,1,0,0,2,2,2,7,7,4,1,7,4,8,4,5,5,8,1,4,4,4,1,1,5,5,4,1,7,4,5,8,8,1,5,0,2,8,1,2,2,1,1,1,2,2,2,2,7,0,2,6,7,4,2,8,2,2,0,5,7,2,4,2,7,5,2,5,7,2,8,7,2,2,2,2,1,1,8,2,1,2,4,4,5,2,0,0,2,4,4,1,0,5,5,0,8,1,2,4,4,8,7,8,5,2,7,7,7,7,5,5,2,2,2,4,4,2,2,8,7,0,8,7,1,8,8,8,7,8,5,4,2,8,1,7,8,7,7,4,2,2,1,2,0,2,2,2,0,2,2,4,1,1,7,4,0,7,5,5,6,1,5,2,0,1,2,1,7,1,4,2,4,7,8,1,7,2,7,1,8,2,2,2,4,1,6,0,5,8,0,0,5,4,2,7,1,4,4,2,4,1,2,5,2,2,8,6,8,4,4,7,0,4,0,2,2,0,4,2,7,7,4,2,8,8,8,5,1,8,5,0,0,5,5,5,2,4,4,1,0,2,2,2,8,8,2,1,2,8,1,7,8,5,2,2,8,8,4,2,4,8,8,2,7,4,1,7,2,1,5,0,8,8,8,1,2,4,8,8,1,7,7,7,7,2,7,4,0,0,4,8,5,5,8,2,8,5,7,8,4,7,2,2,2,0,0,2,6,7,5,7,7,7,7,0,2,2,2,1,0,0,0,8,0,0,8,1,8,2,8,8,8,1,1,2,1,2,2,2,8,2,1,2,2,2,2,2,2,0,0,2,8,0,5,8,8,2,0,4,8,0,5,0,7,4,0,0,0,7,0,7,7,2,1,2,4,6,8,2,1,2,1,2,1,2,1,1,2,1,4,8,8,1,0,0,1,2,2,2,1,7,7,0,7,2,6,2,1,4,6,5,4,4,0,0,0,4,7,6,4,1,2,4,5,1,0,2,1,7,7,1,1,4,6,8,8,4,1,2,4,2,2,4,4,2,8,1,2,2,8,8,7,8,5,5,5,8,1,0,1,1,1,2,5,4,8,1,1,8,7,0,0,4,2,1,7,8,2,7,2,1,1,4,7,6,2,0,8,8,0,2,2,2,1,7,5,8,7,5,7,4,4,4,8,4,8,2,0,7,0,0,9,2,0,0,0,5,0,0,4,0,0,0,0,0,5,4,0,5,7,1,1,1,2,8,8,5,8,5,0,2,0,4,4,1,0,5,0,2,2,6,4,5,1,1,1,4,6,1,4,1,7,4,7,2,7,0,5,5,5,7,2,8,7,7,1,7,7,5,7,7,2,2,8,2,0,8,2,7,5,0,5,5,7,7,2,2,4,8,2,4,2,4,2,0,2],\"coloraxis\":\"coloraxis\",\"symbol\":\"circle\"},\"mode\":\"markers\",\"name\":\"\",\"showlegend\":false,\"x\":[-50.85668182373047,-50.666725158691406,2.968313455581665,-27.0017147064209,-9.853036880493164,-10.961677551269531,23.386438369750977,61.17049789428711,-32.79371643066406,-9.898751258850098,-18.318918228149414,-7.025640487670898,3.9279162883758545,-50.1047477722168,-13.719572067260742,-0.9540181756019592,2.5164742469787598,-3.3448925018310547,-14.533658981323242,10.731019020080566,-9.737571716308594,-14.14085578918457,17.268583297729492,-32.939231872558594,-18.197635650634766,24.66264533996582,18.784860610961914,-45.16621780395508,-23.864315032958984,21.70840835571289,18.467432022094727,-27.15901756286621,34.3023681640625,-3.320513963699341,33.81575012207031,-11.412896156311035,15.172891616821289,-27.419357299804688,54.37120056152344,22.338668823242188,40.45457458496094,56.286285400390625,24.5341796875,-30.441909790039062,-4.14323091506958,39.093509674072266,-28.51348114013672,16.15342140197754,17.817991256713867,55.47432327270508,38.770755767822266,3.0146312713623047,-4.725584506988525,51.59211349487305,37.74449920654297,58.42920684814453,50.21666717529297,16.613414764404297,30.626598358154297,34.867855072021484,19.3159122467041,21.12919044494629,-33.3138542175293,-37.62513732910156,12.358417510986328,-9.17626667022705,-17.697879791259766,-3.2310590744018555,-7.222169399261475,-46.062015533447266,-31.036399841308594,-13.369283676147461,-59.76781463623047,-42.844966888427734,-57.07231140136719,-54.72543716430664,-44.69858932495117,-14.173768043518066,-8.71500301361084,-34.73148727416992,-42.73877716064453,-48.84865188598633,-11.413666725158691,-35.857444763183594,-47.67108154296875,12.932642936706543,-38.386287689208984,32.377830505371094,-46.10593032836914,-12.870466232299805,51.574100494384766,53.52298355102539,29.429702758789062,4.6617584228515625,7.4406585693359375,37.644752502441406,13.114151954650879,2.6838369369506836,-33.08073043823242,50.592037200927734,-16.937856674194336,-33.76001739501953,-35.326297760009766,-34.361724853515625,0.8805883526802063,-24.93516731262207,-46.18488311767578,-27.605022430419922,19.94407844543457,31.445825576782227,53.88540267944336,16.457111358642578,60.807865142822266,19.977231979370117,24.266435623168945,18.183561325073242,28.43339729309082,26.181625366210938,1.0907357931137085,-21.544282913208008,5.707400321960449,-54.82948684692383,3.312283992767334,15.626116752624512,13.346139907836914,-39.524253845214844,45.8137321472168,-3.132018804550171,52.07175827026367,-50.79225158691406,13.981202125549316,57.73149108886719,59.40412521362305,21.129426956176758,50.64491653442383,44.83266067504883,-59.38048553466797,12.357253074645996,35.19059753417969,-26.754528045654297,-14.787301063537598,-26.7545223236084,30.975467681884766,-15.277032852172852,-24.937835693359375,16.13800048828125,13.905269622802734,19.305627822875977,1.431124210357666,47.325504302978516,-55.665489196777344,11.87378978729248,-38.62660598754883,-44.868282318115234,-41.719459533691406,-2.615104913711548,-19.425548553466797,-19.892620086669922,28.513423919677734,33.769039154052734,53.29256057739258,27.54597282409668,6.396601676940918,58.303794860839844,46.651634216308594,28.12723731994629,26.813335418701172,49.062469482421875,21.367719650268555,12.20003604888916,49.32007598876953,5.235261917114258,-25.641210556030273,20.622817993164062,20.738323211669922,-8.763514518737793,26.245691299438477,62.59701156616211,55.48257827758789,-51.12034225463867,-57.69365692138672,-56.90557098388672,-26.953763961791992,-50.478248596191406,-30.068349838256836,-19.73810577392578,17.801189422607422,-53.97932434082031,-32.421142578125,17.300622940063477,26.531198501586914,-39.480106353759766,-24.447221755981445,11.17333698272705,21.758934020996094,21.664113998413086,-61.19524002075195,-35.87952423095703,-34.32355499267578,-17.14148712158203,-19.393774032592773,-28.05371856689453,-22.58043098449707,-13.688984870910645,-12.34877872467041,-12.938619613647461,6.810237407684326,-46.45613098144531,-38.32289505004883,-33.547183990478516,-53.122222900390625,47.89486312866211,22.36516761779785,21.61062240600586,20.41622543334961,29.12868309020996,-27.974515914916992,-20.1505126953125,-25.289796829223633,-34.62361526489258,-4.9947967529296875,-56.945716857910156,28.06851577758789,-17.627342224121094,-12.37806224822998,-17.76692771911621,-41.67829132080078,-46.17214584350586,-38.35000228881836,-40.20229721069336,16.766315460205078,-47.51966857910156,-38.255699157714844,-42.703651428222656,34.12489318847656,5.814582824707031,31.158796310424805,48.69884490966797,-22.387332916259766,51.53562545776367,25.943315505981445,57.54991149902344,57.492427825927734,-23.841562271118164,23.782724380493164,30.534555435180664,-23.171117782592773,-11.569375991821289,-6.78378963470459,-24.166759490966797,43.50358581542969,17.12919044494629,-31.496212005615234,20.842920303344727,20.237180709838867,44.344669342041016,-8.79650592803955,-8.796433448791504,-60.18635940551758,-36.021270751953125,-17.5318546295166,-18.0617733001709,53.81593322753906,8.7463960647583,-16.855817794799805,-38.05415344238281,11.351631164550781,-22.746789932250977,-29.10169219970703,-39.038551330566406,-9.045722007751465,14.399843215942383,-34.44553756713867,24.673786163330078,24.794788360595703,-4.5734710693359375,-14.71625804901123,-28.169645309448242,33.233062744140625,-44.906368255615234,-27.621013641357422,8.76380443572998,-16.94988250732422,-62.41549301147461,-27.740903854370117,-25.882524490356445,61.504539489746094,21.21186637878418,-11.361745834350586,-5.127769470214844,-20.757658004760742,20.323108673095703,32.67564010620117,19.836807250976562,-5.127768039703369,-12.884634971618652,-13.785398483276367,-4.3420939445495605,-14.64469051361084,-4.480165004730225,-8.789490699768066,-10.973978042602539,39.378334045410156,15.157610893249512,33.25901794433594,-10.539448738098145,-12.180184364318848,-6.241097927093506,-32.120052337646484,-22.167327880859375,-19.157602310180664,-19.774499893188477,-10.072481155395508,-43.3376350402832,-10.632805824279785,22.713790893554688,37.254371643066406,28.862592697143555,31.57196807861328,44.69497299194336,47.856895446777344,40.063934326171875,39.78764724731445,-20.999195098876953,-10.475956916809082,50.395118713378906,47.26919174194336,-55.87594223022461,-62.415496826171875,-31.371055603027344,-26.491804122924805,-47.170536041259766,-56.771446228027344,15.097983360290527,-41.44361114501953,-56.04691696166992,-41.24113464355469,24.674903869628906,26.07605743408203,43.205692291259766,1.5197054147720337,-21.84790802001953,26.07600975036621,-12.209615707397461,-5.361955642700195,55.77513885498047,33.8154411315918,16.91197967529297,-10.107633590698242,-36.93024826049805,26.075254440307617,26.389137268066406,33.071407318115234,-2.39872145652771,-47.40049743652344,20.31959342956543,-2.0409109592437744,56.76586151123047,-25.055063247680664,15.358892440795898,20.908748626708984,11.876361846923828,18.461933135986328,14.86316204071045,25.14882469177246,-48.293880462646484,-57.99285888671875,12.94474983215332,-51.51585006713867,-35.02802658081055,16.18748664855957,-4.125568389892578,-10.128711700439453,20.919921875,41.11381912231445,-4.142528057098389,1.8291616439819336,-8.923542022705078,-48.112709045410156,-53.44147491455078,-31.434682846069336,52.59207534790039,1.9349429607391357,32.98411560058594,-45.76948928833008,22.491621017456055,-8.710795402526855,16.400257110595703,59.49798583984375,42.48033142089844,23.60854148864746,53.23448181152344,15.55141830444336,17.8311767578125,8.099806785583496,17.862443923950195,30.404342651367188,-0.31376558542251587,-18.701019287109375,-30.975460052490234,16.23873519897461,-51.2759895324707,-40.087860107421875,-18.035114288330078,-3.10990834236145,16.859676361083984,-33.731712341308594,-1.038820505142212,-15.895359992980957,61.41567611694336,-38.15007019042969,-23.49015998840332,43.936561584472656,-51.21274948120117,-26.908355712890625,13.578396797180176,-27.556081771850586,20.2108097076416,43.263301849365234,9.283751487731934,-10.131349563598633,-48.64678192138672,-45.66494369506836,-59.54181671142578,-9.062372207641602,26.240312576293945,-6.523856163024902,-3.5353245735168457,52.22532653808594,-28.577756881713867,-35.72352981567383,-10.64207935333252,25.72637367248535,58.13247299194336,-17.1102294921875,17.142160415649414,-14.285821914672852,-1.9115222692489624,-23.17163848876953,29.991012573242188,48.779354095458984,30.74683380126953,-30.22651481628418,48.839134216308594,38.00950622558594,39.9592399597168,-50.34038543701172,1.4930824041366577,34.0223274230957,28.001670837402344,-36.27700424194336,-7.621372222900391,-34.96198272705078,-6.001708507537842,27.50514030456543,15.780850410461426,-4.417605400085449,8.999032020568848,-10.752418518066406,-2.2367777824401855,-7.262306213378906,-17.076324462890625,-47.1409797668457,36.29288864135742,1.465603232383728,15.98577880859375,36.54191970825195,-27.951457977294922,-24.836166381835938,-27.962757110595703,10.855878829956055,-50.3333854675293,-56.34681701660156,-62.093727111816406,13.20332145690918,51.65519332885742,-33.96746826171875,-8.473494529724121,-43.134117126464844,-14.099404335021973,16.961801528930664,23.408416748046875,-15.12394905090332,-48.185604095458984,-11.71339225769043,-48.98110580444336,-41.035465240478516,1.1321392059326172,-53.891353607177734,-4.145677089691162,3.6406447887420654,31.30743408203125,31.918766021728516,-1.3417763710021973,-7.755884647369385,-37.691871643066406,50.870182037353516,6.347708225250244,-34.071048736572266,58.72726821899414,29.63941764831543,3.3703863620758057,-9.383091926574707,57.669700622558594,-13.01438045501709,-29.79395866394043,49.20979690551758,36.279361724853516,30.31210708618164,59.09408950805664,-2.5428688526153564,44.93240737915039,61.187660217285156,-34.236541748046875,-0.28270965814590454,-10.268411636352539,-5.72927188873291,-5.234435558319092,-25.0732421875,32.2691764831543,-33.0926628112793,-32.307373046875,30.161174774169922,7.887928485870361,-58.57386016845703,-19.457412719726562,7.83964729309082,8.017115592956543,36.37737274169922,11.184181213378906,34.18100357055664,10.525214195251465,-13.940444946289062,-43.235923767089844,-60.34003829956055,-60.07067108154297,-21.145742416381836,9.258106231689453,-26.3765811920166,-1.365310788154602,39.93223571777344,-47.84880447387695,2.923515558242798,-0.7063040733337402,-43.23609924316406,-42.0092658996582,-34.13271713256836,39.01219177246094,-48.30215835571289,-16.565298080444336,5.643460750579834,-48.168052673339844,-8.965597152709961,23.56282615661621,-22.362659454345703,38.34014129638672,50.353878021240234,55.20732879638672,8.185468673706055,23.938159942626953,27.878772735595703,7.87547492980957,46.556922912597656,19.82608413696289,47.07204818725586,-35.032318115234375,37.73497009277344,57.17079544067383,0.8105753660202026,-42.20370864868164,-17.533201217651367,21.552261352539062,20.15643310546875,60.79997253417969,-1.4877439737319946,35.32463836669922,-27.064531326293945,33.72066879272461,-28.408512115478516,-6.639139175415039,23.549463272094727,-32.487342834472656,-25.036890029907227,-2.7627415657043457,-3.38627028465271,-43.16018295288086,-2.3699471950531006,-37.75020217895508,-11.856529235839844,34.20753479003906,-36.82583999633789,-40.88721466064453,-22.72060775756836,2.091493606567383,0.8862909078598022,-42.05044937133789,-12.56529712677002,-16.960067749023438,38.11948776245117,-41.31672286987305,-6.756866455078125,-35.142425537109375,-7.65887451171875,7.8126044273376465,-28.89314842224121,-17.3121337890625,-48.610870361328125,-2.99056339263916,11.986377716064453,4.4719719886779785,-24.91590690612793,-37.6778564453125,-2.9282281398773193,-39.42824172973633,-16.837364196777344,-0.1697826385498047,1.982900619506836,15.272184371948242,-41.33616638183594,19.74353790283203,-5.2286882400512695,2.000354766845703,-51.19384765625,-4.564270973205566,5.677195072174072,36.1019401550293,-38.91001892089844,3.1366214752197266,9.812373161315918,-53.881752014160156,5.680516242980957,-49.01512908935547,-51.021751403808594,-56.29535675048828,-49.0045166015625,-55.82606887817383,-43.9460563659668,-51.394752502441406,-50.62653732299805,-59.561485290527344,-59.7454833984375,-55.94987487792969,-26.010255813598633,-50.670616149902344,-52.64653778076172,-53.08100128173828,-48.676570892333984,-57.232948303222656,-61.87099838256836,-47.67780303955078,-4.289951801300049,-49.88768768310547,-49.95172882080078,-43.14414978027344,-26.31001853942871,-22.626230239868164,-21.58135414123535,26.602375030517578,-3.366262912750244,22.777782440185547,-25.63075828552246,41.794921875,30.122255325317383,29.99190902709961,21.090925216674805,-21.158462524414062,38.151004791259766,-11.462905883789062,7.821046352386475,51.9810676574707,-26.191757202148438,28.218557357788086,-46.82405471801758,-32.177772521972656,-42.17405700683594,27.629173278808594,30.80883026123047,58.38158416748047,-59.767860412597656,-55.26746368408203,-48.281776428222656,27.020099639892578,-7.977508068084717,-9.749226570129395,-36.37788009643555,-31.984895706176758,-11.575207710266113,-48.50941467285156,-31.712141036987305,-12.30167293548584,-18.10932159423828,-7.224542617797852,23.291837692260742,26.5885009765625,-27.171794891357422,14.51401138305664,-7.423497200012207,-12.98353099822998,21.372785568237305,-11.63881778717041,-13.699694633483887,22.133358001708984,-11.39103889465332,27.51276397705078,35.5171012878418,25.585861206054688,2.6487956047058105,-29.597721099853516,-13.141358375549316,17.08514404296875,9.888277053833008,-26.98282814025879,23.50348663330078,23.50381088256836,17.717269897460938,58.30936050415039,26.319826126098633,28.209375381469727,10.061555862426758,-24.87149429321289,-16.829002380371094,29.64650535583496,23.692630767822266,21.564908981323242,28.563447952270508,25.76610565185547,-39.67649841308594,-30.974876403808594,21.707538604736328,28.091291427612305,-12.676654815673828,30.071056365966797,-8.883042335510254,24.02886199951172,-29.373987197875977,22.664125442504883,28.239025115966797,10.553910255432129,58.7049446105957,-30.01801300048828,-55.32249450683594,-54.95852279663086,-35.968177795410156,27.343992233276367,-26.206228256225586,-19.189594268798828,45.87141799926758,31.146209716796875,17.417551040649414,33.34855270385742,56.95824432373047,38.11927795410156,18.46092987060547,-54.25743865966797,11.307024002075195,-43.52952575683594,-25.251541137695312,-34.913509368896484,20.77107810974121,-24.554065704345703,-17.177980422973633,8.023158073425293,31.75252914428711,50.37765884399414,8.023160934448242,-5.134275913238525,12.586854934692383,-31.526384353637695,30.1060848236084,30.267908096313477,-6.975857257843018,-31.454771041870117,-10.209424018859863,-48.16950225830078,-1.2097207307815552,13.076026916503906,-3.3767213821411133,57.953712463378906,-2.6546266078948975,7.001676559448242,35.48965835571289,25.79901123046875,-25.565479278564453,20.548757553100586,21.579362869262695,27.839277267456055,19.821170806884766,16.16060447692871,16.884477615356445,15.466215133666992,-9.224230766296387,27.434804916381836,-12.203570365905762,-17.45102882385254,8.719263076782227,-3.3914878368377686,32.86550521850586,-21.425521850585938,1.2791134119033813,59.88149642944336,-36.08881378173828,-32.37974166870117,-1.9557216167449951,36.11861801147461,-24.524826049804688,28.046810150146484,38.88901901245117,-17.02056884765625,21.440143585205078,-3.071704864501953,28.78377914428711,-21.512893676757812,7.655686378479004,34.03441619873047,30.573331832885742,-43.70568084716797,-11.3153715133667,-10.253327369689941,-1.3076649904251099,-27.245866775512695,40.47593307495117,-3.8466956615448,-11.214739799499512,-1.484958529472351,21.56450080871582,24.400510787963867,-19.130434036254883,12.796796798706055,-10.196473121643066,-2.578946590423584,41.564422607421875,38.89161682128906,36.519229888916016,22.09027862548828,-34.64785385131836,5.338717460632324,-28.9970645904541,-59.49223327636719,5.26020622253418,40.63945770263672,-39.24472427368164,22.871915817260742,-30.63457679748535,-9.045722007751465,-26.33323097229004,58.96215057373047,-9.947551727294922,-16.89972686767578,49.4728889465332,25.52497673034668,48.33466339111328,-6.156839847564697,-5.242230415344238,-29.951513290405273,-3.6789321899414062,-26.146760940551758,15.261700630187988,31.883209228515625,56.78565216064453,-1.3961480855941772,9.143034934997559,-24.54932403564453,-19.059030532836914,-41.82028579711914,7.074223518371582,61.64939498901367,-32.31755828857422,-15.487320899963379,-45.32756423950195,58.578365325927734,59.95663070678711,17.18870735168457,-24.3572998046875,-9.254203796386719,23.67196273803711,-22.17076873779297,19.59895896911621,49.523197174072266,-22.917997360229492,21.945457458496094,51.057838439941406,-2.4246721267700195,20.7828426361084,19.937435150146484,4.251399993896484,-25.188488006591797,2.4019649028778076,9.170110702514648,22.367507934570312,25.38966941833496,-52.94393539428711,57.65333557128906,7.523704528808594,-47.41736602783203,-33.688385009765625,10.505599021911621,49.27509307861328,35.369380950927734,16.207277297973633,-25.857646942138672,-29.386302947998047,28.382291793823242,-4.223325729370117,-54.82960510253906,15.681998252868652,-9.501355171203613,-5.682136535644531,12.358417510986328,21.155088424682617,-5.006863594055176,-8.420883178710938,-21.73910903930664,-59.112762451171875,18.899194717407227,36.38222885131836,27.540889739990234,-28.65134620666504,33.27436065673828,53.541996002197266,-13.337509155273438,-25.194522857666016,25.225635528564453,-29.659595489501953,-32.163639068603516,-27.932218551635742,-16.267013549804688,-14.772896766662598,15.513340950012207,-10.693182945251465,-24.356874465942383,-52.83818817138672,-51.686710357666016,-46.18796920776367,-47.517208099365234,8.271186828613281,-52.894126892089844,-3.212634563446045,29.247966766357422,59.175392150878906,22.35042953491211,-6.324786186218262,-30.852134704589844,32.43162155151367,-4.8935112953186035,11.087185859680176,-46.814823150634766,-9.568953514099121,25.573143005371094,27.594806671142578,34.119590759277344,-28.200742721557617,-16.82016372680664,-12.252023696899414,32.792850494384766,-27.908123016357422,14.128615379333496,36.909446716308594,27.7290096282959,3.3962442874908447,32.66429138183594,30.290536880493164,11.106260299682617,40.260337829589844,31.23276710510254,25.64990234375,-8.13471794128418,-16.68622589111328,53.3836784362793,7.6975555419921875,-25.034196853637695,30.69361686706543,32.27976608276367,27.397993087768555,38.533042907714844,25.983619689941406,56.3194694519043,25.534931182861328,-46.824031829833984,-10.421005249023438,-45.64411163330078,-38.95248031616211,-25.315759658813477,-30.556589126586914,20.979583740234375,-28.556245803833008,-25.46162986755371,56.97825622558594,-48.52469253540039,7.655681133270264,-14.837409019470215,35.715309143066406,2.150777816772461,-27.960269927978516,-5.414332389831543,-47.48456954956055,-24.356510162353516,-10.020662307739258,43.28286361694336,-12.198589324951172,53.41176986694336,-19.404815673828125,29.61635398864746,43.93994140625,-33.8926887512207,-31.692100524902344,-8.769158363342285,-53.36827087402344,-45.49428176879883,-25.852476119995117,-18.63722038269043,-39.319698333740234,24.599699020385742,-25.629873275756836,-3.4695818424224854,-5.097475528717041,3.74410080909729,4.536961078643799,-27.85863494873047,-14.118345260620117,-3.517659902572632,-14.854283332824707,-9.151596069335938,-18.242891311645508,-11.164986610412598,53.1177864074707,51.05748748779297,-5.699409484863281,-39.8210334777832,-26.00485610961914,-53.041011810302734,-49.36936569213867,13.806650161743164,-28.854248046875,45.489139556884766,45.61566925048828,48.31968688964844,-7.868232727050781,34.48248291015625,10.479320526123047,-35.384098052978516,-45.64109420776367,58.27719497680664,4.7427473068237305,22.48726463317871,35.711910247802734,-31.162221908569336,-39.95637130737305,-61.10729217529297,24.932918548583984,-2.2947893142700195,-39.675296783447266,33.942955017089844,-23.24370574951172,-41.16818618774414,-38.07418441772461,-14.9856538772583,-9.174036979675293,-7.4720916748046875,19.04680824279785,48.63727951049805,2.1263253688812256,-6.250131130218506,6.888345241546631,-6.044821262359619,-34.07044219970703,-36.0809211730957,-42.62287139892578,19.9732666015625,10.185203552246094,-3.0958499908447266,-38.95153045654297,12.215232849121094,16.805404663085938,-4.868231773376465,-4.837509632110596,27.14104652404785,-47.23855209350586,32.2988395690918,2.877995729446411,1.9698162078857422,4.982593059539795,-33.78575897216797,-32.38092041015625,21.657466888427734,-40.33069610595703,-59.61988830566406,-13.739853858947754,18.889095306396484,38.92699432373047,51.292972564697266,-12.614242553710938,18.345165252685547,3.1363823413848877,-31.994821548461914,18.889549255371094,-39.701847076416016,-48.44049835205078,-48.1654167175293,-2.798809051513672,-19.371498107910156,11.833748817443848,21.750694274902344,18.242494583129883,-48.59456253051758,24.77135467529297,-34.08647155761719,25.246936798095703,-17.005815505981445,32.74397277832031,-9.221687316894531,-30.64206314086914,32.70868682861328,16.106578826904297,-36.822357177734375,-23.51144027709961,-23.33041763305664,22.82082748413086,44.48955535888672,-35.217369079589844,52.48552703857422,-23.326988220214844,19.33792495727539,-19.814119338989258,-2.4302151203155518,30.431203842163086,27.544261932373047,-25.21985626220703,33.10245132446289,40.22262954711914,14.301136016845703,59.40415573120117,32.69707489013672,-7.7074103355407715,12.640697479248047,46.278419494628906,19.289337158203125,-35.54621124267578,-47.40549087524414,61.79423141479492,-19.02980613708496,59.02220153808594,23.094253540039062,29.570348739624023,17.89341163635254,43.07865905761719,21.342622756958008,28.242259979248047,23.9483642578125,-27.12952995300293,16.16144561767578,0.2933352589607239,17.189374923706055,-11.725571632385254,40.425811767578125,-46.31561279296875,-41.571537017822266,-57.63637161254883,-0.1324342042207718,-25.340911865234375,-12.852460861206055,22.19382667541504,-26.669954299926758,35.4606819152832,-36.85017776489258,-22.672048568725586,-8.95238208770752,53.718849182128906,-49.454498291015625,-54.39623260498047,19.94493293762207,47.9647216796875,24.92141342163086,-11.577716827392578,21.987459182739258,-56.42270278930664,48.217891693115234,-53.02074432373047,-51.601741790771484,-35.01277160644531,25.379310607910156,18.0855770111084,3.999892234802246,53.40997314453125,-25.991422653198242,-23.204137802124023,-25.250808715820312,-16.855817794799805,30.602413177490234,21.803117752075195,29.67632484436035,17.586143493652344,25.23373031616211,4.563019275665283,11.301918029785156,-7.067688465118408,34.35097885131836,-22.007150650024414,21.244583129882812,-9.631881713867188,-36.954044342041016,-15.93759822845459,-22.23480224609375,-8.400321006774902,-19.70502281188965,-8.732059478759766,-0.6236397624015808,16.80883026123047,9.376702308654785,19.000621795654297,-23.476152420043945,26.717266082763672,-6.558082580566406,-10.966226577758789,-13.273201942443848,14.243613243103027,-10.816817283630371,32.603546142578125,38.141761779785156,9.555849075317383,-30.534160614013672,-34.50627517700195,-32.85468673706055,-32.009334564208984,-10.515995025634766,-56.637542724609375,-42.57228469848633,-44.2248649597168,-36.57059097290039,34.19216537475586,14.886672019958496,-35.7410888671875,27.328628540039062,8.149626731872559,19.146730422973633,25.22399139404297,18.338035583496094,18.52094268798828,-28.963539123535156,-26.02715301513672,35.324554443359375,14.97503662109375,-23.75043296813965,-33.3924674987793,-39.18128967285156,-46.71599578857422,-44.52814865112305,-23.103639602661133,2.1730268001556396,-47.572689056396484,51.126800537109375,-35.08321762084961,-18.948680877685547,15.371207237243652,-27.50240707397461,43.56147384643555,7.756011009216309,-27.444622039794922,-41.746803283691406,-3.974207639694214,31.750038146972656,-47.51712417602539,32.06669998168945,37.13019943237305,-31.07988739013672,-3.443171977996826,21.550790786743164,10.90897274017334,46.4958381652832,59.1042366027832,45.14180374145508,14.663375854492188,-11.123175621032715,38.36531448364258,-33.02492904663086,-15.097539901733398,-38.05405807495117,-38.12742614746094,-41.530731201171875,-37.3685188293457,-50.000091552734375,-13.49863052368164,43.13848114013672,36.27375793457031,-52.1121711730957,16.82042121887207,22.59587287902832,18.55228614807129,1.3809869289398193,-31.223379135131836,-33.74997329711914,-34.06825256347656,-32.13762664794922,58.67485046386719,44.93830871582031,22.08469009399414,55.93843460083008,-13.281257629394531,-51.08076477050781,-54.80751037597656,-52.22591018676758,-52.684017181396484,-57.40936279296875,-53.816654205322266,-39.95889663696289,-23.364362716674805,-16.88821029663086,-7.5257086753845215,-21.390396118164062,1.6347503662109375,1.634751558303833,-12.733948707580566,-37.797767639160156,27.957731246948242,43.70671844482422,-32.17927932739258,-19.97144317626953,26.39491081237793,59.43207931518555,27.176271438598633,19.789709091186523,-18.435096740722656,-40.887210845947266,-53.33364486694336,-53.86366271972656,-56.89280700683594,-61.886070251464844,-7.8560590744018555,-24.678190231323242,-33.10704040527344,-33.106895446777344,-7.856052398681641,4.763259410858154,34.90118408203125,60.44910430908203,-61.42900466918945,-28.972990036010742,-35.565879821777344,-2.8432962894439697,-12.081535339355469,-8.245892524719238,-3.2223172187805176,-13.17316722869873,4.203960418701172,18.13551902770996,34.49077606201172,-45.4064826965332,-18.810625076293945,-51.54311752319336,-33.20442199707031,-30.875747680664062,51.313026428222656,-46.080013275146484,20.24342918395996,-25.535995483398438,-37.25178146362305,60.29862976074219,-0.35609182715415955,5.892217636108398,-32.340511322021484,-7.2897138595581055,-29.01851463317871,31.80233383178711,-1.6058002710342407,6.099627494812012,17.834070205688477,43.32851791381836,-9.029871940612793,24.273889541625977,58.664615631103516,30.197128295898438,2.8951947689056396,48.16482925415039,11.472738265991211,34.94163513183594,23.556564331054688,37.56327438354492,28.63831329345703,22.46818733215332,-4.962203025817871,34.92349624633789,49.06025695800781,-3.985173463821411,-0.5568357110023499,25.909528732299805,51.527244567871094,38.119140625,-26.23341178894043,38.00379943847656,-45.108707427978516,-3.1068878173828125,-12.971871376037598,37.453060150146484,49.792259216308594,48.58660888671875,-3.4396402835845947,-25.057289123535156,-14.274336814880371,-4.099174976348877,-26.998947143554688,-4.316629409790039,-12.954298973083496,41.33139419555664,13.490557670593262,-28.43655776977539,9.11594009399414,16.781049728393555,-10.456174850463867,-19.43226432800293,32.84520721435547,-37.678741455078125,-21.1030216217041,-39.12709045410156,-1.7183935642242432,-12.53894329071045,-20.730510711669922,-6.530139923095703,37.89044189453125,-26.76556396484375,-7.968025207519531,-0.006633834447711706,-20.623085021972656,7.683658123016357,2.4130849838256836,-40.88729476928711,-18.20525360107422,-16.058883666992188,-36.768707275390625,-57.137935638427734,-38.24208450317383,26.69207763671875,40.17298126220703,45.91769790649414,-2.6603286266326904,-2.0451855659484863,-4.3601202964782715,-5.312514781951904,-48.419189453125,-51.907997131347656,-37.44533920288086,-48.882171630859375,52.64884948730469,-62.33058547973633,-57.513877868652344,5.680511474609375,-31.585512161254883,-10.621789932250977,-10.621790885925293,50.640785217285156,-51.19255828857422,-32.188453674316406,-43.29957580566406,-10.621789932250977,-48.6027946472168,21.69698715209961,-43.39595413208008,-43.099884033203125,0.9794836044311523,-23.61663246154785,-20.505399703979492,-9.60961627960205,-52.4291877746582,-47.697505950927734,-48.94422149658203,-34.45857620239258,-3.619462728500366,-47.825408935546875,-40.03095245361328,30.22441291809082,-30.607059478759766,4.464311122894287,-50.28895950317383,10.456073760986328,40.48111343383789,38.04671096801758,35.64546585083008,37.91524124145508,29.518110275268555,28.204814910888672,51.850982666015625,33.517147064208984,-31.67107582092285,37.71371078491211,31.72618865966797,13.284878730773926,12.811720848083496,-21.752609252929688,17.237411499023438,36.372535705566406,11.343768119812012,18.180917739868164,-36.89210510253906,-53.90237808227539,-57.9337272644043,-51.92156219482422,5.919061183929443,-36.94034194946289,31.47837257385254,28.096128463745117,-9.46524715423584,-5.1641669273376465,0.8719648122787476,55.38255310058594,-11.722978591918945,-36.940181732177734,-14.550455093383789,40.04288101196289,-31.157697677612305,-29.769975662231445,2.943242073059082,34.107093811035156,34.65388870239258,-16.402198791503906,9.529172897338867,54.4260368347168,34.816123962402344,36.53819274902344,18.675779342651367,-2.549335241317749,55.0255126953125,-31.671279907226562,-24.844430923461914,19.964876174926758,-29.111215591430664,-53.86757278442383,-33.62083435058594,-7.436869144439697,7.231271266937256,-31.328441619873047,-19.37735366821289,-13.457661628723145,36.44773483276367,-32.047767639160156,-13.070476531982422,-31.986083984375,-37.13611602783203,-18.446393966674805,-45.437286376953125,-31.494314193725586,-30.925472259521484,-27.128320693969727,-30.035890579223633,-30.73897361755371,-31.264415740966797,14.211296081542969,-38.31172561645508,-20.343271255493164,-26.41246795654297,-32.23048400878906,-0.1392718255519867,-30.060720443725586,37.126182556152344,10.671619415283203,-30.57672691345215,-40.14893341064453,-31.921361923217773,-30.948558807373047,-35.32388687133789,-7.29732084274292,-30.96807861328125,-25.128070831298828,6.44915771484375,-36.9579963684082,-23.799530029296875,-14.588472366333008,-27.138408660888672,11.536556243896484,5.800744533538818,-18.114917755126953,-32.34479904174805,-12.264278411865234,38.926998138427734,36.65174102783203,31.069711685180664,-24.77234649658203,-24.48440933227539,55.6754035949707,-43.528770446777344,-40.013755798339844,29.44534683227539,-31.256126403808594,60.47660446166992,-29.43938446044922,54.304935455322266,55.47446060180664,-4.846871852874756,-0.8500473499298096,4.959691047668457,41.4739990234375,-4.61796236038208,-25.358613967895508,-18.041399002075195,-25.366674423217773,17.8331356048584,-13.792754173278809,-24.645023345947266,43.9106559753418,36.69206237792969,-5.930105209350586,19.171979904174805,-50.73774719238281,12.947731018066406,-7.707385063171387,-22.71092414855957,-12.530450820922852,46.21037673950195,-45.535980224609375,-48.80819320678711,-48.78013229370117,-35.07831954956055,-38.90804672241211,-47.351200103759766,-62.19072723388672,-18.715051651000977,51.25065612792969,20.28083610534668,35.897552490234375,58.59497833251953,-45.93455505371094,-14.544299125671387,-7.626381874084473,25.822891235351562,31.678503036499023,-35.17350387573242,-30.713069915771484,-42.67107009887695,-24.94373321533203,7.968032360076904,-54.19426345825195,29.649457931518555,26.64178466796875,29.059953689575195,-57.00163269042969,49.54951095581055,10.850860595703125,-35.03054428100586,27.579872131347656,54.14699172973633,26.431961059570312,10.806718826293945,24.35780906677246,50.19324493408203,26.4152889251709,28.952388763427734,-30.765560150146484,36.6644172668457,-10.206014633178711,50.4594841003418,10.976058006286621,38.33087921142578,-19.893444061279297,29.09075164794922,29.87092399597168,-48.61109161376953,-43.88739013671875,0.3706672191619873,-38.066925048828125,25.435470581054688,26.446537017822266,37.05158996582031,-33.81954574584961,-16.444116592407227,-51.99802017211914,-4.299570560455322,22.670269012451172,16.782377243041992,-5.921380996704102,4.217405796051025,-15.06302547454834,45.6936149597168,4.257932662963867,10.994935035705566,24.93291664123535,10.648630142211914,-39.53754806518555,1.9712536334991455,-24.80970573425293,-10.687307357788086,-29.887292861938477,33.83647918701172,-6.546992301940918,21.97678565979004,49.99481201171875,11.244251251220703,-30.63355255126953,-7.932591438293457,36.0377311706543,-42.51129913330078,-4.45749044418335,-40.02878189086914,-4.8937506675720215,21.8316707611084,-42.06233215332031,-24.678205490112305,-20.02435874938965,2.8996987342834473,11.281757354736328,16.781076431274414,1.9682670831680298,-12.44100284576416,-8.497767448425293,-46.2938232421875,6.056396007537842,-17.537546157836914,27.704105377197266,50.28558349609375,-8.239466667175293,-4.433826446533203,4.96108341217041,14.26381778717041,-1.5201150178909302,-1.9130653142929077,-29.114561080932617,29.491676330566406,-32.3480110168457,-32.65484619140625,-8.007989883422852,20.306657791137695,45.16093444824219,-29.54085350036621,35.703697204589844,3.78145170211792,-9.026556968688965,-36.06352996826172,-48.562435150146484,-4.764942646026611,11.076705932617188,-51.91550827026367,-4.478091239929199,35.943199157714844,24.987197875976562,47.011192321777344,3.237654685974121,25.39918327331543,27.956192016601562,23.46876335144043,29.986896514892578,22.244043350219727,44.47262954711914,-8.435972213745117,27.89361572265625,36.7990608215332,56.86257553100586,30.71215057373047,60.678524017333984,3.7972681522369385,-13.856234550476074,-23.761409759521484,-14.533768653869629,-7.799804210662842,-23.3179988861084,19.34176254272461,18.809104919433594,-0.604569673538208,-16.196985244750977,22.365785598754883,14.946276664733887,26.07541275024414,50.41261291503906,28.78824806213379,0.23288527131080627,-48.50260925292969,36.385406494140625,28.224092483520508,27.568845748901367,29.681533813476562,29.505661010742188,-2.487107753753662,-20.834352493286133,16.32378387451172,38.89707946777344,58.81406021118164,27.045181274414062,-15.453568458557129,49.60675811767578,-29.439531326293945,-50.702579498291016,-50.132476806640625,-24.935192108154297,-24.644933700561523,-26.205371856689453,34.48582077026367,-11.417791366577148,35.50688934326172,5.705544471740723,-28.665985107421875,23.319053649902344,-8.736892700195312,27.317407608032227,-8.440223693847656,10.059480667114258,-48.56742858886719,14.992459297180176,14.847635269165039,33.55853271484375,20.876604080200195,36.08249282836914,54.6771240234375,23.78510856628418,-46.07282257080078,30.940454483032227,-29.269254684448242,49.78413772583008,9.640279769897461,13.454119682312012,23.343189239501953,15.267531394958496,26.700326919555664,-5.730471611022949,18.318777084350586,-3.425870656967163,22.619443893432617,55.76938247680664,-47.91838073730469,-42.65033721923828,9.21793270111084,-57.33475875854492,34.66135787963867,-30.93058967590332,-24.821191787719727,27.095375061035156,-34.65085983276367,30.67862319946289,22.388601303100586,-37.267608642578125,33.15485763549805,38.06790542602539,-25.427494049072266,51.129356384277344,-30.228679656982422,3.5240886211395264,3.5240886211395264,-19.117969512939453,38.06510925292969,-36.22785186767578,53.63319778442383,1.4655767679214478,-23.75043296813965,-6.183049201965332,-40.69354248046875,-9.33859920501709,-3.9975779056549072,-20.081178665161133,-29.553943634033203,-28.395923614501953,7.55400276184082,-36.76396179199219,33.94281768798828,-47.76652145385742,-13.406604766845703,19.790088653564453,30.92782211303711,4.634862899780273,30.378551483154297,6.760640621185303,-59.54599380493164,-27.974515914916992,32.02211380004883,-2.9063801765441895,7.454234600067139,6.485682010650635,9.688996315002441,-41.4371223449707,1.2017849683761597,-8.677006721496582,-18.18182373046875,-20.76215934753418,19.747264862060547,-38.41123580932617,-4.713486194610596,27.678834915161133,-27.242431640625,-41.58388137817383,-13.869829177856445,-13.4379301071167,7.142798900604248,-10.759919166564941,-14.829524993896484,-7.237202167510986,12.914400100708008,-51.080528259277344,-21.34401512145996,-34.03886795043945,-7.086665153503418,9.44986343383789,9.17867660522461,-36.66388702392578,3.180504322052002,36.635799407958984,25.896474838256836,-3.259469509124756,-12.43488597869873,-46.28926086425781,5.418598651885986,-46.94367599487305,43.80024719238281,-43.09904861450195,-42.92054748535156,-9.354757308959961,21.578754425048828,21.721986770629883,-42.494991302490234,7.366457462310791,-25.514366149902344,21.796310424804688,-42.80828094482422,-39.2447395324707,-17.244443893432617,-9.4760103225708,11.47733211517334,0.6184749603271484,-1.2924823760986328,28.335708618164062,48.25889205932617,-1.046585202217102,-20.586406707763672,-32.926231384277344,-51.0256233215332,-29.540904998779297,50.54788589477539,-29.17412567138672,-46.740814208984375,-46.7413444519043,-2.0863256454467773,48.90460205078125,-15.562094688415527,19.607240676879883,36.11873245239258,-37.14265060424805,-37.39061737060547,-1.803632378578186,-19.07010841369629,-21.67155647277832,-5.062371253967285,42.46708679199219,33.40559005737305,-48.261173248291016,21.43562126159668,28.037412643432617,22.837739944458008,27.566343307495117,40.45464324951172,-3.202568769454956,-10.14392375946045,15.429848670959473,29.795690536499023,-21.488019943237305,40.50204849243164,26.226045608520508,17.896705627441406,-13.58218765258789,17.36465072631836,31.138099670410156,18.17165184020996,-8.376494407653809,11.502437591552734,38.997352600097656,-48.523536682128906,38.470218658447266,28.484355926513672,-23.57390594482422,33.33626174926758,59.26655960083008,-25.875083923339844,-7.767037868499756,-9.394100189208984,-43.65546798706055,0.08631149679422379,12.849766731262207,18.990734100341797,19.038349151611328,19.816774368286133,-60.34681701660156,-25.782567977905273,-30.33759307861328,-26.907527923583984,-52.5250244140625,-1.8486294746398926,-52.81474304199219,-35.06290054321289,49.0732536315918,22.685550689697266,27.63590431213379,36.15336227416992,41.80073928833008,-2.965804100036621,40.90911102294922,-3.1878345012664795,38.48322677612305,51.34244155883789,30.430801391601562,-5.626348495483398,18.387081146240234,-48.94268035888672,-54.734962463378906,-39.991695404052734,-5.126992702484131,-48.30831527709961,-22.788999557495117,18.147628784179688,-45.38051223754883,-5.7859601974487305,-27.73242950439453,-7.254700660705566,36.310401916503906,33.4573860168457,-27.968238830566406,-12.630088806152344,-25.573320388793945,13.637022972106934,-5.3716139793396,-2.8712375164031982,25.574838638305664,-0.13246919214725494,-53.89204406738281,53.13540267944336,11.238712310791016,3.6447105407714844,50.506141662597656,10.780282974243164,32.98561096191406,26.495956420898438,-16.820327758789062,-7.45703649520874,-9.589198112487793,-0.4923708140850067,9.704641342163086,-18.114179611206055,23.635961532592773,-43.159767150878906,-7.056610584259033,22.71176528930664,48.589595794677734,33.04380798339844,33.51155090332031,61.351322174072266,26.566831588745117,-45.19255828857422,6.9943342208862305,33.878177642822266,-7.158482074737549,48.11137771606445,33.878387451171875,27.452478408813477,-2.1446340084075928,37.4658317565918,30.284543991088867,45.03841781616211,24.79994010925293,-45.05490493774414,59.68286895751953,18.42045783996582,30.423194885253906,-34.49943161010742,-35.42735290527344,30.62541961669922,-1.321266531944275,37.10811233520508,37.32774353027344,51.29273986816406,22.17438316345215,25.831119537353516,-28.782814025878906,-15.333373069763184,-41.133277893066406,10.788542747497559,19.898836135864258,15.360296249389648,20.50672149658203,-49.948970794677734,-41.24162292480469,20.622262954711914,-43.759212493896484,-46.978458404541016,-0.7155306935310364,-25.416852951049805,-54.763519287109375,-48.583717346191406,10.268913269042969,-32.52733612060547,-10.515975952148438,-0.7971246242523193,32.08312225341797,-36.83384704589844,-44.13142013549805,-32.091148376464844,-24.479087829589844,-53.373146057128906,20.815662384033203,50.04349899291992,3.6043295860290527,-34.224369049072266,52.192840576171875,-28.97184944152832,-13.970821380615234,3.273310422897339,-9.909187316894531,-44.178611755371094,-51.97964859008789,24.125818252563477,20.96540641784668,17.801191329956055,14.32411003112793,-24.063724517822266,15.617879867553711,-21.34967041015625,-23.45918846130371,-27.6270694732666,-24.935169219970703,-5.616733551025391,32.42459487915039,45.44044876098633,-45.829139709472656,-4.730959415435791,10.566845893859863,32.94384002685547,51.36546325683594,-13.981684684753418,19.507461547851562,54.65801239013672,-2.5148632526397705,-34.695228576660156,-15.394109725952148,40.87871551513672,27.57932472229004,-34.871604919433594,47.67057800292969,41.32895278930664,-6.132873058319092,23.481761932373047,56.7260627746582,27.738370895385742,-21.986412048339844,-39.5577392578125,-38.53776168823242,15.017152786254883,-41.71012496948242,-11.609800338745117,20.969419479370117,11.725486755371094,45.354652404785156,10.03536605834961,-44.56440353393555,1.1520191431045532,8.6060209274292,-42.428565979003906,5.918788909912109,19.64551544189453,36.42298889160156,56.206939697265625,48.794342041015625,37.17950439453125,9.970962524414062,-23.061235427856445,-46.95563888549805,-38.46459197998047,-51.08440017700195,-52.068870544433594,-48.37205123901367,-35.143043518066406,-54.30534744262695,-39.50461959838867,38.15175247192383,-3.5934720039367676,-38.46504592895508,58.08654022216797,-15.807292938232422,-22.41391372680664,25.449052810668945,-47.90205764770508,-29.381488800048828,48.5528678894043,37.143917083740234,5.414475440979004,31.186199188232422,30.370107650756836,-26.252674102783203,37.47112274169922,4.855422019958496,1.961441159248352,-18.45020294189453,-24.707595825195312,11.49137020111084,27.535432815551758,50.677703857421875,7.31728982925415,34.46483612060547,56.697086334228516,26.44432258605957,25.030941009521484,30.755592346191406,-4.779684066772461,46.79816818237305,41.89015197753906,6.431944370269775,24.10953712463379,25.413509368896484,-42.313262939453125,13.657051086425781,-16.828081130981445,-38.80757141113281,23.11513900756836,14.414877891540527,23.440595626831055,21.67551612854004,-44.21884536743164,19.012901306152344,20.257509231567383,10.304136276245117,26.447956085205078,25.651805877685547,10.107542037963867,-60.96071243286133,25.569677352905273,15.088362693786621,17.55687713623047,-12.463829040527344,-53.21900939941406,37.462467193603516,30.7249698638916,27.07319450378418,44.412109375,24.783912658691406,31.153230667114258,-9.590263366699219,-48.980560302734375,11.105912208557129,-2.2138516902923584,-4.480742931365967,-4.306822299957275,-4.215558052062988,27.5866641998291,18.46744155883789,-13.954325675964355,9.855799674987793,21.64928436279297,51.272701263427734,24.961572647094727,-3.5382070541381836,-1.238092064857483,-8.97857666015625,19.370975494384766,-17.35285186767578,-1.8023015260696411,-9.746552467346191,-28.507322311401367,-3.585712194442749,16.411842346191406,-48.16798400878906,-5.939373016357422,11.487285614013672,11.058771133422852,10.665627479553223,-18.966718673706055,-1.7885825634002686,56.55130386352539,13.113850593566895,22.122480392456055,-6.824579238891602,-6.251332759857178,-0.7047138214111328,5.399392604827881,29.883825302124023,16.587203979492188,-8.29321002960205,15.494868278503418,-19.34475326538086,-31.9849910736084,-27.06255531311035,-35.54408264160156,29.11256217956543,28.85524559020996,28.898481369018555,24.181631088256836,38.5330696105957,32.02254104614258,62.96828079223633,-26.833309173583984,-37.37693405151367,-42.18373489379883,17.78469467163086,9.173179626464844,59.28263854980469,21.01385498046875,22.832901000976562,21.184724807739258,-18.20527458190918,51.78989791870117,39.5544548034668,-36.06489944458008,-48.3852653503418,-23.355005264282227,-22.732074737548828,-8.045656204223633,58.522491455078125,14.391655921936035,54.84741973876953,38.537933349609375,6.853114604949951,28.90949249267578,56.78169250488281,52.70227813720703,36.37801742553711,-19.77436637878418,-40.04784393310547,50.93108367919922,36.21955108642578,15.590744018554688,26.39423942565918,53.16619110107422,-23.249374389648438,11.672240257263184,-24.96097183227539,-30.71634864807129,-14.531667709350586,23.248268127441406,31.06529998779297,35.44525909423828,53.141475677490234,56.13022232055664,24.75078582763672,53.60694122314453,32.90096664428711,37.91291046142578,-23.744869232177734,61.51439666748047,23.009408950805664,-10.468511581420898,-46.08963394165039,24.601449966430664,8.265240669250488,24.73299217224121,-1.3684216737747192,-22.33020782470703,-2.6819403171539307,59.98147964477539,-37.048091888427734,30.389081954956055,-24.12102508544922,33.38644790649414,-28.466625213623047,20.087814331054688,-34.957672119140625,10.909067153930664,16.667633056640625,9.004366874694824,17.577388763427734,14.974921226501465,10.94030475616455,13.528392791748047,26.589054107666016,30.75558853149414,24.883188247680664,-37.30638885498047,13.998947143554688,17.511703491210938,24.08670425415039,4.837512493133545,-31.771421432495117,9.390755653381348,43.081966400146484,-1.3135058879852295,0.13409653306007385,-4.135495185852051,12.779518127441406,-54.494140625,-9.63425350189209,-45.829132080078125,34.92225646972656,-28.302095413208008,-25.49863624572754,16.658586502075195,35.93497848510742,3.341596841812134,-3.8242878913879395,-17.673303604125977,-35.27914810180664,-11.88925552368164,-31.667095184326172,-13.67110538482666,38.02750778198242,-38.84695816040039,-59.72074890136719,-57.27621841430664,13.013755798339844,54.10686492919922,-40.574562072753906,-36.948974609375,-42.053070068359375,52.99656295776367,52.996517181396484,-51.57159423828125,-56.532127380371094,-30.486942291259766,43.57625198364258,-7.736103057861328,-37.56281661987305,-54.048526763916016,8.57624340057373,-9.038552284240723,32.50518035888672,-50.265926361083984,-47.019996643066406,38.078163146972656,21.826017379760742,-7.525081157684326,37.133544921875,11.59030532836914,39.55245590209961,28.455036163330078,35.39354705810547,11.300065994262695,17.281679153442383,11.709113121032715,10.658361434936523,-6.719505310058594,-16.17087173461914,11.229389190673828,-20.328834533691406,-10.051063537597656,-36.950645446777344,41.74787139892578,11.105072975158691,36.748966217041016,15.140928268432617,-30.65233612060547,-47.18784713745117,3.5298807621002197,37.005287170410156,-29.340015411376953,32.29306411743164,-3.186475992202759,-34.2816047668457,25.655960083007812,-41.752010345458984,-2.7284157276153564,62.9688835144043,18.82306480407715,-14.68305778503418,30.921171188354492,17.797826766967773,20.331130981445312,30.17609214782715,61.40943908691406,61.93223571777344,28.461301803588867,42.16121292114258,7.798552513122559,33.19963455200195,-36.745018005371094,-8.570099830627441,-52.23818588256836,4.14308500289917,-14.620893478393555,-13.393380165100098,3.1357107162475586,-36.28755187988281,-33.75913619995117,41.66646194458008,-37.00318908691406,-53.209232330322266,-35.412479400634766,-9.007895469665527,24.48650360107422,-3.05690336227417,27.55223846435547,-31.10207176208496,-26.716753005981445,2.4837915897369385,-8.116679191589355,13.866790771484375,-31.487646102905273,24.117538452148438,5.4731669425964355,-1.8193508386611938,9.910873413085938,-7.347792148590088,-53.49380874633789,-53.58170700073242,18.394515991210938,28.737672805786133,32.269126892089844,-27.439157485961914,-19.238067626953125,30.8613338470459,19.247413635253906,44.353023529052734,-6.698727130889893,-19.241369247436523,-1.3416470289230347,-19.25690269470215,53.399200439453125,49.0300178527832,37.24980163574219,27.143796920776367,-3.151339530944824,22.379150390625,-31.41172218322754,-9.172724723815918,29.6911563873291,-4.215556621551514,38.106510162353516,-4.307084083557129,20.992965698242188,-3.436171293258667,-5.367752552032471,-30.128585815429688,5.305625915527344,38.92015075683594,50.488128662109375,34.31378936767578,-6.6240034103393555,3.5096869468688965,28.16853141784668,4.905328750610352,-13.804936408996582,14.461468696594238,18.50592803955078,-40.886775970458984,-12.846007347106934,-6.169942855834961,1.2088000774383545,-19.70754051208496,-29.46994972229004,-3.7863667011260986,-30.80060386657715,-55.20664978027344,-30.551782608032227,47.091365814208984,-35.2193717956543,35.918914794921875,-16.21864891052246,32.812400817871094,37.78205108642578,39.61339569091797,-9.215729713439941,49.725685119628906,-27.495718002319336,29.721431732177734,-23.074182510375977,-5.571622848510742,-5.7322845458984375,45.82915115356445,11.649130821228027,22.38776206970215,-6.371833801269531,58.459068298339844,25.342098236083984,15.989655494689941,1.4621526002883911,16.199155807495117,-28.681230545043945,44.344505310058594,-30.62356948852539,-31.648242950439453,-46.06692886352539,8.081067085266113,-43.519779205322266,-46.26205825805664,-51.34087371826172,-13.1984281539917,40.8419303894043,1.7012001276016235,-4.445530891418457,-9.370908737182617,-23.483753204345703,20.829143524169922,-23.483783721923828,50.192893981933594,18.908279418945312,-45.622188568115234,25.236431121826172,31.130550384521484,-4.064947128295898,-18.83148956298828,22.772769927978516,-12.972029685974121,-22.1957950592041,-29.33045768737793,-37.16490173339844,-27.788005828857422,-34.250213623046875,35.81310272216797,29.713167190551758,-32.714317321777344,-38.290504455566406,25.0683650970459,2.570499897003174,-1.0252492427825928,-39.371158599853516,31.286205291748047,14.236496925354004,14.165472030639648,45.45695495605469,-36.98688507080078,32.48222351074219,30.2745304107666,-49.54116439819336,-32.0858268737793,-15.872429847717285,-41.78605270385742,-53.02708053588867,-57.24260330200195,22.77652931213379,-25.37200927734375,-31.294532775878906,-5.766006946563721,-45.40675354003906,0.4540387988090515,19.176197052001953,16.04779624938965,47.51985168457031,50.937469482421875,7.117136478424072,-6.8368120193481445,4.118250370025635,35.093650817871094,50.08405303955078,0.5282528400421143,18.278825759887695,-51.17544174194336,28.810970306396484,29.1966609954834,24.908143997192383,20.9796142578125,-30.76219940185547,29.174072265625,-19.011550903320312,32.04169845581055,21.36154556274414,23.592044830322266,5.280385971069336,-30.762407302856445,44.895206451416016,3.8796775341033936,25.677719116210938,49.989341735839844,-37.916526794433594,-43.715354919433594,14.413318634033203,22.316429138183594,-7.922074794769287,49.13960647583008,23.592044830322266,-10.431832313537598,50.937503814697266,22.36779022216797,45.00979232788086,-0.6410713195800781,1.7946914434432983,-9.408040046691895,-40.0456428527832,25.723907470703125,13.645753860473633,-16.653236389160156,-27.498186111450195,-20.752485275268555,-13.55693531036377,-4.242583274841309,-51.673004150390625,-41.78231430053711,-7.5252251625061035,34.66357421875,14.134553909301758,-45.16987609863281,-12.47171401977539,-6.398155689239502,-11.551200866699219,-8.54328441619873,21.31642723083496,17.81508445739746,10.058873176574707,-30.602027893066406,-25.259122848510742,5.918799877166748,-17.119102478027344,-9.087081909179688,-43.06966781616211,-17.076091766357422,2.2266314029693604,-1.8147236108779907,4.050602912902832,-23.21962547302246,29.873367309570312,38.330657958984375,41.518165588378906,29.44099235534668,-22.87284278869629,-11.309368133544922,-23.713451385498047,45.4295539855957,-27.296470642089844,-26.0091609954834,16.823110580444336,-4.05865478515625,15.795249938964844,16.445249557495117,-6.983235836029053,17.347793579101562,19.750858306884766,-4.828288555145264,-6.782320976257324,20.344396591186523,49.771480560302734,19.294038772583008,44.54561233520508,36.38031005859375,27.135847091674805,22.910917282104492,-6.427572250366211,22.612892150878906,36.09676742553711,31.00189971923828,18.267057418823242,7.502842903137207,6.3462605476379395,-29.0899600982666,-9.187682151794434,6.665028095245361,41.33123016357422,-33.55455780029297,-49.14591979980469,26.31260871887207,17.44220733642578,14.536559104919434,-33.5029296875,-34.295310974121094,11.866025924682617,-30.359777450561523,-52.10822677612305,-34.05390548706055,-0.6846962571144104,-23.148221969604492,-20.09357452392578,-19.32231903076172,-10.961694717407227,-16.511947631835938,-16.887487411499023,-13.370009422302246,-17.503501892089844,-12.566697120666504,31.18914222717285,3.279998540878296,-13.256348609924316,-11.059738159179688,37.32585906982422,17.773122787475586,58.19131088256836,39.20293045043945,57.78831100463867,9.950905799865723,53.717796325683594,40.513248443603516,60.42790222167969,55.13787841796875,33.16926956176758,49.136653900146484,-20.562694549560547,30.733625411987305,17.35188102722168,24.44257926940918,4.739136219024658,-44.46666717529297,-5.6976399421691895,39.44508361816406,26.008119583129883,28.044580459594727,-4.816908359527588,-7.940031051635742,-14.715726852416992,-8.69742202758789,-21.34402847290039,19.575761795043945,-24.8583927154541,11.137810707092285,36.1025276184082,-36.501426696777344,-44.035919189453125,-57.8406867980957,-21.246919631958008,-14.829524993896484,-11.414719581604004,-26.09495735168457,-41.87583541870117,-37.88317108154297,-12.123044967651367,-18.476234436035156,-13.10279655456543,60.04529571533203,15.25866413116455,-34.53105163574219,-48.323089599609375,-7.707528591156006,-32.142086029052734,39.05852127075195,49.68177032470703,3.671485662460327,-7.52799654006958,35.935707092285156,33.42805480957031,-22.776151657104492,4.312802314758301,22.64113426208496,22.28902816772461,-26.118328094482422,-9.687085151672363,35.24366760253906,-24.559106826782227,36.47572708129883,17.356548309326172,-8.364532470703125,-21.036569595336914,32.21819305419922,31.03091812133789,51.701393127441406,15.158564567565918,34.4886474609375,32.187744140625,10.891501426696777,6.610235691070557,30.093326568603516,-50.81216812133789,-50.740631103515625,-57.35078811645508,-2.0631487369537354,36.56977081298828,-34.66899490356445,13.721437454223633,58.44834899902344,44.27644348144531,38.62641906738281,-51.97952651977539,-17.263856887817383,-10.38137435913086,51.746551513671875,48.75458526611328,48.05236053466797,0.2030089795589447,-23.21962547302246,-34.47653579711914,-35.82710647583008,20.24321174621582,28.271808624267578,-1.8756691217422485,17.495819091796875,20.088090896606445,18.32963752746582,31.989887237548828,59.74805450439453,46.98046112060547,-17.434329986572266,1.0713305473327637,-21.08391761779785,0.32484906911849976,-31.932029724121094,23.123512268066406,37.701446533203125,-14.720426559448242,34.07118225097656,26.67387580871582,22.54030990600586,50.96116638183594,36.18468475341797,-44.39980697631836,7.036967754364014,2.9418134689331055,-55.87893295288086,-10.954133033752441,-28.01677894592285,-35.82722091674805,-35.82697677612305,18.278825759887695,-30.337398529052734,19.777870178222656,13.755274772644043,-31.425031661987305,-10.53880500793457,-47.75754928588867,-30.645292282104492,-21.53555679321289,14.144294738769531,-35.44450759887695,-33.3212890625,-33.42752456665039,-41.898189544677734,-22.232641220092773,-32.33891296386719,-39.16180419921875,-32.680484771728516,-20.839250564575195,-33.89688491821289,-21.467021942138672,-31.18265724182129,-56.30217742919922,-41.5810546875,-18.24503517150879,-56.355777740478516,19.418729782104492,60.51520919799805,61.072017669677734,54.03789520263672,36.79875564575195,49.7911491394043,43.75096893310547,-42.38203811645508,36.0698127746582,-46.15156173706055,-14.831942558288574,23.88618278503418,-19.69055938720703,-17.91590690612793,-15.38569164276123,34.584232330322266,-28.06243133544922,-43.75565719604492,-18.14665412902832,21.990697860717773,7.0645222663879395,-30.364416122436523,-26.88404083251953,-47.49150085449219,52.77452850341797,51.59897232055664,51.16796875,-36.8900146484375,-19.95283317565918,59.529170989990234,-30.92790985107422,60.46882629394531,-10.060877799987793,-24.932937622070312,-5.18023681640625,24.069364547729492,-21.344038009643555,-13.101738929748535,-60.34650802612305,-40.9286003112793,-51.481475830078125,-32.159725189208984,25.179746627807617,38.949161529541016,-7.743628978729248,23.759719848632812,36.42312240600586,-8.610595703125,-32.47821044921875,-50.74134063720703,8.875958442687988,8.721721649169922,36.29167556762695,44.46943283081055,32.247581481933594,11.5806884765625,-0.9894448518753052,32.968963623046875,6.744077205657959,-8.322897911071777,-35.213741302490234,-16.684246063232422,-58.26439666748047,-48.94222640991211,3.3176498413085938,-1.5802336931228638,19.441253662109375,23.530197143554688,-42.268096923828125,-0.5786377191543579,11.664587020874023,-21.48724365234375,14.763197898864746,-28.096033096313477,30.09979248046875,-28.22391700744629,-1.3387998342514038],\"xaxis\":\"x\",\"y\":[-7.373502254486084,10.057419776916504,22.547080993652344,-29.957998275756836,-10.63537883758545,20.05860137939453,-17.867576599121094,-21.947389602661133,39.409019470214844,-25.489519119262695,53.085044860839844,11.977728843688965,21.704877853393555,-14.35425090789795,-35.34476089477539,-7.847241401672363,-36.158599853515625,-0.7046626210212708,63.14863586425781,0.5799139738082886,-21.647851943969727,-28.958473205566406,-34.5872917175293,-36.43392562866211,43.58256912231445,-37.574676513671875,-27.02730369567871,-6.720009803771973,61.25814437866211,-37.2210807800293,-30.870439529418945,58.92353439331055,-43.9154167175293,17.130796432495117,-15.876270294189453,58.439903259277344,-32.11143112182617,61.064693450927734,1.6769518852233887,-10.50273609161377,14.506528854370117,-15.356851577758789,-43.97551727294922,55.27301788330078,33.415138244628906,-7.570971488952637,59.707916259765625,8.96095085144043,-16.602537155151367,12.521750450134277,-44.1291618347168,2.468440532684326,-6.305156707763672,1.8681843280792236,10.787980079650879,-22.438634872436523,11.586517333984375,13.611520767211914,-22.949705123901367,-14.886247634887695,12.982364654541016,-3.702100992202759,49.64995574951172,2.8665010929107666,32.763614654541016,-6.7220001220703125,52.92995071411133,4.389060974121094,25.668161392211914,2.689333915710449,47.47873306274414,15.335567474365234,5.431046009063721,-25.109811782836914,-3.0481200218200684,-4.676314353942871,-6.0219407081604,-24.099706649780273,55.55135726928711,-13.271932601928711,37.242923736572266,-2.7204976081848145,18.92630386352539,2.8278632164001465,-17.394309997558594,35.303707122802734,43.28591537475586,23.095142364501953,-17.920074462890625,-41.5947380065918,7.400264739990234,7.848855495452881,13.27486801147461,3.610509157180786,-16.31301498413086,10.818039894104004,0.29780271649360657,1.9947148561477661,-42.038307189941406,-10.115377426147461,-33.67082595825195,-11.74484634399414,37.620460510253906,43.475337982177734,-0.6404692530632019,7.377669334411621,22.681108474731445,37.877281188964844,-1.3225584030151367,4.746945381164551,-15.216426849365234,-11.519745826721191,-3.2527706623077393,-1.1186107397079468,-44.27214431762695,-11.739764213562012,-19.74831199645996,13.514360427856445,-37.580322265625,54.33085250854492,-15.629865646362305,-0.1437927633523941,3.144365072250366,11.750900268554688,8.563859939575195,-25.693452835083008,-2.7431657314300537,10.699928283691406,-14.183470726013184,19.120031356811523,14.280844688415527,-16.583091735839844,-15.749082565307617,7.066004276275635,11.678335189819336,26.44670867919922,2.559591293334961,32.76227569580078,-41.10231399536133,17.04707145690918,44.78778839111328,17.04707145690918,-4.206005096435547,-18.919435501098633,44.45595169067383,-13.298226356506348,3.2214972972869873,-19.263757705688477,-10.049811363220215,5.664365291595459,4.857693195343018,-46.025001525878906,-25.443771362304688,-3.5356132984161377,1.1935540437698364,-20.579816818237305,52.65253448486328,51.74779510498047,-8.162888526916504,-11.94770622253418,0.8974555730819702,-6.32188081741333,-4.349117755889893,-1.044419765472412,7.607833385467529,29.658710479736328,16.905010223388672,-6.590205669403076,-12.797037124633789,11.223752975463867,2.483023166656494,-13.868693351745605,43.54393005371094,8.367792129516602,-15.261286735534668,55.528018951416016,-17.233078002929688,-13.817763328552246,-23.494873046875,-19.74473762512207,-4.806676387786865,-9.619956016540527,40.5843620300293,-14.499143600463867,57.349483489990234,7.1126227378845215,31.203187942504883,-5.1638031005859375,-10.357237815856934,26.904743194580078,-33.88917541503906,42.779109954833984,62.058956146240234,-29.02322006225586,-41.628379821777344,-40.649139404296875,0.36957067251205444,-0.3458073139190674,-27.471342086791992,-1.772403597831726,-40.6222038269043,57.9208984375,-39.00235366821289,-4.0843048095703125,-38.23155212402344,29.73077392578125,-18.564090728759766,17.004169464111328,-6.8163886070251465,-19.554344177246094,6.638549327850342,-17.067617416381836,20.389951705932617,-42.95659255981445,-43.88031005859375,-44.70265197753906,-44.818912506103516,-39.344581604003906,-34.49069595336914,-30.006328582763672,-34.50739669799805,1.448378324508667,-36.89038848876953,-29.84259033203125,-22.746028900146484,5.802820682525635,-7.713296890258789,-15.711335182189941,-1.087443232536316,-7.3787407875061035,-15.711407661437988,-6.698352336883545,-7.041943073272705,45.526187896728516,-7.299420356750488,4.373798370361328,-7.017374038696289,-17.21933364868164,55.19667053222656,2.3221957683563232,-22.24319839477539,-17.105472564697266,-22.935523986816406,63.64643478393555,-5.090953826904297,-32.25288772583008,49.80473709106445,-33.00107955932617,9.738667488098145,-26.14528465270996,-29.467113494873047,8.138011932373047,-12.093267440795898,-18.096384048461914,-18.426403045654297,10.525350570678711,60.5511474609375,60.55044174194336,-3.417665958404541,4.8122172355651855,55.59560012817383,55.233741760253906,19.804529190063477,16.001174926757812,47.63833236694336,-17.513221740722656,25.149578094482422,50.2866325378418,39.95106887817383,40.16670227050781,40.22481155395508,-31.4626522064209,-31.553302764892578,-23.817094802856445,-42.77789306640625,30.00201988220215,20.400358200073242,-29.366580963134766,-46.401546478271484,17.834564208984375,-31.65644073486328,17.729232788085938,54.86241149902344,3.3288919925689697,16.389636993408203,57.0998420715332,-4.30476713180542,28.319564819335938,55.30735778808594,53.338645935058594,-22.243818283081055,31.463130950927734,18.451847076416016,31.218353271484375,53.33859634399414,21.006559371948242,51.84614562988281,-33.7425651550293,-32.944461822509766,-34.62957763671875,-23.987106323242188,56.352657318115234,26.504520416259766,8.124408721923828,-2.694681406021118,-29.294939041137695,-36.94190979003906,-24.60267448425293,55.94090270996094,-31.123830795288086,63.00492858886719,64.54579162597656,-30.028911590576172,42.94417953491211,-5.777621746063232,11.935685157775879,-26.350479125976562,2.1747655868530273,26.400924682617188,19.2542667388916,6.599392890930176,-30.00836944580078,22.830747604370117,-38.10915756225586,16.405963897705078,-6.111302852630615,3.5928525924682617,-5.19905948638916,3.3288564682006836,37.788875579833984,-11.276847839355469,-13.793017387390137,-2.5590009689331055,-28.16985511779785,-9.814810752868652,-1.7741539478302002,2.4360570907592773,3.5399646759033203,31.516782760620117,-30.442317962646484,-38.23773956298828,-15.478747367858887,31.516586303710938,-9.526005744934082,-44.5234489440918,-23.854015350341797,-30.14120101928711,-19.921510696411133,47.084476470947266,49.268436431884766,31.516748428344727,6.526447296142578,5.765624523162842,-31.591028213500977,25.051633834838867,4.2747650146484375,-35.331424713134766,-1.7349261045455933,38.9036750793457,17.786605834960938,-25.82662010192871,3.565305233001709,39.37172317504883,7.127832412719727,-46.94175338745117,-4.917574405670166,4.060357570648193,-42.466773986816406,-5.133786201477051,-33.559051513671875,35.921749114990234,20.807558059692383,-21.761503219604492,32.307586669921875,2.277052402496338,20.8623046875,-35.70014190673828,14.934318542480469,-18.136951446533203,-3.796562433242798,3.726391315460205,9.817421913146973,-13.263374328613281,-14.836485862731934,2.606111526489258,9.701730728149414,-13.250672340393066,-29.929109573364258,-22.516075134277344,-26.621070861816406,7.719685077667236,3.394768238067627,37.99913787841797,5.788981914520264,21.176074981689453,-5.808530807495117,-18.223379135131836,-34.89967346191406,63.66082000732422,52.658294677734375,38.332008361816406,11.627750396728516,-18.853782653808594,-17.018524169921875,-9.912338256835938,15.94202995300293,-37.852333068847656,-30.666778564453125,58.476585388183594,-19.61341667175293,0.6087514162063599,-40.971981048583984,7.448433876037598,-5.198474407196045,42.17704391479492,-50.21310806274414,-4.639128684997559,-22.376270294189453,-0.18929730355739594,-31.430431365966797,-36.81736755371094,-6.322014808654785,21.474727630615234,3.7946841716766357,-14.836725234985352,-9.414957046508789,-12.710348129272461,-20.28877067565918,2.906768798828125,50.2823600769043,-2.0240590572357178,-5.8090925216674805,33.659423828125,-15.180841445922852,10.34058952331543,-16.100133895874023,-2.617074728012085,-21.23030662536621,51.313453674316406,-25.09381866455078,13.226875305175781,28.720529556274414,50.29107666015625,-6.509970188140869,20.658784866333008,13.253612518310547,7.894628524780273,3.180833578109741,11.563058853149414,14.31246280670166,50.69334030151367,-8.603063583374023,0.9534104466438293,-8.37964916229248,-0.5035302042961121,-13.171401023864746,-36.90557098388672,9.994926452636719,-6.9157304763793945,-9.113018989562988,-7.21206521987915,-31.24553108215332,-23.87652587890625,18.55136489868164,-18.223115921020508,-52.170406341552734,-41.4681282043457,-26.17194175720215,-36.09748077392578,-26.142608642578125,-46.83074188232422,-5.937353134155273,-14.258566856384277,5.557352542877197,0.3671211302280426,5.331730842590332,-2.4117400646209717,-11.25389575958252,17.684602737426758,54.661773681640625,-37.724342346191406,-13.261209487915039,-37.42010498046875,15.752143859863281,-9.807421684265137,-4.33300256729126,0.6611719727516174,-5.261977195739746,-2.8256375789642334,-2.597811222076416,4.674225330352783,6.468939304351807,-26.94274139404297,-3.717297315597534,-11.217082977294922,49.83854293823242,14.8369722366333,-43.94573211669922,58.122955322265625,-13.349249839782715,-4.314239501953125,-19.279193878173828,-24.123144149780273,-14.452485084533691,53.47770309448242,47.211666107177734,4.866115093231201,17.820934295654297,18.577465057373047,-16.087385177612305,-36.25372314453125,17.671611785888672,-21.124109268188477,49.61724090576172,-28.369199752807617,-18.767093658447266,-27.124610900878906,-27.001615524291992,-26.236133575439453,3.344229221343994,52.90961837768555,52.91512680053711,-45.15388870239258,19.95974349975586,2.1374213695526123,-40.85399627685547,26.900959014892578,-44.796836853027344,-14.086105346679688,-21.20195960998535,26.996055603027344,15.747931480407715,-2.662559986114502,-14.190757751464844,-0.04258603975176811,4.0138959884643555,47.298465728759766,-16.277372360229492,50.08185958862305,-3.0789906978607178,27.049211502075195,-1.0277920961380005,-24.071496963500977,-3.374048948287964,-14.190733909606934,-6.29732608795166,1.8280836343765259,-25.925508499145508,-5.487688064575195,-37.42737579345703,10.609314918518066,-27.550376892089844,-5.045928955078125,9.734527587890625,51.61994934082031,13.997055053710938,-1.377076506614685,-16.595291137695312,-9.743877410888672,17.13779640197754,25.091943740844727,-8.959649085998535,-0.7705256342887878,15.127273559570312,3.89546275138855,-1.4268659353256226,13.244318962097168,-17.85288429260254,-8.714524269104004,-1.6699950695037842,-1.3718656301498413,-31.366588592529297,-39.7398567199707,-9.048248291015625,23.72681999206543,-0.5940044522285461,44.25904846191406,-46.82658767700195,-14.435432434082031,-20.483388900756836,-14.542730331420898,49.883209228515625,-30.865373611450195,12.543526649475098,-10.057219505310059,43.22209548950195,-34.04005813598633,-29.152666091918945,-34.81678771972656,26.99141502380371,-28.91472625732422,53.19441604614258,58.22174835205078,-35.27254104614258,-37.30115509033203,41.62966537475586,46.93057632446289,10.102622985839844,3.6249711513519287,49.1932258605957,-10.930229187011719,-29.01004981994629,-9.783905982971191,17.73535919189453,-7.538710594177246,-9.761268615722656,-26.29298973083496,-10.535670280456543,-7.0009236335754395,-11.231124877929688,-30.764013290405273,40.85264205932617,-38.75248336791992,45.25968933105469,-12.060583114624023,3.2428886890411377,-39.11749267578125,8.387742042541504,44.78752899169922,17.86823081970215,-20.189010620117188,-32.49472427368164,-12.95431900024414,-22.75946617126465,-27.099681854248047,-44.71128463745117,39.70371627807617,-31.976842880249023,-41.30988311767578,-10.688870429992676,-6.824716567993164,-21.972131729125977,-21.094430923461914,-2.2339158058166504,-1.346129298210144,-12.851631164550781,17.469266891479492,-11.689065933227539,-0.28083011507987976,-1.6596633195877075,-0.14828209578990936,2.9141204357147217,-6.957431316375732,-21.534025192260742,-1.9758708477020264,-4.232669830322266,-1.631899118423462,3.3148653507232666,2.33075213432312,18.34084129333496,4.4130353927612305,-21.936424255371094,-21.90215492248535,-11.460212707519531,-6.596399307250977,-34.73305892944336,-21.946016311645508,32.15591049194336,-44.08219909667969,2.4412922859191895,61.80647277832031,-33.87295150756836,-24.563274383544922,-41.79997253417969,6.103736400604248,-22.142284393310547,-32.7287483215332,-20.975133895874023,-23.732824325561523,11.010863304138184,-37.86025619506836,5.913022994995117,1.0137075185775757,54.491634368896484,17.792945861816406,19.304824829101562,-5.980810165405273,-22.081424713134766,5.430882930755615,-4.398800849914551,18.046525955200195,-8.757026672363281,-21.97587776184082,8.171862602233887,-4.368175983428955,-10.958869934082031,-8.763638496398926,2.4517388343811035,-12.183943748474121,-23.543922424316406,-3.3509724140167236,58.542823791503906,-41.98047637939453,-30.17742347717285,55.679386138916016,18.99988555908203,-31.975765228271484,19.031126022338867,-10.681270599365234,-24.983078002929688,-40.153602600097656,-9.568986892700195,-25.659589767456055,-8.99896240234375,-24.38759994506836,-8.865141868591309,-31.7247314453125,-40.22410583496094,-32.17378616333008,6.784001350402832,5.271284103393555,-18.47077751159668,-11.113126754760742,-11.11313533782959,37.37108612060547,-18.569780349731445,22.23889923095703,-25.340511322021484,-41.384769439697266,64.62821197509766,-39.405433654785156,-35.261268615722656,-39.69544982910156,-42.658546447753906,-38.502201080322266,-29.333871841430664,50.553287506103516,47.47068786621094,-38.777801513671875,-38.09546661376953,-18.614255905151367,-20.336658477783203,-41.15607833862305,-38.287723541259766,58.24013137817383,-40.974735260009766,-37.86903381347656,31.639623641967773,-0.919183611869812,-35.990745544433594,-12.487037658691406,-11.945771217346191,-19.944725036621094,21.44619369506836,-17.77667808532715,56.42427062988281,6.155873775482178,-10.917960166931152,-24.346691131591797,10.790237426757812,-19.45509910583496,3.6249687671661377,21.9833984375,-15.067256927490234,21.899473190307617,21.556745529174805,58.850650787353516,-7.8543701171875,28.204267501831055,57.08338165283203,8.382628440856934,27.543161392211914,-0.14063917100429535,10.881911277770996,27.54294204711914,-43.301265716552734,-7.964581489562988,-33.08846664428711,-20.02952766418457,9.8261079788208,19.47390365600586,54.12618637084961,46.406978607177734,3.0390360355377197,30.508981704711914,16.639469146728516,32.792415618896484,-13.500645637512207,21.28035545349121,22.120317459106445,14.357364654541016,22.662220001220703,41.39452362060547,31.404436111450195,30.969255447387695,27.551008224487305,3.8837661743164062,35.912452697753906,37.25640106201172,19.272363662719727,53.695430755615234,11.573230743408203,-25.30636978149414,54.819618225097656,-0.5529142022132874,-14.192468643188477,-50.05792236328125,-21.963603973388672,-34.71632385253906,-8.825963020324707,-28.903377532958984,57.26932907104492,14.704509735107422,28.89334487915039,63.90213394165039,-12.86048698425293,-44.6566162109375,-13.651442527770996,-33.653648376464844,30.586013793945312,-43.824520111083984,56.2942008972168,37.07373046875,-7.575578212738037,-31.476266860961914,23.448177337646484,-34.407535552978516,55.6631965637207,-24.591514587402344,43.10551834106445,15.933408737182617,30.0496883392334,-38.97589874267578,-7.065561771392822,-34.458099365234375,-39.62090301513672,-0.6148356199264526,-5.135219097137451,32.92033767700195,31.69756507873535,7.711142063140869,23.813379287719727,-32.85285949707031,-42.92605209350586,37.39537811279297,-36.83642578125,34.29449462890625,1.972069263458252,-44.13359832763672,-28.213470458984375,32.72685241699219,-10.087179183959961,37.839256286621094,40.22457504272461,48.252540588378906,-14.799739837646484,43.251441955566406,-33.535247802734375,-18.60811996459961,-18.8619327545166,-2.0392916202545166,8.844618797302246,31.15526008605957,44.2723503112793,3.426943063735962,55.47040939331055,-32.90985870361328,-5.957175254821777,-22.69474220275879,17.364686965942383,24.560195922851562,61.558380126953125,-0.5857738852500916,45.06535339355469,-16.411266326904297,-15.003585815429688,-33.967689514160156,50.7083740234375,20.31766700744629,-18.471080780029297,-19.067604064941406,-32.1743278503418,55.67462158203125,-19.413591384887695,-32.564876556396484,-36.620323181152344,18.88838005065918,13.098257064819336,49.153846740722656,-40.31001663208008,-15.847084045410156,-35.15572738647461,30.102294921875,17.688989639282227,14.219461441040039,-26.50075340270996,6.366179466247559,19.22508430480957,33.994293212890625,14.725446701049805,3.176433563232422,-14.818992614746094,15.405662536621094,0.9104871153831482,-3.0071194171905518,33.01529312133789,13.067704200744629,-33.73292922973633,30.01588249206543,65.16197204589844,1.3942790031433105,5.550520420074463,31.091257095336914,-0.14387691020965576,-18.9891300201416,-18.61680793762207,-27.961193084716797,32.76361083984375,-43.74843215942383,22.929794311523438,60.065975189208984,-23.490480422973633,-4.479471683502197,40.85687255859375,27.803293228149414,3.9837331771850586,-40.84529495239258,-26.706504821777344,2.4447708129882812,-11.39299201965332,14.947181701660156,31.099679946899414,51.32810974121094,52.30988311767578,58.92708969116211,-40.46519470214844,50.123470306396484,6.101512908935547,-36.93079376220703,-26.106319427490234,-11.780961036682129,-10.014962196350098,-6.878645896911621,-5.554128646850586,-44.384727478027344,-13.439144134521484,13.060561180114746,19.380443572998047,-22.329200744628906,-24.913225173950195,17.766178131103516,-20.114364624023438,14.570571899414062,-0.8937779068946838,24.12765884399414,0.04224462807178497,-5.778290748596191,-27.551652908325195,4.576961994171143,-10.886876106262207,54.737396240234375,-17.056640625,54.057151794433594,-5.634616374969482,-11.122779846191406,7.804961681365967,-31.116178512573242,4.443975925445557,15.651155471801758,-18.743093490600586,-32.552818298339844,24.395803451538086,-12.399598121643066,6.579375267028809,-40.04426956176758,21.213579177856445,53.94226837158203,3.458334445953369,16.34419822692871,53.601749420166016,-8.935539245605469,12.744314193725586,16.666305541992188,22.810375213623047,19.943462371826172,-12.633358001708984,24.054298400878906,-16.69242286682129,58.97005081176758,-16.731908798217773,39.55451202392578,-32.1556510925293,14.696331024169922,39.49678039550781,39.66391372680664,-17.439573287963867,-14.503414154052734,-13.874931335449219,37.073936462402344,-19.32259178161621,8.56479263305664,6.53924560546875,48.44544982910156,16.90297508239746,3.622621536254883,-38.52928161621094,36.03678512573242,0.10869503021240234,47.25355911254883,6.435159206390381,55.993621826171875,-17.256959915161133,24.651121139526367,48.66474151611328,-19.44266700744629,14.016118049621582,0.05618545413017273,24.519481658935547,65.1707992553711,9.465519905090332,1.9902859926223755,-18.534250259399414,51.74128341674805,32.06501007080078,4.154834270477295,3.6022064685821533,6.580442905426025,-4.706248760223389,-28.84534454345703,-14.556014060974121,-7.839682102203369,60.68238830566406,56.36971664428711,-34.55647659301758,0.029763827100396156,13.181526184082031,20.591943740844727,-1.9308114051818848,45.75260543823242,-17.499385833740234,-16.537399291992188,30.601701736450195,46.03026580810547,2.356036901473999,1.2640031576156616,12.492252349853516,50.331764221191406,-41.82304000854492,-36.10926055908203,36.36005783081055,-19.341236114501953,-23.92691421508789,16.624746322631836,31.04214096069336,-25.794206619262695,3.9440410137176514,39.543216705322266,-0.030483802780508995,-49.13333511352539,30.333154678344727,51.44396209716797,-44.81382369995117,-41.64968490600586,43.00346374511719,-29.556350708007812,-23.843103408813477,6.702723026275635,-9.378076553344727,25.887500762939453,7.2202558517456055,-32.01333236694336,-6.648197174072266,-12.08300495147705,-16.36541175842285,58.122764587402344,-30.729698181152344,40.750816345214844,-47.537776947021484,-40.8818244934082,-43.76513671875,-9.265523910522461,4.479865550994873,-1.5010695457458496,-44.076148986816406,-44.06648254394531,9.619461059570312,0.6246323585510254,-11.059372901916504,3.39314341545105,-35.21376419067383,18.641748428344727,-9.925436019897461,-10.495282173156738,-33.43358612060547,-16.2105770111084,-0.2728866934776306,-4.057427883148193,40.345821380615234,32.568115234375,-22.383167266845703,16.933290481567383,-13.097352027893066,14.49591064453125,-18.77922248840332,40.34528732299805,40.307106018066406,-18.858278274536133,-3.1147329807281494,-7.820423126220703,58.797855377197266,1.5705716609954834,-38.504276275634766,-20.060884475708008,-19.041364669799805,15.677285194396973,-20.6330509185791,-32.5009765625,48.133628845214844,34.12266540527344,42.29278564453125,59.98678970336914,31.597015380859375,-32.06539535522461,25.828027725219727,54.688655853271484,68.7904281616211,13.839142799377441,-0.13364215195178986,42.776153564453125,-16.742176055908203,68.77837371826172,8.489297866821289,57.619258880615234,33.175079345703125,-4.748192310333252,2.2849080562591553,43.24430465698242,-18.940643310546875,12.411625862121582,-25.47646713256836,-21.827531814575195,34.33950424194336,25.164793014526367,36.21870040893555,-5.75361442565918,-44.19327926635742,-19.90302085876465,-13.458271980285645,-8.943743705749512,51.67512512207031,-20.70960807800293,-33.636451721191406,17.427343368530273,13.380666732788086,17.53980255126953,22.7792911529541,15.80649185180664,8.049470901489258,48.077919006347656,13.333576202392578,-7.913154125213623,-39.50444412231445,9.69649887084961,15.64115047454834,-16.04730987548828,-24.287565231323242,3.383740186691284,-4.961638450622559,54.53105926513672,53.1796989440918,15.15438175201416,52.49840545654297,-40.847782135009766,0.7966952919960022,-23.992345809936523,51.90503692626953,19.749866485595703,-20.443679809570312,-12.815290451049805,-18.46720314025879,-8.759054183959961,-23.20368003845215,54.576534271240234,2.0810511112213135,-0.33752885460853577,8.837563514709473,-13.568522453308105,-22.860403060913086,0.31722691655158997,5.643650054931641,38.43801498413086,21.684633255004883,-20.055879592895508,55.90254211425781,-25.656068801879883,-30.944368362426758,47.638282775878906,-16.53023910522461,15.053281784057617,19.021385192871094,8.839009284973145,-7.268568515777588,13.02146053314209,22.405197143554688,19.648086547851562,-11.975850105285645,57.257225036621094,32.022735595703125,8.132552146911621,-29.547712326049805,-31.440744400024414,-24.463159561157227,7.537599086761475,12.70583724975586,-34.54021453857422,-32.07572555541992,19.984670639038086,-9.53604507446289,25.913063049316406,56.242801666259766,-22.517148971557617,50.6952018737793,53.974281311035156,52.10270309448242,15.12038516998291,58.405517578125,-22.564645767211914,10.118087768554688,17.802505493164062,-36.58812713623047,-17.163238525390625,-39.96858596801758,-17.53447151184082,33.69682693481445,-14.723830223083496,41.999210357666016,41.19089126586914,-22.0332088470459,-18.944286346435547,37.33816146850586,39.8236083984375,26.12932586669922,-27.66148567199707,14.17287826538086,17.620737075805664,-40.02922058105469,-40.0058708190918,55.62701416015625,51.76626968383789,-0.5940044522285461,-4.488339424133301,-22.921733856201172,42.40956497192383,-17.162046432495117,18.24691390991211,41.24384307861328,9.238688468933105,-17.15436363220215,15.207025527954102,8.82741928100586,-35.93802261352539,-35.686187744140625,-16.98782730102539,-35.96648406982422,24.3118953704834,-23.74994468688965,53.645503997802734,-4.949855804443359,18.02853775024414,5.406628608703613,6.503877639770508,34.5631217956543,16.288694381713867,-12.033693313598633,32.29008865356445,15.038832664489746,-34.04167175292969,17.853132247924805,-22.88099479675293,17.997909545898438,23.260408401489258,46.61903762817383,-26.50464630126953,-38.30765151977539,-34.73479080200195,-17.513290405273438,-3.9639222621917725,-11.739228248596191,-31.710546493530273,2.672715663909912,-30.78872299194336,-27.142364501953125,-41.487464904785156,3.371652603149414,8.351938247680664,-32.29285430908203,-32.561859130859375,17.40282440185547,56.70002365112305,-12.600069046020508,-8.718867301940918,-34.12191390991211,-20.920827865600586,-25.870515823364258,-26.89124298095703,-17.822397232055664,42.908023834228516,11.209403991699219,-13.556465148925781,-18.339794158935547,-10.974624633789062,-11.420170783996582,-6.423710346221924,-7.600547790527344,-23.84406280517578,6.394985675811768,-12.79027271270752,59.4503288269043,-21.389549255371094,-21.389524459838867,-38.39572525024414,-18.573719024658203,-9.218496322631836,16.657926559448242,3.1349542140960693,61.544525146484375,4.183986663818359,-18.937673568725586,-41.52445983886719,-47.719146728515625,-13.336746215820312,53.193756103515625,-1.816727638244629,-2.794463634490967,3.1905689239501953,3.1963727474212646,39.574424743652344,-23.077848434448242,-41.93916702270508,-41.93912887573242,39.574459075927734,11.335658073425293,-11.967612266540527,-21.46344757080078,-0.40115851163864136,34.34844970703125,-0.1831205189228058,-11.516590118408203,-8.099967002868652,25.310686111450195,-11.97507095336914,15.786886215209961,10.835615158081055,-5.46843147277832,21.74234390258789,39.20081329345703,-35.662742614746094,-17.17583465576172,-13.260632514953613,54.64065933227539,-8.658631324768066,1.822395920753479,-20.2412166595459,-32.57715606689453,37.47719955444336,-15.952290534973145,-10.009196281433105,-12.331398010253906,44.59737777709961,18.7808780670166,1.433315634727478,-7.97361946105957,-7.907838344573975,19.78960418701172,-5.3052802085876465,-28.829439163208008,0.8880816102027893,-7.078526973724365,-15.354527473449707,-8.693071365356445,-14.688272476196289,6.343354225158691,-13.44654655456543,-14.692587852478027,-5.53343391418457,24.595531463623047,-10.527907371520996,35.47602081298828,8.875021934509277,-15.18389892578125,5.036689281463623,-16.48261260986328,-7.083356857299805,0.6301106214523315,-13.357559204101562,3.624974489212036,40.947784423828125,-16.9437313079834,-20.023420333862305,21.64453125,41.48462677001953,-25.520841598510742,10.671262741088867,10.712892532348633,-3.949213981628418,-12.274002075195312,-33.16426086425781,17.349220275878906,59.0566291809082,57.65517807006836,19.822383880615234,7.749897003173828,19.1524600982666,-7.385368347167969,36.70693588256836,17.019960403442383,19.278121948242188,-21.95768165588379,-49.36848831176758,-28.789508819580078,9.637582778930664,-23.04153060913086,-18.77730941772461,17.388347625732422,-39.08492660522461,-35.04291915893555,-16.893829345703125,-2.476736545562744,49.54018020629883,-2.736884355545044,7.996156692504883,-8.328523635864258,-12.453153610229492,53.19422912597656,-29.046775817871094,-8.947718620300293,25.979372024536133,4.23315954208374,-26.071674346923828,-23.173439025878906,27.27608871459961,-9.19653606414795,-21.16741371154785,-22.860334396362305,29.11737632751465,-6.789295673370361,-23.321224212646484,-10.283870697021484,-0.8558173179626465,-23.076995849609375,18.775558471679688,5.489930629730225,4.00597620010376,-6.825077056884766,57.38216781616211,54.610897064208984,54.61089324951172,-7.052765369415283,1.0467121601104736,38.64871597290039,33.26403045654297,54.610897064208984,-22.866291046142578,39.822086334228516,-22.950517654418945,-23.903051376342773,-20.250408172607422,45.398136138916016,0.3015874922275543,12.191018104553223,-9.007315635681152,-22.417634963989258,-22.719863891601562,-0.2557857632637024,30.566648483276367,-23.632328033447266,-8.179183006286621,-19.056638717651367,56.9479866027832,49.13175582885742,3.8456430435180664,-16.099002838134766,15.954914093017578,-9.097712516784668,21.486494064331055,20.429645538330078,13.012086868286133,-27.63878059387207,7.549686431884766,20.170011520385742,53.249752044677734,12.373035430908203,9.11591911315918,-26.20684814453125,-26.26378059387207,61.256534576416016,11.017226219177246,-3.671637535095215,-21.472021102905273,-26.087080001831055,-3.540043592453003,-9.689286231994629,-2.028871536254883,5.10280179977417,16.73907470703125,3.9676551818847656,-17.794443130493164,14.903630256652832,19.16282844543457,10.308133125305176,11.217339515686035,8.629603385925293,52.67319869995117,3.9675793647766113,-15.3768949508667,20.691240310668945,-2.3350017070770264,-7.968748092651367,19.481517791748047,20.929109573364258,23.012767791748047,53.29210662841797,24.97241973876953,8.547109603881836,22.97184944152832,22.962966918945312,4.905935764312744,23.41876792907715,8.59764575958252,53.25072479248047,26.381879806518555,1.2907884120941162,38.89163589477539,-7.552852153778076,2.0374348163604736,24.425661087036133,-35.639381408691406,-11.861185073852539,-13.125253677368164,-34.56451416015625,-28.005661010742188,-13.066368103027344,-40.500816345214844,-14.93927001953125,47.7276611328125,-38.46585464477539,22.150386810302734,-11.127532005310059,-8.978683471679688,-10.9213285446167,-10.345013618469238,-8.010071754455566,-9.994266510009766,20.27854347229004,-5.006603240966797,-15.206791877746582,-10.702826499938965,-11.926300048828125,-12.154657363891602,-12.935601234436035,-30.14695167541504,9.96066951751709,-12.434554100036621,-10.186788558959961,-38.59305191040039,-13.929367065429688,-31.16676139831543,-37.98677444458008,-13.365263938903809,-34.62435531616211,16.36802101135254,25.3765811920166,63.6339225769043,4.133266448974609,53.34132385253906,-39.239139556884766,2.176539897918701,-32.99957275390625,56.00335693359375,-37.07242965698242,32.56804656982422,-13.97369384765625,-23.092519760131836,54.212100982666016,54.77793884277344,-14.615105628967285,40.02683639526367,43.79664993286133,-36.85264205932617,-35.122432708740234,-17.499116897583008,-40.04364776611328,1.89005708694458,12.521732330322266,-18.752960205078125,-1.1237478256225586,-8.126370429992676,-22.345956802368164,-9.027752876281738,67.42796325683594,-31.901504516601562,67.3591537475586,-17.56800079345703,-25.50957489013672,8.973259925842285,7.4837141036987305,-34.05549240112305,-26.862829208374023,-36.95349884033203,5.615328788757324,3.6028339862823486,25.164798736572266,-23.456403732299805,-25.95376968383789,5.9835968017578125,-8.879613876342773,-24.006338119506836,-25.077707290649414,51.930328369140625,-9.006562232971191,18.68190574645996,2.478978157043457,49.16268539428711,-13.330008506774902,-19.4971981048584,-14.418054580688477,-12.249785423278809,23.25523567199707,20.354999542236328,-25.031591415405273,-8.245976448059082,-7.905140399932861,-9.913477897644043,59.700233459472656,42.032711029052734,38.74769592285156,-7.185532569885254,-12.413087844848633,-23.932802200317383,-34.193660736083984,-22.708236694335938,-3.4107184410095215,-7.013663291931152,0.6914231777191162,-19.28053855895996,-37.76728057861328,-17.627639770507812,-37.89678955078125,-38.11638259887695,11.358634948730469,-7.221479892730713,-12.791022300720215,-27.32981300354004,39.59762954711914,-9.281370162963867,35.822509765625,-10.130197525024414,1.078650951385498,-3.4950270652770996,-22.086606979370117,-33.17667770385742,-32.810543060302734,-26.292251586914062,-8.69572639465332,-9.475306510925293,42.35618591308594,12.362608909606934,-16.96134376525879,-20.91010284423828,-18.3509578704834,6.184508800506592,-13.80457878112793,-6.05566930770874,20.39548683166504,-1.482574462890625,12.361878395080566,14.537538528442383,-16.19590950012207,4.066830635070801,5.25947904586792,-21.137760162353516,-49.13346481323242,-20.862096786499023,38.382816314697266,4.799306869506836,1.0713292360305786,16.96574592590332,41.04624557495117,-26.221755981445312,-36.00928497314453,28.973573684692383,1.7677538394927979,34.16208267211914,-20.09521484375,-4.037518501281738,-33.493316650390625,-1.2474392652511597,-1.209088683128357,-15.545327186584473,-39.16461181640625,9.120818138122559,-21.708820343017578,-23.077856063842773,13.791840553283691,-10.273212432861328,-4.878724098205566,-30.109676361083984,-9.524025917053223,56.77489471435547,-0.044294267892837524,24.225601196289062,19.84264373779297,-38.554141998291016,-14.132245063781738,18.420101165771484,-0.4704568088054657,-32.29047775268555,-10.68398380279541,-41.019161224365234,-24.72688102722168,-2.4481520652770996,-28.110095977783203,-46.272926330566406,-35.531063079833984,-20.51215934753418,-22.97598648071289,-9.387284278869629,26.086214065551758,38.47747802734375,-4.199912071228027,5.946761608123779,55.28119659423828,39.848472595214844,-11.274828910827637,1.3798613548278809,17.030561447143555,2.3605117797851562,-2.0635383129119873,-9.547465324401855,3.803439140319824,1.0758270025253296,-31.3612003326416,26.4456844329834,28.024673461914062,19.510234832763672,27.21417236328125,17.36844253540039,16.117849349975586,51.06958770751953,26.382450103759766,27.358327865600586,-13.314962387084961,26.94757652282715,-13.933709144592285,-9.244328498840332,-36.45493698120117,49.39545822143555,63.14888000488281,-23.889080047607422,-42.18476867675781,-42.44707489013672,-43.42733383178711,-35.051395416259766,-11.98978042602539,28.087486267089844,34.616455078125,31.51604461669922,14.097373008728027,-5.529648780822754,-33.3870964050293,-11.521207809448242,-26.631818771362305,-5.139348030090332,-12.448884963989258,12.68541431427002,8.12740421295166,-34.607086181640625,9.979079246520996,-44.74936294555664,-30.92571449279785,-16.72339630126953,-49.48917770385742,54.843387603759766,-3.852200984954834,-0.14617271721363068,10.170354843139648,-5.741695880889893,7.377669811248779,8.97325611114502,44.9869499206543,13.871079444885254,-13.926375389099121,-18.460559844970703,-18.657596588134766,16.148441314697266,-17.909984588623047,41.03636169433594,-4.3212199211120605,17.062442779541016,19.84833526611328,-0.36779260635375977,10.312222480773926,25.177101135253906,23.807897567749023,-25.785974502563477,-25.07961654663086,-19.06781578063965,-19.46747589111328,20.63170623779297,21.45252799987793,49.88886260986328,3.8569440841674805,7.900067329406738,7.561384677886963,-5.91676139831543,-32.96979904174805,-8.645610809326172,19.94612693786621,-12.539043426513672,17.26528549194336,8.728565216064453,-10.714159965515137,2.2520406246185303,-2.046961784362793,-31.425661087036133,-8.582392692565918,11.835578918457031,58.06557846069336,62.72406768798828,-7.046140193939209,50.63288116455078,15.883543014526367,8.448579788208008,2.462028741836548,35.04204177856445,21.154865264892578,15.227468490600586,-2.6018893718719482,-32.94933319091797,28.77706527709961,28.77706527709961,42.48301315307617,-13.215116500854492,-5.757619380950928,1.8773972988128662,-18.22311019897461,-22.921733856201172,-23.36861228942871,-26.363174438476562,-19.460500717163086,-21.589820861816406,-12.21959114074707,-40.354164123535156,53.08439636230469,-33.966087341308594,42.72904586791992,-44.81305694580078,-12.318596839904785,55.457393646240234,-47.717281341552734,-37.317447662353516,-9.617731094360352,-44.658512115478516,-18.731426239013672,5.751596927642822,-44.818912506103516,-41.865909576416016,-26.5975284576416,-43.874820709228516,-36.45023727416992,-41.267433166503906,42.11902618408203,-25.571401596069336,-19.95894432067871,6.6705498695373535,-33.84811019897461,-41.62894821166992,45.00667953491211,-26.80500030517578,-41.214210510253906,-36.39707565307617,43.771514892578125,-37.271793365478516,30.302946090698242,-14.80799388885498,-27.12921714782715,32.74302673339844,58.055145263671875,-46.35017776489258,11.209367752075195,-7.248887538909912,-30.64217758178711,-28.213661193847656,3.7992680072784424,5.449028968811035,46.32843780517578,-12.737058639526367,-26.89589500427246,-6.321903228759766,-5.742902755737305,-32.10497283935547,20.346698760986328,-36.58244323730469,19.580110549926758,-29.97867774963379,14.835196495056152,39.85232162475586,46.04586410522461,-11.43727970123291,27.15094757080078,33.95196533203125,-11.0330228805542,62.511016845703125,-22.566417694091797,-1.2593586444854736,32.726768493652344,-9.755568504333496,12.001788139343262,15.790958404541016,10.843684196472168,-4.357760906219482,-6.137274742126465,15.954767227172852,-29.24449920654297,8.461917877197266,0.15702703595161438,-17.500635147094727,38.477603912353516,6.519559383392334,45.840084075927734,41.882896423339844,41.88299560546875,8.64941120147705,10.478659629821777,53.11675262451172,-25.09112548828125,28.893632888793945,1.2865056991577148,1.9654276371002197,-7.427619457244873,55.1072998046875,-21.69857406616211,-16.91874122619629,-0.5289259552955627,-6.07501745223999,-5.101464748382568,-24.055397033691406,24.336217880249023,-4.99556827545166,24.542503356933594,-28.039506912231445,-36.594425201416016,-24.98040008544922,-28.278602600097656,-26.353187561035156,-37.07722854614258,-29.62681007385254,5.077187538146973,-24.867338180541992,20.201486587524414,-24.514265060424805,29.861892700195312,-24.376667022705078,-8.661489486694336,37.430076599121094,-24.061681747436523,14.664148330688477,24.27524757385254,-10.722198486328125,61.030887603759766,-23.82247543334961,-0.1748455911874771,46.28425979614258,19.61724281311035,52.849273681640625,37.54441833496094,-40.479644775390625,13.082727432250977,13.30579662322998,23.661115646362305,21.809019088745117,0.48482954502105713,10.177810668945312,35.95029830932617,50.038848876953125,1.6082119941711426,23.710933685302734,-0.10860244184732437,-33.809200286865234,19.9847354888916,-41.642581939697266,-41.30375671386719,15.993308067321777,-27.150053024291992,-4.633585453033447,13.833823204040527,-9.191356658935547,25.402957916259766,5.927515029907227,21.13738250732422,-23.9512996673584,32.864463806152344,25.95201873779297,-0.019164565950632095,-10.22559928894043,53.33795928955078,17.014781951904297,52.0488395690918,-7.670588493347168,0.22086158394813538,53.34418487548828,49.94487380981445,58.781280517578125,24.24846649169922,27.07020378112793,48.39469528198242,30.34258460998535,39.65415954589844,-35.978816986083984,-8.764241218566895,-20.886234283447266,-26.245832443237305,-40.49966812133789,3.6686854362487793,-0.35998350381851196,16.6895809173584,15.159878730773926,11.332816123962402,22.808013916015625,-45.89299774169922,15.866410255432129,-17.056888580322266,-8.24390697479248,-22.81606674194336,-32.184288024902344,-35.776405334472656,-3.04443621635437,-42.179771423339844,33.94762420654297,-19.73459243774414,27.831256866455078,16.21375846862793,-44.51860046386719,-13.643019676208496,-16.540637969970703,23.91114044189453,-10.913529396057129,-16.32181167602539,18.06443214416504,12.612789154052734,-7.365816116333008,18.064355850219727,-3.000241756439209,-16.246721267700195,-26.81917381286621,-14.07662296295166,11.48267936706543,-19.026123046875,-3.5621256828308105,-16.90814781188965,3.943330764770508,20.180448532104492,46.909942626953125,40.41335678100586,13.946976661682129,-33.780128479003906,-32.99834060668945,-30.786453247070312,-22.38315773010254,30.700132369995117,3.166862964630127,37.4474983215332,-34.07786560058594,-21.71483612060547,-9.393033981323242,22.564905166625977,4.5062432289123535,-11.267706871032715,-22.118206024169922,-24.80657196044922,39.32389450073242,-8.699015617370605,-23.276687622070312,-9.00070858001709,-22.59258460998535,-10.421236038208008,-2.246739625930786,36.60502624511719,-4.6906962394714355,33.69679641723633,30.86766815185547,19.952041625976562,25.789470672607422,-22.969898223876953,45.094669342041016,-36.57536697387695,3.4411303997039795,0.016871025785803795,4.433664798736572,20.28726577758789,47.82213592529297,-10.200739860534668,-15.006548881530762,45.00724792480469,-32.83213424682617,-23.67797088623047,23.671934127807617,18.44523048400879,11.56674575805664,-29.41120147705078,31.203189849853516,-41.03996276855469,53.33565902709961,13.861892700195312,-30.87680435180664,52.84599685668945,-15.010668754577637,7.377811908721924,20.14706802368164,-24.766572952270508,25.29935073852539,4.175806045532227,-11.63912582397461,-29.306154251098633,-48.6401252746582,-2.775073766708374,-7.369960784912109,9.492855072021484,-16.605836868286133,-26.495887756347656,42.983375549316406,56.67021179199219,-24.354385375976562,-28.093677520751953,33.43044662475586,4.681375503540039,-28.685821533203125,-23.1392822265625,-35.15631103515625,-13.836731910705566,-49.52684783935547,-31.2146053314209,1.638712763786316,44.552703857421875,0.7745366096496582,-5.01318883895874,-28.365949630737305,-41.52077102661133,-5.092939853668213,-1.1587152481079102,-1.6508713960647583,41.63679504394531,-3.6648905277252197,-2.692760705947876,36.1737174987793,-42.51182174682617,1.3146013021469116,-22.749032974243164,-11.917562484741211,-3.119436502456665,13.394254684448242,4.790732383728027,-24.426666259765625,22.26255989074707,54.76390838623047,-11.995038986206055,-16.775348663330078,15.345787048339844,31.978281021118164,1.258522629737854,44.856571197509766,18.237102508544922,-30.461902618408203,54.76422882080078,-22.2335205078125,-36.30664825439453,53.64878845214844,-27.12116050720215,-6.646920204162598,51.33389663696289,-7.741520881652832,-9.069812774658203,-9.077422142028809,-9.757641792297363,-7.010622501373291,54.15089416503906,12.97719669342041,-1.5116300582885742,-12.977429389953613,44.47239303588867,54.50962829589844,-14.544647216796875,-43.89457702636719,7.039676666259766,-12.085668563842773,-14.686029434204102,-15.670926094055176,-27.547605514526367,-7.9316840171813965,-1.5563732385635376,-19.892711639404297,-7.795114040374756,-7.186565399169922,8.790332794189453,-28.152915954589844,-26.43783950805664,-8.793944358825684,-0.30384939908981323,-9.332696914672852,50.38669204711914,-21.011138916015625,-20.698020935058594,29.787609100341797,-4.827441215515137,-21.18828010559082,-32.85630416870117,-33.183868408203125,32.09779357910156,14.899986267089844,20.172563552856445,32.615413665771484,-1.355280876159668,18.146677017211914,12.558100700378418,-11.650850296020508,19.17269515991211,-11.845638275146484,14.928318977355957,-10.264982223510742,26.002655029296875,4.13619327545166,31.374738693237305,19.64694595336914,8.336508750915527,-12.304997444152832,-46.437400817871094,2.337857961654663,-16.775672912597656,-32.94914245605469,56.805389404296875,4.901610374450684,39.683048248291016,49.61085510253906,17.55602264404297,27.359519958496094,13.262410163879395,18.86861228942871,52.819915771484375,31.315000534057617,12.418106079101562,27.931758880615234,43.521095275878906,33.32048034667969,42.92763137817383,63.225765228271484,22.55322265625,11.019800186157227,-27.550193786621094,-13.721342086791992,29.539838790893555,10.157025337219238,36.408573150634766,-13.904687881469727,-30.517080307006836,-21.34500503540039,4.22097110748291,26.150684356689453,11.69935131072998,10.82547664642334,31.3133487701416,14.003584861755371,17.597440719604492,10.612411499023438,-41.174041748046875,-15.38646125793457,11.187193870544434,-37.376869201660156,53.8873176574707,49.48017120361328,18.202911376953125,18.738290786743164,16.850366592407227,23.494749069213867,22.810319900512695,-41.866455078125,-6.155125617980957,-5.859684944152832,-13.536543846130371,2.7469661235809326,32.98760986328125,-17.064273834228516,-23.025802612304688,-9.318855285644531,-12.392990112304688,-24.306446075439453,-29.046688079833984,-6.411224842071533,-22.656919479370117,-29.818899154663086,-2.244873285293579,-37.80696105957031,-6.154387950897217,-22.807985305786133,-17.71690559387207,-50.49345779418945,-20.546030044555664,-23.05441665649414,-10.4713134765625,-36.998443603515625,-16.299781799316406,-15.581296920776367,12.832892417907715,64.54605865478516,-25.763689041137695,9.8558988571167,-28.93600082397461,-28.993772506713867,6.458324909210205,19.27983283996582,-23.606571197509766,34.626529693603516,45.730079650878906,-37.126853942871094,-19.771751403808594,-7.697633743286133,-11.30080795288086,-33.708984375,-17.951194763183594,-17.781211853027344,-35.91813278198242,-16.57051658630371,-23.534379959106445,6.400959014892578,49.75352096557617,-4.424002170562744,-41.8687858581543,-7.621670246124268,-16.64101219177246,-29.0956974029541,35.1728630065918,-12.739664077758789,-29.745790481567383,49.02897262573242,-35.45399856567383,-23.808012008666992,40.56454849243164,18.141511917114258,51.90778350830078,-4.645384311676025,55.916603088378906,9.899497032165527,50.49561309814453,-34.04182434082031,-37.36600112915039,-31.130041122436523,-9.906002044677734,-4.488436698913574,1.3486536741256714,10.057748794555664,-12.787918090820312,-1.5563737154006958,9.646350860595703,48.31119918823242,10.18412971496582,-11.770498275756836,-13.692535400390625,-45.26253128051758,38.29413604736328,-44.42426300048828,0.6162269115447998,-35.53305435180664,-36.37520217895508,-42.74831008911133,-42.80455780029297,-8.514643669128418,39.515289306640625,4.175806045532227,-38.864192962646484,-29.279300689697266,-13.041044235229492,-16.092336654663086,-33.428104400634766,-31.06681251525879,-3.8438167572021484,-12.026939392089844,36.55470275878906,9.746768951416016,0.05653856322169304,56.61393737792969,3.865877151489258,43.322479248046875,-3.2218496799468994,3.912801504135132,26.986324310302734,10.963305473327637,41.732521057128906,44.805519104003906,44.99750900268555,11.55501651763916,11.554938316345215,-17.706140518188477,-3.5426931381225586,51.647117614746094,10.691463470458984,-14.052064895629883,43.77988052368164,-10.968291282653809,14.32600212097168,41.255027770996094,-45.29772186279297,-9.974859237670898,41.56489562988281,-27.509033203125,11.553078651428223,6.687667369842529,-16.37370491027832,-38.186241149902344,-33.222190856933594,-45.31666564941406,-45.34831619262695,-38.338008880615234,-34.69191360473633,-38.096168518066406,-36.36415481567383,-35.54695129394531,-18.742103576660156,-42.93568801879883,10.265092849731445,-30.574594497680664,49.42487716674805,-21.833656311035156,18.59947967529297,-23.51390838623047,-15.723867416381836,-33.84865188598633,-1.593152403831482,-18.19735336303711,-6.188600063323975,49.14811325073242,-12.859119415283203,-19.196561813354492,1.039324164390564,-4.076138973236084,-5.668814182281494,1.3554822206497192,-6.155134201049805,12.950008392333984,-15.38448715209961,14.635367393493652,-24.15572166442871,8.967926025390625,-14.151681900024414,-22.59576416015625,-16.088224411010742,24.090496063232422,-26.663711547851562,-10.516168594360352,-32.94453811645508,51.11475372314453,38.90011215209961,-10.604216575622559,-33.71509552001953,4.109102725982666,-35.31128692626953,-38.14311218261719,45.63607406616211,46.52361297607422,-12.12175178527832,-31.5135440826416,-3.9497361183166504,-3.960376501083374,-37.65946578979492,14.969624519348145,17.272964477539062,-7.435352802276611,44.307403564453125,47.554195404052734,6.991462230682373,-13.216903686523438,19.416810989379883,15.144813537597656,-42.318424224853516,-10.961690902709961,-4.605249881744385,-2.912210464477539,-8.84094524383545,5.500580310821533,-6.730221748352051,-38.41366195678711,-22.902435302734375,3.3442232608795166,65.80254364013672,57.29319381713867,15.822340965270996,-39.03327560424805,16.065757751464844,-18.262989044189453,-1.9080538749694824,33.38343811035156,-14.193131446838379,4.474757671356201,13.997896194458008,23.701505661010742,17.30734634399414,4.509398460388184,16.553564071655273,14.957328796386719,39.05434036254883,-35.11829376220703,56.80537033081055,-11.68193244934082,1.628702998161316,29.77749252319336,-1.7316181659698486,16.25397300720215,45.650760650634766,-31.56725311279297,-33.339744567871094,7.596802234649658,-13.146674156188965,-43.832679748535156,-31.34092903137207,2.23395037651062,-37.65509033203125,-39.08601760864258,-39.747703552246094,-25.614639282226562,53.194400787353516,11.3532075881958,-22.989578247070312,-31.01508140563965,62.2489128112793,-11.277715682983398,-35.692081451416016,14.923081398010254,1.5813802480697632,15.221994400024414,5.7699689865112305,0.5902931094169617,-17.176645278930664,-17.204023361206055,-43.917457580566406,-24.40471839904785,-43.53546905517578,-33.01609802246094,-11.105238914489746,58.822391510009766,-2.6316416263580322,50.27063751220703,-3.3504374027252197,50.15699768066406,1.2847497463226318,0.42125606536865234,-37.98944854736328,-9.544557571411133,-17.847782135009766,26.307096481323242,7.618069171905518,-32.81785583496094,-32.756675720214844,54.334651947021484,10.525399208068848,15.89276123046875,-19.59136390686035,3.9728646278381348,11.790792465209961,32.95559310913086,-23.875459671020508,4.229991436004639,55.61365509033203,-24.340940475463867,-6.214949131011963,-24.124876022338867,51.58292770385742,40.49833297729492,1.0569186210632324,40.49833679199219,-7.648083686828613,-19.225614547729492,-14.963201522827148,-12.374197006225586,-1.0642601251602173,30.604869842529297,10.855186462402344,30.262014389038086,41.48477554321289,63.4959831237793,-10.056674003601074,-27.4296875,44.45968246459961,-17.847097396850586,-18.842763900756836,9.946695327758789,-18.5559139251709,46.15860366821289,-10.4631929397583,-13.226153373718262,-6.927186489105225,54.023189544677734,-9.443438529968262,34.962337493896484,34.92021179199219,18.363306045532227,-4.738119125366211,-32.681392669677734,20.389671325683594,-0.1511431187391281,-13.68981647491455,-33.70546340942383,-7.136879920959473,-0.07677740603685379,-9.073912620544434,-31.654342651367188,39.30048370361328,35.31473922729492,-22.102514266967773,39.201210021972656,-35.478858947753906,11.458301544189453,16.709392547607422,12.946699142456055,17.939308166503906,-40.85198211669922,-24.392297744750977,-32.03997039794922,15.300543785095215,6.204511642456055,-13.34939956665039,31.609508514404297,19.058609008789062,-9.526453018188477,-37.869842529296875,26.78190803527832,39.49605941772461,43.27922821044922,-7.162224292755127,49.6467170715332,16.745433807373047,17.801361083984375,-1.0202220678329468,5.427494049072266,43.279205322265625,-0.2253255993127823,-13.898926734924316,0.2823609709739685,7.6780476570129395,-4.779662132263184,32.74063491821289,23.207998275756836,29.828813552856445,52.17379379272461,-8.06202507019043,-1.0202220678329468,53.22870635986328,17.939167022705078,35.279850006103516,5.971117973327637,-10.759377479553223,-5.282957077026367,14.04824161529541,2.430544853210449,-4.4248456954956055,-5.456323623657227,50.99992752075195,-31.678058624267578,-34.2125358581543,49.755863189697266,56.41755676269531,-11.254016876220703,-2.790565013885498,51.793121337890625,-6.7023773193359375,12.099152565002441,-8.438651084899902,-6.635899066925049,50.695228576660156,54.14961242675781,12.4548921585083,-27.038774490356445,-25.136215209960938,17.237991333007812,-26.914791107177734,-36.06163787841797,-42.51181411743164,7.497621059417725,-9.000584602355957,5.605744361877441,-12.297380447387695,-3.574932336807251,-8.73730182647705,-11.23180866241455,-43.11463165283203,-10.198318481445312,-3.495089054107666,-24.71294403076172,-44.100955963134766,-35.932254791259766,-34.23388671875,-40.77278137207031,13.865004539489746,-34.12297058105469,-34.48106002807617,16.059677124023438,24.2887020111084,38.1259651184082,4.400358200073242,54.14278030395508,33.45676040649414,32.25630569458008,23.23163604736328,8.210122108459473,-43.03840637207031,-8.656343460083008,-40.2552375793457,3.909346103668213,-24.99170684814453,30.559572219848633,-39.93046188354492,-23.310529708862305,-8.282699584960938,-30.482986450195312,13.603389739990234,5.487264633178711,-27.765132904052734,-27.517343521118164,-29.144428253173828,-41.654327392578125,-27.65174674987793,7.749896049499512,-19.8568172454834,-16.472061157226562,22.1102352142334,37.54051971435547,-50.457313537597656,-32.32831573486328,53.36874008178711,34.605892181396484,-32.60836410522461,5.750807762145996,-28.92604637145996,-11.33985424041748,49.490997314453125,-41.1933479309082,-38.4965705871582,-24.961740493774414,-1.8916159868240356,-34.58137893676758,-31.058956146240234,-1.1772786378860474,-42.034854888916016,-44.74266815185547,-35.83234786987305,48.58149719238281,33.64579391479492,15.347075462341309,-37.59476852416992,-16.227313995361328,-21.521512985229492,-1.2583625316619873,4.022024154663086,-16.145606994628906,-32.33359146118164,-14.343292236328125,-12.470081329345703,-22.221994400024414,-18.20035171508789,51.50267791748047,22.091922760009766,14.248355865478516,-32.48066329956055,-45.20450973510742,43.40274429321289,18.80048370361328,-30.706371307373047,-34.89778137207031,3.166127920150757,-21.66239356994629,-6.710723400115967,-2.5754764080047607,-36.63512420654297,-7.248887538909912,-35.93952178955078,26.39471435546875,-43.44935989379883,-44.711666107177734,46.526939392089844,37.29080581665039,-3.1234567165374756,47.32930374145508,32.74302673339844,-13.028660774230957,-17.683834075927734,30.919742584228516,43.31858825683594,-18.81981086730957,10.951031684875488,46.07831954956055,-22.08780860900879,14.822710990905762,53.65687942504883,17.304189682006836,25.164844512939453,-16.958627700805664,-22.263429641723633,-5.249487400054932,-11.509196281433105,-0.8390222787857056,-11.262481689453125,-10.14296817779541,58.42959213256836,49.26313781738281,20.50777816772461,33.56702423095703,64.60226440429688,20.382795333862305,-9.985123634338379,49.770538330078125,-20.093536376953125,-9.067598342895508,51.97505569458008,64.50695037841797,-12.937535285949707,10.573918342590332,14.312152862548828,12.745450019836426,-34.15726089477539,23.03472137451172,36.86930847167969,-8.452590942382812,20.36522674560547,6.512403964996338,-8.120304107666016,-1.5502064228057861,32.05231857299805,-41.562171936035156,-18.167173385620117,-41.84783172607422,-14.414271354675293,4.126224517822266,-27.03382110595703,18.445419311523438,43.47212219238281,46.37356948852539,-6.29989767074585,-17.2447509765625,15.679215431213379,-10.32452392578125,-43.11463165283203,-26.978357315063477,56.58112716674805,-42.10155487060547,-45.88456344604492,-10.886667251586914,26.81826400756836,12.415982246398926,-7.2596001625061035,-14.135805130004883,-13.730664253234863,-6.789641857147217,51.8548583984375,-5.166313171386719,6.828856945037842,10.31407642364502,-36.504886627197266,12.006131172180176,21.257667541503906,-36.599021911621094,-23.12230682373047,-37.731632232666016,-40.287071228027344,-7.821262836456299,-15.632623672485352,20.053817749023438,22.107526779174805,-24.148056030273438,-11.759153366088867,17.03862762451172,39.51614761352539,56.581382751464844,56.5810661315918,31.609508514404297,35.95026779174805,23.325477600097656,-44.20990753173828,-31.888032913208008,-12.555400848388672,-21.818679809570312,-38.145668029785156,-23.412086486816406,13.613106727600098,-28.334545135498047,-29.07717514038086,-37.5580940246582,-10.549560546875,-36.391456604003906,-31.08456802368164,50.37285614013672,-29.29705047607422,-41.713348388671875,-28.498958587646484,-35.518245697021484,-37.693565368652344,-9.631450653076172,40.78337860107422,-17.087614059448242,-7.981346607208252,-7.4262261390686035,-13.641826629638672,-9.013726234436035,-11.78859806060791,-24.80069923400879,14.63483715057373,16.349653244018555,-17.1890811920166,21.71365737915039,-6.915189743041992,-31.197877883911133,-32.126502990722656,-14.90597152709961,43.603485107421875,58.03689193725586,-42.5524787902832,-33.910587310791016,17.321664810180664,-37.66963195800781,-8.65204906463623,-39.67644119262695,14.603163719177246,61.694488525390625,22.020540237426758,8.932337760925293,9.833176612854004,10.476263046264648,40.49391555786133,13.55095386505127,-21.33983612060547,56.03825759887695,-21.095977783203125,-13.163509368896484,46.73093032836914,-4.421310901641846,-33.141849517822266,-7.248887538909912,-38.66266632080078,6.138038158416748,-0.8863879442214966,21.028526306152344,-1.8622877597808838,-18.76409339904785,26.163244247436523,-7.139289855957031,-16.786624908447266,8.870580673217773,-0.06000408157706261,-3.8854315280914307,3.99847412109375,-0.9087561964988708,-1.0990957021713257,12.533510208129883,-26.127601623535156,16.972488403320312,-14.636582374572754,-40.398311614990234,32.94046401977539,-35.003379821777344,-11.63645076751709,31.7651424407959,-34.27458190917969,7.414970397949219,25.951826095581055,-18.55613899230957,2.392409324645996,-36.51982879638672,-11.42264461517334,52.895896911621094,4.771204948425293,-5.367980480194092,59.951290130615234,9.057832717895508,57.10572052001953,-41.104469299316406,-39.15068817138672,-37.85909652709961],\"yaxis\":\"y\",\"type\":\"scattergl\"}],                        {\"template\":{\"data\":{\"bar\":[{\"error_x\":{\"color\":\"#2a3f5f\"},\"error_y\":{\"color\":\"#2a3f5f\"},\"marker\":{\"line\":{\"color\":\"#E5ECF6\",\"width\":0.5},\"pattern\":{\"fillmode\":\"overlay\",\"size\":10,\"solidity\":0.2}},\"type\":\"bar\"}],\"barpolar\":[{\"marker\":{\"line\":{\"color\":\"#E5ECF6\",\"width\":0.5},\"pattern\":{\"fillmode\":\"overlay\",\"size\":10,\"solidity\":0.2}},\"type\":\"barpolar\"}],\"carpet\":[{\"aaxis\":{\"endlinecolor\":\"#2a3f5f\",\"gridcolor\":\"white\",\"linecolor\":\"white\",\"minorgridcolor\":\"white\",\"startlinecolor\":\"#2a3f5f\"},\"baxis\":{\"endlinecolor\":\"#2a3f5f\",\"gridcolor\":\"white\",\"linecolor\":\"white\",\"minorgridcolor\":\"white\",\"startlinecolor\":\"#2a3f5f\"},\"type\":\"carpet\"}],\"choropleth\":[{\"colorbar\":{\"outlinewidth\":0,\"ticks\":\"\"},\"type\":\"choropleth\"}],\"contour\":[{\"colorbar\":{\"outlinewidth\":0,\"ticks\":\"\"},\"colorscale\":[[0.0,\"#0d0887\"],[0.1111111111111111,\"#46039f\"],[0.2222222222222222,\"#7201a8\"],[0.3333333333333333,\"#9c179e\"],[0.4444444444444444,\"#bd3786\"],[0.5555555555555556,\"#d8576b\"],[0.6666666666666666,\"#ed7953\"],[0.7777777777777778,\"#fb9f3a\"],[0.8888888888888888,\"#fdca26\"],[1.0,\"#f0f921\"]],\"type\":\"contour\"}],\"contourcarpet\":[{\"colorbar\":{\"outlinewidth\":0,\"ticks\":\"\"},\"type\":\"contourcarpet\"}],\"heatmap\":[{\"colorbar\":{\"outlinewidth\":0,\"ticks\":\"\"},\"colorscale\":[[0.0,\"#0d0887\"],[0.1111111111111111,\"#46039f\"],[0.2222222222222222,\"#7201a8\"],[0.3333333333333333,\"#9c179e\"],[0.4444444444444444,\"#bd3786\"],[0.5555555555555556,\"#d8576b\"],[0.6666666666666666,\"#ed7953\"],[0.7777777777777778,\"#fb9f3a\"],[0.8888888888888888,\"#fdca26\"],[1.0,\"#f0f921\"]],\"type\":\"heatmap\"}],\"heatmapgl\":[{\"colorbar\":{\"outlinewidth\":0,\"ticks\":\"\"},\"colorscale\":[[0.0,\"#0d0887\"],[0.1111111111111111,\"#46039f\"],[0.2222222222222222,\"#7201a8\"],[0.3333333333333333,\"#9c179e\"],[0.4444444444444444,\"#bd3786\"],[0.5555555555555556,\"#d8576b\"],[0.6666666666666666,\"#ed7953\"],[0.7777777777777778,\"#fb9f3a\"],[0.8888888888888888,\"#fdca26\"],[1.0,\"#f0f921\"]],\"type\":\"heatmapgl\"}],\"histogram\":[{\"marker\":{\"pattern\":{\"fillmode\":\"overlay\",\"size\":10,\"solidity\":0.2}},\"type\":\"histogram\"}],\"histogram2d\":[{\"colorbar\":{\"outlinewidth\":0,\"ticks\":\"\"},\"colorscale\":[[0.0,\"#0d0887\"],[0.1111111111111111,\"#46039f\"],[0.2222222222222222,\"#7201a8\"],[0.3333333333333333,\"#9c179e\"],[0.4444444444444444,\"#bd3786\"],[0.5555555555555556,\"#d8576b\"],[0.6666666666666666,\"#ed7953\"],[0.7777777777777778,\"#fb9f3a\"],[0.8888888888888888,\"#fdca26\"],[1.0,\"#f0f921\"]],\"type\":\"histogram2d\"}],\"histogram2dcontour\":[{\"colorbar\":{\"outlinewidth\":0,\"ticks\":\"\"},\"colorscale\":[[0.0,\"#0d0887\"],[0.1111111111111111,\"#46039f\"],[0.2222222222222222,\"#7201a8\"],[0.3333333333333333,\"#9c179e\"],[0.4444444444444444,\"#bd3786\"],[0.5555555555555556,\"#d8576b\"],[0.6666666666666666,\"#ed7953\"],[0.7777777777777778,\"#fb9f3a\"],[0.8888888888888888,\"#fdca26\"],[1.0,\"#f0f921\"]],\"type\":\"histogram2dcontour\"}],\"mesh3d\":[{\"colorbar\":{\"outlinewidth\":0,\"ticks\":\"\"},\"type\":\"mesh3d\"}],\"parcoords\":[{\"line\":{\"colorbar\":{\"outlinewidth\":0,\"ticks\":\"\"}},\"type\":\"parcoords\"}],\"pie\":[{\"automargin\":true,\"type\":\"pie\"}],\"scatter\":[{\"marker\":{\"colorbar\":{\"outlinewidth\":0,\"ticks\":\"\"}},\"type\":\"scatter\"}],\"scatter3d\":[{\"line\":{\"colorbar\":{\"outlinewidth\":0,\"ticks\":\"\"}},\"marker\":{\"colorbar\":{\"outlinewidth\":0,\"ticks\":\"\"}},\"type\":\"scatter3d\"}],\"scattercarpet\":[{\"marker\":{\"colorbar\":{\"outlinewidth\":0,\"ticks\":\"\"}},\"type\":\"scattercarpet\"}],\"scattergeo\":[{\"marker\":{\"colorbar\":{\"outlinewidth\":0,\"ticks\":\"\"}},\"type\":\"scattergeo\"}],\"scattergl\":[{\"marker\":{\"colorbar\":{\"outlinewidth\":0,\"ticks\":\"\"}},\"type\":\"scattergl\"}],\"scattermapbox\":[{\"marker\":{\"colorbar\":{\"outlinewidth\":0,\"ticks\":\"\"}},\"type\":\"scattermapbox\"}],\"scatterpolar\":[{\"marker\":{\"colorbar\":{\"outlinewidth\":0,\"ticks\":\"\"}},\"type\":\"scatterpolar\"}],\"scatterpolargl\":[{\"marker\":{\"colorbar\":{\"outlinewidth\":0,\"ticks\":\"\"}},\"type\":\"scatterpolargl\"}],\"scatterternary\":[{\"marker\":{\"colorbar\":{\"outlinewidth\":0,\"ticks\":\"\"}},\"type\":\"scatterternary\"}],\"surface\":[{\"colorbar\":{\"outlinewidth\":0,\"ticks\":\"\"},\"colorscale\":[[0.0,\"#0d0887\"],[0.1111111111111111,\"#46039f\"],[0.2222222222222222,\"#7201a8\"],[0.3333333333333333,\"#9c179e\"],[0.4444444444444444,\"#bd3786\"],[0.5555555555555556,\"#d8576b\"],[0.6666666666666666,\"#ed7953\"],[0.7777777777777778,\"#fb9f3a\"],[0.8888888888888888,\"#fdca26\"],[1.0,\"#f0f921\"]],\"type\":\"surface\"}],\"table\":[{\"cells\":{\"fill\":{\"color\":\"#EBF0F8\"},\"line\":{\"color\":\"white\"}},\"header\":{\"fill\":{\"color\":\"#C8D4E3\"},\"line\":{\"color\":\"white\"}},\"type\":\"table\"}]},\"layout\":{\"annotationdefaults\":{\"arrowcolor\":\"#2a3f5f\",\"arrowhead\":0,\"arrowwidth\":1},\"autotypenumbers\":\"strict\",\"coloraxis\":{\"colorbar\":{\"outlinewidth\":0,\"ticks\":\"\"}},\"colorscale\":{\"diverging\":[[0,\"#8e0152\"],[0.1,\"#c51b7d\"],[0.2,\"#de77ae\"],[0.3,\"#f1b6da\"],[0.4,\"#fde0ef\"],[0.5,\"#f7f7f7\"],[0.6,\"#e6f5d0\"],[0.7,\"#b8e186\"],[0.8,\"#7fbc41\"],[0.9,\"#4d9221\"],[1,\"#276419\"]],\"sequential\":[[0.0,\"#0d0887\"],[0.1111111111111111,\"#46039f\"],[0.2222222222222222,\"#7201a8\"],[0.3333333333333333,\"#9c179e\"],[0.4444444444444444,\"#bd3786\"],[0.5555555555555556,\"#d8576b\"],[0.6666666666666666,\"#ed7953\"],[0.7777777777777778,\"#fb9f3a\"],[0.8888888888888888,\"#fdca26\"],[1.0,\"#f0f921\"]],\"sequentialminus\":[[0.0,\"#0d0887\"],[0.1111111111111111,\"#46039f\"],[0.2222222222222222,\"#7201a8\"],[0.3333333333333333,\"#9c179e\"],[0.4444444444444444,\"#bd3786\"],[0.5555555555555556,\"#d8576b\"],[0.6666666666666666,\"#ed7953\"],[0.7777777777777778,\"#fb9f3a\"],[0.8888888888888888,\"#fdca26\"],[1.0,\"#f0f921\"]]},\"colorway\":[\"#636efa\",\"#EF553B\",\"#00cc96\",\"#ab63fa\",\"#FFA15A\",\"#19d3f3\",\"#FF6692\",\"#B6E880\",\"#FF97FF\",\"#FECB52\"],\"font\":{\"color\":\"#2a3f5f\"},\"geo\":{\"bgcolor\":\"white\",\"lakecolor\":\"white\",\"landcolor\":\"#E5ECF6\",\"showlakes\":true,\"showland\":true,\"subunitcolor\":\"white\"},\"hoverlabel\":{\"align\":\"left\"},\"hovermode\":\"closest\",\"mapbox\":{\"style\":\"light\"},\"paper_bgcolor\":\"white\",\"plot_bgcolor\":\"#E5ECF6\",\"polar\":{\"angularaxis\":{\"gridcolor\":\"white\",\"linecolor\":\"white\",\"ticks\":\"\"},\"bgcolor\":\"#E5ECF6\",\"radialaxis\":{\"gridcolor\":\"white\",\"linecolor\":\"white\",\"ticks\":\"\"}},\"scene\":{\"xaxis\":{\"backgroundcolor\":\"#E5ECF6\",\"gridcolor\":\"white\",\"gridwidth\":2,\"linecolor\":\"white\",\"showbackground\":true,\"ticks\":\"\",\"zerolinecolor\":\"white\"},\"yaxis\":{\"backgroundcolor\":\"#E5ECF6\",\"gridcolor\":\"white\",\"gridwidth\":2,\"linecolor\":\"white\",\"showbackground\":true,\"ticks\":\"\",\"zerolinecolor\":\"white\"},\"zaxis\":{\"backgroundcolor\":\"#E5ECF6\",\"gridcolor\":\"white\",\"gridwidth\":2,\"linecolor\":\"white\",\"showbackground\":true,\"ticks\":\"\",\"zerolinecolor\":\"white\"}},\"shapedefaults\":{\"line\":{\"color\":\"#2a3f5f\"}},\"ternary\":{\"aaxis\":{\"gridcolor\":\"white\",\"linecolor\":\"white\",\"ticks\":\"\"},\"baxis\":{\"gridcolor\":\"white\",\"linecolor\":\"white\",\"ticks\":\"\"},\"bgcolor\":\"#E5ECF6\",\"caxis\":{\"gridcolor\":\"white\",\"linecolor\":\"white\",\"ticks\":\"\"}},\"title\":{\"x\":0.05},\"xaxis\":{\"automargin\":true,\"gridcolor\":\"white\",\"linecolor\":\"white\",\"ticks\":\"\",\"title\":{\"standoff\":15},\"zerolinecolor\":\"white\",\"zerolinewidth\":2},\"yaxis\":{\"automargin\":true,\"gridcolor\":\"white\",\"linecolor\":\"white\",\"ticks\":\"\",\"title\":{\"standoff\":15},\"zerolinecolor\":\"white\",\"zerolinewidth\":2}}},\"xaxis\":{\"anchor\":\"y\",\"domain\":[0.0,1.0],\"title\":{\"text\":\"x\"}},\"yaxis\":{\"anchor\":\"x\",\"domain\":[0.0,1.0],\"title\":{\"text\":\"y\"}},\"coloraxis\":{\"colorbar\":{\"title\":{\"text\":\"cluster\"}},\"colorscale\":[[0.0,\"#0d0887\"],[0.1111111111111111,\"#46039f\"],[0.2222222222222222,\"#7201a8\"],[0.3333333333333333,\"#9c179e\"],[0.4444444444444444,\"#bd3786\"],[0.5555555555555556,\"#d8576b\"],[0.6666666666666666,\"#ed7953\"],[0.7777777777777778,\"#fb9f3a\"],[0.8888888888888888,\"#fdca26\"],[1.0,\"#f0f921\"]]},\"legend\":{\"tracegroupgap\":0},\"margin\":{\"t\":60}},                        {\"responsive\": true}                    ).then(function(){\n",
       "                            \n",
       "var gd = document.getElementById('2fe3470d-a8d4-435a-875b-11d898a23169');\n",
       "var x = new MutationObserver(function (mutations, observer) {{\n",
       "        var display = window.getComputedStyle(gd).display;\n",
       "        if (!display || display === 'none') {{\n",
       "            console.log([gd, 'removed!']);\n",
       "            Plotly.purge(gd);\n",
       "            observer.disconnect();\n",
       "        }}\n",
       "}});\n",
       "\n",
       "// Listen for the removal of the full notebook cells\n",
       "var notebookContainer = gd.closest('#notebook-container');\n",
       "if (notebookContainer) {{\n",
       "    x.observe(notebookContainer, {childList: true});\n",
       "}}\n",
       "\n",
       "// Listen for the clearing of the current output cell\n",
       "var outputEl = gd.closest('.output');\n",
       "if (outputEl) {{\n",
       "    x.observe(outputEl, {childList: true});\n",
       "}}\n",
       "\n",
       "                        })                };                });            </script>        </div>"
      ]
     },
     "metadata": {},
     "output_type": "display_data"
    }
   ],
   "source": [
    "from sklearn.manifold import TSNE\n",
    "\n",
    "tsne_pipeline = Pipeline([('scaler', StandardScaler()), ('tsne', TSNE(n_components=2, verbose=1))])\n",
    "genre_embedding = tsne_pipeline.fit_transform(X)\n",
    "projection = pd.DataFrame(columns=['x', 'y'], data=genre_embedding)\n",
    "projection['genres'] = genre_data['genres']\n",
    "projection['cluster'] = genre_data['cluster']\n",
    "\n",
    "fig = px.scatter(\n",
    "    projection, x='x', y='y', color='cluster', hover_data=['x', 'y', 'genres'])\n",
    "fig.show()"
   ]
  },
  {
   "cell_type": "code",
   "execution_count": null,
   "id": "3c031a02",
   "metadata": {},
   "outputs": [],
   "source": []
  }
 ],
 "metadata": {
  "kernelspec": {
   "display_name": "Python 3 (ipykernel)",
   "language": "python",
   "name": "python3"
  },
  "language_info": {
   "codemirror_mode": {
    "name": "ipython",
    "version": 3
   },
   "file_extension": ".py",
   "mimetype": "text/x-python",
   "name": "python",
   "nbconvert_exporter": "python",
   "pygments_lexer": "ipython3",
   "version": "3.9.7"
  }
 },
 "nbformat": 4,
 "nbformat_minor": 5
}
